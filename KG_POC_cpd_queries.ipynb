{
 "cells": [
  {
   "cell_type": "markdown",
   "metadata": {},
   "source": [
    "## Query by compound\n",
    "\n",
    "Find similar compounds by SMILES, then retrieved reactions and enzymes catalyzing reactions."
   ]
  },
  {
   "cell_type": "markdown",
   "metadata": {},
   "source": [
    "<table style=\"border-collapse: collapse; border: none; max-width: 800px; margin: 0 auto;\">\n",
    "  <tr>\n",
    "    <td style=\"border: none; padding: 10px; text-align: center;\">\n",
    "      <img src=\"imgs/Pyridoxal-phosphate.svg\" alt=\"Pyridoxal phosphate\" style=\"width: 100%; max-width: 300px; height: auto; object-fit: contain;\">\n",
    "      <h3>Pyridoxal phosphate</h3>\n",
    "    </td>\n",
    "    <td style=\"border: none; padding: 10px; text-align: center;\">\n",
    "      <img src=\"imgs/retinal.png\" alt=\"Retinal\" style=\"width: 100%; max-width: 300px; height: auto; object-fit: contain;\">\n",
    "      <h3>Retinal</h3>\n",
    "    </td>\n",
    "  </tr>\n",
    "  <tr>\n",
    "    <td style=\"border: none; padding: 10px; text-align: center;\">\n",
    "      <img src=\"imgs/riboflavin.png\" alt=\"Riboflavin\" style=\"width: 100%; max-width: 300px; height: auto; object-fit: contain;\">\n",
    "      <h3>Riboflavin</h3>\n",
    "    </td>\n",
    "    <td style=\"border: none; padding: 10px; text-align: center;\">\n",
    "      <img src=\"imgs/S-adenosyl_methionine.png\" alt=\"S-adenosyl methionine\" style=\"width: 100%; max-width: 300px; height: auto; object-fit: contain;\">\n",
    "      <h3>S-adenosyl methionine</h3>\n",
    "    </td>\n",
    "  </tr>\n",
    "</table>"
   ]
  },
  {
   "cell_type": "code",
   "execution_count": 1,
   "metadata": {
    "tags": []
   },
   "outputs": [],
   "source": [
    "from dotenv import load_dotenv\n",
    "import os\n",
    "\n",
    "from graph_db.db_connection import Neo4jConnection\n",
    "\n",
    "load_dotenv()\n",
    "uri = os.getenv(\"NEO4J_URI\")\n",
    "username = os.getenv(\"NEO4J_USERNAME\")\n",
    "password = os.getenv(\"NEO4J_PASSWORD\")"
   ]
  },
  {
   "cell_type": "code",
   "execution_count": 17,
   "metadata": {
    "tags": []
   },
   "outputs": [
    {
     "name": "stdout",
     "output_type": "stream",
     "text": [
      "Found 13130 protein hits for compound: Retinal\n",
      "Found 45080 protein hits for compound: Riboflavin (B2)\n",
      "Found 90729 protein hits for compound: Pyridoxal phosphate (B6)\n",
      "Found 52033 protein hits for compound: S-Adenosyl-L-methionine (SAM-e)\n"
     ]
    }
   ],
   "source": [
    "query = \"\"\"\n",
    "MATCH (c:Compound {compound_id: $compound_id})\n",
    "MATCH (c)-[:PRODUCT_OF]->(r:Reaction)\n",
    "MATCH (p:Protein)-[:CATALYZES]->(r)\n",
    "OPTIONAL MATCH (m:Genome)-[:CONTAINS]->(p)\n",
    "OPTIONAL MATCH (m)-[:ORIGINATED_FROM]->(s:Sample)\n",
    "WHERE \n",
    "   ($min_temp IS NULL OR toFloat(s.temperature) >= $min_temp) AND\n",
    "   ($max_temp IS NULL OR toFloat(s.temperature) <= $max_temp) AND\n",
    "   ($min_lat IS NULL OR toFloat(s.latitude) >= $min_lat) AND\n",
    "   ($max_lat IS NULL OR toFloat(s.latitude) <= $max_lat) AND\n",
    "   ($min_lon IS NULL OR toFloat(s.longigute) >= $min_lon) AND\n",
    "   ($max_lon IS NULL OR toFloat(s.longigute) <= $max_lon)\n",
    "RETURN \n",
    "    r.reaction_id AS reaction_id,\n",
    "    r.name AS reaction_name,\n",
    "    c.compound_id AS compound_id,\n",
    "    c.name AS compound_name,\n",
    "    c.smiles AS compound_smiles,\n",
    "    p.protein_id AS catalyzing_protein_id,\n",
    "    p.name AS catalyzing_protein_name,\n",
    "    p.ec_numbers AS catalyzing_protein_ec_numbers,\n",
    "    m.genome_id AS genome_id,\n",
    "    m.gtdb_classification AS gtdb_classification,\n",
    "    s.biosample_id AS sample_id,\n",
    "    s.temperature AS sample_temperature,\n",
    "    s.depth AS sample_depth,\n",
    "    s.latitude AS sample_latitude,\n",
    "    s.longigute AS sample_longitude\n",
    "LIMIT $limit\"\"\"\n",
    "\n",
    "compounds = {\n",
    "    \"cpd00304\": \"Retinal\",\n",
    "    \"cpd00220\": \"Riboflavin (B2)\",\n",
    "    \"cpd00016\": \"Pyridoxal phosphate (B6)\",\n",
    "    \"cpd00017\": \"S-Adenosyl-L-methionine (SAM-e)\",\n",
    "}\n",
    "\n",
    "compound_market_sizes = {\n",
    "    \"Retinal\": 10,\n",
    "    \"Riboflavin\": 10,\n",
    "    \"Pyridoxal phosphate\": 10,\n",
    "    \"SAM\": 10,\n",
    "}\n",
    "\n",
    "compound_results = {}\n",
    "for cpd_id, cpd_name in compounds.items():\n",
    "    \n",
    "    params = {\n",
    "      \"compound_id\": f\"{cpd_id}\",\n",
    "      \"min_temp\": None,\n",
    "      \"max_temp\": None,\n",
    "      \"min_lat\": None,\n",
    "      \"max_lat\": None,\n",
    "      \"min_lon\": None,\n",
    "      \"max_lon\": None,\n",
    "      \"limit\": 100000\n",
    "    }\n",
    "\n",
    "    conn = Neo4jConnection(uri, username, password)\n",
    "    compound_results[cpd_id] = conn.query(query, params)\n",
    "    print(f\"Found {len(compound_results[cpd_id])} protein hits for compound: {cpd_name}\")"
   ]
  },
  {
   "cell_type": "code",
   "execution_count": 28,
   "metadata": {
    "tags": []
   },
   "outputs": [
    {
     "name": "stdout",
     "output_type": "stream",
     "text": [
      "Saved 13130 records to outputs/compound_query/cpd00304.tsv\n",
      "Saved 45080 records to outputs/compound_query/cpd00220.tsv\n",
      "Saved 90729 records to outputs/compound_query/cpd00016.tsv\n",
      "Saved 52033 records to outputs/compound_query/cpd00017.tsv\n"
     ]
    }
   ],
   "source": [
    "from src.io import save_results_to_tsv\n",
    "        \n",
    "for cpd_id, res in compound_results.items():\n",
    "    save_results_to_tsv(res, f\"outputs/compound_query/{cpd_id}.tsv\")"
   ]
  },
  {
   "cell_type": "code",
   "execution_count": 41,
   "metadata": {
    "tags": []
   },
   "outputs": [
    {
     "name": "stdout",
     "output_type": "stream",
     "text": [
      "All figures have been saved to outputs/figures\n"
     ]
    }
   ],
   "source": [
    "from src.visualization import plot_compound_statistics\n",
    "\n",
    "processed_data = {\n",
    "    cpd_id: pd.read_csv(f\"outputs/compound_query/{cpd_id}.tsv\", sep=\"\\t\")\n",
    "    for cpd_id in compounds.keys()\n",
    "}\n",
    "\n",
    "plot_compound_statistics(\n",
    "    processed_data,\n",
    "    shp_file_path=\"data/maps/ne_110m_ocean/ne_110m_ocean.shp\",\n",
    "    output_dir=\"outputs/figures\",\n",
    "    base_font_size=14\n",
    "    )"
   ]
  },
  {
   "cell_type": "markdown",
   "metadata": {},
   "source": [
    "<img src=\"outputs/figures/compound_cpd00016_statistics.png\" alt=\"results1\">\n",
    "<br>\n",
    "<img src=\"outputs/figures/compound_cpd00017_statistics.png\" alt=\"results1\">\n",
    "<br>\n",
    "<img src=\"outputs/figures/compound_cpd00220_statistics.png\" alt=\"results1\">\n",
    "<br>\n",
    "<img src=\"outputs/figures/compound_cpd00304_statistics.png\" alt=\"results1\">"
   ]
  },
  {
   "cell_type": "markdown",
   "metadata": {},
   "source": [
    "## Query by similar compound"
   ]
  },
  {
   "cell_type": "code",
   "execution_count": 5,
   "metadata": {
    "tags": []
   },
   "outputs": [
    {
     "data": {
      "text/plain": [
       "<Record reaction_id='rxn00209' reaction_name='Pyridoxine 5-phosphate:oxygen oxidoreductase' similar_compound_id='cpd00016' similar_compound_name='Pyridoxal phosphate' similar_compound_smiles='Cc1ncc(COP(=O)([O-])[O-])c(C=O)c1O' similarity_distance=0.859375 catalyzing_protein_id='OceanDNA-b43668_00045_5' catalyzing_protein_name=\"pyridoxamine 5'-phosphate oxidase [EC:1.4.3.5]\" catalyzing_protein_ec_numbers=['1.4.3.5']>"
      ]
     },
     "execution_count": 5,
     "metadata": {},
     "output_type": "execute_result"
    }
   ],
   "source": [
    "query = \"\"\"\n",
    "MATCH (c:Compound {compound_id: $compound_id})-[sim:CHEMICAL_SIMILARITY]-(similar:Compound)\n",
    "MATCH (similar)-[:PRODUCT_OF]->(r:Reaction)\n",
    "MATCH (p:Protein)-[:CATALYZES]->(r)\n",
    "WHERE toFloat(sim.distance) <= $distance_threshold\n",
    "RETURN \n",
    "    r.reaction_id AS reaction_id,\n",
    "    r.name AS reaction_name,\n",
    "    similar.compound_id AS similar_compound_id,\n",
    "    similar.name AS similar_compound_name,\n",
    "    similar.smiles AS similar_compound_smiles,\n",
    "    toFloat(sim.distance) AS similarity_distance,\n",
    "    p.protein_id AS catalyzing_protein_id,\n",
    "    p.name AS catalyzing_protein_name,\n",
    "    p.ec_numbers AS catalyzing_protein_ec_numbers\n",
    "ORDER BY similarity_distance ASC\n",
    "LIMIT $limit\"\"\"\n",
    "\n",
    "\n",
    "conn = Neo4jConnection(uri, username, password)\n",
    "\n",
    "params = {\"compound_id\": \"cpd00304\", \"distance_threshold\": 0.9, \"limit\": 1000000}\n",
    "results = conn.query(query, params)\n",
    "results[0]"
   ]
  },
  {
   "cell_type": "code",
   "execution_count": 6,
   "metadata": {
    "tags": []
   },
   "outputs": [
    {
     "name": "stdout",
     "output_type": "stream",
     "text": [
      "DataFrame saved to outputs/compound_query/KG_hits_cpd00304.tsv\n"
     ]
    },
    {
     "data": {
      "text/html": [
       "<div>\n",
       "<style scoped>\n",
       "    .dataframe tbody tr th:only-of-type {\n",
       "        vertical-align: middle;\n",
       "    }\n",
       "\n",
       "    .dataframe tbody tr th {\n",
       "        vertical-align: top;\n",
       "    }\n",
       "\n",
       "    .dataframe thead th {\n",
       "        text-align: right;\n",
       "    }\n",
       "</style>\n",
       "<table border=\"1\" class=\"dataframe\">\n",
       "  <thead>\n",
       "    <tr style=\"text-align: right;\">\n",
       "      <th></th>\n",
       "      <th>reaction_id</th>\n",
       "      <th>reaction_name</th>\n",
       "      <th>similar_compound_id</th>\n",
       "      <th>similar_compound_name</th>\n",
       "      <th>similar_compound_smiles</th>\n",
       "      <th>similarity_distance</th>\n",
       "      <th>catalyzing_protein_id</th>\n",
       "      <th>catalyzing_protein_name</th>\n",
       "      <th>catalyzing_protein_ec_numbers</th>\n",
       "    </tr>\n",
       "  </thead>\n",
       "  <tbody>\n",
       "    <tr>\n",
       "      <th>0</th>\n",
       "      <td>rxn00209</td>\n",
       "      <td>Pyridoxine 5-phosphate:oxygen oxidoreductase</td>\n",
       "      <td>cpd00016</td>\n",
       "      <td>Pyridoxal phosphate</td>\n",
       "      <td>Cc1ncc(COP(=O)([O-])[O-])c(C=O)c1O</td>\n",
       "      <td>0.859375</td>\n",
       "      <td>OceanDNA-b43668_00045_5</td>\n",
       "      <td>pyridoxamine 5'-phosphate oxidase [EC:1.4.3.5]</td>\n",
       "      <td>[1.4.3.5]</td>\n",
       "    </tr>\n",
       "    <tr>\n",
       "      <th>1</th>\n",
       "      <td>rxn00209</td>\n",
       "      <td>Pyridoxine 5-phosphate:oxygen oxidoreductase</td>\n",
       "      <td>cpd00016</td>\n",
       "      <td>Pyridoxal phosphate</td>\n",
       "      <td>Cc1ncc(COP(=O)([O-])[O-])c(C=O)c1O</td>\n",
       "      <td>0.859375</td>\n",
       "      <td>OceanDNA-b29607_00006_12</td>\n",
       "      <td>pyridoxamine 5'-phosphate oxidase [EC:1.4.3.5]</td>\n",
       "      <td>[1.4.3.5]</td>\n",
       "    </tr>\n",
       "    <tr>\n",
       "      <th>2</th>\n",
       "      <td>rxn00209</td>\n",
       "      <td>Pyridoxine 5-phosphate:oxygen oxidoreductase</td>\n",
       "      <td>cpd00016</td>\n",
       "      <td>Pyridoxal phosphate</td>\n",
       "      <td>Cc1ncc(COP(=O)([O-])[O-])c(C=O)c1O</td>\n",
       "      <td>0.859375</td>\n",
       "      <td>OceanDNA-b28865_00099_2</td>\n",
       "      <td>pyridoxamine 5'-phosphate oxidase [EC:1.4.3.5]</td>\n",
       "      <td>[1.4.3.5]</td>\n",
       "    </tr>\n",
       "    <tr>\n",
       "      <th>3</th>\n",
       "      <td>rxn00209</td>\n",
       "      <td>Pyridoxine 5-phosphate:oxygen oxidoreductase</td>\n",
       "      <td>cpd00016</td>\n",
       "      <td>Pyridoxal phosphate</td>\n",
       "      <td>Cc1ncc(COP(=O)([O-])[O-])c(C=O)c1O</td>\n",
       "      <td>0.859375</td>\n",
       "      <td>OceanDNA-b32438_00177_2</td>\n",
       "      <td>pyridoxamine 5'-phosphate oxidase [EC:1.4.3.5]</td>\n",
       "      <td>[1.4.3.5]</td>\n",
       "    </tr>\n",
       "    <tr>\n",
       "      <th>4</th>\n",
       "      <td>rxn00209</td>\n",
       "      <td>Pyridoxine 5-phosphate:oxygen oxidoreductase</td>\n",
       "      <td>cpd00016</td>\n",
       "      <td>Pyridoxal phosphate</td>\n",
       "      <td>Cc1ncc(COP(=O)([O-])[O-])c(C=O)c1O</td>\n",
       "      <td>0.859375</td>\n",
       "      <td>OceanDNA-b5580_00140_3</td>\n",
       "      <td>pyridoxamine 5'-phosphate oxidase [EC:1.4.3.5]</td>\n",
       "      <td>[1.4.3.5]</td>\n",
       "    </tr>\n",
       "  </tbody>\n",
       "</table>\n",
       "</div>"
      ],
      "text/plain": [
       "  reaction_id                                 reaction_name  \\\n",
       "0    rxn00209  Pyridoxine 5-phosphate:oxygen oxidoreductase   \n",
       "1    rxn00209  Pyridoxine 5-phosphate:oxygen oxidoreductase   \n",
       "2    rxn00209  Pyridoxine 5-phosphate:oxygen oxidoreductase   \n",
       "3    rxn00209  Pyridoxine 5-phosphate:oxygen oxidoreductase   \n",
       "4    rxn00209  Pyridoxine 5-phosphate:oxygen oxidoreductase   \n",
       "\n",
       "  similar_compound_id similar_compound_name  \\\n",
       "0            cpd00016   Pyridoxal phosphate   \n",
       "1            cpd00016   Pyridoxal phosphate   \n",
       "2            cpd00016   Pyridoxal phosphate   \n",
       "3            cpd00016   Pyridoxal phosphate   \n",
       "4            cpd00016   Pyridoxal phosphate   \n",
       "\n",
       "              similar_compound_smiles  similarity_distance  \\\n",
       "0  Cc1ncc(COP(=O)([O-])[O-])c(C=O)c1O             0.859375   \n",
       "1  Cc1ncc(COP(=O)([O-])[O-])c(C=O)c1O             0.859375   \n",
       "2  Cc1ncc(COP(=O)([O-])[O-])c(C=O)c1O             0.859375   \n",
       "3  Cc1ncc(COP(=O)([O-])[O-])c(C=O)c1O             0.859375   \n",
       "4  Cc1ncc(COP(=O)([O-])[O-])c(C=O)c1O             0.859375   \n",
       "\n",
       "      catalyzing_protein_id                         catalyzing_protein_name  \\\n",
       "0   OceanDNA-b43668_00045_5  pyridoxamine 5'-phosphate oxidase [EC:1.4.3.5]   \n",
       "1  OceanDNA-b29607_00006_12  pyridoxamine 5'-phosphate oxidase [EC:1.4.3.5]   \n",
       "2   OceanDNA-b28865_00099_2  pyridoxamine 5'-phosphate oxidase [EC:1.4.3.5]   \n",
       "3   OceanDNA-b32438_00177_2  pyridoxamine 5'-phosphate oxidase [EC:1.4.3.5]   \n",
       "4    OceanDNA-b5580_00140_3  pyridoxamine 5'-phosphate oxidase [EC:1.4.3.5]   \n",
       "\n",
       "  catalyzing_protein_ec_numbers  \n",
       "0                     [1.4.3.5]  \n",
       "1                     [1.4.3.5]  \n",
       "2                     [1.4.3.5]  \n",
       "3                     [1.4.3.5]  \n",
       "4                     [1.4.3.5]  "
      ]
     },
     "execution_count": 6,
     "metadata": {},
     "output_type": "execute_result"
    }
   ],
   "source": [
    "from src.io import neo4j_records_to_dataframe\n",
    "\n",
    "res_df = neo4j_records_to_dataframe(results, output_file=\"outputs/compound_query/KG_hits_cpd00304.tsv\")\n",
    "res_df.head()"
   ]
  }
 ],
 "metadata": {
  "kernelspec": {
   "display_name": "conda_python3",
   "language": "python",
   "name": "conda_python3"
  },
  "language_info": {
   "codemirror_mode": {
    "name": "ipython",
    "version": 3
   },
   "file_extension": ".py",
   "mimetype": "text/x-python",
   "name": "python",
   "nbconvert_exporter": "python",
   "pygments_lexer": "ipython3",
   "version": "3.10.14"
  }
 },
 "nbformat": 4,
 "nbformat_minor": 4
}

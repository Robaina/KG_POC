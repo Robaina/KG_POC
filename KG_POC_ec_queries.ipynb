{
 "cells": [
  {
   "cell_type": "markdown",
   "metadata": {},
   "source": [
    "## Query the Knowledge Graph by EC number"
   ]
  },
  {
   "cell_type": "code",
   "execution_count": 1,
   "metadata": {
    "tags": []
   },
   "outputs": [
    {
     "name": "stdout",
     "output_type": "stream",
     "text": [
      "mount.nfs: /home/ec2-user/SageMaker/efs/sandbox is busy or already mounted\n",
      "mount.nfs: /home/ec2-user/SageMaker/efs/datasets is busy or already mounted\n"
     ]
    }
   ],
   "source": [
    "!pip install -qr requirements.txt\n",
    "!bash mount_efs.sh"
   ]
  },
  {
   "cell_type": "code",
   "execution_count": 2,
   "metadata": {
    "tags": []
   },
   "outputs": [],
   "source": [
    "from dotenv import load_dotenv\n",
    "import os\n",
    "\n",
    "from graph_db.db_connection import Neo4jConnection\n",
    "\n",
    "load_dotenv()\n",
    "uri = os.getenv(\"NEO4J_URI\")\n",
    "username = os.getenv(\"NEO4J_USERNAME\")\n",
    "password = os.getenv(\"NEO4J_PASSWORD\")"
   ]
  },
  {
   "cell_type": "code",
   "execution_count": 16,
   "metadata": {
    "tags": []
   },
   "outputs": [],
   "source": [
    "query = \"\"\"\n",
    "MATCH (p:Protein)\n",
    "WHERE $ec_number IN p.ec_numbers\n",
    "OPTIONAL MATCH (m:Genome)-[:CONTAINS]->(p)\n",
    "OPTIONAL MATCH (m)-[:ORIGINATED_FROM]->(s:Sample)\n",
    "WHERE \n",
    "   ($min_temp IS NULL OR toFloat(s.temperature) >= $min_temp) AND\n",
    "   ($max_temp IS NULL OR toFloat(s.temperature) <= $max_temp) AND\n",
    "   ($min_lat IS NULL OR toFloat(s.latitude) >= $min_lat) AND\n",
    "   ($max_lat IS NULL OR toFloat(s.latitude) <= $max_lat) AND\n",
    "   ($min_lon IS NULL OR toFloat(s.longigute) >= $min_lon) AND\n",
    "   ($max_lon IS NULL OR toFloat(s.longigute) <= $max_lon)\n",
    "RETURN \n",
    "   p.protein_id AS protein_id,\n",
    "   p.name AS protein_name,\n",
    "   p.ec_numbers AS protein_ec_numbers,\n",
    "   m.genome_id AS genome_id,\n",
    "   m.gtdb_classification AS gtdb_classification,\n",
    "   s.biosample_id AS sample_id,\n",
    "   s.temperature AS sample_temperature,\n",
    "   s.depth AS sample_depth,\n",
    "   s.latitude AS sample_latitude,\n",
    "   s.longigute AS sample_longitude\n",
    "LIMIT $limit\"\"\"\n",
    "\n",
    "enzymes_dict = {\n",
    "    \"3.1.1.3\": \"Lipase\",\n",
    "    \"3.2.1.1\": \"Amylase\",\n",
    "    \"3.2.1.4\": \"Cellulase\",\n",
    "    \"3.4.21.62\": \"Serine Protease\",\n",
    "    \"3.2.1.23\": \"Lactase\",\n",
    "    \"3.2.1.8\": \"Xylanase\",\n",
    "    \"1.11.1.6\": \"Catalase\"\n",
    "}\n",
    "\n",
    "market_sizes = {\n",
    "    \"Xylanase\": 19100,\n",
    "    \"Serine Protease\": 3540,\n",
    "    \"Amylase\": 1840.8,\n",
    "    \"Cellulase\": 1685.8,\n",
    "    \"Lactase\": 1230,\n",
    "    \"Lipase\": 591,\n",
    "    \"Catalase\": 387.4\n",
    "}"
   ]
  },
  {
   "cell_type": "code",
   "execution_count": 17,
   "metadata": {
    "tags": []
   },
   "outputs": [
    {
     "name": "stdout",
     "output_type": "stream",
     "text": [
      "Found 12300 results for Lipase (3.1.1.3)\n",
      "Found 4834 results for Amylase (3.2.1.1)\n",
      "Found 3551 results for Cellulase (3.2.1.4)\n",
      "Found 38 results for Serine Protease (3.4.21.62)\n",
      "Found 10183 results for Lactase (3.2.1.23)\n",
      "Found 6496 results for Xylanase (3.2.1.8)\n",
      "Found 7003 results for Catalase (1.11.1.6)\n"
     ]
    }
   ],
   "source": [
    "results = {}\n",
    "for ec_number, enzyme in enzymes_dict.items():\n",
    "    conn = Neo4jConnection(uri, username, password)\n",
    "    params = {\n",
    "      \"ec_number\": f\"{ec_number}\",\n",
    "      \"min_temp\": None,\n",
    "      \"max_temp\": None,\n",
    "      \"min_lat\": None,\n",
    "      \"max_lat\": None,\n",
    "      \"min_lon\": None,\n",
    "      \"max_lon\": None,\n",
    "      \"limit\": 50000\n",
    "    }\n",
    "    results[ec_number] = conn.query(query, params)\n",
    "    print(f\"Found {len(results[ec_number])} results for {enzyme} ({ec_number})\")"
   ]
  },
  {
   "cell_type": "code",
   "execution_count": 6,
   "metadata": {
    "tags": []
   },
   "outputs": [],
   "source": [
    "r = results[\"1.11.1.6\"][-1]\n",
    "r.data()"
   ]
  },
  {
   "cell_type": "markdown",
   "metadata": {},
   "source": [
    "### Save results to files"
   ]
  },
  {
   "cell_type": "code",
   "execution_count": 4,
   "metadata": {
    "tags": []
   },
   "outputs": [],
   "source": [
    "from src.io import save_results_to_tsv\n",
    "\n",
    "for ec, res in results.items():\n",
    "    save_results_to_tsv(res, f\"outputs/enzyme_query/{ec}.tsv\")"
   ]
  },
  {
   "cell_type": "markdown",
   "metadata": {},
   "source": [
    "## Retrieve protein sequences"
   ]
  },
  {
   "cell_type": "code",
   "execution_count": 24,
   "metadata": {
    "tags": []
   },
   "outputs": [],
   "source": [
    "import pandas as pd\n",
    "from src.databases import group_by_mag, retrieve_sequences\n",
    "\n",
    "protease = pd.read_csv(\"outputs/enzyme_query/KG_hits_3.4.21.62.tsv\", sep=\"\\t\")\n",
    "protease_ids = protease.protein_id.values.tolist()\n",
    "\n",
    "oceandna_dir = \"/home/ec2-user/SageMaker/efs/sandbox/sandbox/development/jolespin/EC2_WorkingDirectory/science/Databases/NewAtlantisPlanktonic/Sources/OceanDNA/Genomes/Prokaryotic/\"\n",
    "outfile = \"outputs/enzyme_sequences/OceanDNA_3.4.21.62.faa\"\n",
    "\n",
    "mag_groups = group_by_mag(protease_ids)\n",
    "retrieve_sequences(oceandna_dir, mag_groups, outfile)"
   ]
  },
  {
   "cell_type": "markdown",
   "metadata": {},
   "source": [
    "## Reconstruct phylogenetic tree"
   ]
  },
  {
   "cell_type": "code",
   "execution_count": 3,
   "metadata": {
    "tags": []
   },
   "outputs": [
    {
     "name": "stdout",
     "output_type": "stream",
     "text": [
      "Tree visualization saved as 'outputs/tree_3.4.21.62.png_matplotlib.png'\n"
     ]
    }
   ],
   "source": [
    "from src.phylo import reconstruct_phylogenetic_tree, visualize_tree\n",
    "\n",
    "faa_file = \"outputs/enzyme_sequences/OceanDNA_3.4.21.62.faa\"\n",
    "output_tree_file = \"outputs/tree_3.4.21.62.newick\"\n",
    "\n",
    "tree = reconstruct_phylogenetic_tree(faa_file, output_tree_file)\n",
    "visualize_tree(output_tree_file, method='matplotlib', output_file=\"outputs/tree_3.4.21.62.png\")"
   ]
  },
  {
   "cell_type": "markdown",
   "metadata": {},
   "source": [
    "## Candidate enzymes with high industrial relevance\n",
    "\n",
    "\n",
    "| Enzyme Name | EC | Main Usage | Market Size (USD Million) | Year | Industry | Source |\n",
    "|-------------|----|-----------|-----------------------------|------|----------|--------|\n",
    "| Xylanase | 3.2.1.8 | Baking industry, animal feed, paper and pulp industry | 19,100 | 2023 | Baking industry, animal feed, paper and pulp industry | [Cognitive Market Research](https://www.cognitivemarketresearch.com/xylanase-market-report) |\n",
    "| Serine Protease | 3.4.21.62 | Detergents, food processing, leather industry, pharmaceuticals | 3,540 | 2023 | Detergents, Food Processing, Pharmaceuticals, Animal Feed | [Mordor Intelligence](https://www.mordorintelligence.com/industry-reports/proteases-market/market-size) |\n",
    "| Amylase | 3.2.1.1 | Starch processing, baking, brewing, textile industry | 1,840.8 | 2023 | Food & Beverage, Detergents, Textiles | [Persistence Market Research](https://www.persistencemarketresearch.com/market-research/alpha-amylase-market.asp) |\n",
    "| Cellulase | 3.2.1.4 | Biofuel production, textile industry (stone-washing denim), paper and pulp industry | 1,685.8 | 2023 | Textiles, Biofuels, Paper & Pulp | [Future Market Insights](https://www.futuremarketinsights.com/reports/cellulase-market) |\n",
    "| Lactase | 3.2.1.23 | Dairy industry (lactose-free products), food and beverage | 1,230 | 2023 | Dairy industry (lactose-free products), food and beverage | [Global Market Insights](https://www.gminsights.com/industry-analysis/lactase-market) |\n",
    "| Lipase | 3.1.1.3 | Food industry (dairy, baking), detergents, biofuel production | 591 | 2023 | Detergents, Food Processing, Pharmaceuticals, Personal Care | [Global Market Insights](https://www.gminsights.com/industry-analysis/microbial-lipase-market) |\n",
    "| Catalase | 1.11.1.6 | Food preservation, textile industry (bleaching), cosmetics | 387.4 | 2022 | Food preservation, textile industry (bleaching), cosmetics | [Future Market Insights](https://www.futuremarketinsights.com/reports/catalase-market) |"
   ]
  },
  {
   "cell_type": "code",
   "execution_count": 6,
   "metadata": {
    "tags": []
   },
   "outputs": [],
   "source": [
    "from src.io import filter_ocean_data\n",
    "\n",
    "enzymes_dict = {\n",
    "    \"3.1.1.3\": \"Lipase\",\n",
    "    \"3.2.1.1\": \"Amylase\",\n",
    "    \"3.2.1.4\": \"Cellulase\",\n",
    "    \"3.4.21.62\": \"Serine Protease\",\n",
    "    \"3.2.1.23\": \"Lactase\",\n",
    "    \"3.2.1.8\": \"Xylanase\",\n",
    "    \"1.11.1.6\": \"Catalase\"\n",
    "}\n",
    "\n",
    "bboxes = {\n",
    "    \"3.1.1.3\": {\"lat\": (7.01, 39.50), \"long\": (-39.02, -6.15)},\n",
    "    \"3.2.1.1\": {\"lat\": (24.17, 39.67), \"long\": (-80.95, -53.35)},\n",
    "    \"3.2.1.4\": {\"lat\": (-13.5, 10), \"long\": (-93.3, -76.5)},\n",
    "    \"3.4.21.62\": {\"lat\": None, \"long\": None},\n",
    "    \"3.2.1.23\": {\"lat\": None, \"long\": None},\n",
    "    \"3.2.1.8\": {\"lat\": None, \"long\": None},\n",
    "    \"1.11.1.6\": {\"lat\": None, \"long\": None},\n",
    "}\n",
    "\n",
    "filtered_data = {}\n",
    "for ec, name in enzymes_dict.items():\n",
    "    file_path = f\"outputs/enzyme_query/KG_hits_{ec}.tsv\"\n",
    "    df = filter_ocean_data(\n",
    "        file_path,\n",
    "        depth_range=(100, 10000),\n",
    "        temperature_range=(-5, 40),\n",
    "        latitude_range=bboxes[ec][\"lat\"],\n",
    "        longitude_range=bboxes[ec][\"long\"]\n",
    "    )\n",
    "    if not df.empty:\n",
    "        filtered_data[ec] = df\n",
    "    else:\n",
    "        print(f\"No records found for filtering conditions for ec: {ec}\")"
   ]
  },
  {
   "cell_type": "markdown",
   "metadata": {},
   "source": [
    "## Represent query results"
   ]
  },
  {
   "cell_type": "code",
   "execution_count": 7,
   "metadata": {
    "tags": []
   },
   "outputs": [
    {
     "name": "stdout",
     "output_type": "stream",
     "text": [
      "All figures have been saved to outputs/figures\n"
     ]
    }
   ],
   "source": [
    "from src.visualization import process_results, plot_ec_number_statistics\n",
    "\n",
    "enzymes_dict = {\n",
    "    \"3.1.1.3\": \"Lipase\",\n",
    "    \"3.2.1.1\": \"Amylase\",\n",
    "    \"3.2.1.4\": \"Cellulase\",\n",
    "    \"3.4.21.62\": \"Serine Protease\",\n",
    "    \"3.2.1.23\": \"Lactase\",\n",
    "    \"3.2.1.8\": \"Xylanase\",\n",
    "    \"1.11.1.6\": \"Catalase\"\n",
    "}\n",
    "\n",
    "market_sizes = {\n",
    "    \"Xylanase\": 19100,\n",
    "    \"Serine Protease\": 3540,\n",
    "    \"Amylase\": 1840.8,\n",
    "    \"Cellulase\": 1685.8,\n",
    "    \"Lactase\": 1230,\n",
    "    \"Lipase\": 591,\n",
    "    \"Catalase\": 387.4\n",
    "}\n",
    "\n",
    "plot_ec_number_statistics(\n",
    "    filtered_data,\n",
    "    shp_file_path=\"data/maps/ne_110m_ocean/ne_110m_ocean.shp\",\n",
    "    enzymes_dict=enzymes_dict,\n",
    "    market_sizes=market_sizes,\n",
    "    output_dir=\"outputs/figures\",\n",
    "    base_font_size=14,\n",
    "    )"
   ]
  },
  {
   "cell_type": "markdown",
   "metadata": {},
   "source": [
    "<img src=\"outputs/figures/ec_number_3.2.1.8_statistics.png\" alt=\"results1\">\n",
    "<br>\n",
    "<img src=\"outputs/figures/ec_number_3.2.1.1_statistics.png\" alt=\"results1\">\n",
    "<br>\n",
    "<img src=\"outputs/figures/ec_number_3.2.1.4_statistics.png\" alt=\"results1\">\n",
    "<br>\n",
    "<img src=\"outputs/figures/ec_number_3.1.1.3_statistics.png\" alt=\"results1\">"
   ]
  }
 ],
 "metadata": {
  "kernelspec": {
   "display_name": "conda_python3",
   "language": "python",
   "name": "conda_python3"
  },
  "language_info": {
   "codemirror_mode": {
    "name": "ipython",
    "version": 3
   },
   "file_extension": ".py",
   "mimetype": "text/x-python",
   "name": "python",
   "nbconvert_exporter": "python",
   "pygments_lexer": "ipython3",
   "version": "3.10.14"
  }
 },
 "nbformat": 4,
 "nbformat_minor": 4
}

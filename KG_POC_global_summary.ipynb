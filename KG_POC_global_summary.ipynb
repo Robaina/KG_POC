{
 "cells": [
  {
   "cell_type": "code",
   "execution_count": 2,
   "metadata": {
    "tags": []
   },
   "outputs": [],
   "source": [
    "!pip install -q -r requirements.txt"
   ]
  },
  {
   "cell_type": "code",
   "execution_count": 5,
   "metadata": {
    "tags": []
   },
   "outputs": [],
   "source": [
    "from dotenv import load_dotenv\n",
    "import os\n",
    "\n",
    "from graph_db.db_connection import Neo4jConnection\n",
    "\n",
    "load_dotenv()\n",
    "uri = os.getenv(\"NEO4J_URI\")\n",
    "username = os.getenv(\"NEO4J_USERNAME\")\n",
    "password = os.getenv(\"NEO4J_PASSWORD\")"
   ]
  },
  {
   "cell_type": "markdown",
   "metadata": {},
   "source": [
    "## General queries"
   ]
  },
  {
   "cell_type": "code",
   "execution_count": 15,
   "metadata": {
    "tags": []
   },
   "outputs": [
    {
     "name": "stdout",
     "output_type": "stream",
     "text": [
      "total genomes: 52325\n",
      "total BGCs: 315634\n",
      "total Proteins: 30076030\n"
     ]
    }
   ],
   "source": [
    "conn = Neo4jConnection(uri, username, password)\n",
    "\n",
    "query = \"\"\"\n",
    "MATCH (g:Genome)\n",
    "RETURN COUNT(g) AS totalGenomes\n",
    "\"\"\"\n",
    "\n",
    "res = conn.query(query)\n",
    "total_genomes = res[0].data()[\"totalGenomes\"]\n",
    "print(\"total genomes:\", total_genomes)\n",
    "      \n",
    "query = \"\"\"\n",
    "MATCH (b:BGC)\n",
    "RETURN COUNT(b) AS totalBGCs\n",
    "\"\"\"\n",
    "\n",
    "res = conn.query(query)\n",
    "total_bgcs = res[0].data()[\"totalBGCs\"]\n",
    "print(\"total BGCs:\", total_bgcs)\n",
    "\n",
    "query = \"\"\"\n",
    "MATCH (p:Protein)\n",
    "RETURN COUNT(p) AS totalProteins\n",
    "\"\"\"\n",
    "\n",
    "res = conn.query(query)\n",
    "total_proteins =  res[0].data()[\"totalProteins\"]\n",
    "print(\"total Proteins:\", total_proteins)\n",
    "\n"
   ]
  },
  {
   "cell_type": "code",
   "execution_count": 3,
   "metadata": {
    "tags": []
   },
   "outputs": [],
   "source": [
    "import pandas as pd\n",
    "\n",
    "\n",
    "def classify_ocean_basin(lat, lon):\n",
    "    if lat <= -60:\n",
    "        return \"Antarctic\"\n",
    "    elif lat >= 60 and lat <= 90:\n",
    "        return \"Arctic\"\n",
    "    elif -60 < lat < 60:\n",
    "        if -80 <= lon <= 20:\n",
    "            return \"Atlantic\"\n",
    "        elif (20 < lon <= 180) or (-180 <= lon < -80):\n",
    "            if -70 <= lon <= 120 and lat <= 30:\n",
    "                return \"Indian\"\n",
    "            else:\n",
    "                return \"Pacific\"\n",
    "    return \"Unknown\"\n",
    "\n",
    "\n",
    "def records_to_dataframe(records):\n",
    "    df = pd.DataFrame([record.data() for record in records])\n",
    "    print(f\"DataFrame columns: {df.columns}\")\n",
    "    print(f\"DataFrame shape: {df.shape}\")\n",
    "    print(f\"DataFrame head:\\n{df.head()}\")\n",
    "    return df"
   ]
  },
  {
   "cell_type": "code",
   "execution_count": 4,
   "metadata": {
    "tags": []
   },
   "outputs": [
    {
     "name": "stdout",
     "output_type": "stream",
     "text": [
      "DataFrame columns: Index(['gtdb_classification', 'latitude', 'longitude'], dtype='object')\n",
      "DataFrame shape: (32325, 3)\n",
      "DataFrame head:\n",
      "                                 gtdb_classification  latitude  longitude\n",
      "0  d__Bacteria;p__Proteobacteria;c__Gammaproteoba...   20.8322    63.6004\n",
      "1  d__Bacteria;p__Proteobacteria;c__Gammaproteoba...   20.8322    63.6004\n",
      "2  d__Bacteria;p__Proteobacteria;c__Gammaproteoba...   20.8322    63.6004\n",
      "3  d__Bacteria;p__Proteobacteria;c__Gammaproteoba...   20.8322    63.6004\n",
      "4  d__Bacteria;p__Proteobacteria;c__Gammaproteoba...   20.8322    63.6004\n"
     ]
    },
    {
     "ename": "KeyboardInterrupt",
     "evalue": "",
     "output_type": "error",
     "traceback": [
      "\u001b[0;31m---------------------------------------------------------------------------\u001b[0m",
      "\u001b[0;31mKeyboardInterrupt\u001b[0m                         Traceback (most recent call last)",
      "Cell \u001b[0;32mIn[4], line 75\u001b[0m\n\u001b[1;32m     73\u001b[0m \u001b[38;5;28;01mtry\u001b[39;00m:\n\u001b[1;32m     74\u001b[0m     conn \u001b[38;5;241m=\u001b[39m Neo4jConnection(uri, username, password)\n\u001b[0;32m---> 75\u001b[0m     all_data \u001b[38;5;241m=\u001b[39m \u001b[43mget_data_for_all_ocean_basins\u001b[49m\u001b[43m(\u001b[49m\u001b[43mconn\u001b[49m\u001b[43m,\u001b[49m\u001b[43m \u001b[49m\u001b[43mlimit\u001b[49m\u001b[38;5;241;43m=\u001b[39;49m\u001b[38;5;241;43m50000\u001b[39;49m\u001b[43m)\u001b[49m\n\u001b[1;32m     76\u001b[0m     conn\u001b[38;5;241m.\u001b[39mclose()\n\u001b[1;32m     77\u001b[0m     \u001b[38;5;28mprint\u001b[39m(\u001b[38;5;124m\"\u001b[39m\u001b[38;5;124mData retrieval successful\u001b[39m\u001b[38;5;124m\"\u001b[39m)\n",
      "Cell \u001b[0;32mIn[4], line 40\u001b[0m, in \u001b[0;36mget_data_for_all_ocean_basins\u001b[0;34m(conn, limit)\u001b[0m\n\u001b[1;32m     24\u001b[0m \u001b[38;5;66;03m# 2. Proteins per EC number (first digit)\u001b[39;00m\n\u001b[1;32m     25\u001b[0m ec_query \u001b[38;5;241m=\u001b[39m \u001b[38;5;124mf\u001b[39m\u001b[38;5;124m\"\"\"\u001b[39m\n\u001b[1;32m     26\u001b[0m \u001b[38;5;124mMATCH (p:Protein)\u001b[39m\n\u001b[1;32m     27\u001b[0m \u001b[38;5;124mMATCH (m:Genome)-[:CONTAINS]->(p)\u001b[39m\n\u001b[0;32m   (...)\u001b[0m\n\u001b[1;32m     38\u001b[0m \u001b[38;5;124m   toFloat(s.longigute) AS longitude\u001b[39m\n\u001b[1;32m     39\u001b[0m \u001b[38;5;124m\u001b[39m\u001b[38;5;124m\"\"\"\u001b[39m\n\u001b[0;32m---> 40\u001b[0m ec_records \u001b[38;5;241m=\u001b[39m \u001b[43mconn\u001b[49m\u001b[38;5;241;43m.\u001b[39;49m\u001b[43mquery\u001b[49m\u001b[43m(\u001b[49m\u001b[43mec_query\u001b[49m\u001b[43m)\u001b[49m\n\u001b[1;32m     41\u001b[0m ec_df \u001b[38;5;241m=\u001b[39m records_to_dataframe(ec_records)\n\u001b[1;32m     42\u001b[0m ec_df \u001b[38;5;241m=\u001b[39m ec_df\u001b[38;5;241m.\u001b[39mexplode(\u001b[38;5;124m'\u001b[39m\u001b[38;5;124mec_numbers\u001b[39m\u001b[38;5;124m'\u001b[39m)\n",
      "File \u001b[0;32m~/SageMaker/graph_db/db_connection.py:150\u001b[0m, in \u001b[0;36mNeo4jConnection.query\u001b[0;34m(self, query, parameters, db)\u001b[0m\n\u001b[1;32m    148\u001b[0m \u001b[38;5;28;01mtry\u001b[39;00m:\n\u001b[1;32m    149\u001b[0m     session \u001b[38;5;241m=\u001b[39m \u001b[38;5;28mself\u001b[39m\u001b[38;5;241m.\u001b[39m__driver\u001b[38;5;241m.\u001b[39msession(database\u001b[38;5;241m=\u001b[39mdb) \u001b[38;5;28;01mif\u001b[39;00m db \u001b[38;5;129;01mis\u001b[39;00m \u001b[38;5;129;01mnot\u001b[39;00m \u001b[38;5;28;01mNone\u001b[39;00m \u001b[38;5;28;01melse\u001b[39;00m \u001b[38;5;28mself\u001b[39m\u001b[38;5;241m.\u001b[39m__driver\u001b[38;5;241m.\u001b[39msession() \n\u001b[0;32m--> 150\u001b[0m     response \u001b[38;5;241m=\u001b[39m \u001b[38;5;28;43mlist\u001b[39;49m\u001b[43m(\u001b[49m\u001b[43msession\u001b[49m\u001b[38;5;241;43m.\u001b[39;49m\u001b[43mrun\u001b[49m\u001b[43m(\u001b[49m\u001b[43mquery\u001b[49m\u001b[43m,\u001b[49m\u001b[43m \u001b[49m\u001b[43mparameters\u001b[49m\u001b[43m)\u001b[49m\u001b[43m)\u001b[49m\n\u001b[1;32m    151\u001b[0m \u001b[38;5;28;01mexcept\u001b[39;00m \u001b[38;5;167;01mException\u001b[39;00m \u001b[38;5;28;01mas\u001b[39;00m e:\n\u001b[1;32m    152\u001b[0m     \u001b[38;5;28mprint\u001b[39m(\u001b[38;5;124m\"\u001b[39m\u001b[38;5;124mQuery failed:\u001b[39m\u001b[38;5;124m\"\u001b[39m, e)\n",
      "File \u001b[0;32m~/anaconda3/envs/python3/lib/python3.10/site-packages/neo4j/_sync/work/result.py:378\u001b[0m, in \u001b[0;36mResult.__iter__\u001b[0;34m(self)\u001b[0m\n\u001b[1;32m    376\u001b[0m     \u001b[38;5;28;01myield\u001b[39;00m \u001b[38;5;28mself\u001b[39m\u001b[38;5;241m.\u001b[39m_record_buffer\u001b[38;5;241m.\u001b[39mpopleft()\n\u001b[1;32m    377\u001b[0m \u001b[38;5;28;01melif\u001b[39;00m \u001b[38;5;28mself\u001b[39m\u001b[38;5;241m.\u001b[39m_streaming:\n\u001b[0;32m--> 378\u001b[0m     \u001b[38;5;28;43mself\u001b[39;49m\u001b[38;5;241;43m.\u001b[39;49m\u001b[43m_connection\u001b[49m\u001b[38;5;241;43m.\u001b[39;49m\u001b[43mfetch_message\u001b[49m\u001b[43m(\u001b[49m\u001b[43m)\u001b[49m\n\u001b[1;32m    379\u001b[0m \u001b[38;5;28;01melif\u001b[39;00m \u001b[38;5;28mself\u001b[39m\u001b[38;5;241m.\u001b[39m_discarding:\n\u001b[1;32m    380\u001b[0m     \u001b[38;5;28mself\u001b[39m\u001b[38;5;241m.\u001b[39m_discard()\n",
      "File \u001b[0;32m~/anaconda3/envs/python3/lib/python3.10/site-packages/neo4j/_sync/io/_common.py:178\u001b[0m, in \u001b[0;36mConnectionErrorHandler.__getattr__.<locals>.outer.<locals>.inner\u001b[0;34m(*args, **kwargs)\u001b[0m\n\u001b[1;32m    176\u001b[0m \u001b[38;5;28;01mdef\u001b[39;00m \u001b[38;5;21minner\u001b[39m(\u001b[38;5;241m*\u001b[39margs, \u001b[38;5;241m*\u001b[39m\u001b[38;5;241m*\u001b[39mkwargs):\n\u001b[1;32m    177\u001b[0m     \u001b[38;5;28;01mtry\u001b[39;00m:\n\u001b[0;32m--> 178\u001b[0m         \u001b[43mfunc\u001b[49m\u001b[43m(\u001b[49m\u001b[38;5;241;43m*\u001b[39;49m\u001b[43margs\u001b[49m\u001b[43m,\u001b[49m\u001b[43m \u001b[49m\u001b[38;5;241;43m*\u001b[39;49m\u001b[38;5;241;43m*\u001b[39;49m\u001b[43mkwargs\u001b[49m\u001b[43m)\u001b[49m\n\u001b[1;32m    179\u001b[0m     \u001b[38;5;28;01mexcept\u001b[39;00m (Neo4jError, ServiceUnavailable, SessionExpired) \u001b[38;5;28;01mas\u001b[39;00m exc:\n\u001b[1;32m    180\u001b[0m         \u001b[38;5;28;01massert\u001b[39;00m \u001b[38;5;129;01mnot\u001b[39;00m asyncio\u001b[38;5;241m.\u001b[39miscoroutinefunction(\u001b[38;5;28mself\u001b[39m\u001b[38;5;241m.\u001b[39m__on_error)\n",
      "File \u001b[0;32m~/anaconda3/envs/python3/lib/python3.10/site-packages/neo4j/_sync/io/_bolt.py:857\u001b[0m, in \u001b[0;36mBolt.fetch_message\u001b[0;34m(self)\u001b[0m\n\u001b[1;32m    854\u001b[0m     \u001b[38;5;28;01mreturn\u001b[39;00m \u001b[38;5;241m0\u001b[39m, \u001b[38;5;241m0\u001b[39m\n\u001b[1;32m    856\u001b[0m \u001b[38;5;66;03m# Receive exactly one message\u001b[39;00m\n\u001b[0;32m--> 857\u001b[0m tag, fields \u001b[38;5;241m=\u001b[39m \u001b[38;5;28;43mself\u001b[39;49m\u001b[38;5;241;43m.\u001b[39;49m\u001b[43minbox\u001b[49m\u001b[38;5;241;43m.\u001b[39;49m\u001b[43mpop\u001b[49m\u001b[43m(\u001b[49m\n\u001b[1;32m    858\u001b[0m \u001b[43m    \u001b[49m\u001b[43mhydration_hooks\u001b[49m\u001b[38;5;241;43m=\u001b[39;49m\u001b[38;5;28;43mself\u001b[39;49m\u001b[38;5;241;43m.\u001b[39;49m\u001b[43mresponses\u001b[49m\u001b[43m[\u001b[49m\u001b[38;5;241;43m0\u001b[39;49m\u001b[43m]\u001b[49m\u001b[38;5;241;43m.\u001b[39;49m\u001b[43mhydration_hooks\u001b[49m\n\u001b[1;32m    859\u001b[0m \u001b[43m\u001b[49m\u001b[43m)\u001b[49m\n\u001b[1;32m    860\u001b[0m res \u001b[38;5;241m=\u001b[39m \u001b[38;5;28mself\u001b[39m\u001b[38;5;241m.\u001b[39m_process_message(tag, fields)\n\u001b[1;32m    861\u001b[0m \u001b[38;5;28mself\u001b[39m\u001b[38;5;241m.\u001b[39midle_since \u001b[38;5;241m=\u001b[39m monotonic()\n",
      "File \u001b[0;32m~/anaconda3/envs/python3/lib/python3.10/site-packages/neo4j/_sync/io/_common.py:72\u001b[0m, in \u001b[0;36mInbox.pop\u001b[0;34m(self, hydration_hooks)\u001b[0m\n\u001b[1;32m     71\u001b[0m \u001b[38;5;28;01mdef\u001b[39;00m \u001b[38;5;21mpop\u001b[39m(\u001b[38;5;28mself\u001b[39m, hydration_hooks):\n\u001b[0;32m---> 72\u001b[0m     \u001b[38;5;28;43mself\u001b[39;49m\u001b[38;5;241;43m.\u001b[39;49m\u001b[43m_buffer_one_chunk\u001b[49m\u001b[43m(\u001b[49m\u001b[43m)\u001b[49m\n\u001b[1;32m     73\u001b[0m     \u001b[38;5;28;01mtry\u001b[39;00m:\n\u001b[1;32m     74\u001b[0m         size, tag \u001b[38;5;241m=\u001b[39m \u001b[38;5;28mself\u001b[39m\u001b[38;5;241m.\u001b[39m_unpacker\u001b[38;5;241m.\u001b[39munpack_structure_header()\n",
      "File \u001b[0;32m~/anaconda3/envs/python3/lib/python3.10/site-packages/neo4j/_sync/io/_common.py:51\u001b[0m, in \u001b[0;36mInbox._buffer_one_chunk\u001b[0;34m(self)\u001b[0m\n\u001b[1;32m     48\u001b[0m \u001b[38;5;28;01mwhile\u001b[39;00m \u001b[38;5;28;01mTrue\u001b[39;00m:\n\u001b[1;32m     49\u001b[0m     \u001b[38;5;28;01mwhile\u001b[39;00m chunk_size \u001b[38;5;241m==\u001b[39m \u001b[38;5;241m0\u001b[39m:\n\u001b[1;32m     50\u001b[0m         \u001b[38;5;66;03m# Determine the chunk size and skip noop\u001b[39;00m\n\u001b[0;32m---> 51\u001b[0m         \u001b[43mreceive_into_buffer\u001b[49m\u001b[43m(\u001b[49m\u001b[38;5;28;43mself\u001b[39;49m\u001b[38;5;241;43m.\u001b[39;49m\u001b[43m_socket\u001b[49m\u001b[43m,\u001b[49m\u001b[43m \u001b[49m\u001b[38;5;28;43mself\u001b[39;49m\u001b[38;5;241;43m.\u001b[39;49m\u001b[43m_buffer\u001b[49m\u001b[43m,\u001b[49m\u001b[43m \u001b[49m\u001b[38;5;241;43m2\u001b[39;49m\u001b[43m)\u001b[49m\n\u001b[1;32m     52\u001b[0m         chunk_size \u001b[38;5;241m=\u001b[39m \u001b[38;5;28mself\u001b[39m\u001b[38;5;241m.\u001b[39m_buffer\u001b[38;5;241m.\u001b[39mpop_u16()\n\u001b[1;32m     53\u001b[0m         \u001b[38;5;28;01mif\u001b[39;00m chunk_size \u001b[38;5;241m==\u001b[39m \u001b[38;5;241m0\u001b[39m:\n",
      "File \u001b[0;32m~/anaconda3/envs/python3/lib/python3.10/site-packages/neo4j/_sync/io/_common.py:326\u001b[0m, in \u001b[0;36mreceive_into_buffer\u001b[0;34m(sock, buffer, n_bytes)\u001b[0m\n\u001b[1;32m    324\u001b[0m \u001b[38;5;28;01mwith\u001b[39;00m \u001b[38;5;28mmemoryview\u001b[39m(buffer\u001b[38;5;241m.\u001b[39mdata) \u001b[38;5;28;01mas\u001b[39;00m view:\n\u001b[1;32m    325\u001b[0m     \u001b[38;5;28;01mwhile\u001b[39;00m buffer\u001b[38;5;241m.\u001b[39mused \u001b[38;5;241m<\u001b[39m end:\n\u001b[0;32m--> 326\u001b[0m         n \u001b[38;5;241m=\u001b[39m \u001b[43msock\u001b[49m\u001b[38;5;241;43m.\u001b[39;49m\u001b[43mrecv_into\u001b[49m\u001b[43m(\u001b[49m\u001b[43mview\u001b[49m\u001b[43m[\u001b[49m\u001b[43mbuffer\u001b[49m\u001b[38;5;241;43m.\u001b[39;49m\u001b[43mused\u001b[49m\u001b[43m:\u001b[49m\u001b[43mend\u001b[49m\u001b[43m]\u001b[49m\u001b[43m,\u001b[49m\u001b[43m \u001b[49m\u001b[43mend\u001b[49m\u001b[43m \u001b[49m\u001b[38;5;241;43m-\u001b[39;49m\u001b[43m \u001b[49m\u001b[43mbuffer\u001b[49m\u001b[38;5;241;43m.\u001b[39;49m\u001b[43mused\u001b[49m\u001b[43m)\u001b[49m\n\u001b[1;32m    327\u001b[0m         \u001b[38;5;28;01mif\u001b[39;00m n \u001b[38;5;241m==\u001b[39m \u001b[38;5;241m0\u001b[39m:\n\u001b[1;32m    328\u001b[0m             \u001b[38;5;28;01mraise\u001b[39;00m \u001b[38;5;167;01mOSError\u001b[39;00m(\u001b[38;5;124m\"\u001b[39m\u001b[38;5;124mNo data\u001b[39m\u001b[38;5;124m\"\u001b[39m)\n",
      "File \u001b[0;32m~/anaconda3/envs/python3/lib/python3.10/site-packages/neo4j/_async_compat/network/_bolt_socket.py:493\u001b[0m, in \u001b[0;36mBoltSocket.recv_into\u001b[0;34m(self, buffer, nbytes)\u001b[0m\n\u001b[1;32m    492\u001b[0m \u001b[38;5;28;01mdef\u001b[39;00m \u001b[38;5;21mrecv_into\u001b[39m(\u001b[38;5;28mself\u001b[39m, buffer, nbytes):\n\u001b[0;32m--> 493\u001b[0m     \u001b[38;5;28;01mreturn\u001b[39;00m \u001b[38;5;28;43mself\u001b[39;49m\u001b[38;5;241;43m.\u001b[39;49m\u001b[43m_wait_for_io\u001b[49m\u001b[43m(\u001b[49m\u001b[38;5;28;43mself\u001b[39;49m\u001b[38;5;241;43m.\u001b[39;49m\u001b[43m_socket\u001b[49m\u001b[38;5;241;43m.\u001b[39;49m\u001b[43mrecv_into\u001b[49m\u001b[43m,\u001b[49m\u001b[43m \u001b[49m\u001b[43mbuffer\u001b[49m\u001b[43m,\u001b[49m\u001b[43m \u001b[49m\u001b[43mnbytes\u001b[49m\u001b[43m)\u001b[49m\n",
      "File \u001b[0;32m~/anaconda3/envs/python3/lib/python3.10/site-packages/neo4j/_async_compat/network/_bolt_socket.py:468\u001b[0m, in \u001b[0;36mBoltSocket._wait_for_io\u001b[0;34m(self, func, *args, **kwargs)\u001b[0m\n\u001b[1;32m    466\u001b[0m \u001b[38;5;28;01mdef\u001b[39;00m \u001b[38;5;21m_wait_for_io\u001b[39m(\u001b[38;5;28mself\u001b[39m, func, \u001b[38;5;241m*\u001b[39margs, \u001b[38;5;241m*\u001b[39m\u001b[38;5;241m*\u001b[39mkwargs):\n\u001b[1;32m    467\u001b[0m     \u001b[38;5;28;01mif\u001b[39;00m \u001b[38;5;28mself\u001b[39m\u001b[38;5;241m.\u001b[39m_deadline \u001b[38;5;129;01mis\u001b[39;00m \u001b[38;5;28;01mNone\u001b[39;00m:\n\u001b[0;32m--> 468\u001b[0m         \u001b[38;5;28;01mreturn\u001b[39;00m \u001b[43mfunc\u001b[49m\u001b[43m(\u001b[49m\u001b[38;5;241;43m*\u001b[39;49m\u001b[43margs\u001b[49m\u001b[43m,\u001b[49m\u001b[43m \u001b[49m\u001b[38;5;241;43m*\u001b[39;49m\u001b[38;5;241;43m*\u001b[39;49m\u001b[43mkwargs\u001b[49m\u001b[43m)\u001b[49m\n\u001b[1;32m    469\u001b[0m     timeout \u001b[38;5;241m=\u001b[39m \u001b[38;5;28mself\u001b[39m\u001b[38;5;241m.\u001b[39m_socket\u001b[38;5;241m.\u001b[39mgettimeout()\n\u001b[1;32m    470\u001b[0m     deadline_timeout \u001b[38;5;241m=\u001b[39m \u001b[38;5;28mself\u001b[39m\u001b[38;5;241m.\u001b[39m_deadline\u001b[38;5;241m.\u001b[39mto_timeout()\n",
      "File \u001b[0;32m~/anaconda3/envs/python3/lib/python3.10/ssl.py:1307\u001b[0m, in \u001b[0;36mSSLSocket.recv_into\u001b[0;34m(self, buffer, nbytes, flags)\u001b[0m\n\u001b[1;32m   1303\u001b[0m     \u001b[38;5;28;01mif\u001b[39;00m flags \u001b[38;5;241m!=\u001b[39m \u001b[38;5;241m0\u001b[39m:\n\u001b[1;32m   1304\u001b[0m         \u001b[38;5;28;01mraise\u001b[39;00m \u001b[38;5;167;01mValueError\u001b[39;00m(\n\u001b[1;32m   1305\u001b[0m           \u001b[38;5;124m\"\u001b[39m\u001b[38;5;124mnon-zero flags not allowed in calls to recv_into() on \u001b[39m\u001b[38;5;132;01m%s\u001b[39;00m\u001b[38;5;124m\"\u001b[39m \u001b[38;5;241m%\u001b[39m\n\u001b[1;32m   1306\u001b[0m           \u001b[38;5;28mself\u001b[39m\u001b[38;5;241m.\u001b[39m\u001b[38;5;18m__class__\u001b[39m)\n\u001b[0;32m-> 1307\u001b[0m     \u001b[38;5;28;01mreturn\u001b[39;00m \u001b[38;5;28;43mself\u001b[39;49m\u001b[38;5;241;43m.\u001b[39;49m\u001b[43mread\u001b[49m\u001b[43m(\u001b[49m\u001b[43mnbytes\u001b[49m\u001b[43m,\u001b[49m\u001b[43m \u001b[49m\u001b[43mbuffer\u001b[49m\u001b[43m)\u001b[49m\n\u001b[1;32m   1308\u001b[0m \u001b[38;5;28;01melse\u001b[39;00m:\n\u001b[1;32m   1309\u001b[0m     \u001b[38;5;28;01mreturn\u001b[39;00m \u001b[38;5;28msuper\u001b[39m()\u001b[38;5;241m.\u001b[39mrecv_into(buffer, nbytes, flags)\n",
      "File \u001b[0;32m~/anaconda3/envs/python3/lib/python3.10/ssl.py:1163\u001b[0m, in \u001b[0;36mSSLSocket.read\u001b[0;34m(self, len, buffer)\u001b[0m\n\u001b[1;32m   1161\u001b[0m \u001b[38;5;28;01mtry\u001b[39;00m:\n\u001b[1;32m   1162\u001b[0m     \u001b[38;5;28;01mif\u001b[39;00m buffer \u001b[38;5;129;01mis\u001b[39;00m \u001b[38;5;129;01mnot\u001b[39;00m \u001b[38;5;28;01mNone\u001b[39;00m:\n\u001b[0;32m-> 1163\u001b[0m         \u001b[38;5;28;01mreturn\u001b[39;00m \u001b[38;5;28;43mself\u001b[39;49m\u001b[38;5;241;43m.\u001b[39;49m\u001b[43m_sslobj\u001b[49m\u001b[38;5;241;43m.\u001b[39;49m\u001b[43mread\u001b[49m\u001b[43m(\u001b[49m\u001b[38;5;28;43mlen\u001b[39;49m\u001b[43m,\u001b[49m\u001b[43m \u001b[49m\u001b[43mbuffer\u001b[49m\u001b[43m)\u001b[49m\n\u001b[1;32m   1164\u001b[0m     \u001b[38;5;28;01melse\u001b[39;00m:\n\u001b[1;32m   1165\u001b[0m         \u001b[38;5;28;01mreturn\u001b[39;00m \u001b[38;5;28mself\u001b[39m\u001b[38;5;241m.\u001b[39m_sslobj\u001b[38;5;241m.\u001b[39mread(\u001b[38;5;28mlen\u001b[39m)\n",
      "\u001b[0;31mKeyboardInterrupt\u001b[0m: "
     ]
    }
   ],
   "source": [
    "import pandas as pd\n",
    "\n",
    "def get_data_for_all_ocean_basins(conn, limit=None):\n",
    "    limit_clause = f\"LIMIT {limit}\" if limit is not None else \"\"\n",
    "\n",
    "    # 1. Taxonomic groups at phylum level\n",
    "    phylum_query = f\"\"\"\n",
    "    MATCH (g:Genome)-[:ORIGINATED_FROM]->(s:Sample)\n",
    "    WHERE g.gtdb_classification IS NOT NULL\n",
    "      AND s.latitude IS NOT NULL\n",
    "      AND s.longigute IS NOT NULL\n",
    "    RETURN \n",
    "       g.gtdb_classification AS gtdb_classification,\n",
    "       toFloat(s.latitude) AS latitude,\n",
    "       toFloat(s.longigute) AS longitude\n",
    "    {limit_clause}\n",
    "    \"\"\"\n",
    "    phylum_records = conn.query(phylum_query)\n",
    "    phylum_df = records_to_dataframe(phylum_records)\n",
    "    phylum_df['phylum'] = phylum_df['gtdb_classification'].apply(lambda x: x.split(';')[1] if x else None)\n",
    "    phylum_df['ocean_basin'] = phylum_df.apply(lambda row: classify_ocean_basin(row['latitude'], row['longitude']), axis=1)\n",
    "    phylum_data = phylum_df.groupby(['ocean_basin', 'phylum']).size().reset_index(name='count')\n",
    "\n",
    "    # 2. Proteins per EC number (first digit)\n",
    "    ec_query = f\"\"\"\n",
    "    MATCH (p:Protein)\n",
    "    MATCH (m:Genome)-[:CONTAINS]->(p)\n",
    "    MATCH (m)-[:ORIGINATED_FROM]->(s:Sample)\n",
    "    WHERE p.ec_numbers IS NOT NULL\n",
    "      AND s.latitude IS NOT NULL\n",
    "      AND s.longigute IS NOT NULL\n",
    "    WITH p, s, rand() AS r\n",
    "    ORDER BY r\n",
    "    {limit_clause}\n",
    "    RETURN \n",
    "       p.ec_numbers AS ec_numbers,\n",
    "       toFloat(s.latitude) AS latitude,\n",
    "       toFloat(s.longigute) AS longitude\n",
    "    \"\"\"\n",
    "    ec_records = conn.query(ec_query)\n",
    "    ec_df = records_to_dataframe(ec_records)\n",
    "    ec_df = ec_df.explode('ec_numbers')\n",
    "    ec_df['main_ec'] = ec_df['ec_numbers'].apply(lambda x: x.split('.')[0] if x else None)\n",
    "    ec_df['ocean_basin'] = ec_df.apply(lambda row: classify_ocean_basin(row['latitude'], row['longitude']), axis=1)\n",
    "    ec_data = ec_df.groupby(['ocean_basin', 'main_ec']).size().reset_index(name='count')\n",
    "\n",
    "    # 3. BGCs per class\n",
    "    bgc_query = f\"\"\"\n",
    "    MATCH (bgc:BGC)\n",
    "    MATCH (g:Genome)-[:CONTAINS]->(bgc)\n",
    "    MATCH (g)-[:ORIGINATED_FROM]->(s:Sample)\n",
    "    WHERE bgc.on_edge = \"False\"\n",
    "      AND s.latitude IS NOT NULL\n",
    "      AND s.longigute IS NOT NULL\n",
    "    RETURN \n",
    "       bgc.bgc_class AS bgc_class,\n",
    "       toFloat(s.latitude) AS latitude,\n",
    "       toFloat(s.longigute) AS longitude\n",
    "    {limit_clause}\n",
    "    \"\"\"\n",
    "    bgc_records = conn.query(bgc_query)\n",
    "    bgc_df = records_to_dataframe(bgc_records)\n",
    "    bgc_df['ocean_basin'] = bgc_df.apply(lambda row: classify_ocean_basin(row['latitude'], row['longitude']), axis=1)\n",
    "    bgc_data = bgc_df.groupby(['ocean_basin', 'bgc_class']).size().reset_index(name='count')\n",
    "\n",
    "    return {\n",
    "        'phylum_data': phylum_data,\n",
    "        'ec_data': ec_data,\n",
    "        'bgc_data': bgc_data\n",
    "    }\n",
    "\n",
    "\n",
    "try:\n",
    "    conn = Neo4jConnection(uri, username, password)\n",
    "    all_data = get_data_for_all_ocean_basins(conn, limit=50000)\n",
    "    conn.close()\n",
    "    print(\"Data retrieval successful\")\n",
    "    for key, df in all_data.items():\n",
    "        print(f\"\\n{key} shape: {df.shape}\")\n",
    "        print(df.head())\n",
    "except Exception as e:\n",
    "    print(f\"An error occurred: {str(e)}\")\n",
    "    import traceback\n",
    "    traceback.print_exc()"
   ]
  },
  {
   "cell_type": "markdown",
   "metadata": {},
   "source": [
    "## Query Proteins using a random sample"
   ]
  },
  {
   "cell_type": "code",
   "execution_count": 14,
   "metadata": {
    "tags": []
   },
   "outputs": [
    {
     "name": "stdout",
     "output_type": "stream",
     "text": [
      "Query failed: {code: Neo.TransientError.General.DatabaseUnavailable} {message: The transaction has been terminated. Retry your operation in a new transaction, and you should see a successful result. The database is not currently available to serve your request, refer to the database logs for more details. Retrying your request at a later time may succeed. }\n"
     ]
    },
    {
     "ename": "TypeError",
     "evalue": "'NoneType' object is not iterable",
     "output_type": "error",
     "traceback": [
      "\u001b[0;31m---------------------------------------------------------------------------\u001b[0m",
      "\u001b[0;31mTypeError\u001b[0m                                 Traceback (most recent call last)",
      "Cell \u001b[0;32mIn[14], line 24\u001b[0m\n\u001b[1;32m     21\u001b[0m conn \u001b[38;5;241m=\u001b[39m Neo4jConnection(uri, username, password)\n\u001b[1;32m     22\u001b[0m ec_records \u001b[38;5;241m=\u001b[39m conn\u001b[38;5;241m.\u001b[39mquery(ec_query)\n\u001b[0;32m---> 24\u001b[0m ec_df \u001b[38;5;241m=\u001b[39m \u001b[43mrecords_to_dataframe\u001b[49m\u001b[43m(\u001b[49m\u001b[43mec_records\u001b[49m\u001b[43m)\u001b[49m\n\u001b[1;32m     25\u001b[0m ec_df \u001b[38;5;241m=\u001b[39m ec_df\u001b[38;5;241m.\u001b[39mexplode(\u001b[38;5;124m'\u001b[39m\u001b[38;5;124mec_numbers\u001b[39m\u001b[38;5;124m'\u001b[39m)\n\u001b[1;32m     26\u001b[0m ec_df[\u001b[38;5;124m'\u001b[39m\u001b[38;5;124mmain_ec\u001b[39m\u001b[38;5;124m'\u001b[39m] \u001b[38;5;241m=\u001b[39m ec_df[\u001b[38;5;124m'\u001b[39m\u001b[38;5;124mec_numbers\u001b[39m\u001b[38;5;124m'\u001b[39m]\u001b[38;5;241m.\u001b[39mapply(\u001b[38;5;28;01mlambda\u001b[39;00m x: x\u001b[38;5;241m.\u001b[39msplit(\u001b[38;5;124m'\u001b[39m\u001b[38;5;124m.\u001b[39m\u001b[38;5;124m'\u001b[39m)[\u001b[38;5;241m0\u001b[39m] \u001b[38;5;28;01mif\u001b[39;00m x \u001b[38;5;28;01melse\u001b[39;00m \u001b[38;5;28;01mNone\u001b[39;00m)\n",
      "Cell \u001b[0;32mIn[4], line 21\u001b[0m, in \u001b[0;36mrecords_to_dataframe\u001b[0;34m(records)\u001b[0m\n\u001b[1;32m     20\u001b[0m \u001b[38;5;28;01mdef\u001b[39;00m \u001b[38;5;21mrecords_to_dataframe\u001b[39m(records):\n\u001b[0;32m---> 21\u001b[0m     df \u001b[38;5;241m=\u001b[39m pd\u001b[38;5;241m.\u001b[39mDataFrame([record\u001b[38;5;241m.\u001b[39mdata() \u001b[38;5;28;01mfor\u001b[39;00m record \u001b[38;5;129;01min\u001b[39;00m records])\n\u001b[1;32m     22\u001b[0m     \u001b[38;5;28mprint\u001b[39m(\u001b[38;5;124mf\u001b[39m\u001b[38;5;124m\"\u001b[39m\u001b[38;5;124mDataFrame columns: \u001b[39m\u001b[38;5;132;01m{\u001b[39;00mdf\u001b[38;5;241m.\u001b[39mcolumns\u001b[38;5;132;01m}\u001b[39;00m\u001b[38;5;124m\"\u001b[39m)\n\u001b[1;32m     23\u001b[0m     \u001b[38;5;28mprint\u001b[39m(\u001b[38;5;124mf\u001b[39m\u001b[38;5;124m\"\u001b[39m\u001b[38;5;124mDataFrame shape: \u001b[39m\u001b[38;5;132;01m{\u001b[39;00mdf\u001b[38;5;241m.\u001b[39mshape\u001b[38;5;132;01m}\u001b[39;00m\u001b[38;5;124m\"\u001b[39m)\n",
      "\u001b[0;31mTypeError\u001b[0m: 'NoneType' object is not iterable"
     ]
    }
   ],
   "source": [
    "ec_query = f\"\"\"\n",
    "MATCH (s:Sample)\n",
    "WHERE s.latitude IS NOT NULL\n",
    "  AND s.longigute IS NOT NULL\n",
    "WITH s, rand() AS r\n",
    "ORDER BY r\n",
    "LIMIT 100000\n",
    "\n",
    "MATCH (s)<-[:ORIGINATED_FROM]-(m:Genome)-[:CONTAINS]->(p:Protein)\n",
    "WHERE p.ec_numbers IS NOT NULL\n",
    "WITH s, collect(DISTINCT p.ec_numbers) AS ec_numbers\n",
    "WHERE size(ec_numbers) > 0\n",
    "\n",
    "RETURN \n",
    "   s.biosample_id AS sample_id,\n",
    "   toFloat(s.latitude) AS latitude,\n",
    "   toFloat(s.longigute) AS longitude,\n",
    "   ec_numbers\n",
    "\"\"\"\n",
    "\n",
    "conn = Neo4jConnection(uri, username, password)\n",
    "ec_records = conn.query(ec_query)\n",
    "\n",
    "ec_df = records_to_dataframe(ec_records)\n",
    "ec_df = ec_df.explode('ec_numbers')\n",
    "ec_df['main_ec'] = ec_df['ec_numbers'].apply(lambda x: x.split('.')[0] if x else None)\n",
    "ec_df['ocean_basin'] = ec_df.apply(lambda row: classify_ocean_basin(row['latitude'], row['longitude']), axis=1)\n",
    "ec_data = ec_df.groupby(['ocean_basin', 'main_ec']).size().reset_index(name='count')"
   ]
  },
  {
   "cell_type": "code",
   "execution_count": 13,
   "metadata": {
    "tags": []
   },
   "outputs": [
    {
     "data": {
      "text/plain": [
       "array(['Arctic', 'Atlantic', 'Indian', 'Pacific'], dtype=object)"
      ]
     },
     "execution_count": 13,
     "metadata": {},
     "output_type": "execute_result"
    }
   ],
   "source": [
    "ec_data.ocean_basin.unique()"
   ]
  },
  {
   "cell_type": "code",
   "execution_count": 9,
   "metadata": {
    "tags": []
   },
   "outputs": [],
   "source": [
    "ec_data.to_csv(\"ec_data.tsv\", sep=\"\\t\", index=False)"
   ]
  },
  {
   "cell_type": "code",
   "execution_count": null,
   "metadata": {
    "tags": []
   },
   "outputs": [],
   "source": [
    "import pandas as pd\n",
    "\n",
    "df = pd.read_csv(\"outputs/phylum_data.tsv\", sep=\"\\t\")\n",
    "df.phylum = df.phylum.apply(lambda x:x.replace(\"p__\", \"\"))\n",
    "df.to_csv(\"outputs/phylum_data.tsv\", sep=\"\\t\", index=False)"
   ]
  },
  {
   "cell_type": "code",
   "execution_count": 16,
   "metadata": {
    "tags": []
   },
   "outputs": [
    {
     "name": "stdout",
     "output_type": "stream",
     "text": [
      "Saved phylum_data.tsv to outputs/phylum_data.tsv\n",
      "Saved ec_data.tsv to outputs/ec_data.tsv\n",
      "Saved bgc_data.tsv to outputs/bgc_data.tsv\n"
     ]
    }
   ],
   "source": [
    "def save_data_to_tsv(data_dict, output_dir):\n",
    "    \"\"\"\n",
    "    Save each DataFrame in the data dictionary to a TSV file in the specified directory.\n",
    "    \n",
    "    Args:\n",
    "    data_dict (dict): Dictionary containing DataFrames to be saved\n",
    "    output_dir (str): Path to the directory where TSV files will be saved\n",
    "    \"\"\"\n",
    "    # Ensure the output directory exists\n",
    "    os.makedirs(output_dir, exist_ok=True)\n",
    "    \n",
    "    for key, df in data_dict.items():\n",
    "        # Create a file name based on the key\n",
    "        if key == \"phylum_data\":\n",
    "            df.phylum = df.phylum.apply(lambda x:x.replace(\"p__\", \"\"))\n",
    "        file_name = f\"{key}.tsv\"\n",
    "        file_path = os.path.join(output_dir, file_name)\n",
    "        \n",
    "        # Save the DataFrame to a TSV file\n",
    "        df.to_csv(file_path, sep='\\t', index=False)\n",
    "        print(f\"Saved {file_name} to {file_path}\")\n",
    "\n",
    "save_data_to_tsv(all_data, output_dir=\"outputs\")\n"
   ]
  }
 ],
 "metadata": {
  "kernelspec": {
   "display_name": "conda_python3",
   "language": "python",
   "name": "conda_python3"
  },
  "language_info": {
   "codemirror_mode": {
    "name": "ipython",
    "version": 3
   },
   "file_extension": ".py",
   "mimetype": "text/x-python",
   "name": "python",
   "nbconvert_exporter": "python",
   "pygments_lexer": "ipython3",
   "version": "3.10.14"
  }
 },
 "nbformat": 4,
 "nbformat_minor": 4
}

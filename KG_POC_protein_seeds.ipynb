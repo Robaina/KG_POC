{
 "cells": [
  {
   "cell_type": "markdown",
   "metadata": {},
   "source": [
    "# Use the KG to identify seed protein candidates for ProtEvoPy\n",
    "\n",
    "Objective: Use the KG to identify seed protein candidates for ProtEvoPy based on EC numbers, substrates, and environmental metadata. Once the list of seed protein candidates is retrieved, we can further filter the list, for instance, we could maximize sequence diversity by running CD-HIT on the sequences or maximize taxonomic diversity by selecting proteins from different taxonomic groups.\n",
    "\n",
    "__NOTE__:\n",
    "\n",
    "The KG will not store actual sequences but only sequence IDs. Sequences will be retrieved from our internal sequence database based on the sequence IDs.\n",
    "\n",
    "### Example queries (illustrative)\n",
    "\n",
    "1. __EC number-based query with optional environmental filters__\n",
    "\n",
    "This query searches for proteins that have a specific EC number in their list of EC numbers and allows for optional filtering based on environmental parameters (temperature, salinity) and geographical location. It returns the matching proteins along with their associated GENOMEs and sample information.\n",
    "\n",
    "```sql\n",
    "MATCH (p:Protein)-[:CATALYZES]->(r:Reaction)\n",
    "WHERE $ecNumber IN p.ec_numbers\n",
    "OPTIONAL MATCH (m:GENOME)-[:CONTAINS]->(p)\n",
    "OPTIONAL MATCH (m)-[:ORIGINATED_FROM]->(s:Samples)\n",
    "WHERE \n",
    "  ($minTemp IS NULL OR s.temperature >= $minTemp) AND\n",
    "  ($maxTemp IS NULL OR s.temperature <= $maxTemp) AND\n",
    "  ($minSalinity IS NULL OR s.salinity >= $minSalinity) AND\n",
    "  ($maxSalinity IS NULL OR s.salinity <= $maxSalinity) AND\n",
    "  ($minLat IS NULL OR s.latitude >= $minLat) AND\n",
    "  ($maxLat IS NULL OR s.latitude <= $maxLat) AND\n",
    "  ($minLon IS NULL OR s.longitude >= $minLon) AND\n",
    "  ($maxLon IS NULL OR s.longitude <= $maxLon)\n",
    "RETURN p, m, s\n",
    "LIMIT 1000\n",
    "```\n",
    "\n",
    "__Example output__\n",
    "\n",
    "This is just an illustrative (not real) example of the output format. The actual output will depend on the data in the KG.\n",
    "\n",
    "EC number-based query output (for EC 3.2.1.1 - alpha-amylase):\n",
    "\n",
    "| Protein ID | Protein Name | EC Numbers | MAG ID | MAG Division | GTDB Classification | Sample Name | Temperature (°C) | Salinity (PSU) | Depth (m) | Latitude | Longitude |\n",
    "|------------|--------------|------------|--------|--------------|---------------------|-------------|------------------|----------------|-----------|----------|-----------|\n",
    "| P001 | Alpha-amylase | 3.2.1.1 | MAG001 | Bacteria | d__Bacteria;<br>p__Proteobacteria;<br>c__Gammaproteobacteria;<br>o__Enterobacterales;<br>f__Enterobacteriaceae;<br>g__Escherichia;<br>s__Escherichia coli | OceanSample001 | 15.2 | 35.1 | 100.5 | 40.7128 | -74.0060 |\n",
    "| P002 | Alpha-<br>glucosidase | 3.2.1.1,<br>3.2.1.20 | MAG002 | Bacteria | d__Bacteria;<br>p__Firmicutes;<br>c__Bacilli;<br>o__Bacillales;<br>f__Bacillaceae;<br>g__Bacillus;<br>s__Bacillus subtilis | OceanSample002 | 18.7 | 34.8 | 50.2 | 34.0522 | -118.2437 |\n",
    "\n",
    "<br>\n",
    "\n",
    "2. __SMILES similarity-based query with optional environmental filters__\n",
    "\n",
    "This query finds compounds similar to a target compound (based on pre-computed SMILES similarity), then retrieves the proteins that catalyze reactions involving these similar compounds. It allows for optional filtering based on environmental parameters and geographical location. The results are ordered by chemical similarity and include the proteins, similar compounds, similarity scores, associated GENOMEs, and sample information.\n",
    "\n",
    "```sql\n",
    "MATCH (target:Compound {smiles: $targetSmiles})\n",
    "MATCH (target)-[sim:CHEMICALLY_SIMILAR]->(c:Compound)-[:SUBSTRATE_OF]->(r:Reaction)<-[:CATALYZES]-(p:Protein)\n",
    "WHERE sim.similarity >= $similarityThreshold\n",
    "OPTIONAL MATCH (m:GENOME)-[:CONTAINS]->(p)\n",
    "OPTIONAL MATCH (m)-[:ORIGINATED_FROM]->(s:Samples)\n",
    "WHERE \n",
    "  ($minTemp IS NULL OR s.temperature >= $minTemp) AND\n",
    "  ($maxTemp IS NULL OR s.temperature <= $maxTemp) AND\n",
    "  ($minSalinity IS NULL OR s.salinity >= $minSalinity) AND\n",
    "  ($maxSalinity IS NULL OR s.salinity <= $maxSalinity) AND\n",
    "  ($minLat IS NULL OR s.latitude >= $minLat) AND\n",
    "  ($maxLat IS NULL OR s.latitude <= $maxLat) AND\n",
    "  ($minLon IS NULL OR s.longitude >= $minLon) AND\n",
    "  ($maxLon IS NULL OR s.longitude <= $maxLon)\n",
    "RETURN p, c, sim.similarity AS similarity, m, s\n",
    "ORDER BY similarity DESC\n",
    "LIMIT 1000\n",
    "```\n",
    "\n",
    "__Example output__\n",
    "\n",
    "This is just an illustrative (not real) example of the output format. The actual output will depend on the data in the KG.\n",
    "\n",
    "SMILES similarity-based query output (for target compound CCO - ethanol):\n",
    "\n",
    "| Protein ID | Protein Name | EC Numbers | Compound ID | Compound Name | SMILES | Similarity | MAG ID | MAG Division | GTDB Classification | Sample Name | Temperature (°C) | Salinity (PSU) | Depth (m) | Latitude | Longitude |\n",
    "|------------|--------------|------------|-------------|---------------|--------|------------|--------|--------------|---------------------|-------------|------------------|----------------|-----------|----------|-----------|\n",
    "| P003 | Alcohol<br>dehydrogenase | 1.1.1.1 | C001 | Ethanol | CCO | 1.00 | MAG003 | Bacteria | d__Bacteria;<br>p__Actinobacteria;<br>c__Actinobacteria;<br>o__Corynebacteriales;<br>f__Mycobacteriaceae;<br>g__Mycobacterium;<br>s__Mycobacterium smegmatis | OceanSample003 | 22.1 | 33.9 | 10.5 | 51.5074 | -0.1278 |\n",
    "| P004 | Methanol<br>dehydrogenase | 1.1.1.244 | C002 | Methanol | CO | 0.88 | MAG004 | Bacteria | d__Bacteria;<br>p__Proteobacteria;<br>c__Alphaproteobacteria;<br>o__Rhizobiales;<br>f__Methylobacteriaceae;<br>g__Methylobacterium;<br>s__Methylobacterium extorquens | OceanSample004 | 20.5 | 35.2 | 75.8 | 48.8566 | 2.3522 |"
   ]
  },
  {
   "cell_type": "markdown",
   "metadata": {},
   "source": [
    "## Computing tanimoto distances for ModelSeed compounds"
   ]
  },
  {
   "cell_type": "code",
   "execution_count": 8,
   "metadata": {},
   "outputs": [
    {
     "name": "stdout",
     "output_type": "stream",
     "text": [
      "Computed 130661695 pairwise distances\n"
     ]
    }
   ],
   "source": [
    "from src.distances import compute_fingerprint_distances\n",
    "from src.utils import extract_data\n",
    "\n",
    "\n",
    "reactions_path = \"/home/robaina/Documents/NewAtlantis/enzyme_activity/notebooks/data/annotations/modelseed/reactions.json\"\n",
    "compounds_path = \"/home/robaina/Documents/NewAtlantis/enzyme_activity/notebooks/data/annotations/modelseed/compounds.json\"\n",
    "\n",
    "n = None\n",
    "reactions, compounds = extract_data(reactions_path, compounds_path, n)\n",
    "\n",
    "distances = compute_fingerprint_distances(compounds, n_jobs=12)\n",
    "print(f\"Computed {len(distances)} pairwise distances\")"
   ]
  },
  {
   "cell_type": "code",
   "execution_count": 18,
   "metadata": {},
   "outputs": [
    {
     "name": "stdout",
     "output_type": "stream",
     "text": [
      "Stored 130661695 pairwise distances in outputs/distances.parquet\n"
     ]
    }
   ],
   "source": [
    "from src.distances import store_distances_parquet\n",
    "\n",
    "distance_file = \"outputs/distances.parquet\"\n",
    "store_distances_parquet(distances, distance_file)"
   ]
  },
  {
   "cell_type": "code",
   "execution_count": 20,
   "metadata": {},
   "outputs": [
    {
     "name": "stdout",
     "output_type": "stream",
     "text": [
      "Distance between COMP1 and COMP2: 1.0\n"
     ]
    }
   ],
   "source": [
    "from src.distances import read_distance_parquet\n",
    "\n",
    "distance = read_distance_parquet(distance_file, \"cpd00001\", \"cpd00002\")\n",
    "print(f\"Distance between COMP1 and COMP2: {distance}\")"
   ]
  },
  {
   "cell_type": "markdown",
   "metadata": {},
   "source": [
    "## Make reaction and compound databases\n",
    "\n",
    "\n",
    "Simplify the modelSEED database and make csv files for compounds and reactions."
   ]
  },
  {
   "cell_type": "code",
   "execution_count": 1,
   "metadata": {},
   "outputs": [],
   "source": [
    "from src.utils import extract_data\n",
    "\n",
    "\n",
    "reactions_path = \"/home/robaina/Documents/NewAtlantis/enzyme_activity/notebooks/data/annotations/modelseed/reactions.json\"\n",
    "compounds_path = \"/home/robaina/Documents/NewAtlantis/enzyme_activity/notebooks/data/annotations/modelseed/compounds.json\"\n",
    "\n",
    "n = None\n",
    "reactions, compounds = extract_data(reactions_path, compounds_path, n)"
   ]
  },
  {
   "cell_type": "markdown",
   "metadata": {},
   "source": [
    "### Filter reactions by list of properties"
   ]
  },
  {
   "cell_type": "code",
   "execution_count": 11,
   "metadata": {},
   "outputs": [],
   "source": [
    "def filter_reaction_dicts(reaction_dicts):\n",
    "    # Define the keys to keep\n",
    "    keys_to_keep = [\n",
    "        \"aliases\", \"code\", \"compound_ids\", \"definition\", \"deltag\", \"deltagerr\",\n",
    "        \"direction\", \"ec_numbers\", \"equation\", \"is_transport\", \"linked_reaction\",\n",
    "        \"name\", \"pathways\", \"reversibility\", \"source\", \"status\", \"stoichiometry\"\n",
    "    ]\n",
    "\n",
    "    # Function to filter a single dictionary\n",
    "    def filter_dict(d):\n",
    "        filtered = {k: d[k] for k in keys_to_keep if k in d}\n",
    "        # Rename 'id' to 'reaction_id' if present\n",
    "        if 'id' in d:\n",
    "            filtered['reaction_id'] = d['id']\n",
    "        return filtered\n",
    "\n",
    "    # Apply the filter to all dictionaries in the list\n",
    "    return [filter_dict(d) for d in reaction_dicts]\n",
    "\n",
    "\n",
    "filtered_reactions = filter_reaction_dicts(reactions)"
   ]
  },
  {
   "cell_type": "markdown",
   "metadata": {},
   "source": [
    "### Filter compounds by list of properties"
   ]
  },
  {
   "cell_type": "code",
   "execution_count": 10,
   "metadata": {},
   "outputs": [],
   "source": [
    "def filter_compound_dicts(compound_dicts):\n",
    "    # Define the keys to keep\n",
    "    keys_to_keep = [\n",
    "        \"aliases\", \"charge\", \"deltag\", \"deltagerr\", \"formula\", \"inchikey\",\n",
    "        \"is_cofactor\", \"is_core\", \"mass\", \"name\", \"pka\", \"pkb\", \"smiles\", \"source\"\n",
    "    ]\n",
    "\n",
    "    # Function to filter a single dictionary\n",
    "    def filter_dict(d):\n",
    "        filtered = {k: d[k] for k in keys_to_keep if k in d}\n",
    "        # Rename 'id' to 'compound_id' if present\n",
    "        if 'id' in d:\n",
    "            filtered['compound_id'] = d['id']\n",
    "        return filtered\n",
    "\n",
    "    # Apply the filter to all dictionaries in the list\n",
    "    return [filter_dict(d) for d in compound_dicts]\n",
    "\n",
    "\n",
    "filtered_compounds = filter_compound_dicts(compounds)"
   ]
  },
  {
   "cell_type": "markdown",
   "metadata": {},
   "source": [
    "### Save to json"
   ]
  },
  {
   "cell_type": "code",
   "execution_count": 12,
   "metadata": {},
   "outputs": [],
   "source": [
    "import json\n",
    "\n",
    "def save_to_json(data, filename):\n",
    "    \"\"\"\n",
    "    Save a list of dictionaries to a JSON file.\n",
    "    \n",
    "    Args:\n",
    "    data (list): List of dictionaries to save\n",
    "    filename (str): Name of the file to save the data to\n",
    "    \"\"\"\n",
    "    with open(filename, 'w', encoding='utf-8') as f:\n",
    "        json.dump(data, f, indent=2, ensure_ascii=False)\n",
    "\n",
    "\n",
    "save_to_json(filtered_reactions, 'outputs/filtered_reactions.json')\n",
    "save_to_json(filtered_compounds, 'outputs/filtered_compounds.json')"
   ]
  },
  {
   "cell_type": "markdown",
   "metadata": {},
   "source": [
    "## Notes\n",
    "\n",
    "1. RDKIT chemical similarity function: https://github.com/rdkit/rdkit-orig/blob/57058c886a49cc597b0c40641a28697ee3a57aee/rdkit/DataStructs/__init__.py#L31\n",
    "\n",
    "2. Use monorepo db_connection to get a class for the connection"
   ]
  },
  {
   "cell_type": "markdown",
   "metadata": {},
   "source": [
    "## Test NAL KG locally"
   ]
  },
  {
   "cell_type": "code",
   "execution_count": 1,
   "metadata": {},
   "outputs": [],
   "source": [
    "from dotenv import load_dotenv\n",
    "# from neo4j import GraphDatabase\n",
    "import os\n",
    "\n",
    "load_dotenv()\n",
    "uri = os.getenv(\"NEO4J_URI\")\n",
    "# uri = os.getenv(\"NEO4J_URI_FROM_LAB\")\n",
    "username = os.getenv(\"NEO4J_USERNAME\")\n",
    "password = os.getenv(\"NEO4J_PASSWORD\")\n",
    "\n",
    "# driver = GraphDatabase.driver(uri, auth=(username, password))\n",
    "# driver.close()"
   ]
  },
  {
   "cell_type": "code",
   "execution_count": 2,
   "metadata": {},
   "outputs": [],
   "source": [
    "from src.utils import extract_data\n",
    "\n",
    "reactions_path = \"/home/robaina/Documents/NewAtlantis/enzyme_activity/notebooks/data/annotations/modelseed/reactions.json\"\n",
    "compounds_path = \"/home/robaina/Documents/NewAtlantis/enzyme_activity/notebooks/data/annotations/modelseed/compounds.json\"\n",
    "\n",
    "n = None\n",
    "reactions, compounds = extract_data(reactions_path, compounds_path, n)"
   ]
  },
  {
   "cell_type": "code",
   "execution_count": 3,
   "metadata": {},
   "outputs": [
    {
     "name": "stdout",
     "output_type": "stream",
     "text": [
      "Target compound: L-Tyrosine\n"
     ]
    },
    {
     "ename": "ConfigurationError",
     "evalue": "URI scheme 'htpps' is not supported. Supported URI schemes are ['bolt', 'bolt+ssc', 'bolt+s', 'neo4j', 'neo4j+ssc', 'neo4j+s']. Examples: bolt://host[:port] or neo4j://host[:port][?routing_context]",
     "output_type": "error",
     "traceback": [
      "\u001b[0;31m---------------------------------------------------------------------------\u001b[0m",
      "\u001b[0;31mConfigurationError\u001b[0m                        Traceback (most recent call last)",
      "Cell \u001b[0;32mIn[3], line 8\u001b[0m\n\u001b[1;32m      5\u001b[0m compound_name \u001b[38;5;241m=\u001b[39m [c \u001b[38;5;28;01mfor\u001b[39;00m c \u001b[38;5;129;01min\u001b[39;00m compounds \u001b[38;5;28;01mif\u001b[39;00m c[\u001b[38;5;124m\"\u001b[39m\u001b[38;5;124mid\u001b[39m\u001b[38;5;124m\"\u001b[39m] \u001b[38;5;241m==\u001b[39m compound_id][\u001b[38;5;241m0\u001b[39m][\u001b[38;5;124m\"\u001b[39m\u001b[38;5;124mname\u001b[39m\u001b[38;5;124m\"\u001b[39m]\n\u001b[1;32m      6\u001b[0m \u001b[38;5;28mprint\u001b[39m(\u001b[38;5;124mf\u001b[39m\u001b[38;5;124m\"\u001b[39m\u001b[38;5;124mTarget compound: \u001b[39m\u001b[38;5;132;01m{\u001b[39;00mcompound_name\u001b[38;5;132;01m}\u001b[39;00m\u001b[38;5;124m\"\u001b[39m)\n\u001b[0;32m----> 8\u001b[0m reactions \u001b[38;5;241m=\u001b[39m \u001b[43mfind_reactions_with_similar_product_compounds\u001b[49m\u001b[43m(\u001b[49m\n\u001b[1;32m      9\u001b[0m \u001b[43m    \u001b[49m\u001b[43muri\u001b[49m\u001b[43m,\u001b[49m\u001b[43musername\u001b[49m\u001b[43m,\u001b[49m\u001b[43m \u001b[49m\u001b[43mpassword\u001b[49m\u001b[43m,\u001b[49m\n\u001b[1;32m     10\u001b[0m \u001b[43m    \u001b[49m\u001b[43mcompound_id\u001b[49m\u001b[43m,\u001b[49m\n\u001b[1;32m     11\u001b[0m \u001b[43m    \u001b[49m\u001b[43msimilarity_threshold\u001b[49m\u001b[38;5;241;43m=\u001b[39;49m\u001b[38;5;241;43m0.8\u001b[39;49m\u001b[43m,\u001b[49m\n\u001b[1;32m     12\u001b[0m \u001b[43m    \u001b[49m\u001b[43mlimit\u001b[49m\u001b[38;5;241;43m=\u001b[39;49m\u001b[38;5;241;43m100\u001b[39;49m\n\u001b[1;32m     13\u001b[0m \u001b[43m    \u001b[49m\u001b[43m)\u001b[49m\n\u001b[1;32m     14\u001b[0m reactions[\u001b[38;5;241m0\u001b[39m]\n",
      "File \u001b[0;32m~/Documents/NewAtlantis/KG_POC/src/queries.py:164\u001b[0m, in \u001b[0;36mfind_reactions_with_similar_product_compounds\u001b[0;34m(uri, user, password, target_compound_id, similarity_threshold, limit)\u001b[0m\n\u001b[1;32m    156\u001b[0m     result \u001b[38;5;241m=\u001b[39m tx\u001b[38;5;241m.\u001b[39mrun(\n\u001b[1;32m    157\u001b[0m         query,\n\u001b[1;32m    158\u001b[0m         target_compound_id\u001b[38;5;241m=\u001b[39mtarget_compound_id,\n\u001b[1;32m    159\u001b[0m         similarity_threshold\u001b[38;5;241m=\u001b[39msimilarity_threshold,\n\u001b[1;32m    160\u001b[0m         limit\u001b[38;5;241m=\u001b[39mlimit,\n\u001b[1;32m    161\u001b[0m     )\n\u001b[1;32m    162\u001b[0m     \u001b[38;5;28;01mreturn\u001b[39;00m [\u001b[38;5;28mdict\u001b[39m(record) \u001b[38;5;28;01mfor\u001b[39;00m record \u001b[38;5;129;01min\u001b[39;00m result]\n\u001b[0;32m--> 164\u001b[0m driver \u001b[38;5;241m=\u001b[39m \u001b[43mGraphDatabase\u001b[49m\u001b[38;5;241;43m.\u001b[39;49m\u001b[43mdriver\u001b[49m\u001b[43m(\u001b[49m\u001b[43muri\u001b[49m\u001b[43m,\u001b[49m\u001b[43m \u001b[49m\u001b[43mauth\u001b[49m\u001b[38;5;241;43m=\u001b[39;49m\u001b[43m(\u001b[49m\u001b[43muser\u001b[49m\u001b[43m,\u001b[49m\u001b[43m \u001b[49m\u001b[43mpassword\u001b[49m\u001b[43m)\u001b[49m\u001b[43m)\u001b[49m\n\u001b[1;32m    165\u001b[0m \u001b[38;5;28;01mwith\u001b[39;00m driver\u001b[38;5;241m.\u001b[39msession() \u001b[38;5;28;01mas\u001b[39;00m session:\n\u001b[1;32m    166\u001b[0m     reactions \u001b[38;5;241m=\u001b[39m session\u001b[38;5;241m.\u001b[39mexecute_read(get_reactions)\n",
      "File \u001b[0;32m~/miniconda3/envs/neo4j/lib/python3.12/site-packages/neo4j/_sync/driver.py:190\u001b[0m, in \u001b[0;36mGraphDatabase.driver\u001b[0;34m(cls, uri, auth, **config)\u001b[0m\n\u001b[1;32m    171\u001b[0m \u001b[38;5;129m@classmethod\u001b[39m\n\u001b[1;32m    172\u001b[0m \u001b[38;5;28;01mdef\u001b[39;00m \u001b[38;5;21mdriver\u001b[39m(\n\u001b[1;32m    173\u001b[0m     \u001b[38;5;28mcls\u001b[39m,\n\u001b[0;32m   (...)\u001b[0m\n\u001b[1;32m    177\u001b[0m     \u001b[38;5;241m*\u001b[39m\u001b[38;5;241m*\u001b[39mconfig\n\u001b[1;32m    178\u001b[0m ) \u001b[38;5;241m-\u001b[39m\u001b[38;5;241m>\u001b[39m Driver:\n\u001b[1;32m    179\u001b[0m \u001b[38;5;250m    \u001b[39m\u001b[38;5;124;03m\"\"\"Create a driver.\u001b[39;00m\n\u001b[1;32m    180\u001b[0m \n\u001b[1;32m    181\u001b[0m \u001b[38;5;124;03m    :param uri: the connection URI for the driver,\u001b[39;00m\n\u001b[0;32m   (...)\u001b[0m\n\u001b[1;32m    187\u001b[0m \u001b[38;5;124;03m        key-word arguments.\u001b[39;00m\n\u001b[1;32m    188\u001b[0m \u001b[38;5;124;03m    \"\"\"\u001b[39;00m\n\u001b[0;32m--> 190\u001b[0m     driver_type, security_type, parsed \u001b[38;5;241m=\u001b[39m \u001b[43mparse_neo4j_uri\u001b[49m\u001b[43m(\u001b[49m\u001b[43muri\u001b[49m\u001b[43m)\u001b[49m\n\u001b[1;32m    192\u001b[0m     \u001b[38;5;28;01mif\u001b[39;00m \u001b[38;5;129;01mnot\u001b[39;00m \u001b[38;5;28misinstance\u001b[39m(auth, AuthManager):\n\u001b[1;32m    193\u001b[0m         auth \u001b[38;5;241m=\u001b[39m AuthManagers\u001b[38;5;241m.\u001b[39mstatic(auth)\n",
      "File \u001b[0;32m~/miniconda3/envs/neo4j/lib/python3.12/site-packages/neo4j/api.py:510\u001b[0m, in \u001b[0;36mparse_neo4j_uri\u001b[0;34m(uri)\u001b[0m\n\u001b[1;32m    508\u001b[0m     security_type \u001b[38;5;241m=\u001b[39m SECURITY_TYPE_SECURE\n\u001b[1;32m    509\u001b[0m \u001b[38;5;28;01melse\u001b[39;00m:\n\u001b[0;32m--> 510\u001b[0m     \u001b[38;5;28;01mraise\u001b[39;00m ConfigurationError(\u001b[38;5;124m\"\u001b[39m\u001b[38;5;124mURI scheme \u001b[39m\u001b[38;5;132;01m{!r}\u001b[39;00m\u001b[38;5;124m is not supported. Supported URI schemes are \u001b[39m\u001b[38;5;132;01m{}\u001b[39;00m\u001b[38;5;124m. Examples: bolt://host[:port] or neo4j://host[:port][?routing_context]\u001b[39m\u001b[38;5;124m\"\u001b[39m\u001b[38;5;241m.\u001b[39mformat(\n\u001b[1;32m    511\u001b[0m         parsed\u001b[38;5;241m.\u001b[39mscheme,\n\u001b[1;32m    512\u001b[0m         [\n\u001b[1;32m    513\u001b[0m             URI_SCHEME_BOLT,\n\u001b[1;32m    514\u001b[0m             URI_SCHEME_BOLT_SELF_SIGNED_CERTIFICATE,\n\u001b[1;32m    515\u001b[0m             URI_SCHEME_BOLT_SECURE,\n\u001b[1;32m    516\u001b[0m             URI_SCHEME_NEO4J,\n\u001b[1;32m    517\u001b[0m             URI_SCHEME_NEO4J_SELF_SIGNED_CERTIFICATE,\n\u001b[1;32m    518\u001b[0m             URI_SCHEME_NEO4J_SECURE\n\u001b[1;32m    519\u001b[0m         ]\n\u001b[1;32m    520\u001b[0m     ))\n\u001b[1;32m    522\u001b[0m \u001b[38;5;28;01mreturn\u001b[39;00m driver_type, security_type, parsed\n",
      "\u001b[0;31mConfigurationError\u001b[0m: URI scheme 'htpps' is not supported. Supported URI schemes are ['bolt', 'bolt+ssc', 'bolt+s', 'neo4j', 'neo4j+ssc', 'neo4j+s']. Examples: bolt://host[:port] or neo4j://host[:port][?routing_context]"
     ]
    }
   ],
   "source": [
    "from src.queries import find_reactions_with_similar_product_compounds\n",
    "\n",
    "\n",
    "compound_id = \"cpd00069\"\n",
    "compound_name = [c for c in compounds if c[\"id\"] == compound_id][0][\"name\"]\n",
    "print(f\"Target compound: {compound_name}\")\n",
    "\n",
    "reactions = find_reactions_with_similar_product_compounds(\n",
    "    uri,username, password,\n",
    "    compound_id,\n",
    "    similarity_threshold=0.8,\n",
    "    limit=100\n",
    "    )\n",
    "reactions[0]\n"
   ]
  }
 ],
 "metadata": {
  "kernelspec": {
   "display_name": "neo4j",
   "language": "python",
   "name": "python3"
  },
  "language_info": {
   "codemirror_mode": {
    "name": "ipython",
    "version": 3
   },
   "file_extension": ".py",
   "mimetype": "text/x-python",
   "name": "python",
   "nbconvert_exporter": "python",
   "pygments_lexer": "ipython3",
   "version": "3.12.1"
  }
 },
 "nbformat": 4,
 "nbformat_minor": 2
}

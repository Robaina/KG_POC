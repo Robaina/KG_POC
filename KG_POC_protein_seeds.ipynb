{
 "cells": [
  {
   "cell_type": "code",
   "execution_count": 1,
   "metadata": {},
   "outputs": [],
   "source": [
    "from dotenv import load_dotenv\n",
    "import os\n",
    "\n",
    "from graph_db.db_connection import Neo4jConnection\n",
    "\n",
    "load_dotenv()\n",
    "uri = os.getenv(\"NEO4J_URI\")\n",
    "username = os.getenv(\"NEO4J_USERNAME\")\n",
    "password = os.getenv(\"NEO4J_PASSWORD\")\n",
    "\n",
    "results = {}"
   ]
  },
  {
   "cell_type": "code",
   "execution_count": 2,
   "metadata": {},
   "outputs": [],
   "source": [
    "query = \"\"\"\n",
    "MATCH (p:Protein)\n",
    "WHERE $ec_number IN p.ec_numbers\n",
    "OPTIONAL MATCH (m:Genome)-[:CONTAINS]->(p)\n",
    "OPTIONAL MATCH (m)-[:ORIGINATED_FROM]->(s:Sample)\n",
    "WHERE \n",
    "   ($min_temp IS NULL OR toFloat(s.temperature) >= $min_temp) AND\n",
    "   ($max_temp IS NULL OR toFloat(s.temperature) <= $max_temp) AND\n",
    "   ($min_lat IS NULL OR toFloat(s.latitude) >= $min_lat) AND\n",
    "   ($max_lat IS NULL OR toFloat(s.latitude) <= $max_lat) AND\n",
    "   ($min_lon IS NULL OR toFloat(s.longitude) >= $min_lon) AND\n",
    "   ($max_lon IS NULL OR toFloat(s.longitude) <= $max_lon)\n",
    "RETURN \n",
    "   p.protein_id AS protein_id,\n",
    "   p.name AS protein_name,\n",
    "   p.ec_numbers AS protein_ec_numbers,\n",
    "   m.genome_id AS genome_id,\n",
    "   m.gtdb_classification AS gtdb_classification,\n",
    "   s.biosample_id AS sample_id,\n",
    "   s.temperature AS sample_temperature,\n",
    "   s.depth AS sample_depth,\n",
    "   s.latitude AS sample_latitude,\n",
    "   s.longigute AS sample_longitude\n",
    "LIMIT $limit\"\"\"\n",
    "\n",
    "enzymes_dict = {\n",
    "    \"3.1.1.3\": \"Lipase\",\n",
    "    \"3.2.1.1\": \"Amylase\",\n",
    "    \"3.2.1.4\": \"Cellulase\",\n",
    "    \"3.4.21.62\": \"Serine Protease\",\n",
    "    \"3.2.1.23\": \"Lactase\",\n",
    "    \"3.2.1.8\": \"Xylanase\",\n",
    "    \"1.11.1.6\": \"Catalase\"\n",
    "}\n",
    "\n",
    "market_sizes = {\n",
    "    \"Xylanase\": 19100,\n",
    "    \"Serine Protease\": 3540,\n",
    "    \"Amylase\": 1840.8,\n",
    "    \"Cellulase\": 1685.8,\n",
    "    \"Lactase\": 1230,\n",
    "    \"Lipase\": 591,\n",
    "    \"Catalase\": 387.4\n",
    "}"
   ]
  },
  {
   "cell_type": "code",
   "execution_count": 3,
   "metadata": {},
   "outputs": [
    {
     "name": "stdout",
     "output_type": "stream",
     "text": [
      "Found 12300 results for Lipase (3.1.1.3)\n",
      "Found 4834 results for Amylase (3.2.1.1)\n",
      "Found 3551 results for Cellulase (3.2.1.4)\n",
      "Found 38 results for Serine Protease (3.4.21.62)\n",
      "Found 10183 results for Lactase (3.2.1.23)\n",
      "Found 6496 results for Xylanase (3.2.1.8)\n",
      "Found 7003 results for Catalase (1.11.1.6)\n"
     ]
    }
   ],
   "source": [
    "for ec_number, enzyme in enzymes_dict.items():\n",
    "\n",
    "   conn = Neo4jConnection(uri, username, password)\n",
    "   params = {\n",
    "      \"ec_number\": f\"{ec_number}\",\n",
    "      \"min_temp\": None,\n",
    "      \"max_temp\": None,\n",
    "      \"min_lat\": None,\n",
    "      \"max_lat\": None,\n",
    "      \"min_lon\": None,\n",
    "      \"max_lon\": None,\n",
    "      \"limit\": 50000\n",
    "   }\n",
    "\n",
    "   results[ec_number] = conn.query(query, params)\n",
    "   print(f\"Found {len(results[ec_number])} results for {enzyme} ({ec_number})\")"
   ]
  },
  {
   "cell_type": "markdown",
   "metadata": {},
   "source": [
    "### Save results to pickle file"
   ]
  },
  {
   "cell_type": "code",
   "execution_count": 4,
   "metadata": {},
   "outputs": [],
   "source": [
    "import pickle\n",
    "\n",
    "# Specify the file path where you want to save the pickle file\n",
    "pickle_file_path = 'outputs/results.pickle'\n",
    "\n",
    "# Save the results dictionary to the pickle file\n",
    "with open(pickle_file_path, 'wb') as file:\n",
    "    pickle.dump(results, file)"
   ]
  },
  {
   "cell_type": "code",
   "execution_count": 8,
   "metadata": {},
   "outputs": [
    {
     "data": {
      "text/plain": [
       "<Record protein_id='OceanDNA-b22900_00165_4' protein_name='manganese catalase [EC:1.11.1.6]' protein_ec_numbers='1.11.1.6' genome_id='OceanDNA-b22900' gtdb_classification='d__Bacteria;p__Planctomycetota;c__Planctomycetes;o__Planctomycetales;f__Planctomycetaceae;g__Gimesia;s__Gimesia maris' sample_id='SAMEA4397295' sample_temperature='-1.298837' sample_depth='35.0' sample_latitude='78.9343' sample_longitude='79.0758'>"
      ]
     },
     "execution_count": 8,
     "metadata": {},
     "output_type": "execute_result"
    }
   ],
   "source": [
    "r = results[\"1.11.1.6\"][-1]\n",
    "r"
   ]
  },
  {
   "cell_type": "code",
   "execution_count": 10,
   "metadata": {},
   "outputs": [
    {
     "data": {
      "text/plain": [
       "{'protein_id': 'OceanDNA-b22900_00165_4',\n",
       " 'protein_name': 'manganese catalase [EC:1.11.1.6]',\n",
       " 'protein_ec_numbers': '1.11.1.6',\n",
       " 'genome_id': 'OceanDNA-b22900',\n",
       " 'gtdb_classification': 'd__Bacteria;p__Planctomycetota;c__Planctomycetes;o__Planctomycetales;f__Planctomycetaceae;g__Gimesia;s__Gimesia maris',\n",
       " 'sample_id': 'SAMEA4397295',\n",
       " 'sample_temperature': '-1.298837',\n",
       " 'sample_depth': '35.0',\n",
       " 'sample_latitude': '78.9343',\n",
       " 'sample_longitude': '79.0758'}"
      ]
     },
     "execution_count": 10,
     "metadata": {},
     "output_type": "execute_result"
    }
   ],
   "source": [
    "r.data()"
   ]
  },
  {
   "cell_type": "code",
   "execution_count": 6,
   "metadata": {},
   "outputs": [],
   "source": [
    "import pandas as pd\n",
    "import matplotlib.pyplot as plt\n",
    "import seaborn as sns\n",
    "import geopandas as gpd\n",
    "import re\n",
    "\n",
    "\n",
    "def process_results(results):\n",
    "    processed_data = {}\n",
    "    for ec_number, query_results in results.items():\n",
    "        data = [result.data() for result in query_results]\n",
    "        df = pd.DataFrame(data)\n",
    "        \n",
    "        # Extract phylum from gtdb_classification if the column exists\n",
    "        if 'gtdb_classification' in df.columns:\n",
    "            df['phylum'] = df['gtdb_classification'].apply(lambda x: extract_phylum(x) if pd.notna(x) else 'Unknown')\n",
    "        else:\n",
    "            df['phylum'] = 'Unknown'\n",
    "        \n",
    "        # Convert numeric columns to float, if they exist\n",
    "        numeric_columns = ['sample_temperature', 'sample_depth', 'sample_latitude', 'sample_longitude']\n",
    "        for col in numeric_columns:\n",
    "            if col in df.columns:\n",
    "                df[col] = pd.to_numeric(df[col], errors='coerce')\n",
    "        \n",
    "        processed_data[ec_number] = df\n",
    "    \n",
    "    return processed_data\n",
    "\n",
    "def extract_phylum(classification_string):\n",
    "    try:\n",
    "        match = re.search(r'p__([^;]+)', classification_string)\n",
    "        return match.group(1) if match else 'Unknown'\n",
    "    except:\n",
    "        return 'Unknown'\n",
    "\n",
    "def plot_ec_number_statistics(processed_data, shp_file_path, enzymes_dict, market_sizes, base_font_size=12):\n",
    "\n",
    "    world = gpd.read_file(shp_file_path)\n",
    "\n",
    "    for ec_number, df in processed_data.items():\n",
    "        fig = plt.figure(figsize=(24, 8))  # Adjusted for single row layout\n",
    "        gs = fig.add_gridspec(2, 3, height_ratios=[0.1, 1])\n",
    "        \n",
    "        enzyme_name = enzymes_dict.get(ec_number, \"Unknown Enzyme\")\n",
    "        market_size = market_sizes.get(enzyme_name, \"N/A\")\n",
    "\n",
    "        # Title\n",
    "        fig.add_subplot(gs[0, :])\n",
    "        plt.axis('off')\n",
    "        plt.text(0.5, 0.5, f'Statistics for EC Number: {ec_number} - {enzyme_name}\\nTotal Hits: {len(df)} | Market Size (2023): ${market_size} million', \n",
    "                 fontsize=base_font_size*1.8, ha='center', va='center', fontweight='bold')\n",
    "\n",
    "        # Summary text\n",
    "        ax_summary = fig.add_subplot(gs[1, 0])\n",
    "        summary_text = f\"\"\"\n",
    "Enzyme: {enzyme_name}\n",
    "EC Number: {ec_number}\n",
    "Number of Hits: {len(df)}\n",
    "Market Size (2023): ${market_size} million\n",
    "\n",
    "Temperature Range: {df['sample_temperature'].min():.2f} to {df['sample_temperature'].max():.2f} °C\n",
    "Depth Range: {df['sample_depth'].min():.2f} to {df['sample_depth'].max():.2f} m\n",
    "Latitude Range: {df['sample_latitude'].min():.2f} to {df['sample_latitude'].max():.2f}\n",
    "Longitude Range: {df['sample_longitude'].min():.2f} to {df['sample_longitude'].max():.2f}\n",
    "\n",
    "Top 5 Phyla:\n",
    "{df['phylum'].value_counts().head().to_string()}\n",
    "\"\"\"\n",
    "        ax_summary.text(0.05, 0.95, summary_text, verticalalignment='top', fontsize=base_font_size*1.1, \n",
    "                        transform=ax_summary.transAxes, ha='left', va='top', linespacing=1.5)\n",
    "        ax_summary.axis('off')\n",
    "\n",
    "        # World map with sample locations\n",
    "        ax_map = fig.add_subplot(gs[1, 1])\n",
    "        world.plot(ax=ax_map, color='lightgrey', edgecolor='black')\n",
    "        ax_map.scatter(df['sample_longitude'], df['sample_latitude'], c='red', s=10, alpha=0.7)\n",
    "        ax_map.set_title('Sample Locations', fontsize=base_font_size*1.5)\n",
    "        ax_map.set_xlabel('Longitude', fontsize=base_font_size*1.2)\n",
    "        ax_map.set_ylabel('Latitude', fontsize=base_font_size*1.2)\n",
    "        ax_map.set_xlim(-180, 180)\n",
    "        ax_map.set_ylim(-90, 90)\n",
    "        ax_map.tick_params(labelsize=base_font_size)\n",
    "\n",
    "        # Phylum distribution\n",
    "        ax_pie = fig.add_subplot(gs[1, 2])\n",
    "        phylum_counts = df['phylum'].value_counts()\n",
    "        other_threshold = 0.02\n",
    "        other_mask = phylum_counts / phylum_counts.sum() < other_threshold\n",
    "        other_count = phylum_counts[other_mask].sum()\n",
    "        phylum_counts_grouped = phylum_counts[~other_mask]\n",
    "        phylum_counts_grouped['Other'] = other_count\n",
    "        wedges, texts, autotexts = ax_pie.pie(phylum_counts_grouped.values, \n",
    "                                              labels=phylum_counts_grouped.index, \n",
    "                                              autopct='%1.1f%%', \n",
    "                                              startangle=90, \n",
    "                                              textprops={'fontsize': base_font_size*0.8})\n",
    "        ax_pie.set_title('Phylum Distribution', fontsize=base_font_size*1.5)\n",
    "        \n",
    "        # Adjust legend for pie chart\n",
    "        plt.setp(autotexts, size=base_font_size*0.8, weight=\"bold\")\n",
    "        ax_pie.legend(wedges, phylum_counts_grouped.index,\n",
    "                      title=\"Phyla\",\n",
    "                      loc=\"center left\",\n",
    "                      bbox_to_anchor=(1, 0, 0.5, 1),\n",
    "                      fontsize=base_font_size*0.8)\n",
    "\n",
    "        plt.tight_layout()\n",
    "        plt.savefig(f'outputs/figures/ec_number_{ec_number}_statistics.png', dpi=300, bbox_inches='tight')\n",
    "        plt.close()\n",
    "\n",
    "\n",
    "# Main execution\n",
    "processed_data = process_results(results)\n",
    "plot_ec_number_statistics(\n",
    "    processed_data,\n",
    "    shp_file_path='data/maps/ne_110m_ocean/ne_110m_ocean.shp',\n",
    "    enzymes_dict=enzymes_dict,\n",
    "    market_sizes=market_sizes,\n",
    "    base_font_size=14\n",
    "    )"
   ]
  },
  {
   "cell_type": "markdown",
   "metadata": {},
   "source": [
    "## Candidate enzymes with high industrial relevance\n",
    "\n",
    "\n",
    "| Enzyme Name | EC | Main Usage | Market Size (USD Million) | Year | Industry | Source |\n",
    "|-------------|----|-----------|-----------------------------|------|----------|--------|\n",
    "| Xylanase | 3.2.1.8 | Baking industry, animal feed, paper and pulp industry | 19,100 | 2023 | Baking industry, animal feed, paper and pulp industry | [Cognitive Market Research](https://www.cognitivemarketresearch.com/xylanase-market-report) |\n",
    "| Serine Protease | 3.4.21.62 | Detergents, food processing, leather industry, pharmaceuticals | 3,540 | 2023 | Detergents, Food Processing, Pharmaceuticals, Animal Feed | [Mordor Intelligence](https://www.mordorintelligence.com/industry-reports/proteases-market/market-size) |\n",
    "| Amylase | 3.2.1.1 | Starch processing, baking, brewing, textile industry | 1,840.8 | 2023 | Food & Beverage, Detergents, Textiles | [Persistence Market Research](https://www.persistencemarketresearch.com/market-research/alpha-amylase-market.asp) |\n",
    "| Cellulase | 3.2.1.4 | Biofuel production, textile industry (stone-washing denim), paper and pulp industry | 1,685.8 | 2023 | Textiles, Biofuels, Paper & Pulp | [Future Market Insights](https://www.futuremarketinsights.com/reports/cellulase-market) |\n",
    "| Lactase | 3.2.1.23 | Dairy industry (lactose-free products), food and beverage | 1,230 | 2023 | Dairy industry (lactose-free products), food and beverage | [Global Market Insights](https://www.gminsights.com/industry-analysis/lactase-market) |\n",
    "| Lipase | 3.1.1.3 | Food industry (dairy, baking), detergents, biofuel production | 591 | 2023 | Detergents, Food Processing, Pharmaceuticals, Personal Care | [Global Market Insights](https://www.gminsights.com/industry-analysis/microbial-lipase-market) |\n",
    "| Catalase | 1.11.1.6 | Food preservation, textile industry (bleaching), cosmetics | 387.4 | 2022 | Food preservation, textile industry (bleaching), cosmetics | [Future Market Insights](https://www.futuremarketinsights.com/reports/catalase-market) |"
   ]
  }
 ],
 "metadata": {
  "kernelspec": {
   "display_name": "neo4j",
   "language": "python",
   "name": "python3"
  },
  "language_info": {
   "codemirror_mode": {
    "name": "ipython",
    "version": 3
   },
   "file_extension": ".py",
   "mimetype": "text/x-python",
   "name": "python",
   "nbconvert_exporter": "python",
   "pygments_lexer": "ipython3",
   "version": "3.12.1"
  }
 },
 "nbformat": 4,
 "nbformat_minor": 2
}

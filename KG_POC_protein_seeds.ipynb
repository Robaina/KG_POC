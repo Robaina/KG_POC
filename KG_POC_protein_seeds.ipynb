{
 "cells": [
  {
   "cell_type": "markdown",
   "metadata": {},
   "source": [
    "# Use the KG to identify seed protein candidates for ProtEvoPy\n",
    "\n",
    "Objective: Use the KG to identify seed protein candidates for ProtEvoPy based on EC numbers, substrates, and environmental metadata. Once the list of seed protein candidates is retrieved, we can further filter the list, for instance, we could maximize sequence diversity by running CD-HIT on the sequences or maximize taxonomic diversity by selecting proteins from different taxonomic groups.\n",
    "\n",
    "__NOTE__:\n",
    "\n",
    "The KG will not store actual sequences but only sequence IDs. Sequences will be retrieved from our internal sequence database based on the sequence IDs.\n",
    "\n",
    "### Example queries (illustrative)\n",
    "\n",
    "1. __EC number-based query with optional environmental filters__\n",
    "\n",
    "This query searches for proteins that have a specific EC number in their list of EC numbers and allows for optional filtering based on environmental parameters (temperature, salinity) and geographical location. It returns the matching proteins along with their associated GENOMEs and sample information.\n",
    "\n",
    "```sql\n",
    "MATCH (p:Protein)-[:CATALYZES]->(r:Reaction)\n",
    "WHERE $ecNumber IN p.ec_numbers\n",
    "OPTIONAL MATCH (m:GENOME)-[:CONTAINS]->(p)\n",
    "OPTIONAL MATCH (m)-[:ORIGINATED_FROM]->(s:Samples)\n",
    "WHERE \n",
    "  ($minTemp IS NULL OR s.temperature >= $minTemp) AND\n",
    "  ($maxTemp IS NULL OR s.temperature <= $maxTemp) AND\n",
    "  ($minSalinity IS NULL OR s.salinity >= $minSalinity) AND\n",
    "  ($maxSalinity IS NULL OR s.salinity <= $maxSalinity) AND\n",
    "  ($minLat IS NULL OR s.latitude >= $minLat) AND\n",
    "  ($maxLat IS NULL OR s.latitude <= $maxLat) AND\n",
    "  ($minLon IS NULL OR s.longitude >= $minLon) AND\n",
    "  ($maxLon IS NULL OR s.longitude <= $maxLon)\n",
    "RETURN p, m, s\n",
    "LIMIT 1000\n",
    "```\n",
    "\n",
    "__Example output__\n",
    "\n",
    "This is just an illustrative (not real) example of the output format. The actual output will depend on the data in the KG.\n",
    "\n",
    "EC number-based query output (for EC 3.2.1.1 - alpha-amylase):\n",
    "\n",
    "| Protein ID | Protein Name | EC Numbers | MAG ID | MAG Division | GTDB Classification | Sample Name | Temperature (°C) | Salinity (PSU) | Depth (m) | Latitude | Longitude |\n",
    "|------------|--------------|------------|--------|--------------|---------------------|-------------|------------------|----------------|-----------|----------|-----------|\n",
    "| P001 | Alpha-amylase | 3.2.1.1 | MAG001 | Bacteria | d__Bacteria;<br>p__Proteobacteria;<br>c__Gammaproteobacteria;<br>o__Enterobacterales;<br>f__Enterobacteriaceae;<br>g__Escherichia;<br>s__Escherichia coli | OceanSample001 | 15.2 | 35.1 | 100.5 | 40.7128 | -74.0060 |\n",
    "| P002 | Alpha-<br>glucosidase | 3.2.1.1,<br>3.2.1.20 | MAG002 | Bacteria | d__Bacteria;<br>p__Firmicutes;<br>c__Bacilli;<br>o__Bacillales;<br>f__Bacillaceae;<br>g__Bacillus;<br>s__Bacillus subtilis | OceanSample002 | 18.7 | 34.8 | 50.2 | 34.0522 | -118.2437 |\n",
    "\n",
    "<br>\n",
    "\n",
    "2. __SMILES similarity-based query with optional environmental filters__\n",
    "\n",
    "This query finds compounds similar to a target compound (based on pre-computed SMILES similarity), then retrieves the proteins that catalyze reactions involving these similar compounds. It allows for optional filtering based on environmental parameters and geographical location. The results are ordered by chemical similarity and include the proteins, similar compounds, similarity scores, associated GENOMEs, and sample information.\n",
    "\n",
    "```sql\n",
    "MATCH (target:Compound {smiles: $targetSmiles})\n",
    "MATCH (target)-[sim:CHEMICALLY_SIMILAR]->(c:Compound)-[:SUBSTRATE_OF]->(r:Reaction)<-[:CATALYZES]-(p:Protein)\n",
    "WHERE sim.similarity >= $similarityThreshold\n",
    "OPTIONAL MATCH (m:GENOME)-[:CONTAINS]->(p)\n",
    "OPTIONAL MATCH (m)-[:ORIGINATED_FROM]->(s:Samples)\n",
    "WHERE \n",
    "  ($minTemp IS NULL OR s.temperature >= $minTemp) AND\n",
    "  ($maxTemp IS NULL OR s.temperature <= $maxTemp) AND\n",
    "  ($minSalinity IS NULL OR s.salinity >= $minSalinity) AND\n",
    "  ($maxSalinity IS NULL OR s.salinity <= $maxSalinity) AND\n",
    "  ($minLat IS NULL OR s.latitude >= $minLat) AND\n",
    "  ($maxLat IS NULL OR s.latitude <= $maxLat) AND\n",
    "  ($minLon IS NULL OR s.longitude >= $minLon) AND\n",
    "  ($maxLon IS NULL OR s.longitude <= $maxLon)\n",
    "RETURN p, c, sim.similarity AS similarity, m, s\n",
    "ORDER BY similarity DESC\n",
    "LIMIT 1000\n",
    "```\n",
    "\n",
    "__Example output__\n",
    "\n",
    "This is just an illustrative (not real) example of the output format. The actual output will depend on the data in the KG.\n",
    "\n",
    "SMILES similarity-based query output (for target compound CCO - ethanol):\n",
    "\n",
    "| Protein ID | Protein Name | EC Numbers | Compound ID | Compound Name | SMILES | Similarity | MAG ID | MAG Division | GTDB Classification | Sample Name | Temperature (°C) | Salinity (PSU) | Depth (m) | Latitude | Longitude |\n",
    "|------------|--------------|------------|-------------|---------------|--------|------------|--------|--------------|---------------------|-------------|------------------|----------------|-----------|----------|-----------|\n",
    "| P003 | Alcohol<br>dehydrogenase | 1.1.1.1 | C001 | Ethanol | CCO | 1.00 | MAG003 | Bacteria | d__Bacteria;<br>p__Actinobacteria;<br>c__Actinobacteria;<br>o__Corynebacteriales;<br>f__Mycobacteriaceae;<br>g__Mycobacterium;<br>s__Mycobacterium smegmatis | OceanSample003 | 22.1 | 33.9 | 10.5 | 51.5074 | -0.1278 |\n",
    "| P004 | Methanol<br>dehydrogenase | 1.1.1.244 | C002 | Methanol | CO | 0.88 | MAG004 | Bacteria | d__Bacteria;<br>p__Proteobacteria;<br>c__Alphaproteobacteria;<br>o__Rhizobiales;<br>f__Methylobacteriaceae;<br>g__Methylobacterium;<br>s__Methylobacterium extorquens | OceanSample004 | 20.5 | 35.2 | 75.8 | 48.8566 | 2.3522 |"
   ]
  },
  {
   "cell_type": "markdown",
   "metadata": {},
   "source": [
    "## Computing tanimoto distances for ModelSeed compounds"
   ]
  },
  {
   "cell_type": "code",
   "execution_count": 8,
   "metadata": {},
   "outputs": [
    {
     "name": "stdout",
     "output_type": "stream",
     "text": [
      "Computed 130661695 pairwise distances\n"
     ]
    }
   ],
   "source": [
    "from src.distances import compute_fingerprint_distances\n",
    "from src.utils import extract_data\n",
    "\n",
    "\n",
    "reactions_path = \"/home/robaina/Documents/NewAtlantis/enzyme_activity/notebooks/data/annotations/modelseed/reactions.json\"\n",
    "compounds_path = \"/home/robaina/Documents/NewAtlantis/enzyme_activity/notebooks/data/annotations/modelseed/compounds.json\"\n",
    "\n",
    "n = None\n",
    "reactions, compounds = extract_data(reactions_path, compounds_path, n)\n",
    "\n",
    "distances = compute_fingerprint_distances(compounds, n_jobs=12)\n",
    "print(f\"Computed {len(distances)} pairwise distances\")"
   ]
  },
  {
   "cell_type": "code",
   "execution_count": 18,
   "metadata": {},
   "outputs": [
    {
     "name": "stdout",
     "output_type": "stream",
     "text": [
      "Stored 130661695 pairwise distances in outputs/distances.parquet\n"
     ]
    }
   ],
   "source": [
    "from src.distances import store_distances_parquet\n",
    "\n",
    "distance_file = \"outputs/distances.parquet\"\n",
    "store_distances_parquet(distances, distance_file)"
   ]
  },
  {
   "cell_type": "code",
   "execution_count": 20,
   "metadata": {},
   "outputs": [
    {
     "name": "stdout",
     "output_type": "stream",
     "text": [
      "Distance between COMP1 and COMP2: 1.0\n"
     ]
    }
   ],
   "source": [
    "from src.distances import read_distance_parquet\n",
    "\n",
    "distance = read_distance_parquet(distance_file, \"cpd00001\", \"cpd00002\")\n",
    "print(f\"Distance between COMP1 and COMP2: {distance}\")"
   ]
  },
  {
   "cell_type": "markdown",
   "metadata": {},
   "source": [
    "## Notes\n",
    "\n",
    "1. RDKIT chemical similarity function: https://github.com/rdkit/rdkit-orig/blob/57058c886a49cc597b0c40641a28697ee3a57aee/rdkit/DataStructs/__init__.py#L31"
   ]
  }
 ],
 "metadata": {
  "kernelspec": {
   "display_name": "neo4j",
   "language": "python",
   "name": "python3"
  },
  "language_info": {
   "codemirror_mode": {
    "name": "ipython",
    "version": 3
   },
   "file_extension": ".py",
   "mimetype": "text/x-python",
   "name": "python",
   "nbconvert_exporter": "python",
   "pygments_lexer": "ipython3",
   "version": "3.12.1"
  }
 },
 "nbformat": 4,
 "nbformat_minor": 2
}

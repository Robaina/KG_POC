{
 "cells": [
  {
   "cell_type": "code",
   "execution_count": 1,
   "id": "e5cc103b-a49d-4f6b-a1e9-d8b1850bf7aa",
   "metadata": {
    "tags": []
   },
   "outputs": [
    {
     "name": "stdout",
     "output_type": "stream",
     "text": [
      "Assumed role successfully.\n"
     ]
    }
   ],
   "source": [
    "import csv\n",
    "from src.session import get_assumed_session\n",
    "\n",
    "aws_role = \"data-science-role-prod\"\n",
    "access_key_id = \"\"\n",
    "secret_access_key = \"\"\n",
    "with open('keys/semidan_accessKeys.csv', 'r', encoding='utf-8-sig') as file:\n",
    "    reader = csv.DictReader(file)\n",
    "    for row in reader:\n",
    "        access_key_id = row['Access key ID']\n",
    "        secret_access_key = row['Secret access key']\n",
    "\n",
    "# Assume the role and get a session\n",
    "role_arn = f\"arn:aws:iam::051581800907:role/{aws_role}\"\n",
    "role_session_name = \"AssumeRoleSession\"\n",
    "region_name = \"us-west-2\"\n",
    "\n",
    "# Change file path and s3_key but keep the same bucket name\n",
    "assumed_session = get_assumed_session(role_arn, role_session_name, region_name, access_key_id, secret_access_key)\n",
    "s3_client = assumed_session.client('s3')"
   ]
  },
  {
   "cell_type": "code",
   "execution_count": 2,
   "id": "b7b75fcd-b76a-4c82-872d-8f30d3ef3fe0",
   "metadata": {
    "tags": []
   },
   "outputs": [
    {
     "name": "stdout",
     "output_type": "stream",
     "text": [
      "Microbiomics_BGC_dataset_test.csv\n",
      "compounds.json\n",
      "export.cypher\n",
      "export_data.csv\n",
      "jolespin_table_upload/OceanDNA.metadata.bgc.kg.tsv.gz\n",
      "jolespin_table_upload/OceanDNA.metadata.biosamples.kg-placeholder.tsv.gz\n",
      "jolespin_table_upload/OceanDNA.metadata.genomes.kg.tsv\n",
      "jolespin_table_upload/OceanDNA.metadata.proteins.kg.tsv.gz\n",
      "modelSEED/compound_distances.csv.gz\n",
      "modelSEED/compound_distances.parquet\n",
      "modelSEED/compound_similarities.parquet\n",
      "modelSEED/filtered_compounds.json\n",
      "modelSEED/filtered_reactions.json\n",
      "oceandna_bgc_catalog.tsv\n",
      "oceandna_mags_taxonomy.tsv\n",
      "oceandna_samples_metadata.tsv\n",
      "reactions.json\n",
      "relationships and properties.csv\n"
     ]
    }
   ],
   "source": [
    "# List all files in the bucket\n",
    "bucket_name = 'newatlantis-kg-data-prod'\n",
    "\n",
    "response = s3_client.list_objects_v2(Bucket=bucket_name)\n",
    "if 'Contents' in response:\n",
    "    for obj in response['Contents']:\n",
    "        print(obj['Key'])\n",
    "else:\n",
    "    print(\"No files found in the bucket.\")"
   ]
  },
  {
   "cell_type": "markdown",
   "id": "558002b4-4ed7-4153-b09f-679bf99b8819",
   "metadata": {},
   "source": [
    "## Check EC number annotations in protein data"
   ]
  },
  {
   "cell_type": "code",
   "execution_count": 4,
   "id": "8f0d7e48-2a7f-4570-ad57-8b61ee03b722",
   "metadata": {
    "tags": []
   },
   "outputs": [
    {
     "name": "stdout",
     "output_type": "stream",
     "text": [
      "Line 1: protein_id\tcontig_id\tgenome_id\tkegg_ortholog_id\tname\tenzymes\n",
      "Line 2: OceanDNA-b36493_00101_4\tOceanDNA-b36493_00101\tOceanDNA-b36493\tK00001\talcohol dehydrogenase [EC:1.1.1.1]\t{'1.1.1.1'}\n",
      "Line 3: OceanDNA-b36526_00005_18\tOceanDNA-b36526_00005\tOceanDNA-b36526\tK00001\talcohol dehydrogenase [EC:1.1.1.1]\t{'1.1.1.1'}\n",
      "Line 4: OceanDNA-b22918_00036_5\tOceanDNA-b22918_00036\tOceanDNA-b22918\tK00001\talcohol dehydrogenase [EC:1.1.1.1]\t{'1.1.1.1'}\n",
      "Line 5: OceanDNA-b32316_00111_4\tOceanDNA-b32316_00111\tOceanDNA-b32316\tK00001\talcohol dehydrogenase [EC:1.1.1.1]\t{'1.1.1.1'}\n",
      "Line 6: OceanDNA-b8055_00095_3\tOceanDNA-b8055_00095\tOceanDNA-b8055\tK00001\talcohol dehydrogenase [EC:1.1.1.1]\t{'1.1.1.1'}\n",
      "Line 7: OceanDNA-b38295_00203_5\tOceanDNA-b38295_00203\tOceanDNA-b38295\tK00001\talcohol dehydrogenase [EC:1.1.1.1]\t{'1.1.1.1'}\n",
      "Line 8: OceanDNA-b11251_00002_6\tOceanDNA-b11251_00002\tOceanDNA-b11251\tK00001\talcohol dehydrogenase [EC:1.1.1.1]\t{'1.1.1.1'}\n",
      "Line 9: OceanDNA-b32434_00004_113\tOceanDNA-b32434_00004\tOceanDNA-b32434\tK00001\talcohol dehydrogenase [EC:1.1.1.1]\t{'1.1.1.1'}\n",
      "Line 10: OceanDNA-b31302_00015_29\tOceanDNA-b31302_00015\tOceanDNA-b31302\tK00001\talcohol dehydrogenase [EC:1.1.1.1]\t{'1.1.1.1'}\n"
     ]
    }
   ],
   "source": [
    "import boto3\n",
    "import gzip\n",
    "import io\n",
    "\n",
    "def read_first_n_lines(s3_client, bucket_name, file_key, n=10):\n",
    "    # Create S3 client using the provided session\n",
    "    s3 = s3_client\n",
    "    \n",
    "    # Get the object from S3\n",
    "    obj = s3.get_object(Bucket=bucket_name, Key=file_key)\n",
    "    \n",
    "    # Read the content of the file\n",
    "    with gzip.GzipFile(fileobj=io.BytesIO(obj['Body'].read())) as gzipfile:\n",
    "        lines = []\n",
    "        for _ in range(n):\n",
    "            line = gzipfile.readline().decode('utf-8').strip()\n",
    "            if not line:\n",
    "                break\n",
    "            lines.append(line)\n",
    "    \n",
    "    return lines\n",
    "\n",
    "\n",
    "\n",
    "bucket_name = 'newatlantis-kg-data-prod'\n",
    "file_key = 'jolespin_table_upload/OceanDNA.metadata.proteins.kg.tsv.gz'\n",
    "n = 10\n",
    "\n",
    "first_n_lines = read_first_n_lines(s3_client, bucket_name, file_key, n)\n",
    "\n",
    "for i, line in enumerate(first_n_lines, 1):\n",
    "    print(f\"Line {i}: {line}\")"
   ]
  },
  {
   "cell_type": "markdown",
   "id": "431f6041-0c4c-4374-9c73-045805d4bb05",
   "metadata": {},
   "source": [
    "## Try to find proteins with more than one assigned ec number"
   ]
  },
  {
   "cell_type": "code",
   "execution_count": 5,
   "id": "7d3a3d5d-bc2f-40ff-8c3f-68f9435527ae",
   "metadata": {
    "tags": []
   },
   "outputs": [
    {
     "name": "stdout",
     "output_type": "stream",
     "text": [
      "First row with multiple EC numbers (line 303):\n",
      "OceanDNA-b40955_00050_5\tOceanDNA-b40955_00050\tOceanDNA-b40955\tK00004\t(R,R)-butanediol dehydrogenase / meso-butanediol dehydrogenase / diacetyl reductase [EC:1.1.1.4 1.1.1.- 1.1.1.303]\t{'1.1.1.4', '1.1.1.-', '1.1.1.303'}\n"
     ]
    }
   ],
   "source": [
    "import boto3\n",
    "import gzip\n",
    "import io\n",
    "import ast\n",
    "\n",
    "def find_first_multiple_ec(s3_client, bucket_name, file_key):\n",
    "    s3 = s3_client\n",
    "    obj = s3.get_object(Bucket=bucket_name, Key=file_key)\n",
    "    \n",
    "    with gzip.GzipFile(fileobj=io.BytesIO(obj['Body'].read())) as gzipfile:\n",
    "        # Skip the header\n",
    "        next(gzipfile)\n",
    "        \n",
    "        for line_number, line in enumerate(gzipfile, 2):  # Start from 2 to account for header\n",
    "            decoded_line = line.decode('utf-8').strip()\n",
    "            fields = decoded_line.split('\\t')\n",
    "            \n",
    "            if len(fields) >= 6:  # Ensure we have enough fields\n",
    "                enzymes_str = fields[5]\n",
    "                try:\n",
    "                    enzymes_set = ast.literal_eval(enzymes_str)\n",
    "                    if isinstance(enzymes_set, set) and len(enzymes_set) > 1:\n",
    "                        return line_number, decoded_line\n",
    "                except (ValueError, SyntaxError):\n",
    "                    # If we can't evaluate the string as a set, skip this line\n",
    "                    continue\n",
    "    \n",
    "    return None, None  # If no matching row is found\n",
    "\n",
    "\n",
    "bucket_name = 'newatlantis-kg-data-prod'\n",
    "file_key = 'jolespin_table_upload/OceanDNA.metadata.proteins.kg.tsv.gz'\n",
    "\n",
    "line_number, line = find_first_multiple_ec(s3_client, bucket_name, file_key)\n",
    "\n",
    "if line_number:\n",
    "    print(f\"First row with multiple EC numbers (line {line_number}):\")\n",
    "    print(line)\n",
    "else:\n",
    "    print(\"No row with multiple EC numbers found.\")"
   ]
  },
  {
   "cell_type": "markdown",
   "id": "e691d3d9-06b3-4174-8f5b-f58212ef83b0",
   "metadata": {},
   "source": [
    "## Retrieve proteins sequences from IDs"
   ]
  },
  {
   "cell_type": "code",
   "execution_count": null,
   "id": "8a79a90d-58b3-477b-b7e2-71445f7a408b",
   "metadata": {},
   "outputs": [],
   "source": [
    "from src.databases import group_by_mag, retrieve_sequences\n",
    "\n",
    "# protein_ids = read_protein_ids(protein_ids_file)\n",
    "faa_dir = \"/home/ec2-user/SageMaker/efs/sandbox/sandbox/development/jolespin/EC2_WorkingDirectory/science/Databases/NewAtlantisPlanktonic/Sources/OceanDNA/Genomes/Prokaryotic/\"\n",
    "output_file = \"example.faa\"\n",
    "protein_ids = [\"OceanDNA-b45352_00001_1\", \"OceanDNA-b22900_00165_4\"]\n",
    "\n",
    "mag_groups = group_by_mag(protein_ids)\n",
    "\n",
    "retrieve_sequences(faa_dir, mag_groups, output_file)"
   ]
  }
 ],
 "metadata": {
  "kernelspec": {
   "display_name": "conda_python3",
   "language": "python",
   "name": "conda_python3"
  },
  "language_info": {
   "codemirror_mode": {
    "name": "ipython",
    "version": 3
   },
   "file_extension": ".py",
   "mimetype": "text/x-python",
   "name": "python",
   "nbconvert_exporter": "python",
   "pygments_lexer": "ipython3",
   "version": "3.10.14"
  }
 },
 "nbformat": 4,
 "nbformat_minor": 5
}

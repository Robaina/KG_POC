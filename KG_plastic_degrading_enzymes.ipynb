{
 "cells": [
  {
   "cell_type": "markdown",
   "metadata": {},
   "source": [
    "## Ranking plastic-degrading enzymes in our database\n",
    "\n",
    "Directed evolution optimization of plastic-degrading enzymes (wetlab): https://academic.oup.com/peds/article/doi/10.1093/protein/gzae009/7666632\n",
    "\n",
    "### Candidate substrate analogs for computational docking simulations\n",
    "\n",
    "\n",
    "| **Plastic Type** | **Substrate Analog** | **Description** | **References** |\n",
    "|------------------|----------------------|------------------|-----------------|\n",
    "| PET              | 2-hydroxyethyl terephthalate (BHET) | A monomer derived from PET, often used in studies for PET degradation. | [1](https://pmc.ncbi.nlm.nih.gov/articles/PMC10386651/) |\n",
    "|                  | Ethylene glycol bis(4-nitrobenzoate) | A compound that mimics the structure of PET for enzyme interaction studies. | [2](https://pubmed.ncbi.nlm.nih.gov/33485228/) |\n",
    "| PE               | Short-chain alkanes (e.g., hexane, octane) | Simple hydrocarbons that can represent polyethylene structures. | [3](https://pmc.ncbi.nlm.nih.gov/articles/PMC11091475/) |\n",
    "|                  | Polyethylene oligomers (2-4 repeating units) | Oligomers that closely resemble the polymer backbone of PE. | [4](https://academic.oup.com/peds/article/doi/10.1093/protein/gzae009/7666632?login=false) |\n",
    "| PLA              | Lactic acid dimer | A dimer of lactic acid, representing a basic building block of PLA. | [1](https://pmc.ncbi.nlm.nih.gov/articles/PMC10386651/) |\n",
    "|                  | Oligomers of lactic acid (2-4 units) | Short chains that mimic PLA's structure for docking studies. | [5](https://engineering.esteco.com/blog/simulation-plastic-waste-recycling) |\n",
    "| PHB              | 3-hydroxybutyrate dimer | Represents the basic repeating unit of PHB for enzymatic studies. | [1](https://pmc.ncbi.nlm.nih.gov/articles/PMC10386651/) |\n",
    "|                  | 3-hydroxybutyrate trimer | A trimer that provides a slightly larger substrate model. | [2](https://pubmed.ncbi.nlm.nih.gov/33485228/) |\n",
    "| PCL              | ε-caprolactone monomer | The monomer used to synthesize PCL, useful for enzyme interaction studies. | [3](https://pmc.ncbi.nlm.nih.gov/articles/PMC11091475/) |\n",
    "|                  | ε-caprolactone dimer | A dimer that can represent the polymer chain in docking simulations. | [4](https://academic.oup.com/peds/article/doi/10.1093/protein/gzae009/7666632?login=false) |\n",
    "| PU               | 4,4'-methylenediphenyl diisocyanate (MDI) | A common precursor in polyurethane production and useful for binding studies. | [1](https://pmc.ncbi.nlm.nih.gov/articles/PMC10386651/) |\n",
    "|                  | Diphenylmethane-4,4'-diisocyanate | Another isocyanate used in PU synthesis, relevant for enzyme interactions. | [5](https://engineering.esteco.com/blog/simulation-plastic-waste-recycling) |\n",
    "| Nylon            | Caprolactam (for Nylon 6)  | The monomer for Nylon 6, useful for modeling degradation pathways.  | [1](https://pmc.ncbi.nlm.nih.gov/articles/PMC10386651/) |\n",
    "|                  | Adipic acid and hexamethylenediamine (for Nylon 6,6)  | Building blocks for Nylon 6,6, useful in enzyme docking studies.  | [2](https://pubmed.ncbi.nlm.nih.gov/33485228/) |\n",
    "| PVA              | Short oligomers of vinyl alcohol (2-4 units)  | Simulated substrates representing PVA chains for docking studies.  | [3](https://pmc.ncbi.nlm.nih.gov/articles/PMC11091475/) |\n",
    "|                  | Ethylene glycol as a simplified analog  | Represents the structure of PVA and can be used in modeling interactions.  | [4](https://academic.oup.com/peds/article/doi/10.1093/protein/gzae009/7666632?login=false) |\n",
    "| PS               | Styrene dimer  | A simple model representing polystyrene's structure for docking studies.  | [1](https://pmc.ncbi.nlm.nih.gov/articles/PMC10386651/) |\n",
    "|                  | Short oligomers of styrene (2-4 units)  | Mimics the polystyrene polymer chain for enzyme interaction studies.  | [5](https://engineering.esteco.com/blog/simulation-plastic-waste-recycling) |\n",
    "| PP               | Short-chain alkanes with methyl side groups  | Represents polypropylene's structure in simplified models for simulations.  | [1](https://pmc.ncbi.nlm.nih.gov/articles/PMC10386651/) |\n",
    "|                  | Propylene oligomers (2-4 units)  | Useful analogs to study interactions with degrading enzymes.  | [2](https://pubmed.ncbi.nlm.nih.gov/33485228/) |\n",
    "\n",
    "This table organizes substrate analogs suitable for computational docking simulations based on various plastic types and includes references for further reading on each substrate's relevance and application in enzymatic degradation studies.\n",
    "\n",
    "Citations:\n",
    "[1] https://pmc.ncbi.nlm.nih.gov/articles/PMC10386651/\n",
    "[2] https://pubmed.ncbi.nlm.nih.gov/33485228/\n",
    "[3] https://pmc.ncbi.nlm.nih.gov/articles/PMC11091475/\n",
    "[4] https://academic.oup.com/peds/article/doi/10.1093/protein/gzae009/7666632?login=false\n",
    "[5] https://engineering.esteco.com/blog/simulation-plastic-waste-recycling/\n",
    "[6] https://www.nature.com/articles/s41467-024-45662-9\n",
    "[7] https://pmc.ncbi.nlm.nih.gov/articles/PMC9143596/\n",
    "[8] https://www.nature.com/articles/s41467-024-49146-8"
   ]
  },
  {
   "cell_type": "code",
   "execution_count": 5,
   "metadata": {},
   "outputs": [
    {
     "data": {
      "text/plain": [
       "array(['PHB', 'PHA', 'PHO', 'PCL', 'PVA', 'PU', 'PPL', 'P3HP', 'P4HB',\n",
       "       'PEA', 'PES', 'O-PVA', 'PBS', 'PLA', 'P(3HB-co-3MP)', 'PEG',\n",
       "       'PHBV', 'PHPV', 'Nylon', 'PBSA', 'PET', 'PE', 'PBS-Blend',\n",
       "       'PBSA-Blend', 'P3HV', 'PBAT', 'PMCL', 'PEF', 'LDPE', 'PS', 'NR',\n",
       "       'PC', 'PVC Blend', 'PU Blend', 'PBSTIL', 'HDPE', 'PHBH', 'PHC',\n",
       "       'PTS', 'PVC', 'PETG', 'PP', 'PBS Blend', 'PCL Blend', 'PS Blend',\n",
       "       'PLA Blend', 'Treated-HDPE', 'O-PE', 'PSS', 'PBST55', 'PE Blend',\n",
       "       'LDPE Blend', 'P34HB', 'PHA Blend', 'PHN', 'LLDPE', 'PTC',\n",
       "       'PVA Blend', 'LLDPE Blend', 'PBAT-Blend', 'PHV', 'PEC', 'PBSeT',\n",
       "       'Ecovio-FT', 'P(3HB-co-3HV)', 'P(3HV-co-4HB)', 'PHBVH',\n",
       "       'PHB-Blend', 'P(3HB-co-4HB)', 'P(3HB-co-HV)'], dtype=object)"
      ]
     },
     "execution_count": 5,
     "metadata": {},
     "output_type": "execute_result"
    }
   ],
   "source": [
    "import pandas as pd \n",
    "\n",
    "\n",
    "df = pd.read_csv(\"data/degraders_list.tsv\", sep=\"\\t\")\n",
    "df.Plastic.unique()"
   ]
  }
 ],
 "metadata": {
  "kernelspec": {
   "display_name": "proteus-dev",
   "language": "python",
   "name": "python3"
  },
  "language_info": {
   "codemirror_mode": {
    "name": "ipython",
    "version": 3
   },
   "file_extension": ".py",
   "mimetype": "text/x-python",
   "name": "python",
   "nbconvert_exporter": "python",
   "pygments_lexer": "ipython3",
   "version": "3.9.15"
  }
 },
 "nbformat": 4,
 "nbformat_minor": 2
}

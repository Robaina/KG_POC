{
 "cells": [
  {
   "cell_type": "markdown",
   "metadata": {},
   "source": [
    "# Use the KG to identify seed protein candidates for Proteus\n",
    "\n",
    "Objective: Use the KG to identify seed protein candidates for Proteus based on EC numbers, substrates, and environmental metadata. Once the list of seed protein candidates is retrieved, we can further filter the list, for instance, we could maximize sequence diversity by running CD-HIT on the sequences or maximize taxonomic diversity by selecting proteins from different taxonomic groups.\n",
    "\n",
    "__NOTE__:\n",
    "\n",
    "The KG will not store actual sequences but only sequence IDs. Sequences will be retrieved from our internal sequence database based on the sequence IDs.\n",
    "\n",
    "### Example queries (illustrative)\n",
    "\n",
    "1. __EC number-based query with optional environmental filters__\n",
    "\n",
    "This query searches for proteins that have a specific EC number in their list of EC numbers and allows for optional filtering based on environmental parameters (temperature, salinity) and geographical location. It returns the matching proteins along with their associated GENOMEs and sample information.\n",
    "\n",
    "```sql\n",
    "MATCH (p:Protein)-[:CATALYZES]->(r:Reaction)\n",
    "WHERE $ecNumber IN p.ec_numbers\n",
    "OPTIONAL MATCH (m:GENOME)-[:CONTAINS]->(p)\n",
    "OPTIONAL MATCH (m)-[:ORIGINATED_FROM]->(s:Samples)\n",
    "WHERE \n",
    "  ($minTemp IS NULL OR s.temperature >= $minTemp) AND\n",
    "  ($maxTemp IS NULL OR s.temperature <= $maxTemp) AND\n",
    "  ($minSalinity IS NULL OR s.salinity >= $minSalinity) AND\n",
    "  ($maxSalinity IS NULL OR s.salinity <= $maxSalinity) AND\n",
    "  ($minLat IS NULL OR s.latitude >= $minLat) AND\n",
    "  ($maxLat IS NULL OR s.latitude <= $maxLat) AND\n",
    "  ($minLon IS NULL OR s.longitude >= $minLon) AND\n",
    "  ($maxLon IS NULL OR s.longitude <= $maxLon)\n",
    "RETURN p, m, s\n",
    "LIMIT 1000\n",
    "```\n",
    "\n",
    "__Example output__\n",
    "\n",
    "This is just an illustrative (not real) example of the output format. The actual output will depend on the data in the KG.\n",
    "\n",
    "EC number-based query output (for EC 3.2.1.1 - alpha-amylase):\n",
    "\n",
    "| Protein ID | Protein Name | EC Numbers | MAG ID | MAG Division | GTDB Classification | Sample Name | Temperature (°C) | Salinity (PSU) | Depth (m) | Latitude | Longitude |\n",
    "|------------|--------------|------------|--------|--------------|---------------------|-------------|------------------|----------------|-----------|----------|-----------|\n",
    "| P001 | Alpha-amylase | 3.2.1.1 | MAG001 | Bacteria | d__Bacteria;<br>p__Proteobacteria;<br>c__Gammaproteobacteria;<br>o__Enterobacterales;<br>f__Enterobacteriaceae;<br>g__Escherichia;<br>s__Escherichia coli | OceanSample001 | 15.2 | 35.1 | 100.5 | 40.7128 | -74.0060 |\n",
    "| P002 | Alpha-<br>glucosidase | 3.2.1.1,<br>3.2.1.20 | MAG002 | Bacteria | d__Bacteria;<br>p__Firmicutes;<br>c__Bacilli;<br>o__Bacillales;<br>f__Bacillaceae;<br>g__Bacillus;<br>s__Bacillus subtilis | OceanSample002 | 18.7 | 34.8 | 50.2 | 34.0522 | -118.2437 |\n",
    "\n",
    "<br>\n",
    "\n",
    "2. __SMILES similarity-based query with optional environmental filters__\n",
    "\n",
    "This query finds compounds similar to a target compound (based on pre-computed SMILES similarity), then retrieves the proteins that catalyze reactions involving these similar compounds. It allows for optional filtering based on environmental parameters and geographical location. The results are ordered by chemical similarity and include the proteins, similar compounds, similarity scores, associated GENOMEs, and sample information.\n",
    "\n",
    "```sql\n",
    "MATCH (target:Compound {smiles: $targetSmiles})\n",
    "MATCH (target)-[sim:CHEMICALLY_SIMILAR]->(c:Compound)-[:SUBSTRATE_OF]->(r:Reaction)<-[:CATALYZES]-(p:Protein)\n",
    "WHERE sim.similarity >= $similarityThreshold\n",
    "OPTIONAL MATCH (m:GENOME)-[:CONTAINS]->(p)\n",
    "OPTIONAL MATCH (m)-[:ORIGINATED_FROM]->(s:Samples)\n",
    "WHERE \n",
    "  ($minTemp IS NULL OR s.temperature >= $minTemp) AND\n",
    "  ($maxTemp IS NULL OR s.temperature <= $maxTemp) AND\n",
    "  ($minSalinity IS NULL OR s.salinity >= $minSalinity) AND\n",
    "  ($maxSalinity IS NULL OR s.salinity <= $maxSalinity) AND\n",
    "  ($minLat IS NULL OR s.latitude >= $minLat) AND\n",
    "  ($maxLat IS NULL OR s.latitude <= $maxLat) AND\n",
    "  ($minLon IS NULL OR s.longitude >= $minLon) AND\n",
    "  ($maxLon IS NULL OR s.longitude <= $maxLon)\n",
    "RETURN p, c, sim.similarity AS similarity, m, s\n",
    "ORDER BY similarity DESC\n",
    "LIMIT 1000\n",
    "```\n",
    "\n",
    "__Example output__\n",
    "\n",
    "This is just an illustrative (not real) example of the output format. The actual output will depend on the data in the KG.\n",
    "\n",
    "SMILES similarity-based query output (for target compound CCO - ethanol):\n",
    "\n",
    "| Protein ID | Protein Name | EC Numbers | Compound ID | Compound Name | SMILES | Similarity | MAG ID | MAG Division | GTDB Classification | Sample Name | Temperature (°C) | Salinity (PSU) | Depth (m) | Latitude | Longitude |\n",
    "|------------|--------------|------------|-------------|---------------|--------|------------|--------|--------------|---------------------|-------------|------------------|----------------|-----------|----------|-----------|\n",
    "| P003 | Alcohol<br>dehydrogenase | 1.1.1.1 | C001 | Ethanol | CCO | 1.00 | MAG003 | Bacteria | d__Bacteria;<br>p__Actinobacteria;<br>c__Actinobacteria;<br>o__Corynebacteriales;<br>f__Mycobacteriaceae;<br>g__Mycobacterium;<br>s__Mycobacterium smegmatis | OceanSample003 | 22.1 | 33.9 | 10.5 | 51.5074 | -0.1278 |\n",
    "| P004 | Methanol<br>dehydrogenase | 1.1.1.244 | C002 | Methanol | CO | 0.88 | MAG004 | Bacteria | d__Bacteria;<br>p__Proteobacteria;<br>c__Alphaproteobacteria;<br>o__Rhizobiales;<br>f__Methylobacteriaceae;<br>g__Methylobacterium;<br>s__Methylobacterium extorquens | OceanSample004 | 20.5 | 35.2 | 75.8 | 48.8566 | 2.3522 |"
   ]
  },
  {
   "cell_type": "markdown",
   "metadata": {},
   "source": [
    "## Computing tanimoto distances for ModelSeed compounds"
   ]
  },
  {
   "cell_type": "code",
   "execution_count": 1,
   "metadata": {},
   "outputs": [],
   "source": [
    "from src.distances import compute_fingerprint_distances\n",
    "from src.utils import extract_data\n",
    "\n",
    "\n",
    "reactions_path = \"/home/robaina/Documents/NewAtlantis/enzyme_activity/notebooks/data/annotations/modelseed/reactions.json\"\n",
    "compounds_path = \"/home/robaina/Documents/NewAtlantis/enzyme_activity/notebooks/data/annotations/modelseed/compounds.json\"\n",
    "\n",
    "n = None\n",
    "reactions, compounds = extract_data(reactions_path, compounds_path, n)\n",
    "\n",
    "distances = compute_fingerprint_distances(compounds, n_jobs=12)\n",
    "print(f\"Computed {len(distances)} pairwise distances\")"
   ]
  },
  {
   "cell_type": "code",
   "execution_count": 5,
   "metadata": {},
   "outputs": [],
   "source": [
    "similarities = [(c1, c2, 1 - d) for (c1, c2, d) in distances]"
   ]
  },
  {
   "cell_type": "code",
   "execution_count": 9,
   "metadata": {},
   "outputs": [
    {
     "name": "stdout",
     "output_type": "stream",
     "text": [
      "Stored 130661695 pairwise similarities in outputs/similarities.parquet\n"
     ]
    }
   ],
   "source": [
    "from src.distances import store_distances_parquet, store_similarities_parquet\n",
    "\n",
    "distance_file = \"outputs/distances.parquet\"\n",
    "store_distances_parquet(distances, distance_file)\n",
    "\n",
    "similarity_file = \"outputs/similarities.parquet\"\n",
    "store_similarities_parquet(similarities, similarity_file)"
   ]
  },
  {
   "cell_type": "code",
   "execution_count": 7,
   "metadata": {},
   "outputs": [
    {
     "name": "stdout",
     "output_type": "stream",
     "text": [
      "Distance between COMP1 and COMP2: 0.7391304347826086\n"
     ]
    }
   ],
   "source": [
    "from src.distances import read_distance_parquet\n",
    "\n",
    "distance_file = \"outputs/compound_distances.parquet\"\n",
    "distance = read_distance_parquet(distance_file, \"cpd00020\", \"cpd00061\")\n",
    "print(f\"Distance between COMP1 and COMP2: {distance}\")"
   ]
  },
  {
   "cell_type": "markdown",
   "metadata": {},
   "source": [
    "## Make reaction and compound databases\n",
    "\n",
    "\n",
    "Simplify the modelSEED database and make csv files for compounds and reactions."
   ]
  },
  {
   "cell_type": "code",
   "execution_count": 1,
   "metadata": {},
   "outputs": [],
   "source": [
    "from src.utils import extract_data\n",
    "\n",
    "\n",
    "reactions_path = \"/home/robaina/Documents/NewAtlantis/enzyme_activity/notebooks/data/annotations/modelseed/reactions.json\"\n",
    "compounds_path = \"/home/robaina/Documents/NewAtlantis/enzyme_activity/notebooks/data/annotations/modelseed/compounds.json\"\n",
    "\n",
    "n = None\n",
    "reactions, compounds = extract_data(reactions_path, compounds_path, n)"
   ]
  },
  {
   "cell_type": "code",
   "execution_count": 3,
   "metadata": {},
   "outputs": [
    {
     "data": {
      "text/plain": [
       "{'abbreviation': 'pyr',\n",
       " 'abstract_compound': None,\n",
       " 'aliases': ['Name: 2-Oxopropanoate; 2-Oxopropanoic acid; 2-oxo-propionic acid; 2-oxopropanoate; 2-oxopropanoic acid; BTS; Pyroracemic acid; Pyruvate; Pyruvic acid; acetylformic acid; alpha-ketopropionic acid; pyroracemic acid; pyruvate; pyruvic acid',\n",
       "  'AraCyc: PYRUVATE',\n",
       "  'BiGG: pyr',\n",
       "  'BrachyCyc: PYRUVATE',\n",
       "  'KEGG: C00022',\n",
       "  'MetaCyc: PYRUVATE'],\n",
       " 'charge': -1,\n",
       " 'comprised_of': None,\n",
       " 'deltag': -82.56,\n",
       " 'deltagerr': 0.18,\n",
       " 'formula': 'C3H3O3',\n",
       " 'id': 'cpd00020',\n",
       " 'inchikey': 'LCTONWCANYUPML-UHFFFAOYSA-M',\n",
       " 'is_cofactor': 0,\n",
       " 'is_core': 1,\n",
       " 'is_obsolete': 0,\n",
       " 'linked_compound': None,\n",
       " 'mass': 87.0,\n",
       " 'name': 'Pyruvate',\n",
       " 'notes': ['GC', 'EQ', 'EQU'],\n",
       " 'pka': '1:4:2.93',\n",
       " 'pkb': '1:5:-9.58',\n",
       " 'smiles': 'CC(=O)C(=O)[O-]',\n",
       " 'source': 'Primary Database'}"
      ]
     },
     "execution_count": 3,
     "metadata": {},
     "output_type": "execute_result"
    }
   ],
   "source": [
    "[c for c in compounds if \"pyruvate\" in c[\"name\"].lower()][0]"
   ]
  },
  {
   "cell_type": "code",
   "execution_count": 4,
   "metadata": {},
   "outputs": [
    {
     "data": {
      "text/plain": [
       "{'abbreviation': 'pep',\n",
       " 'abstract_compound': None,\n",
       " 'aliases': ['Name: 2-(phosphooxy)- 2-propenoate; P-enol-pyr; P-enol-pyruvate; PEP; Phosphoenolpyruvate; Phosphoenolpyruvic acid; phosphoenolpyruvate',\n",
       "  'AraCyc: PHOSPHO-ENOL-PYRUVATE',\n",
       "  'BiGG: pep',\n",
       "  'BrachyCyc: PHOSPHO-ENOL-PYRUVATE',\n",
       "  'KEGG: C00074',\n",
       "  'MetaCyc: PHOSPHO-ENOL-PYRUVATE'],\n",
       " 'charge': -3,\n",
       " 'comprised_of': None,\n",
       " 'deltag': -284.84,\n",
       " 'deltagerr': 0.2,\n",
       " 'formula': 'C3H2O6P',\n",
       " 'id': 'cpd00061',\n",
       " 'inchikey': 'DTBNBXWJWCWCIK-UHFFFAOYSA-K',\n",
       " 'is_cofactor': 0,\n",
       " 'is_core': 1,\n",
       " 'is_obsolete': 0,\n",
       " 'linked_compound': None,\n",
       " 'mass': 166.0,\n",
       " 'name': 'Phosphoenolpyruvate',\n",
       " 'notes': ['GC', 'EQ', 'EQU'],\n",
       " 'pka': '1:4:3.36;1:8:0.76;1:10:6.02',\n",
       " 'pkb': '',\n",
       " 'smiles': 'C=C(OP(=O)([O-])[O-])C(=O)[O-]',\n",
       " 'source': 'Primary Database'}"
      ]
     },
     "execution_count": 4,
     "metadata": {},
     "output_type": "execute_result"
    }
   ],
   "source": [
    "[c for c in compounds if \"pyruvate\" in c[\"name\"].lower()][1]"
   ]
  },
  {
   "cell_type": "markdown",
   "metadata": {},
   "source": [
    "### Filter reactions by list of properties"
   ]
  },
  {
   "cell_type": "code",
   "execution_count": 11,
   "metadata": {},
   "outputs": [],
   "source": [
    "def filter_reaction_dicts(reaction_dicts):\n",
    "    # Define the keys to keep\n",
    "    keys_to_keep = [\n",
    "        \"aliases\", \"code\", \"compound_ids\", \"definition\", \"deltag\", \"deltagerr\",\n",
    "        \"direction\", \"ec_numbers\", \"equation\", \"is_transport\", \"linked_reaction\",\n",
    "        \"name\", \"pathways\", \"reversibility\", \"source\", \"status\", \"stoichiometry\"\n",
    "    ]\n",
    "\n",
    "    # Function to filter a single dictionary\n",
    "    def filter_dict(d):\n",
    "        filtered = {k: d[k] for k in keys_to_keep if k in d}\n",
    "        # Rename 'id' to 'reaction_id' if present\n",
    "        if 'id' in d:\n",
    "            filtered['reaction_id'] = d['id']\n",
    "        return filtered\n",
    "\n",
    "    # Apply the filter to all dictionaries in the list\n",
    "    return [filter_dict(d) for d in reaction_dicts]\n",
    "\n",
    "\n",
    "filtered_reactions = filter_reaction_dicts(reactions)"
   ]
  },
  {
   "cell_type": "markdown",
   "metadata": {},
   "source": [
    "### Filter compounds by list of properties"
   ]
  },
  {
   "cell_type": "code",
   "execution_count": 10,
   "metadata": {},
   "outputs": [],
   "source": [
    "def filter_compound_dicts(compound_dicts):\n",
    "    # Define the keys to keep\n",
    "    keys_to_keep = [\n",
    "        \"aliases\", \"charge\", \"deltag\", \"deltagerr\", \"formula\", \"inchikey\",\n",
    "        \"is_cofactor\", \"is_core\", \"mass\", \"name\", \"pka\", \"pkb\", \"smiles\", \"source\"\n",
    "    ]\n",
    "\n",
    "    # Function to filter a single dictionary\n",
    "    def filter_dict(d):\n",
    "        filtered = {k: d[k] for k in keys_to_keep if k in d}\n",
    "        # Rename 'id' to 'compound_id' if present\n",
    "        if 'id' in d:\n",
    "            filtered['compound_id'] = d['id']\n",
    "        return filtered\n",
    "\n",
    "    # Apply the filter to all dictionaries in the list\n",
    "    return [filter_dict(d) for d in compound_dicts]\n",
    "\n",
    "\n",
    "filtered_compounds = filter_compound_dicts(compounds)"
   ]
  },
  {
   "cell_type": "markdown",
   "metadata": {},
   "source": [
    "### Save to json"
   ]
  },
  {
   "cell_type": "code",
   "execution_count": 12,
   "metadata": {},
   "outputs": [],
   "source": [
    "import json\n",
    "\n",
    "def save_to_json(data, filename):\n",
    "    \"\"\"\n",
    "    Save a list of dictionaries to a JSON file.\n",
    "    \n",
    "    Args:\n",
    "    data (list): List of dictionaries to save\n",
    "    filename (str): Name of the file to save the data to\n",
    "    \"\"\"\n",
    "    with open(filename, 'w', encoding='utf-8') as f:\n",
    "        json.dump(data, f, indent=2, ensure_ascii=False)\n",
    "\n",
    "\n",
    "save_to_json(filtered_reactions, 'outputs/filtered_reactions.json')\n",
    "save_to_json(filtered_compounds, 'outputs/filtered_compounds.json')"
   ]
  },
  {
   "cell_type": "markdown",
   "metadata": {},
   "source": [
    "## Notes\n",
    "\n",
    "1. RDKIT chemical similarity function: https://github.com/rdkit/rdkit-orig/blob/57058c886a49cc597b0c40641a28697ee3a57aee/rdkit/DataStructs/__init__.py#L31\n",
    "\n",
    "2. Use monorepo db_connection to get a class for the connection"
   ]
  },
  {
   "cell_type": "markdown",
   "metadata": {},
   "source": [
    "## Test NAL KG locally"
   ]
  },
  {
   "cell_type": "code",
   "execution_count": 25,
   "metadata": {},
   "outputs": [],
   "source": [
    "from dotenv import load_dotenv\n",
    "import os\n",
    "\n",
    "load_dotenv()\n",
    "uri = os.getenv(\"NEO4J_URI\")\n",
    "username = os.getenv(\"NEO4J_USERNAME\")\n",
    "password = os.getenv(\"NEO4J_PASSWORD\")"
   ]
  },
  {
   "cell_type": "code",
   "execution_count": 27,
   "metadata": {},
   "outputs": [
    {
     "name": "stderr",
     "output_type": "stream",
     "text": [
      "/tmp/ipykernel_8511/643299054.py:46: DeprecationWarning: read_transaction has been renamed to execute_read\n",
      "  session.read_transaction(get_schema_info)\n"
     ]
    },
    {
     "name": "stdout",
     "output_type": "stream",
     "text": [
      "Node Labels: ['Compound', 'Genome', 'Reaction', 'BGC', 'Protein', 'Sample']\n",
      "Relationship Types: ['CONTAINS', 'ORIGINATED_FROM', 'SUBSTRATE_OF', 'PRODUCT_OF', 'CHEMICAL_SIMILARITY', 'CATALYZES']\n",
      "Property Keys: ['UNIQUE IMPORT ID', 'name', 'is_core', 'charge', 'notes', 'aliases', 'inchikey', 'smiles', 'pkb', 'mass', 'pka', 'deltag', 'source', 'abbreviation', 'is_obsolete', 'formula', 'deltagerr', 'id', 'is_cofactor', 'linked_compound', 'stoichiometry', 'code', 'equation', 'is_transport', 'ec_numbers', 'compound_ids', 'reversibility', 'definition', 'direction', 'status', 'pathways', 'linked_reaction', 'gcc_prevalence', 'gcc_to_refseq', 'gcc', 'gcf', 'gcc_only_mag', 'other', 'non_ribosomal_peptyde_synthestases', 'distance_refseq', 'bgc_representative', 'type_ii_iii_polyketide_synthestases', 'terpene', 'ripps', 'distance_mibig', 'type_i_polyketide_synthestases', 'bgc_complete', 'bgc_length', 'acc', 'mag_id', 'bgc_class', 'contig_length', 'file', 'start', 'length', 'end', 'contig_id', 'tool', 'on_edge', 'division', 'mag_biosample', 'gtdb_classification', 'original_biosample', 'polar', 'collection_date', 'salinity', 'longigute', 'latitude', 'instrument', 'deep-sea', 'lower_filter', 'upper_filter', 'sample_type', 'mesopelagic', 'fraction', 'suboxic', 'depth', 'dysoxic', 'temperature', 'anoxic', 'percent_mapped_on_OceanDNA_MAGs', 'oxygen', 'sample_name', 'from_node_property', 'to_node_property', 'substrates', 'products', 'from_property_name', 'to_property_list_name', 'size', 'gtdb_version', 'is_genome_cluster_representative', 'source_biosample', 'checkm2_contamination', 'gc_content', 'checkm2_completeness', 'genome_cluster_id', 'sra_run_id', 'id_biosample', 'genome_id', 'protein_id', 'kegg_ortholog_id', 'enzymes', '[', 'compound_id', 'reaction_id', 'calculated', 'bgc_id', 'to_property_name', 'biosample_id', 'distance', 'compound1', 'compound2', 'to_inproperty_name', 'property_name', 'sources', 'source_biosample_id', 'bcg_length']\n",
      "\n",
      "Detailed Schema:\n"
     ]
    }
   ],
   "source": [
    "from neo4j import GraphDatabase\n",
    "\n",
    "def get_schema_info(tx):\n",
    "    # Get node labels\n",
    "    labels = tx.run(\"CALL db.labels()\").data()\n",
    "    print(\"Node Labels:\", [label[\"label\"] for label in labels])\n",
    "\n",
    "    # Get relationship types\n",
    "    rel_types = tx.run(\"CALL db.relationshipTypes()\").data()\n",
    "    print(\"Relationship Types:\", [rel[\"relationshipType\"] for rel in rel_types])\n",
    "\n",
    "    # Get property keys\n",
    "    prop_keys = tx.run(\"CALL db.propertyKeys()\").data()\n",
    "    print(\"Property Keys:\", [prop[\"propertyKey\"] for prop in prop_keys])\n",
    "\n",
    "    # Get detailed schema with property types\n",
    "    schema_query = \"\"\"\n",
    "    MATCH (n)\n",
    "    WITH DISTINCT labels(n) AS nodeLabels, keys(n) AS nodeProps\n",
    "    UNWIND nodeLabels AS label\n",
    "    UNWIND nodeProps AS prop\n",
    "    WITH label, prop\n",
    "    MATCH (n:`${label}`)\n",
    "    WHERE n[prop] IS NOT NULL\n",
    "    WITH label, prop, n[prop] AS value\n",
    "    RETURN DISTINCT label, prop, \n",
    "           CASE\n",
    "             WHEN value =~ '^-?\\\\d+$' THEN 'Integer'\n",
    "             WHEN value =~ '^-?\\\\d*\\\\.?\\\\d+$' THEN 'Float'\n",
    "             WHEN value IN ['true', 'false'] THEN 'Boolean'\n",
    "             ELSE 'String'\n",
    "           END AS type\n",
    "    LIMIT 1000\n",
    "    \"\"\"\n",
    "    schema = tx.run(schema_query).data()\n",
    "    \n",
    "    print(\"\\nDetailed Schema:\")\n",
    "    for item in schema:\n",
    "        print(f\"Label: {item['label']}, Property: {item['prop']}, Type: {item['type']}\")\n",
    "\n",
    "\n",
    "\n",
    "\n",
    "with GraphDatabase.driver(uri, auth=(username, password)) as driver:\n",
    "    with driver.session() as session:\n",
    "        session.read_transaction(get_schema_info)"
   ]
  },
  {
   "cell_type": "code",
   "execution_count": 5,
   "metadata": {},
   "outputs": [],
   "source": [
    "from src.utils import extract_data\n",
    "\n",
    "reactions_path = \"/home/robaina/Documents/NewAtlantis/enzyme_activity/notebooks/data/annotations/modelseed/reactions.json\"\n",
    "compounds_path = \"/home/robaina/Documents/NewAtlantis/enzyme_activity/notebooks/data/annotations/modelseed/compounds.json\"\n",
    "\n",
    "n = None\n",
    "reactions, compounds = extract_data(reactions_path, compounds_path, n)"
   ]
  },
  {
   "cell_type": "code",
   "execution_count": 3,
   "metadata": {},
   "outputs": [
    {
     "name": "stdout",
     "output_type": "stream",
     "text": [
      "Target compound: L-Tyrosine\n"
     ]
    },
    {
     "data": {
      "text/plain": [
       "{'reaction_id': 'rxn45976',\n",
       " 'reaction_name': '',\n",
       " 'similar_compound_id': 'cpd03843',\n",
       " 'similar_compound_name': 'D-Tyrosine',\n",
       " 'similar_compound_smiles': '[NH3+][C@H](Cc1ccc(O)cc1)C(=O)[O-]',\n",
       " 'similarity_distance': 0.0}"
      ]
     },
     "execution_count": 3,
     "metadata": {},
     "output_type": "execute_result"
    }
   ],
   "source": [
    "from src.queries import find_reactions_with_similar_product_compounds\n",
    "\n",
    "\n",
    "compound_id = \"cpd00069\"\n",
    "compound_name = [c for c in compounds if c[\"id\"] == compound_id][0][\"name\"]\n",
    "print(f\"Target compound: {compound_name}\")\n",
    "\n",
    "results = find_reactions_with_similar_product_compounds(\n",
    "    uri,username, password,\n",
    "    compound_id,\n",
    "    similarity_threshold=0.2,\n",
    "    limit=100\n",
    "    )\n",
    "results[0]"
   ]
  },
  {
   "cell_type": "code",
   "execution_count": 2,
   "metadata": {},
   "outputs": [],
   "source": [
    "from dotenv import load_dotenv\n",
    "import os\n",
    "\n",
    "load_dotenv()\n",
    "uri = os.getenv(\"NEO4J_URI\")\n",
    "username = os.getenv(\"NEO4J_USERNAME\")\n",
    "password = os.getenv(\"NEO4J_PASSWORD\")"
   ]
  },
  {
   "cell_type": "code",
   "execution_count": 5,
   "metadata": {},
   "outputs": [],
   "source": [
    "from graph_db.db_connection import Neo4jConnection\n",
    "\n",
    "conn = Neo4jConnection(uri, username, password)"
   ]
  },
  {
   "cell_type": "code",
   "execution_count": 23,
   "metadata": {},
   "outputs": [
    {
     "data": {
      "text/plain": [
       "[<Record c=<Node element_id='4:7de5358e-0bc2-417b-aa77-97dd0da86487:30819875' labels=frozenset({'Compound'}) properties={'is_core': 1, 'aliases': ['Name: (S)-2-Amino-3-(p-hydroxyphenyl)propionic acid; (S)-3-(p-Hydroxyphenyl)alanine; L-Tyrosine; L-tyr; L-tyrosine; Tyrosine; tyr; tyrosine', 'AraCyc: TYR', 'BiGG: tyr__L', 'BrachyCyc: TYR', 'KEGG: C00082', 'MetaCyc: TYR'], 'inchikey': 'OUYCCCASQSFEME-QMMMGPOBSA-N', 'charge': 0, 'smiles': '[NH3+][C@@H](Cc1ccc(O)cc1)C(=O)[O-]', 'pkb': '1:8:-5.96;1:13:9.19', 'pka': '1:8:9.79;1:11:2.00', 'mass': 181.0, 'compound_id': 'cpd00069', 'deltag': 18.52, 'source': 'Primary Database', 'name': 'L-Tyrosine', 'formula': 'C9H11NO3', 'deltagerr': 0.71, 'is_cofactor': 0}> r=<Relationship element_id='5:7de5358e-0bc2-417b-aa77-97dd0da86487:1096688' nodes=(<Node element_id='4:7de5358e-0bc2-417b-aa77-97dd0da86487:30819875' labels=frozenset({'Compound'}) properties={'is_core': 1, 'aliases': ['Name: (S)-2-Amino-3-(p-hydroxyphenyl)propionic acid; (S)-3-(p-Hydroxyphenyl)alanine; L-Tyrosine; L-tyr; L-tyrosine; Tyrosine; tyr; tyrosine', 'AraCyc: TYR', 'BiGG: tyr__L', 'BrachyCyc: TYR', 'KEGG: C00082', 'MetaCyc: TYR'], 'inchikey': 'OUYCCCASQSFEME-QMMMGPOBSA-N', 'charge': 0, 'smiles': '[NH3+][C@@H](Cc1ccc(O)cc1)C(=O)[O-]', 'pkb': '1:8:-5.96;1:13:9.19', 'pka': '1:8:9.79;1:11:2.00', 'mass': 181.0, 'compound_id': 'cpd00069', 'deltag': 18.52, 'source': 'Primary Database', 'name': 'L-Tyrosine', 'formula': 'C9H11NO3', 'deltagerr': 0.71, 'is_cofactor': 0}>, <Node element_id='4:7de5358e-0bc2-417b-aa77-97dd0da86487:30881393' labels=frozenset({'Reaction'}) properties={'stoichiometry': '-1:cpd00616:0:0:Pretyrosine;-1:cpd27638:0:0:NAD-P-OR-NOP;1:cpd00011:0:0:CO2;1:cpd00069:0:0:L-Tyrosine;1:cpd27640:0:0:NADH-P-OR-NOP', 'aliases': ['MetaCyc: RXN-14476'], 'code': '(1) cpd00616[0] + (1) cpd27638[0] <=> (1) cpd00011[0] + (1) cpd00069[0] + (1) cpd27640[0]', 'equation': '(1) cpd00616[0] + (1) cpd27638[0] <=> (1) cpd00011[0] + (1) cpd00069[0] + (1) cpd27640[0]', 'deltag': 10000000.0, 'is_transport': 0, 'source': 'Primary Database', 'ec_numbers': ['1.3.1.79'], 'products': [' (1) cpd00011[0]', '(1) cpd00069[0]', '(1) cpd27640[0]'], 'reaction_id': 'rxn45724', 'compound_ids': 'cpd00011;cpd00069;cpd00616;cpd27638;cpd27640', 'substrates': ['(1) cpd00616[0]', '(1) cpd27638[0] '], 'name': '', 'reversibility': '?', 'deltagerr': 10000000.0, 'definition': '(1) Pretyrosine[0] + (1) NAD-P-OR-NOP[0] <=> (1) CO2[0] + (1) L-Tyrosine[0] + (1) NADH-P-OR-NOP[0]', 'direction': '=', 'status': 'OK'}>) type='PRODUCT_OF' properties={'to_property_list_name': 'products', 'from_property_name': 'compound_id', 'calculated': 'FALSE'}> reaction=<Node element_id='4:7de5358e-0bc2-417b-aa77-97dd0da86487:30881393' labels=frozenset({'Reaction'}) properties={'stoichiometry': '-1:cpd00616:0:0:Pretyrosine;-1:cpd27638:0:0:NAD-P-OR-NOP;1:cpd00011:0:0:CO2;1:cpd00069:0:0:L-Tyrosine;1:cpd27640:0:0:NADH-P-OR-NOP', 'aliases': ['MetaCyc: RXN-14476'], 'code': '(1) cpd00616[0] + (1) cpd27638[0] <=> (1) cpd00011[0] + (1) cpd00069[0] + (1) cpd27640[0]', 'equation': '(1) cpd00616[0] + (1) cpd27638[0] <=> (1) cpd00011[0] + (1) cpd00069[0] + (1) cpd27640[0]', 'deltag': 10000000.0, 'is_transport': 0, 'source': 'Primary Database', 'ec_numbers': ['1.3.1.79'], 'products': [' (1) cpd00011[0]', '(1) cpd00069[0]', '(1) cpd27640[0]'], 'reaction_id': 'rxn45724', 'compound_ids': 'cpd00011;cpd00069;cpd00616;cpd27638;cpd27640', 'substrates': ['(1) cpd00616[0]', '(1) cpd27638[0] '], 'name': '', 'reversibility': '?', 'deltagerr': 10000000.0, 'definition': '(1) Pretyrosine[0] + (1) NAD-P-OR-NOP[0] <=> (1) CO2[0] + (1) L-Tyrosine[0] + (1) NADH-P-OR-NOP[0]', 'direction': '=', 'status': 'OK'}>>,\n",
       " <Record c=<Node element_id='4:7de5358e-0bc2-417b-aa77-97dd0da86487:30819875' labels=frozenset({'Compound'}) properties={'is_core': 1, 'aliases': ['Name: (S)-2-Amino-3-(p-hydroxyphenyl)propionic acid; (S)-3-(p-Hydroxyphenyl)alanine; L-Tyrosine; L-tyr; L-tyrosine; Tyrosine; tyr; tyrosine', 'AraCyc: TYR', 'BiGG: tyr__L', 'BrachyCyc: TYR', 'KEGG: C00082', 'MetaCyc: TYR'], 'inchikey': 'OUYCCCASQSFEME-QMMMGPOBSA-N', 'charge': 0, 'smiles': '[NH3+][C@@H](Cc1ccc(O)cc1)C(=O)[O-]', 'pkb': '1:8:-5.96;1:13:9.19', 'pka': '1:8:9.79;1:11:2.00', 'mass': 181.0, 'compound_id': 'cpd00069', 'deltag': 18.52, 'source': 'Primary Database', 'name': 'L-Tyrosine', 'formula': 'C9H11NO3', 'deltagerr': 0.71, 'is_cofactor': 0}> r=<Relationship element_id='5:7de5358e-0bc2-417b-aa77-97dd0da86487:1096675' nodes=(<Node element_id='4:7de5358e-0bc2-417b-aa77-97dd0da86487:30819875' labels=frozenset({'Compound'}) properties={'is_core': 1, 'aliases': ['Name: (S)-2-Amino-3-(p-hydroxyphenyl)propionic acid; (S)-3-(p-Hydroxyphenyl)alanine; L-Tyrosine; L-tyr; L-tyrosine; Tyrosine; tyr; tyrosine', 'AraCyc: TYR', 'BiGG: tyr__L', 'BrachyCyc: TYR', 'KEGG: C00082', 'MetaCyc: TYR'], 'inchikey': 'OUYCCCASQSFEME-QMMMGPOBSA-N', 'charge': 0, 'smiles': '[NH3+][C@@H](Cc1ccc(O)cc1)C(=O)[O-]', 'pkb': '1:8:-5.96;1:13:9.19', 'pka': '1:8:9.79;1:11:2.00', 'mass': 181.0, 'compound_id': 'cpd00069', 'deltag': 18.52, 'source': 'Primary Database', 'name': 'L-Tyrosine', 'formula': 'C9H11NO3', 'deltagerr': 0.71, 'is_cofactor': 0}>, <Node element_id='4:7de5358e-0bc2-417b-aa77-97dd0da86487:30864417' labels=frozenset({'Reaction'}) properties={'stoichiometry': '-1:cpd00003:0:0:\"NAD\";-1:cpd00616:0:0:\"Pretyrosine\";1:cpd00004:0:0:\"NADH\";1:cpd00011:0:0:\"CO2\";1:cpd00069:0:0:\"L-Tyrosine\"', 'code': '(1) cpd00003[0] + (1) cpd00616[0] <=> (1) cpd00004[0] + (1) cpd00011[0] + (1) cpd00069[0]', 'aliases': ['AraCyc: CYCLOHEXADIENYL-DEHYDROGENASE-RXN', 'BrachyCyc: CYCLOHEXADIENYL-DEHYDROGENASE-RXN', 'ChlamyCyc: CYCLOHEXADIENYL-DEHYDROGENASE-RXN', 'KEGG: R00732', 'MetaCyc: CYCLOHEXADIENYL-DEHYDROGENASE-RXN', 'Name: Arogenate dehydrogenase; Cyclohexadienyl dehydrogenase; L-arogenate:NAD+ oxidoreductase; L-arogenate:NAD+ oxidoreductase (decarboxylating); Pretyrosine dehydrogenase; arogenate dehydrogenase; arogenic dehydrogenase (ambiguous); cyclohexadienyl dehydrogenase; pretyrosine dehydrogenase (ambiguous)'], 'equation': '(1) cpd00003[0] + (1) cpd00616[0] => (1) cpd00004[0] + (1) cpd00011[0] + (1) cpd00069[0]', 'is_transport': 0, 'deltag': -5.36, 'pathways': ['MetaCyc: Amino-Acid-Biosynthesis (Amino Acid Biosynthesis); IND-AMINO-ACID-SYN (Proteinogenic Amino Acid Biosynthesis); PWY-6120 (L-tyrosine biosynthesis III); TYROSINE-SYN (L-tyrosine Biosynthesis)', 'KEGG: rn00400 (Phenylalanine, tyrosine and tryptophan biosynthesis); rn01230 (Biosynthesis of amino acids)'], 'ec_numbers': ['1.3.1.43', '1.3.1.79'], 'source': 'Secondary Database', 'products': [' (1) cpd00004[0]', '(1) cpd00011[0]', '(1) cpd00069[0]'], 'reaction_id': 'rxn27772', 'compound_ids': 'cpd00003;cpd00004;cpd00011;cpd00069;cpd00616', 'substrates': ['(1) cpd00003[0]', '(1) cpd00616[0] '], 'reversibility': '>', 'name': 'Arogenate dehydrogenase', 'definition': '(1) NAD[0] + (1) Pretyrosine[0] => (1) NADH[0] + (1) CO2[0] + (1) L-Tyrosine[0]', 'deltagerr': 2.64, 'status': 'OK', 'linked_reaction': 'rxn00525', 'direction': '>'}>) type='PRODUCT_OF' properties={'to_property_list_name': 'products', 'from_property_name': 'compound_id', 'calculated': 'FALSE'}> reaction=<Node element_id='4:7de5358e-0bc2-417b-aa77-97dd0da86487:30864417' labels=frozenset({'Reaction'}) properties={'stoichiometry': '-1:cpd00003:0:0:\"NAD\";-1:cpd00616:0:0:\"Pretyrosine\";1:cpd00004:0:0:\"NADH\";1:cpd00011:0:0:\"CO2\";1:cpd00069:0:0:\"L-Tyrosine\"', 'code': '(1) cpd00003[0] + (1) cpd00616[0] <=> (1) cpd00004[0] + (1) cpd00011[0] + (1) cpd00069[0]', 'aliases': ['AraCyc: CYCLOHEXADIENYL-DEHYDROGENASE-RXN', 'BrachyCyc: CYCLOHEXADIENYL-DEHYDROGENASE-RXN', 'ChlamyCyc: CYCLOHEXADIENYL-DEHYDROGENASE-RXN', 'KEGG: R00732', 'MetaCyc: CYCLOHEXADIENYL-DEHYDROGENASE-RXN', 'Name: Arogenate dehydrogenase; Cyclohexadienyl dehydrogenase; L-arogenate:NAD+ oxidoreductase; L-arogenate:NAD+ oxidoreductase (decarboxylating); Pretyrosine dehydrogenase; arogenate dehydrogenase; arogenic dehydrogenase (ambiguous); cyclohexadienyl dehydrogenase; pretyrosine dehydrogenase (ambiguous)'], 'equation': '(1) cpd00003[0] + (1) cpd00616[0] => (1) cpd00004[0] + (1) cpd00011[0] + (1) cpd00069[0]', 'is_transport': 0, 'deltag': -5.36, 'pathways': ['MetaCyc: Amino-Acid-Biosynthesis (Amino Acid Biosynthesis); IND-AMINO-ACID-SYN (Proteinogenic Amino Acid Biosynthesis); PWY-6120 (L-tyrosine biosynthesis III); TYROSINE-SYN (L-tyrosine Biosynthesis)', 'KEGG: rn00400 (Phenylalanine, tyrosine and tryptophan biosynthesis); rn01230 (Biosynthesis of amino acids)'], 'ec_numbers': ['1.3.1.43', '1.3.1.79'], 'source': 'Secondary Database', 'products': [' (1) cpd00004[0]', '(1) cpd00011[0]', '(1) cpd00069[0]'], 'reaction_id': 'rxn27772', 'compound_ids': 'cpd00003;cpd00004;cpd00011;cpd00069;cpd00616', 'substrates': ['(1) cpd00003[0]', '(1) cpd00616[0] '], 'reversibility': '>', 'name': 'Arogenate dehydrogenase', 'definition': '(1) NAD[0] + (1) Pretyrosine[0] => (1) NADH[0] + (1) CO2[0] + (1) L-Tyrosine[0]', 'deltagerr': 2.64, 'status': 'OK', 'linked_reaction': 'rxn00525', 'direction': '>'}>>,\n",
       " <Record c=<Node element_id='4:7de5358e-0bc2-417b-aa77-97dd0da86487:30819875' labels=frozenset({'Compound'}) properties={'is_core': 1, 'aliases': ['Name: (S)-2-Amino-3-(p-hydroxyphenyl)propionic acid; (S)-3-(p-Hydroxyphenyl)alanine; L-Tyrosine; L-tyr; L-tyrosine; Tyrosine; tyr; tyrosine', 'AraCyc: TYR', 'BiGG: tyr__L', 'BrachyCyc: TYR', 'KEGG: C00082', 'MetaCyc: TYR'], 'inchikey': 'OUYCCCASQSFEME-QMMMGPOBSA-N', 'charge': 0, 'smiles': '[NH3+][C@@H](Cc1ccc(O)cc1)C(=O)[O-]', 'pkb': '1:8:-5.96;1:13:9.19', 'pka': '1:8:9.79;1:11:2.00', 'mass': 181.0, 'compound_id': 'cpd00069', 'deltag': 18.52, 'source': 'Primary Database', 'name': 'L-Tyrosine', 'formula': 'C9H11NO3', 'deltagerr': 0.71, 'is_cofactor': 0}> r=<Relationship element_id='5:7de5358e-0bc2-417b-aa77-97dd0da86487:1096657' nodes=(<Node element_id='4:7de5358e-0bc2-417b-aa77-97dd0da86487:30819875' labels=frozenset({'Compound'}) properties={'is_core': 1, 'aliases': ['Name: (S)-2-Amino-3-(p-hydroxyphenyl)propionic acid; (S)-3-(p-Hydroxyphenyl)alanine; L-Tyrosine; L-tyr; L-tyrosine; Tyrosine; tyr; tyrosine', 'AraCyc: TYR', 'BiGG: tyr__L', 'BrachyCyc: TYR', 'KEGG: C00082', 'MetaCyc: TYR'], 'inchikey': 'OUYCCCASQSFEME-QMMMGPOBSA-N', 'charge': 0, 'smiles': '[NH3+][C@@H](Cc1ccc(O)cc1)C(=O)[O-]', 'pkb': '1:8:-5.96;1:13:9.19', 'pka': '1:8:9.79;1:11:2.00', 'mass': 181.0, 'compound_id': 'cpd00069', 'deltag': 18.52, 'source': 'Primary Database', 'name': 'L-Tyrosine', 'formula': 'C9H11NO3', 'deltagerr': 0.71, 'is_cofactor': 0}>, <Node element_id='4:7de5358e-0bc2-417b-aa77-97dd0da86487:30845598' labels=frozenset({'Reaction'}) properties={'stoichiometry': '-1:cpd00067:1:0:\"H+\";-1:cpd00069:1:0:\"L-Tyrosine\";1:cpd00067:0:0:\"H+\";1:cpd00069:0:0:\"L-Tyrosine\"', 'code': '(1) cpd00069[1] <=> (1) cpd00069[0]', 'aliases': ['BiGG: AGP1_10; BAP2_7; BAP3_7; GAP1_16; TAT1_4; TAT2_6; TYRt2; TYRt2m; TYRt2p; TYRt2r; TYRt2rpp; TYRt6i; TYRt7; VAP1_6', 'BrachyCyc: TRANS-RXNAVI-26536', 'EcoCyc: TRANS-RXN-77', 'MaizeCyc: TRANS-RXNBWI-115637', 'MetaCyc: TRANS-RXN-77', 'Name: General amino acid permease AGP1; L-tyrosine reversible transport via proton symport; L-tyrosine transport in/out via proton symport; L-tyrosine transport out via proton symport; L-tyrosine:proton symport; L-tyrosinereversibletransportviaprotonsymport; TRANS-RXN-77.cp; TYRt6; Tyrosine permease; tyrosine transport via proton symport'], 'equation': '(1) cpd00067[1] + (1) cpd00069[1] <=> (1) cpd00067[0] + (1) cpd00069[0]', 'is_transport': 1, 'deltag': 0.0, 'ec_numbers': ['2.A.3.1.-'], 'source': 'Primary Database', 'products': [' (1) cpd00067[0]', '(1) cpd00069[0]'], 'reaction_id': 'rxn05301', 'compound_ids': 'cpd00067;cpd00069', 'substrates': ['(1) cpd00067[1]', '(1) cpd00069[1] '], 'reversibility': '=', 'name': 'TRANS-RXNBWI-115637.ce.maizeexp.TYR_TYR', 'definition': '(1) H+[1] + (1) L-Tyrosine[1] <=> (1) H+[0] + (1) L-Tyrosine[0]', 'deltagerr': 1.27, 'status': 'OK', 'linked_reaction': 'rxn09338;rxn09708;rxn09831;rxn13412;rxn34413', 'direction': '='}>) type='PRODUCT_OF' properties={'to_property_list_name': 'products', 'from_property_name': 'compound_id', 'calculated': 'FALSE'}> reaction=<Node element_id='4:7de5358e-0bc2-417b-aa77-97dd0da86487:30845598' labels=frozenset({'Reaction'}) properties={'stoichiometry': '-1:cpd00067:1:0:\"H+\";-1:cpd00069:1:0:\"L-Tyrosine\";1:cpd00067:0:0:\"H+\";1:cpd00069:0:0:\"L-Tyrosine\"', 'code': '(1) cpd00069[1] <=> (1) cpd00069[0]', 'aliases': ['BiGG: AGP1_10; BAP2_7; BAP3_7; GAP1_16; TAT1_4; TAT2_6; TYRt2; TYRt2m; TYRt2p; TYRt2r; TYRt2rpp; TYRt6i; TYRt7; VAP1_6', 'BrachyCyc: TRANS-RXNAVI-26536', 'EcoCyc: TRANS-RXN-77', 'MaizeCyc: TRANS-RXNBWI-115637', 'MetaCyc: TRANS-RXN-77', 'Name: General amino acid permease AGP1; L-tyrosine reversible transport via proton symport; L-tyrosine transport in/out via proton symport; L-tyrosine transport out via proton symport; L-tyrosine:proton symport; L-tyrosinereversibletransportviaprotonsymport; TRANS-RXN-77.cp; TYRt6; Tyrosine permease; tyrosine transport via proton symport'], 'equation': '(1) cpd00067[1] + (1) cpd00069[1] <=> (1) cpd00067[0] + (1) cpd00069[0]', 'is_transport': 1, 'deltag': 0.0, 'ec_numbers': ['2.A.3.1.-'], 'source': 'Primary Database', 'products': [' (1) cpd00067[0]', '(1) cpd00069[0]'], 'reaction_id': 'rxn05301', 'compound_ids': 'cpd00067;cpd00069', 'substrates': ['(1) cpd00067[1]', '(1) cpd00069[1] '], 'reversibility': '=', 'name': 'TRANS-RXNBWI-115637.ce.maizeexp.TYR_TYR', 'definition': '(1) H+[1] + (1) L-Tyrosine[1] <=> (1) H+[0] + (1) L-Tyrosine[0]', 'deltagerr': 1.27, 'status': 'OK', 'linked_reaction': 'rxn09338;rxn09708;rxn09831;rxn13412;rxn34413', 'direction': '='}>>,\n",
       " <Record c=<Node element_id='4:7de5358e-0bc2-417b-aa77-97dd0da86487:30819875' labels=frozenset({'Compound'}) properties={'is_core': 1, 'aliases': ['Name: (S)-2-Amino-3-(p-hydroxyphenyl)propionic acid; (S)-3-(p-Hydroxyphenyl)alanine; L-Tyrosine; L-tyr; L-tyrosine; Tyrosine; tyr; tyrosine', 'AraCyc: TYR', 'BiGG: tyr__L', 'BrachyCyc: TYR', 'KEGG: C00082', 'MetaCyc: TYR'], 'inchikey': 'OUYCCCASQSFEME-QMMMGPOBSA-N', 'charge': 0, 'smiles': '[NH3+][C@@H](Cc1ccc(O)cc1)C(=O)[O-]', 'pkb': '1:8:-5.96;1:13:9.19', 'pka': '1:8:9.79;1:11:2.00', 'mass': 181.0, 'compound_id': 'cpd00069', 'deltag': 18.52, 'source': 'Primary Database', 'name': 'L-Tyrosine', 'formula': 'C9H11NO3', 'deltagerr': 0.71, 'is_cofactor': 0}> r=<Relationship element_id='5:7de5358e-0bc2-417b-aa77-97dd0da86487:1096672' nodes=(<Node element_id='4:7de5358e-0bc2-417b-aa77-97dd0da86487:30819875' labels=frozenset({'Compound'}) properties={'is_core': 1, 'aliases': ['Name: (S)-2-Amino-3-(p-hydroxyphenyl)propionic acid; (S)-3-(p-Hydroxyphenyl)alanine; L-Tyrosine; L-tyr; L-tyrosine; Tyrosine; tyr; tyrosine', 'AraCyc: TYR', 'BiGG: tyr__L', 'BrachyCyc: TYR', 'KEGG: C00082', 'MetaCyc: TYR'], 'inchikey': 'OUYCCCASQSFEME-QMMMGPOBSA-N', 'charge': 0, 'smiles': '[NH3+][C@@H](Cc1ccc(O)cc1)C(=O)[O-]', 'pkb': '1:8:-5.96;1:13:9.19', 'pka': '1:8:9.79;1:11:2.00', 'mass': 181.0, 'compound_id': 'cpd00069', 'deltag': 18.52, 'source': 'Primary Database', 'name': 'L-Tyrosine', 'formula': 'C9H11NO3', 'deltagerr': 0.71, 'is_cofactor': 0}>, <Node element_id='4:7de5358e-0bc2-417b-aa77-97dd0da86487:30856861' labels=frozenset({'Reaction'}) properties={'stoichiometry': '-1:cpd00001:0:0:\"H2O\";-1:cpd00002:0:0:\"ATP\";-1:cpd00069:1:0:\"L-Tyrosine\";1:cpd00008:0:0:\"ADP\";1:cpd00009:0:0:\"Phosphate\";1:cpd00067:0:0:\"H+\";1:cpd00069:0:0:\"L-Tyrosine\"', 'aliases': ['MetaCyc: 3.6.3.21-RXN', 'Name: ATP phosphohydrolase (polar-amino-acid-importing); histidine permease; polar-amino-acid-transporting ATPase'], 'code': '(1) cpd00001[0] + (1) cpd00002[0] + (1) cpd00069[1] <=> (1) cpd00008[0] + (1) cpd00009[0] + (1) cpd00069[0]', 'equation': '(1) cpd00001[0] + (1) cpd00002[0] + (1) cpd00069[1] => (1) cpd00008[0] + (1) cpd00009[0] + (1) cpd00067[0] + (1) cpd00069[0]', 'deltag': -6.16, 'is_transport': 1, 'source': 'Primary Database', 'ec_numbers': ['3.6.3.21'], 'products': [' (1) cpd00008[0]', '(1) cpd00009[0]', '(1) cpd00067[0]', '(1) cpd00069[0]'], 'reaction_id': 'rxn18579', 'compound_ids': 'cpd00001;cpd00002;cpd00008;cpd00009;cpd00067;cpd00069', 'substrates': ['(1) cpd00001[0]', '(1) cpd00002[0]', '(1) cpd00069[1] '], 'name': 'ATP phosphohydrolase (polar-amino-acid-importing)', 'reversibility': '>', 'deltagerr': 0.07, 'definition': '(1) H2O[0] + (1) ATP[0] + (1) L-Tyrosine[1] => (1) ADP[0] + (1) Phosphate[0] + (1) H+[0] + (1) L-Tyrosine[0]', 'direction': '>', 'status': 'OK'}>) type='PRODUCT_OF' properties={'to_property_list_name': 'products', 'from_property_name': 'compound_id', 'calculated': 'FALSE'}> reaction=<Node element_id='4:7de5358e-0bc2-417b-aa77-97dd0da86487:30856861' labels=frozenset({'Reaction'}) properties={'stoichiometry': '-1:cpd00001:0:0:\"H2O\";-1:cpd00002:0:0:\"ATP\";-1:cpd00069:1:0:\"L-Tyrosine\";1:cpd00008:0:0:\"ADP\";1:cpd00009:0:0:\"Phosphate\";1:cpd00067:0:0:\"H+\";1:cpd00069:0:0:\"L-Tyrosine\"', 'aliases': ['MetaCyc: 3.6.3.21-RXN', 'Name: ATP phosphohydrolase (polar-amino-acid-importing); histidine permease; polar-amino-acid-transporting ATPase'], 'code': '(1) cpd00001[0] + (1) cpd00002[0] + (1) cpd00069[1] <=> (1) cpd00008[0] + (1) cpd00009[0] + (1) cpd00069[0]', 'equation': '(1) cpd00001[0] + (1) cpd00002[0] + (1) cpd00069[1] => (1) cpd00008[0] + (1) cpd00009[0] + (1) cpd00067[0] + (1) cpd00069[0]', 'deltag': -6.16, 'is_transport': 1, 'source': 'Primary Database', 'ec_numbers': ['3.6.3.21'], 'products': [' (1) cpd00008[0]', '(1) cpd00009[0]', '(1) cpd00067[0]', '(1) cpd00069[0]'], 'reaction_id': 'rxn18579', 'compound_ids': 'cpd00001;cpd00002;cpd00008;cpd00009;cpd00067;cpd00069', 'substrates': ['(1) cpd00001[0]', '(1) cpd00002[0]', '(1) cpd00069[1] '], 'name': 'ATP phosphohydrolase (polar-amino-acid-importing)', 'reversibility': '>', 'deltagerr': 0.07, 'definition': '(1) H2O[0] + (1) ATP[0] + (1) L-Tyrosine[1] => (1) ADP[0] + (1) Phosphate[0] + (1) H+[0] + (1) L-Tyrosine[0]', 'direction': '>', 'status': 'OK'}>>,\n",
       " <Record c=<Node element_id='4:7de5358e-0bc2-417b-aa77-97dd0da86487:30819875' labels=frozenset({'Compound'}) properties={'is_core': 1, 'aliases': ['Name: (S)-2-Amino-3-(p-hydroxyphenyl)propionic acid; (S)-3-(p-Hydroxyphenyl)alanine; L-Tyrosine; L-tyr; L-tyrosine; Tyrosine; tyr; tyrosine', 'AraCyc: TYR', 'BiGG: tyr__L', 'BrachyCyc: TYR', 'KEGG: C00082', 'MetaCyc: TYR'], 'inchikey': 'OUYCCCASQSFEME-QMMMGPOBSA-N', 'charge': 0, 'smiles': '[NH3+][C@@H](Cc1ccc(O)cc1)C(=O)[O-]', 'pkb': '1:8:-5.96;1:13:9.19', 'pka': '1:8:9.79;1:11:2.00', 'mass': 181.0, 'compound_id': 'cpd00069', 'deltag': 18.52, 'source': 'Primary Database', 'name': 'L-Tyrosine', 'formula': 'C9H11NO3', 'deltagerr': 0.71, 'is_cofactor': 0}> r=<Relationship element_id='5:7de5358e-0bc2-417b-aa77-97dd0da86487:1096679' nodes=(<Node element_id='4:7de5358e-0bc2-417b-aa77-97dd0da86487:30819875' labels=frozenset({'Compound'}) properties={'is_core': 1, 'aliases': ['Name: (S)-2-Amino-3-(p-hydroxyphenyl)propionic acid; (S)-3-(p-Hydroxyphenyl)alanine; L-Tyrosine; L-tyr; L-tyrosine; Tyrosine; tyr; tyrosine', 'AraCyc: TYR', 'BiGG: tyr__L', 'BrachyCyc: TYR', 'KEGG: C00082', 'MetaCyc: TYR'], 'inchikey': 'OUYCCCASQSFEME-QMMMGPOBSA-N', 'charge': 0, 'smiles': '[NH3+][C@@H](Cc1ccc(O)cc1)C(=O)[O-]', 'pkb': '1:8:-5.96;1:13:9.19', 'pka': '1:8:9.79;1:11:2.00', 'mass': 181.0, 'compound_id': 'cpd00069', 'deltag': 18.52, 'source': 'Primary Database', 'name': 'L-Tyrosine', 'formula': 'C9H11NO3', 'deltagerr': 0.71, 'is_cofactor': 0}>, <Node element_id='4:7de5358e-0bc2-417b-aa77-97dd0da86487:30869364' labels=frozenset({'Reaction'}) properties={'stoichiometry': '-1:cpd00069:0:0:\"L-Tyrosine\";1:cpd00069:1:0:\"L-Tyrosine\"', 'aliases': ['BiGG: TYRtex', 'BrachyCyc: TRANS-RXNAVI-26415', 'MaizeCyc: TRANS-RXNBWI-115362', 'MetaCyc: RXN66-446', 'TS_Athaliana: TR_met1159_c_m; TR_met1159_c_p', 'Name: EX_tyr_L_e; L-tyrosine transport via diffusion; RXN66-446.ce'], 'code': '(1) cpd00069[0] <=> (1) cpd00069[1]', 'equation': '(1) cpd00069[0] <=> (1) cpd00069[1]', 'deltag': 0.0, 'is_transport': 1, 'source': 'Published Model', 'products': [' (1) cpd00069[1]'], 'reaction_id': 'rxn33273', 'compound_ids': 'cpd00069', 'substrates': ['(1) cpd00069[0] '], 'name': '-', 'reversibility': '=', 'deltagerr': 1.27, 'definition': '(1) L-Tyrosine[0] <=> (1) L-Tyrosine[1]', 'linked_reaction': 'rxn09339;rxn10974;rxn33271', 'direction': '=', 'status': 'OK'}>) type='PRODUCT_OF' properties={'to_property_list_name': 'products', 'from_property_name': 'compound_id', 'calculated': 'FALSE'}> reaction=<Node element_id='4:7de5358e-0bc2-417b-aa77-97dd0da86487:30869364' labels=frozenset({'Reaction'}) properties={'stoichiometry': '-1:cpd00069:0:0:\"L-Tyrosine\";1:cpd00069:1:0:\"L-Tyrosine\"', 'aliases': ['BiGG: TYRtex', 'BrachyCyc: TRANS-RXNAVI-26415', 'MaizeCyc: TRANS-RXNBWI-115362', 'MetaCyc: RXN66-446', 'TS_Athaliana: TR_met1159_c_m; TR_met1159_c_p', 'Name: EX_tyr_L_e; L-tyrosine transport via diffusion; RXN66-446.ce'], 'code': '(1) cpd00069[0] <=> (1) cpd00069[1]', 'equation': '(1) cpd00069[0] <=> (1) cpd00069[1]', 'deltag': 0.0, 'is_transport': 1, 'source': 'Published Model', 'products': [' (1) cpd00069[1]'], 'reaction_id': 'rxn33273', 'compound_ids': 'cpd00069', 'substrates': ['(1) cpd00069[0] '], 'name': '-', 'reversibility': '=', 'deltagerr': 1.27, 'definition': '(1) L-Tyrosine[0] <=> (1) L-Tyrosine[1]', 'linked_reaction': 'rxn09339;rxn10974;rxn33271', 'direction': '=', 'status': 'OK'}>>,\n",
       " <Record c=<Node element_id='4:7de5358e-0bc2-417b-aa77-97dd0da86487:30819875' labels=frozenset({'Compound'}) properties={'is_core': 1, 'aliases': ['Name: (S)-2-Amino-3-(p-hydroxyphenyl)propionic acid; (S)-3-(p-Hydroxyphenyl)alanine; L-Tyrosine; L-tyr; L-tyrosine; Tyrosine; tyr; tyrosine', 'AraCyc: TYR', 'BiGG: tyr__L', 'BrachyCyc: TYR', 'KEGG: C00082', 'MetaCyc: TYR'], 'inchikey': 'OUYCCCASQSFEME-QMMMGPOBSA-N', 'charge': 0, 'smiles': '[NH3+][C@@H](Cc1ccc(O)cc1)C(=O)[O-]', 'pkb': '1:8:-5.96;1:13:9.19', 'pka': '1:8:9.79;1:11:2.00', 'mass': 181.0, 'compound_id': 'cpd00069', 'deltag': 18.52, 'source': 'Primary Database', 'name': 'L-Tyrosine', 'formula': 'C9H11NO3', 'deltagerr': 0.71, 'is_cofactor': 0}> r=<Relationship element_id='5:7de5358e-0bc2-417b-aa77-97dd0da86487:1096658' nodes=(<Node element_id='4:7de5358e-0bc2-417b-aa77-97dd0da86487:30819875' labels=frozenset({'Compound'}) properties={'is_core': 1, 'aliases': ['Name: (S)-2-Amino-3-(p-hydroxyphenyl)propionic acid; (S)-3-(p-Hydroxyphenyl)alanine; L-Tyrosine; L-tyr; L-tyrosine; Tyrosine; tyr; tyrosine', 'AraCyc: TYR', 'BiGG: tyr__L', 'BrachyCyc: TYR', 'KEGG: C00082', 'MetaCyc: TYR'], 'inchikey': 'OUYCCCASQSFEME-QMMMGPOBSA-N', 'charge': 0, 'smiles': '[NH3+][C@@H](Cc1ccc(O)cc1)C(=O)[O-]', 'pkb': '1:8:-5.96;1:13:9.19', 'pka': '1:8:9.79;1:11:2.00', 'mass': 181.0, 'compound_id': 'cpd00069', 'deltag': 18.52, 'source': 'Primary Database', 'name': 'L-Tyrosine', 'formula': 'C9H11NO3', 'deltagerr': 0.71, 'is_cofactor': 0}>, <Node element_id='4:7de5358e-0bc2-417b-aa77-97dd0da86487:30846632' labels=frozenset({'Reaction'}) properties={'stoichiometry': '-1:cpd00067:0:0:\"H+\";-1:cpd01654:0:0:\"3-Iodo-L-tyrosine\";-1:cpd12742:0:0:\"HI\";1:cpd00069:0:0:\"L-Tyrosine\";1:cpd00994:0:0:\"I2\"', 'code': '(1) cpd01654[0] + (1) cpd12742[0] <=> (1) cpd00069[0] + (1) cpd00994[0]', 'aliases': ['KEGG: R03539', 'Name: Iodide:hydrogen-peroxide oxidoreductase'], 'equation': '(1) cpd00067[0] + (1) cpd01654[0] + (1) cpd12742[0] <=> (1) cpd00069[0] + (1) cpd00994[0]', 'is_transport': 0, 'deltag': 10000000.0, 'pathways': ['KEGG: rn00350 (Tyrosine metabolism)'], 'ec_numbers': ['1.11.1.8'], 'source': 'Primary Database', 'products': [' (1) cpd00069[0]', '(1) cpd00994[0]'], 'reaction_id': 'rxn06409', 'compound_ids': 'cpd00067;cpd00069;cpd00994;cpd01654;cpd12742', 'substrates': ['(1) cpd00067[0]', '(1) cpd01654[0]', '(1) cpd12742[0] '], 'reversibility': '?', 'name': 'R03539', 'definition': '(1) H+[0] + (1) 3-Iodo-L-tyrosine[0] + (1) HI[0] <=> (1) L-Tyrosine[0] + (1) I2[0]', 'deltagerr': 10000000.0, 'direction': '=', 'status': 'OK'}>) type='PRODUCT_OF' properties={'to_property_list_name': 'products', 'from_property_name': 'compound_id', 'calculated': 'FALSE'}> reaction=<Node element_id='4:7de5358e-0bc2-417b-aa77-97dd0da86487:30846632' labels=frozenset({'Reaction'}) properties={'stoichiometry': '-1:cpd00067:0:0:\"H+\";-1:cpd01654:0:0:\"3-Iodo-L-tyrosine\";-1:cpd12742:0:0:\"HI\";1:cpd00069:0:0:\"L-Tyrosine\";1:cpd00994:0:0:\"I2\"', 'code': '(1) cpd01654[0] + (1) cpd12742[0] <=> (1) cpd00069[0] + (1) cpd00994[0]', 'aliases': ['KEGG: R03539', 'Name: Iodide:hydrogen-peroxide oxidoreductase'], 'equation': '(1) cpd00067[0] + (1) cpd01654[0] + (1) cpd12742[0] <=> (1) cpd00069[0] + (1) cpd00994[0]', 'is_transport': 0, 'deltag': 10000000.0, 'pathways': ['KEGG: rn00350 (Tyrosine metabolism)'], 'ec_numbers': ['1.11.1.8'], 'source': 'Primary Database', 'products': [' (1) cpd00069[0]', '(1) cpd00994[0]'], 'reaction_id': 'rxn06409', 'compound_ids': 'cpd00067;cpd00069;cpd00994;cpd01654;cpd12742', 'substrates': ['(1) cpd00067[0]', '(1) cpd01654[0]', '(1) cpd12742[0] '], 'reversibility': '?', 'name': 'R03539', 'definition': '(1) H+[0] + (1) 3-Iodo-L-tyrosine[0] + (1) HI[0] <=> (1) L-Tyrosine[0] + (1) I2[0]', 'deltagerr': 10000000.0, 'direction': '=', 'status': 'OK'}>>,\n",
       " <Record c=<Node element_id='4:7de5358e-0bc2-417b-aa77-97dd0da86487:30819875' labels=frozenset({'Compound'}) properties={'is_core': 1, 'aliases': ['Name: (S)-2-Amino-3-(p-hydroxyphenyl)propionic acid; (S)-3-(p-Hydroxyphenyl)alanine; L-Tyrosine; L-tyr; L-tyrosine; Tyrosine; tyr; tyrosine', 'AraCyc: TYR', 'BiGG: tyr__L', 'BrachyCyc: TYR', 'KEGG: C00082', 'MetaCyc: TYR'], 'inchikey': 'OUYCCCASQSFEME-QMMMGPOBSA-N', 'charge': 0, 'smiles': '[NH3+][C@@H](Cc1ccc(O)cc1)C(=O)[O-]', 'pkb': '1:8:-5.96;1:13:9.19', 'pka': '1:8:9.79;1:11:2.00', 'mass': 181.0, 'compound_id': 'cpd00069', 'deltag': 18.52, 'source': 'Primary Database', 'name': 'L-Tyrosine', 'formula': 'C9H11NO3', 'deltagerr': 0.71, 'is_cofactor': 0}> r=<Relationship element_id='5:7de5358e-0bc2-417b-aa77-97dd0da86487:1096686' nodes=(<Node element_id='4:7de5358e-0bc2-417b-aa77-97dd0da86487:30819875' labels=frozenset({'Compound'}) properties={'is_core': 1, 'aliases': ['Name: (S)-2-Amino-3-(p-hydroxyphenyl)propionic acid; (S)-3-(p-Hydroxyphenyl)alanine; L-Tyrosine; L-tyr; L-tyrosine; Tyrosine; tyr; tyrosine', 'AraCyc: TYR', 'BiGG: tyr__L', 'BrachyCyc: TYR', 'KEGG: C00082', 'MetaCyc: TYR'], 'inchikey': 'OUYCCCASQSFEME-QMMMGPOBSA-N', 'charge': 0, 'smiles': '[NH3+][C@@H](Cc1ccc(O)cc1)C(=O)[O-]', 'pkb': '1:8:-5.96;1:13:9.19', 'pka': '1:8:9.79;1:11:2.00', 'mass': 181.0, 'compound_id': 'cpd00069', 'deltag': 18.52, 'source': 'Primary Database', 'name': 'L-Tyrosine', 'formula': 'C9H11NO3', 'deltagerr': 0.71, 'is_cofactor': 0}>, <Node element_id='4:7de5358e-0bc2-417b-aa77-97dd0da86487:30877976' labels=frozenset({'Reaction'}) properties={'stoichiometry': '-1:cpd00007:0:0:O2;-1:cpd00066:0:0:L-Phenylalanine;-1:cpd00233:0:0:Tetrahydrobiopterin;1:cpd00069:0:0:L-Tyrosine;1:cpd24598:0:0:4alpha-hydroxy-5,6,7,8-tetrahydrobiopterin', 'aliases': ['MetaCyc: RXN66-569'], 'code': '(1) cpd00007[0] + (1) cpd00066[0] + (1) cpd00233[0] <=> (1) cpd00069[0] + (1) cpd24598[0]', 'equation': '(1) cpd00007[0] + (1) cpd00066[0] + (1) cpd00233[0] <=> (1) cpd00069[0] + (1) cpd24598[0]', 'deltag': -91.65, 'is_transport': 0, 'pathways': ['MetaCyc: Amino-Acid-Biosynthesis (Amino Acid Biosynthesis); Amino-Acid-Degradation (Amino Acid Degradation); Degradation (Degradation/Utilization/Assimilation); IND-AMINO-ACID-SYN (Proteinogenic Amino Acid Biosynthesis); PHENYLALANINE-DEG (L-phenylalanine Degradation); PHENYLALANINE-DEG1-PWY (L-phenylalanine degradation I (aerobic)); PWY-6134 (L-tyrosine biosynthesis IV); Proteinogenic-Amino-Acids-Degradation (Proteinogenic Amino Acid Degradation); TYROSINE-SYN (L-tyrosine Biosynthesis)'], 'source': 'Primary Database', 'products': [' (1) cpd00069[0]', '(1) cpd24598[0]'], 'reaction_id': 'rxn42194', 'compound_ids': 'cpd00007;cpd00066;cpd00069;cpd00233;cpd24598', 'substrates': ['(1) cpd00007[0]', '(1) cpd00066[0]', '(1) cpd00233[0] '], 'name': '', 'reversibility': '>', 'deltagerr': 4.65, 'definition': '(1) O2[0] + (1) L-Phenylalanine[0] + (1) Tetrahydrobiopterin[0] <=> (1) L-Tyrosine[0] + (1) 4alpha-hydroxy-5,6,7,8-tetrahydrobiopterin[0]', 'status': 'OK', 'direction': '='}>) type='PRODUCT_OF' properties={'to_property_list_name': 'products', 'from_property_name': 'compound_id', 'calculated': 'FALSE'}> reaction=<Node element_id='4:7de5358e-0bc2-417b-aa77-97dd0da86487:30877976' labels=frozenset({'Reaction'}) properties={'stoichiometry': '-1:cpd00007:0:0:O2;-1:cpd00066:0:0:L-Phenylalanine;-1:cpd00233:0:0:Tetrahydrobiopterin;1:cpd00069:0:0:L-Tyrosine;1:cpd24598:0:0:4alpha-hydroxy-5,6,7,8-tetrahydrobiopterin', 'aliases': ['MetaCyc: RXN66-569'], 'code': '(1) cpd00007[0] + (1) cpd00066[0] + (1) cpd00233[0] <=> (1) cpd00069[0] + (1) cpd24598[0]', 'equation': '(1) cpd00007[0] + (1) cpd00066[0] + (1) cpd00233[0] <=> (1) cpd00069[0] + (1) cpd24598[0]', 'deltag': -91.65, 'is_transport': 0, 'pathways': ['MetaCyc: Amino-Acid-Biosynthesis (Amino Acid Biosynthesis); Amino-Acid-Degradation (Amino Acid Degradation); Degradation (Degradation/Utilization/Assimilation); IND-AMINO-ACID-SYN (Proteinogenic Amino Acid Biosynthesis); PHENYLALANINE-DEG (L-phenylalanine Degradation); PHENYLALANINE-DEG1-PWY (L-phenylalanine degradation I (aerobic)); PWY-6134 (L-tyrosine biosynthesis IV); Proteinogenic-Amino-Acids-Degradation (Proteinogenic Amino Acid Degradation); TYROSINE-SYN (L-tyrosine Biosynthesis)'], 'source': 'Primary Database', 'products': [' (1) cpd00069[0]', '(1) cpd24598[0]'], 'reaction_id': 'rxn42194', 'compound_ids': 'cpd00007;cpd00066;cpd00069;cpd00233;cpd24598', 'substrates': ['(1) cpd00007[0]', '(1) cpd00066[0]', '(1) cpd00233[0] '], 'name': '', 'reversibility': '>', 'deltagerr': 4.65, 'definition': '(1) O2[0] + (1) L-Phenylalanine[0] + (1) Tetrahydrobiopterin[0] <=> (1) L-Tyrosine[0] + (1) 4alpha-hydroxy-5,6,7,8-tetrahydrobiopterin[0]', 'status': 'OK', 'direction': '='}>>,\n",
       " <Record c=<Node element_id='4:7de5358e-0bc2-417b-aa77-97dd0da86487:30819875' labels=frozenset({'Compound'}) properties={'is_core': 1, 'aliases': ['Name: (S)-2-Amino-3-(p-hydroxyphenyl)propionic acid; (S)-3-(p-Hydroxyphenyl)alanine; L-Tyrosine; L-tyr; L-tyrosine; Tyrosine; tyr; tyrosine', 'AraCyc: TYR', 'BiGG: tyr__L', 'BrachyCyc: TYR', 'KEGG: C00082', 'MetaCyc: TYR'], 'inchikey': 'OUYCCCASQSFEME-QMMMGPOBSA-N', 'charge': 0, 'smiles': '[NH3+][C@@H](Cc1ccc(O)cc1)C(=O)[O-]', 'pkb': '1:8:-5.96;1:13:9.19', 'pka': '1:8:9.79;1:11:2.00', 'mass': 181.0, 'compound_id': 'cpd00069', 'deltag': 18.52, 'source': 'Primary Database', 'name': 'L-Tyrosine', 'formula': 'C9H11NO3', 'deltagerr': 0.71, 'is_cofactor': 0}> r=<Relationship element_id='5:7de5358e-0bc2-417b-aa77-97dd0da86487:1096653' nodes=(<Node element_id='4:7de5358e-0bc2-417b-aa77-97dd0da86487:30819875' labels=frozenset({'Compound'}) properties={'is_core': 1, 'aliases': ['Name: (S)-2-Amino-3-(p-hydroxyphenyl)propionic acid; (S)-3-(p-Hydroxyphenyl)alanine; L-Tyrosine; L-tyr; L-tyrosine; Tyrosine; tyr; tyrosine', 'AraCyc: TYR', 'BiGG: tyr__L', 'BrachyCyc: TYR', 'KEGG: C00082', 'MetaCyc: TYR'], 'inchikey': 'OUYCCCASQSFEME-QMMMGPOBSA-N', 'charge': 0, 'smiles': '[NH3+][C@@H](Cc1ccc(O)cc1)C(=O)[O-]', 'pkb': '1:8:-5.96;1:13:9.19', 'pka': '1:8:9.79;1:11:2.00', 'mass': 181.0, 'compound_id': 'cpd00069', 'deltag': 18.52, 'source': 'Primary Database', 'name': 'L-Tyrosine', 'formula': 'C9H11NO3', 'deltagerr': 0.71, 'is_cofactor': 0}>, <Node element_id='4:7de5358e-0bc2-417b-aa77-97dd0da86487:30840904' labels=frozenset({'Reaction'}) properties={'stoichiometry': '-1:cpd00003:0:0:\"NAD\";-1:cpd00616:0:0:\"Pretyrosine\";1:cpd00004:0:0:\"NADH\";1:cpd00011:0:0:\"CO2\";1:cpd00069:0:0:\"L-Tyrosine\"', 'code': '(1) cpd00003[0] + (1) cpd00616[0] <=> (1) cpd00004[0] + (1) cpd00011[0] + (1) cpd00069[0]', 'aliases': ['AraCyc: CYCLOHEXADIENYL-DEHYDROGENASE-RXN', 'BrachyCyc: CYCLOHEXADIENYL-DEHYDROGENASE-RXN', 'ChlamyCyc: CYCLOHEXADIENYL-DEHYDROGENASE-RXN', 'KEGG: R00732', 'MetaCyc: CYCLOHEXADIENYL-DEHYDROGENASE-RXN', 'Name: Arogenate dehydrogenase; Cyclohexadienyl dehydrogenase; L-arogenate:NAD+ oxidoreductase; L-arogenate:NAD+ oxidoreductase (decarboxylating); Pretyrosine dehydrogenase; arogenate dehydrogenase; arogenic dehydrogenase (ambiguous); cyclohexadienyl dehydrogenase; pretyrosine dehydrogenase (ambiguous)'], 'equation': '(1) cpd00003[0] + (1) cpd00616[0] => (1) cpd00004[0] + (1) cpd00011[0] + (1) cpd00069[0]', 'is_transport': 0, 'deltag': -5.36, 'pathways': ['MetaCyc: Amino-Acid-Biosynthesis (Amino Acid Biosynthesis); IND-AMINO-ACID-SYN (Proteinogenic Amino Acid Biosynthesis); PWY-6120 (L-tyrosine biosynthesis III); TYROSINE-SYN (L-tyrosine Biosynthesis)', 'KEGG: rn00400 (Phenylalanine, tyrosine and tryptophan biosynthesis); rn01230 (Biosynthesis of amino acids)'], 'ec_numbers': ['1.3.1.43', '1.3.1.79'], 'source': 'Primary Database', 'products': [' (1) cpd00004[0]', '(1) cpd00011[0]', '(1) cpd00069[0]'], 'reaction_id': 'rxn00525', 'compound_ids': 'cpd00003;cpd00004;cpd00011;cpd00069;cpd00616', 'substrates': ['(1) cpd00003[0]', '(1) cpd00616[0] '], 'reversibility': '>', 'name': 'L-arogenate:NAD+ oxidoreductase', 'definition': '(1) NAD[0] + (1) Pretyrosine[0] => (1) NADH[0] + (1) CO2[0] + (1) L-Tyrosine[0]', 'deltagerr': 2.64, 'linked_reaction': 'rxn27772', 'direction': '>', 'status': 'OK'}>) type='PRODUCT_OF' properties={'to_property_list_name': 'products', 'from_property_name': 'compound_id', 'calculated': 'FALSE'}> reaction=<Node element_id='4:7de5358e-0bc2-417b-aa77-97dd0da86487:30840904' labels=frozenset({'Reaction'}) properties={'stoichiometry': '-1:cpd00003:0:0:\"NAD\";-1:cpd00616:0:0:\"Pretyrosine\";1:cpd00004:0:0:\"NADH\";1:cpd00011:0:0:\"CO2\";1:cpd00069:0:0:\"L-Tyrosine\"', 'code': '(1) cpd00003[0] + (1) cpd00616[0] <=> (1) cpd00004[0] + (1) cpd00011[0] + (1) cpd00069[0]', 'aliases': ['AraCyc: CYCLOHEXADIENYL-DEHYDROGENASE-RXN', 'BrachyCyc: CYCLOHEXADIENYL-DEHYDROGENASE-RXN', 'ChlamyCyc: CYCLOHEXADIENYL-DEHYDROGENASE-RXN', 'KEGG: R00732', 'MetaCyc: CYCLOHEXADIENYL-DEHYDROGENASE-RXN', 'Name: Arogenate dehydrogenase; Cyclohexadienyl dehydrogenase; L-arogenate:NAD+ oxidoreductase; L-arogenate:NAD+ oxidoreductase (decarboxylating); Pretyrosine dehydrogenase; arogenate dehydrogenase; arogenic dehydrogenase (ambiguous); cyclohexadienyl dehydrogenase; pretyrosine dehydrogenase (ambiguous)'], 'equation': '(1) cpd00003[0] + (1) cpd00616[0] => (1) cpd00004[0] + (1) cpd00011[0] + (1) cpd00069[0]', 'is_transport': 0, 'deltag': -5.36, 'pathways': ['MetaCyc: Amino-Acid-Biosynthesis (Amino Acid Biosynthesis); IND-AMINO-ACID-SYN (Proteinogenic Amino Acid Biosynthesis); PWY-6120 (L-tyrosine biosynthesis III); TYROSINE-SYN (L-tyrosine Biosynthesis)', 'KEGG: rn00400 (Phenylalanine, tyrosine and tryptophan biosynthesis); rn01230 (Biosynthesis of amino acids)'], 'ec_numbers': ['1.3.1.43', '1.3.1.79'], 'source': 'Primary Database', 'products': [' (1) cpd00004[0]', '(1) cpd00011[0]', '(1) cpd00069[0]'], 'reaction_id': 'rxn00525', 'compound_ids': 'cpd00003;cpd00004;cpd00011;cpd00069;cpd00616', 'substrates': ['(1) cpd00003[0]', '(1) cpd00616[0] '], 'reversibility': '>', 'name': 'L-arogenate:NAD+ oxidoreductase', 'definition': '(1) NAD[0] + (1) Pretyrosine[0] => (1) NADH[0] + (1) CO2[0] + (1) L-Tyrosine[0]', 'deltagerr': 2.64, 'linked_reaction': 'rxn27772', 'direction': '>', 'status': 'OK'}>>,\n",
       " <Record c=<Node element_id='4:7de5358e-0bc2-417b-aa77-97dd0da86487:30819875' labels=frozenset({'Compound'}) properties={'is_core': 1, 'aliases': ['Name: (S)-2-Amino-3-(p-hydroxyphenyl)propionic acid; (S)-3-(p-Hydroxyphenyl)alanine; L-Tyrosine; L-tyr; L-tyrosine; Tyrosine; tyr; tyrosine', 'AraCyc: TYR', 'BiGG: tyr__L', 'BrachyCyc: TYR', 'KEGG: C00082', 'MetaCyc: TYR'], 'inchikey': 'OUYCCCASQSFEME-QMMMGPOBSA-N', 'charge': 0, 'smiles': '[NH3+][C@@H](Cc1ccc(O)cc1)C(=O)[O-]', 'pkb': '1:8:-5.96;1:13:9.19', 'pka': '1:8:9.79;1:11:2.00', 'mass': 181.0, 'compound_id': 'cpd00069', 'deltag': 18.52, 'source': 'Primary Database', 'name': 'L-Tyrosine', 'formula': 'C9H11NO3', 'deltagerr': 0.71, 'is_cofactor': 0}> r=<Relationship element_id='5:7de5358e-0bc2-417b-aa77-97dd0da86487:1096682' nodes=(<Node element_id='4:7de5358e-0bc2-417b-aa77-97dd0da86487:30819875' labels=frozenset({'Compound'}) properties={'is_core': 1, 'aliases': ['Name: (S)-2-Amino-3-(p-hydroxyphenyl)propionic acid; (S)-3-(p-Hydroxyphenyl)alanine; L-Tyrosine; L-tyr; L-tyrosine; Tyrosine; tyr; tyrosine', 'AraCyc: TYR', 'BiGG: tyr__L', 'BrachyCyc: TYR', 'KEGG: C00082', 'MetaCyc: TYR'], 'inchikey': 'OUYCCCASQSFEME-QMMMGPOBSA-N', 'charge': 0, 'smiles': '[NH3+][C@@H](Cc1ccc(O)cc1)C(=O)[O-]', 'pkb': '1:8:-5.96;1:13:9.19', 'pka': '1:8:9.79;1:11:2.00', 'mass': 181.0, 'compound_id': 'cpd00069', 'deltag': 18.52, 'source': 'Primary Database', 'name': 'L-Tyrosine', 'formula': 'C9H11NO3', 'deltagerr': 0.71, 'is_cofactor': 0}>, <Node element_id='4:7de5358e-0bc2-417b-aa77-97dd0da86487:30870217' labels=frozenset({'Reaction'}) properties={'stoichiometry': '-1:cpd00002:0:0:\"ATP\";-1:cpd00069:1:0:\"L-Tyrosine\";1:cpd00008:0:0:\"ADP\";1:cpd00069:0:0:\"L-Tyrosine\"', 'aliases': ['JM_Creinhardtii: JM_Cre_652', 'Name: '], 'code': '(1) cpd00002[0] + (1) cpd00069[1] <=> (1) cpd00008[0] + (1) cpd00069[0]', 'equation': '(1) cpd00002[0] + (1) cpd00069[1] <= (1) cpd00008[0] + (1) cpd00069[0]', 'deltag': 208.81, 'is_transport': 1, 'source': 'Published Model', 'products': [' (1) cpd00008[0]', '(1) cpd00069[0]'], 'reaction_id': 'rxn34131', 'compound_ids': 'cpd00002;cpd00008;cpd00069', 'substrates': ['(1) cpd00002[0]', '(1) cpd00069[1] '], 'name': 'JM_Cre_652', 'reversibility': '<', 'deltagerr': 0.14, 'definition': '(1) ATP[0] + (1) L-Tyrosine[1] <= (1) ADP[0] + (1) L-Tyrosine[0]', 'status': 'MI:O:-3/P:-1|CI:1', 'direction': '<'}>) type='PRODUCT_OF' properties={'to_property_list_name': 'products', 'from_property_name': 'compound_id', 'calculated': 'FALSE'}> reaction=<Node element_id='4:7de5358e-0bc2-417b-aa77-97dd0da86487:30870217' labels=frozenset({'Reaction'}) properties={'stoichiometry': '-1:cpd00002:0:0:\"ATP\";-1:cpd00069:1:0:\"L-Tyrosine\";1:cpd00008:0:0:\"ADP\";1:cpd00069:0:0:\"L-Tyrosine\"', 'aliases': ['JM_Creinhardtii: JM_Cre_652', 'Name: '], 'code': '(1) cpd00002[0] + (1) cpd00069[1] <=> (1) cpd00008[0] + (1) cpd00069[0]', 'equation': '(1) cpd00002[0] + (1) cpd00069[1] <= (1) cpd00008[0] + (1) cpd00069[0]', 'deltag': 208.81, 'is_transport': 1, 'source': 'Published Model', 'products': [' (1) cpd00008[0]', '(1) cpd00069[0]'], 'reaction_id': 'rxn34131', 'compound_ids': 'cpd00002;cpd00008;cpd00069', 'substrates': ['(1) cpd00002[0]', '(1) cpd00069[1] '], 'name': 'JM_Cre_652', 'reversibility': '<', 'deltagerr': 0.14, 'definition': '(1) ATP[0] + (1) L-Tyrosine[1] <= (1) ADP[0] + (1) L-Tyrosine[0]', 'status': 'MI:O:-3/P:-1|CI:1', 'direction': '<'}>>,\n",
       " <Record c=<Node element_id='4:7de5358e-0bc2-417b-aa77-97dd0da86487:30819875' labels=frozenset({'Compound'}) properties={'is_core': 1, 'aliases': ['Name: (S)-2-Amino-3-(p-hydroxyphenyl)propionic acid; (S)-3-(p-Hydroxyphenyl)alanine; L-Tyrosine; L-tyr; L-tyrosine; Tyrosine; tyr; tyrosine', 'AraCyc: TYR', 'BiGG: tyr__L', 'BrachyCyc: TYR', 'KEGG: C00082', 'MetaCyc: TYR'], 'inchikey': 'OUYCCCASQSFEME-QMMMGPOBSA-N', 'charge': 0, 'smiles': '[NH3+][C@@H](Cc1ccc(O)cc1)C(=O)[O-]', 'pkb': '1:8:-5.96;1:13:9.19', 'pka': '1:8:9.79;1:11:2.00', 'mass': 181.0, 'compound_id': 'cpd00069', 'deltag': 18.52, 'source': 'Primary Database', 'name': 'L-Tyrosine', 'formula': 'C9H11NO3', 'deltagerr': 0.71, 'is_cofactor': 0}> r=<Relationship element_id='5:7de5358e-0bc2-417b-aa77-97dd0da86487:1096662' nodes=(<Node element_id='4:7de5358e-0bc2-417b-aa77-97dd0da86487:30819875' labels=frozenset({'Compound'}) properties={'is_core': 1, 'aliases': ['Name: (S)-2-Amino-3-(p-hydroxyphenyl)propionic acid; (S)-3-(p-Hydroxyphenyl)alanine; L-Tyrosine; L-tyr; L-tyrosine; Tyrosine; tyr; tyrosine', 'AraCyc: TYR', 'BiGG: tyr__L', 'BrachyCyc: TYR', 'KEGG: C00082', 'MetaCyc: TYR'], 'inchikey': 'OUYCCCASQSFEME-QMMMGPOBSA-N', 'charge': 0, 'smiles': '[NH3+][C@@H](Cc1ccc(O)cc1)C(=O)[O-]', 'pkb': '1:8:-5.96;1:13:9.19', 'pka': '1:8:9.79;1:11:2.00', 'mass': 181.0, 'compound_id': 'cpd00069', 'deltag': 18.52, 'source': 'Primary Database', 'name': 'L-Tyrosine', 'formula': 'C9H11NO3', 'deltagerr': 0.71, 'is_cofactor': 0}>, <Node element_id='4:7de5358e-0bc2-417b-aa77-97dd0da86487:30849608' labels=frozenset({'Reaction'}) properties={'stoichiometry': '-1:cpd00067:0:0:\"H+\";-1:cpd00069:0:0:\"L-Tyrosine\";1:cpd00067:1:0:\"H+\";1:cpd00069:1:0:\"L-Tyrosine\"', 'code': '(1) cpd00069[0] <=> (1) cpd00069[1]', 'aliases': ['BiGG: AGP1_10; BAP2_7; BAP3_7; GAP1_16; TAT1_4; TAT2_6; TYRt2; TYRt2m; TYRt2p; TYRt2r; TYRt2rpp; TYRt6i; TYRt7; VAP1_6', 'BrachyCyc: TRANS-RXNAVI-26536', 'EcoCyc: TRANS-RXN-77', 'MaizeCyc: TRANS-RXNBWI-115637', 'MetaCyc: TRANS-RXN-77', 'Name: General amino acid permease AGP1; L-tyrosine reversible transport via proton symport; L-tyrosine transport in/out via proton symport; L-tyrosine transport out via proton symport; L-tyrosine:proton symport; L-tyrosinereversibletransportviaprotonsymport; TRANS-RXN-77.cp; TYRt6; Tyrosine permease; tyrosine transport via proton symport'], 'equation': '(1) cpd00067[0] + (1) cpd00069[0] <=> (1) cpd00067[1] + (1) cpd00069[1]', 'is_transport': 1, 'deltag': 0.0, 'ec_numbers': ['2.A.3.1.-'], 'source': 'Secondary Database', 'products': [' (1) cpd00067[1]', '(1) cpd00069[1]'], 'reaction_id': 'rxn09708', 'compound_ids': 'cpd00067;cpd00069', 'substrates': ['(1) cpd00067[0]', '(1) cpd00069[0] '], 'reversibility': '=', 'name': 'tyrosine mitochondrial transport via proton symport', 'definition': '(1) H+[0] + (1) L-Tyrosine[0] <=> (1) H+[1] + (1) L-Tyrosine[1]', 'deltagerr': 1.27, 'status': 'OK', 'linked_reaction': 'rxn05301;rxn09338;rxn09831;rxn13412;rxn34413', 'direction': '='}>) type='PRODUCT_OF' properties={'to_property_list_name': 'products', 'from_property_name': 'compound_id', 'calculated': 'FALSE'}> reaction=<Node element_id='4:7de5358e-0bc2-417b-aa77-97dd0da86487:30849608' labels=frozenset({'Reaction'}) properties={'stoichiometry': '-1:cpd00067:0:0:\"H+\";-1:cpd00069:0:0:\"L-Tyrosine\";1:cpd00067:1:0:\"H+\";1:cpd00069:1:0:\"L-Tyrosine\"', 'code': '(1) cpd00069[0] <=> (1) cpd00069[1]', 'aliases': ['BiGG: AGP1_10; BAP2_7; BAP3_7; GAP1_16; TAT1_4; TAT2_6; TYRt2; TYRt2m; TYRt2p; TYRt2r; TYRt2rpp; TYRt6i; TYRt7; VAP1_6', 'BrachyCyc: TRANS-RXNAVI-26536', 'EcoCyc: TRANS-RXN-77', 'MaizeCyc: TRANS-RXNBWI-115637', 'MetaCyc: TRANS-RXN-77', 'Name: General amino acid permease AGP1; L-tyrosine reversible transport via proton symport; L-tyrosine transport in/out via proton symport; L-tyrosine transport out via proton symport; L-tyrosine:proton symport; L-tyrosinereversibletransportviaprotonsymport; TRANS-RXN-77.cp; TYRt6; Tyrosine permease; tyrosine transport via proton symport'], 'equation': '(1) cpd00067[0] + (1) cpd00069[0] <=> (1) cpd00067[1] + (1) cpd00069[1]', 'is_transport': 1, 'deltag': 0.0, 'ec_numbers': ['2.A.3.1.-'], 'source': 'Secondary Database', 'products': [' (1) cpd00067[1]', '(1) cpd00069[1]'], 'reaction_id': 'rxn09708', 'compound_ids': 'cpd00067;cpd00069', 'substrates': ['(1) cpd00067[0]', '(1) cpd00069[0] '], 'reversibility': '=', 'name': 'tyrosine mitochondrial transport via proton symport', 'definition': '(1) H+[0] + (1) L-Tyrosine[0] <=> (1) H+[1] + (1) L-Tyrosine[1]', 'deltagerr': 1.27, 'status': 'OK', 'linked_reaction': 'rxn05301;rxn09338;rxn09831;rxn13412;rxn34413', 'direction': '='}>>,\n",
       " <Record c=<Node element_id='4:7de5358e-0bc2-417b-aa77-97dd0da86487:30819875' labels=frozenset({'Compound'}) properties={'is_core': 1, 'aliases': ['Name: (S)-2-Amino-3-(p-hydroxyphenyl)propionic acid; (S)-3-(p-Hydroxyphenyl)alanine; L-Tyrosine; L-tyr; L-tyrosine; Tyrosine; tyr; tyrosine', 'AraCyc: TYR', 'BiGG: tyr__L', 'BrachyCyc: TYR', 'KEGG: C00082', 'MetaCyc: TYR'], 'inchikey': 'OUYCCCASQSFEME-QMMMGPOBSA-N', 'charge': 0, 'smiles': '[NH3+][C@@H](Cc1ccc(O)cc1)C(=O)[O-]', 'pkb': '1:8:-5.96;1:13:9.19', 'pka': '1:8:9.79;1:11:2.00', 'mass': 181.0, 'compound_id': 'cpd00069', 'deltag': 18.52, 'source': 'Primary Database', 'name': 'L-Tyrosine', 'formula': 'C9H11NO3', 'deltagerr': 0.71, 'is_cofactor': 0}> r=<Relationship element_id='5:7de5358e-0bc2-417b-aa77-97dd0da86487:1096665' nodes=(<Node element_id='4:7de5358e-0bc2-417b-aa77-97dd0da86487:30819875' labels=frozenset({'Compound'}) properties={'is_core': 1, 'aliases': ['Name: (S)-2-Amino-3-(p-hydroxyphenyl)propionic acid; (S)-3-(p-Hydroxyphenyl)alanine; L-Tyrosine; L-tyr; L-tyrosine; Tyrosine; tyr; tyrosine', 'AraCyc: TYR', 'BiGG: tyr__L', 'BrachyCyc: TYR', 'KEGG: C00082', 'MetaCyc: TYR'], 'inchikey': 'OUYCCCASQSFEME-QMMMGPOBSA-N', 'charge': 0, 'smiles': '[NH3+][C@@H](Cc1ccc(O)cc1)C(=O)[O-]', 'pkb': '1:8:-5.96;1:13:9.19', 'pka': '1:8:9.79;1:11:2.00', 'mass': 181.0, 'compound_id': 'cpd00069', 'deltag': 18.52, 'source': 'Primary Database', 'name': 'L-Tyrosine', 'formula': 'C9H11NO3', 'deltagerr': 0.71, 'is_cofactor': 0}>, <Node element_id='4:7de5358e-0bc2-417b-aa77-97dd0da86487:30850885' labels=frozenset({'Reaction'}) properties={'stoichiometry': '-1:cpd00066:0:0:\"L-Phenylalanine\";-1:cpd00868:0:0:\"p-hydroxyphenylpyruvate\";1:cpd00069:0:0:\"L-Tyrosine\";1:cpd00143:0:0:\"Phenylpyruvate\"', 'code': '(1) cpd00066[0] + (1) cpd00868[0] <=> (1) cpd00069[0] + (1) cpd00143[0]', 'aliases': ['MetaCyc: RXN-15200', 'iAO358: rll_23; rll_32', 'Name: Aminotransferase'], 'equation': '(1) cpd00066[0] + (1) cpd00868[0] <=> (1) cpd00069[0] + (1) cpd00143[0]', 'is_transport': 0, 'deltag': -3.6, 'pathways': ['MetaCyc: Amino-Acid-Biosynthesis (Amino Acid Biosynthesis); IND-AMINO-ACID-SYN (Proteinogenic Amino Acid Biosynthesis); PHENYLALANINE-SYN (L-phenylalanine Biosynthesis); PWY-7432 (L-phenylalanine biosynthesis III (cytosolic, plants))'], 'ec_numbers': ['2.6.1.57'], 'source': 'Primary Database', 'products': [' (1) cpd00069[0]', '(1) cpd00143[0]'], 'reaction_id': 'rxn11201', 'compound_ids': 'cpd00066;cpd00069;cpd00143;cpd00868', 'substrates': ['(1) cpd00066[0]', '(1) cpd00868[0] '], 'reversibility': '=', 'name': 'Aminotransferase', 'definition': '(1) L-Phenylalanine[0] + (1) p-hydroxyphenylpyruvate[0] <=> (1) L-Tyrosine[0] + (1) Phenylpyruvate[0]', 'deltagerr': 1.12, 'direction': '=', 'status': 'OK'}>) type='PRODUCT_OF' properties={'to_property_list_name': 'products', 'from_property_name': 'compound_id', 'calculated': 'FALSE'}> reaction=<Node element_id='4:7de5358e-0bc2-417b-aa77-97dd0da86487:30850885' labels=frozenset({'Reaction'}) properties={'stoichiometry': '-1:cpd00066:0:0:\"L-Phenylalanine\";-1:cpd00868:0:0:\"p-hydroxyphenylpyruvate\";1:cpd00069:0:0:\"L-Tyrosine\";1:cpd00143:0:0:\"Phenylpyruvate\"', 'code': '(1) cpd00066[0] + (1) cpd00868[0] <=> (1) cpd00069[0] + (1) cpd00143[0]', 'aliases': ['MetaCyc: RXN-15200', 'iAO358: rll_23; rll_32', 'Name: Aminotransferase'], 'equation': '(1) cpd00066[0] + (1) cpd00868[0] <=> (1) cpd00069[0] + (1) cpd00143[0]', 'is_transport': 0, 'deltag': -3.6, 'pathways': ['MetaCyc: Amino-Acid-Biosynthesis (Amino Acid Biosynthesis); IND-AMINO-ACID-SYN (Proteinogenic Amino Acid Biosynthesis); PHENYLALANINE-SYN (L-phenylalanine Biosynthesis); PWY-7432 (L-phenylalanine biosynthesis III (cytosolic, plants))'], 'ec_numbers': ['2.6.1.57'], 'source': 'Primary Database', 'products': [' (1) cpd00069[0]', '(1) cpd00143[0]'], 'reaction_id': 'rxn11201', 'compound_ids': 'cpd00066;cpd00069;cpd00143;cpd00868', 'substrates': ['(1) cpd00066[0]', '(1) cpd00868[0] '], 'reversibility': '=', 'name': 'Aminotransferase', 'definition': '(1) L-Phenylalanine[0] + (1) p-hydroxyphenylpyruvate[0] <=> (1) L-Tyrosine[0] + (1) Phenylpyruvate[0]', 'deltagerr': 1.12, 'direction': '=', 'status': 'OK'}>>,\n",
       " <Record c=<Node element_id='4:7de5358e-0bc2-417b-aa77-97dd0da86487:30819875' labels=frozenset({'Compound'}) properties={'is_core': 1, 'aliases': ['Name: (S)-2-Amino-3-(p-hydroxyphenyl)propionic acid; (S)-3-(p-Hydroxyphenyl)alanine; L-Tyrosine; L-tyr; L-tyrosine; Tyrosine; tyr; tyrosine', 'AraCyc: TYR', 'BiGG: tyr__L', 'BrachyCyc: TYR', 'KEGG: C00082', 'MetaCyc: TYR'], 'inchikey': 'OUYCCCASQSFEME-QMMMGPOBSA-N', 'charge': 0, 'smiles': '[NH3+][C@@H](Cc1ccc(O)cc1)C(=O)[O-]', 'pkb': '1:8:-5.96;1:13:9.19', 'pka': '1:8:9.79;1:11:2.00', 'mass': 181.0, 'compound_id': 'cpd00069', 'deltag': 18.52, 'source': 'Primary Database', 'name': 'L-Tyrosine', 'formula': 'C9H11NO3', 'deltagerr': 0.71, 'is_cofactor': 0}> r=<Relationship element_id='5:7de5358e-0bc2-417b-aa77-97dd0da86487:1096661' nodes=(<Node element_id='4:7de5358e-0bc2-417b-aa77-97dd0da86487:30819875' labels=frozenset({'Compound'}) properties={'is_core': 1, 'aliases': ['Name: (S)-2-Amino-3-(p-hydroxyphenyl)propionic acid; (S)-3-(p-Hydroxyphenyl)alanine; L-Tyrosine; L-tyr; L-tyrosine; Tyrosine; tyr; tyrosine', 'AraCyc: TYR', 'BiGG: tyr__L', 'BrachyCyc: TYR', 'KEGG: C00082', 'MetaCyc: TYR'], 'inchikey': 'OUYCCCASQSFEME-QMMMGPOBSA-N', 'charge': 0, 'smiles': '[NH3+][C@@H](Cc1ccc(O)cc1)C(=O)[O-]', 'pkb': '1:8:-5.96;1:13:9.19', 'pka': '1:8:9.79;1:11:2.00', 'mass': 181.0, 'compound_id': 'cpd00069', 'deltag': 18.52, 'source': 'Primary Database', 'name': 'L-Tyrosine', 'formula': 'C9H11NO3', 'deltagerr': 0.71, 'is_cofactor': 0}>, <Node element_id='4:7de5358e-0bc2-417b-aa77-97dd0da86487:30849304' labels=frozenset({'Reaction'}) properties={'stoichiometry': '-1:cpd00069:0:0:\"L-Tyrosine\";1:cpd00069:1:0:\"L-Tyrosine\"', 'aliases': ['BiGG: TYRtex', 'BrachyCyc: TRANS-RXNAVI-26415', 'MaizeCyc: TRANS-RXNBWI-115362', 'MetaCyc: RXN66-446', 'TS_Athaliana: TR_met1159_c_m; TR_met1159_c_p', 'Name: EX_tyr_L_e; L-tyrosine transport via diffusion; RXN66-446.ce'], 'code': '(1) cpd00069[0] <=> (1) cpd00069[1]', 'equation': '(1) cpd00069[0] <=> (1) cpd00069[1]', 'deltag': 0.0, 'is_transport': 1, 'source': 'Primary Database', 'products': [' (1) cpd00069[1]'], 'reaction_id': 'rxn09339', 'compound_ids': 'cpd00069', 'substrates': ['(1) cpd00069[0] '], 'name': 'L-tyrosine transport via diffusion (extracellular to periplasm)', 'reversibility': '=', 'deltagerr': 1.27, 'definition': '(1) L-Tyrosine[0] <=> (1) L-Tyrosine[1]', 'linked_reaction': 'rxn10974;rxn33271;rxn33273', 'direction': '=', 'status': 'OK'}>) type='PRODUCT_OF' properties={'to_property_list_name': 'products', 'from_property_name': 'compound_id', 'calculated': 'FALSE'}> reaction=<Node element_id='4:7de5358e-0bc2-417b-aa77-97dd0da86487:30849304' labels=frozenset({'Reaction'}) properties={'stoichiometry': '-1:cpd00069:0:0:\"L-Tyrosine\";1:cpd00069:1:0:\"L-Tyrosine\"', 'aliases': ['BiGG: TYRtex', 'BrachyCyc: TRANS-RXNAVI-26415', 'MaizeCyc: TRANS-RXNBWI-115362', 'MetaCyc: RXN66-446', 'TS_Athaliana: TR_met1159_c_m; TR_met1159_c_p', 'Name: EX_tyr_L_e; L-tyrosine transport via diffusion; RXN66-446.ce'], 'code': '(1) cpd00069[0] <=> (1) cpd00069[1]', 'equation': '(1) cpd00069[0] <=> (1) cpd00069[1]', 'deltag': 0.0, 'is_transport': 1, 'source': 'Primary Database', 'products': [' (1) cpd00069[1]'], 'reaction_id': 'rxn09339', 'compound_ids': 'cpd00069', 'substrates': ['(1) cpd00069[0] '], 'name': 'L-tyrosine transport via diffusion (extracellular to periplasm)', 'reversibility': '=', 'deltagerr': 1.27, 'definition': '(1) L-Tyrosine[0] <=> (1) L-Tyrosine[1]', 'linked_reaction': 'rxn10974;rxn33271;rxn33273', 'direction': '=', 'status': 'OK'}>>,\n",
       " <Record c=<Node element_id='4:7de5358e-0bc2-417b-aa77-97dd0da86487:30819875' labels=frozenset({'Compound'}) properties={'is_core': 1, 'aliases': ['Name: (S)-2-Amino-3-(p-hydroxyphenyl)propionic acid; (S)-3-(p-Hydroxyphenyl)alanine; L-Tyrosine; L-tyr; L-tyrosine; Tyrosine; tyr; tyrosine', 'AraCyc: TYR', 'BiGG: tyr__L', 'BrachyCyc: TYR', 'KEGG: C00082', 'MetaCyc: TYR'], 'inchikey': 'OUYCCCASQSFEME-QMMMGPOBSA-N', 'charge': 0, 'smiles': '[NH3+][C@@H](Cc1ccc(O)cc1)C(=O)[O-]', 'pkb': '1:8:-5.96;1:13:9.19', 'pka': '1:8:9.79;1:11:2.00', 'mass': 181.0, 'compound_id': 'cpd00069', 'deltag': 18.52, 'source': 'Primary Database', 'name': 'L-Tyrosine', 'formula': 'C9H11NO3', 'deltagerr': 0.71, 'is_cofactor': 0}> r=<Relationship element_id='5:7de5358e-0bc2-417b-aa77-97dd0da86487:1096673' nodes=(<Node element_id='4:7de5358e-0bc2-417b-aa77-97dd0da86487:30819875' labels=frozenset({'Compound'}) properties={'is_core': 1, 'aliases': ['Name: (S)-2-Amino-3-(p-hydroxyphenyl)propionic acid; (S)-3-(p-Hydroxyphenyl)alanine; L-Tyrosine; L-tyr; L-tyrosine; Tyrosine; tyr; tyrosine', 'AraCyc: TYR', 'BiGG: tyr__L', 'BrachyCyc: TYR', 'KEGG: C00082', 'MetaCyc: TYR'], 'inchikey': 'OUYCCCASQSFEME-QMMMGPOBSA-N', 'charge': 0, 'smiles': '[NH3+][C@@H](Cc1ccc(O)cc1)C(=O)[O-]', 'pkb': '1:8:-5.96;1:13:9.19', 'pka': '1:8:9.79;1:11:2.00', 'mass': 181.0, 'compound_id': 'cpd00069', 'deltag': 18.52, 'source': 'Primary Database', 'name': 'L-Tyrosine', 'formula': 'C9H11NO3', 'deltagerr': 0.71, 'is_cofactor': 0}>, <Node element_id='4:7de5358e-0bc2-417b-aa77-97dd0da86487:30858256' labels=frozenset({'Reaction'}) properties={'stoichiometry': '-1:cpd00007:0:0:\"O2\";-1:cpd00066:0:0:\"L-Phenylalanine\";-1:cpd28214:0:0:\"TETRA-H-BIOPTERIN\";1:cpd00069:0:0:\"L-Tyrosine\";1:cpd24598:0:0:\"4alpha-hydroxy-5,6,7,8-tetrahydrobiopterin\"', 'aliases': ['ChlamyCyc: PHENYLALANINE-4-MONOOXYGENASE-RXN', 'MetaCyc: PHENYLALANINE-4-MONOOXYGENASE-RXN', 'Name: L-phenylalanine,tetrahydrobiopterin:oxygen oxidoreductase (4-hydroxylating); phenylalaninase; phenylalanine 4-hydroxylase; phenylalanine 4-monooxygenase; phenylalanine hydroxylase'], 'code': '(1) cpd00007[0] + (1) cpd00066[0] + (1) cpd28214[0] <=> (1) cpd00069[0] + (1) cpd24598[0]', 'equation': '(1) cpd00007[0] + (1) cpd00066[0] + (1) cpd28214[0] => (1) cpd00069[0] + (1) cpd24598[0]', 'deltag': -91.65, 'is_transport': 0, 'source': 'Primary Database', 'ec_numbers': ['1.14.16.1'], 'products': [' (1) cpd00069[0]', '(1) cpd24598[0]'], 'reaction_id': 'rxn20538', 'compound_ids': 'cpd00007;cpd00066;cpd00069;cpd24598;cpd28214', 'name': 'phenylalanine 4-hydroxylase', 'substrates': ['(1) cpd00007[0]', '(1) cpd00066[0]', '(1) cpd28214[0] '], 'reversibility': '>', 'deltagerr': 4.65, 'definition': '(1) O2[0] + (1) L-Phenylalanine[0] + (1) TETRA-H-BIOPTERIN[0] => (1) L-Tyrosine[0] + (1) 4alpha-hydroxy-5,6,7,8-tetrahydrobiopterin[0]', 'direction': '>', 'status': 'OK'}>) type='PRODUCT_OF' properties={'to_property_list_name': 'products', 'from_property_name': 'compound_id', 'calculated': 'FALSE'}> reaction=<Node element_id='4:7de5358e-0bc2-417b-aa77-97dd0da86487:30858256' labels=frozenset({'Reaction'}) properties={'stoichiometry': '-1:cpd00007:0:0:\"O2\";-1:cpd00066:0:0:\"L-Phenylalanine\";-1:cpd28214:0:0:\"TETRA-H-BIOPTERIN\";1:cpd00069:0:0:\"L-Tyrosine\";1:cpd24598:0:0:\"4alpha-hydroxy-5,6,7,8-tetrahydrobiopterin\"', 'aliases': ['ChlamyCyc: PHENYLALANINE-4-MONOOXYGENASE-RXN', 'MetaCyc: PHENYLALANINE-4-MONOOXYGENASE-RXN', 'Name: L-phenylalanine,tetrahydrobiopterin:oxygen oxidoreductase (4-hydroxylating); phenylalaninase; phenylalanine 4-hydroxylase; phenylalanine 4-monooxygenase; phenylalanine hydroxylase'], 'code': '(1) cpd00007[0] + (1) cpd00066[0] + (1) cpd28214[0] <=> (1) cpd00069[0] + (1) cpd24598[0]', 'equation': '(1) cpd00007[0] + (1) cpd00066[0] + (1) cpd28214[0] => (1) cpd00069[0] + (1) cpd24598[0]', 'deltag': -91.65, 'is_transport': 0, 'source': 'Primary Database', 'ec_numbers': ['1.14.16.1'], 'products': [' (1) cpd00069[0]', '(1) cpd24598[0]'], 'reaction_id': 'rxn20538', 'compound_ids': 'cpd00007;cpd00066;cpd00069;cpd24598;cpd28214', 'name': 'phenylalanine 4-hydroxylase', 'substrates': ['(1) cpd00007[0]', '(1) cpd00066[0]', '(1) cpd28214[0] '], 'reversibility': '>', 'deltagerr': 4.65, 'definition': '(1) O2[0] + (1) L-Phenylalanine[0] + (1) TETRA-H-BIOPTERIN[0] => (1) L-Tyrosine[0] + (1) 4alpha-hydroxy-5,6,7,8-tetrahydrobiopterin[0]', 'direction': '>', 'status': 'OK'}>>,\n",
       " <Record c=<Node element_id='4:7de5358e-0bc2-417b-aa77-97dd0da86487:30819875' labels=frozenset({'Compound'}) properties={'is_core': 1, 'aliases': ['Name: (S)-2-Amino-3-(p-hydroxyphenyl)propionic acid; (S)-3-(p-Hydroxyphenyl)alanine; L-Tyrosine; L-tyr; L-tyrosine; Tyrosine; tyr; tyrosine', 'AraCyc: TYR', 'BiGG: tyr__L', 'BrachyCyc: TYR', 'KEGG: C00082', 'MetaCyc: TYR'], 'inchikey': 'OUYCCCASQSFEME-QMMMGPOBSA-N', 'charge': 0, 'smiles': '[NH3+][C@@H](Cc1ccc(O)cc1)C(=O)[O-]', 'pkb': '1:8:-5.96;1:13:9.19', 'pka': '1:8:9.79;1:11:2.00', 'mass': 181.0, 'compound_id': 'cpd00069', 'deltag': 18.52, 'source': 'Primary Database', 'name': 'L-Tyrosine', 'formula': 'C9H11NO3', 'deltagerr': 0.71, 'is_cofactor': 0}> r=<Relationship element_id='5:7de5358e-0bc2-417b-aa77-97dd0da86487:1096654' nodes=(<Node element_id='4:7de5358e-0bc2-417b-aa77-97dd0da86487:30819875' labels=frozenset({'Compound'}) properties={'is_core': 1, 'aliases': ['Name: (S)-2-Amino-3-(p-hydroxyphenyl)propionic acid; (S)-3-(p-Hydroxyphenyl)alanine; L-Tyrosine; L-tyr; L-tyrosine; Tyrosine; tyr; tyrosine', 'AraCyc: TYR', 'BiGG: tyr__L', 'BrachyCyc: TYR', 'KEGG: C00082', 'MetaCyc: TYR'], 'inchikey': 'OUYCCCASQSFEME-QMMMGPOBSA-N', 'charge': 0, 'smiles': '[NH3+][C@@H](Cc1ccc(O)cc1)C(=O)[O-]', 'pkb': '1:8:-5.96;1:13:9.19', 'pka': '1:8:9.79;1:11:2.00', 'mass': 181.0, 'compound_id': 'cpd00069', 'deltag': 18.52, 'source': 'Primary Database', 'name': 'L-Tyrosine', 'formula': 'C9H11NO3', 'deltagerr': 0.71, 'is_cofactor': 0}>, <Node element_id='4:7de5358e-0bc2-417b-aa77-97dd0da86487:30840905' labels=frozenset({'Reaction'}) properties={'stoichiometry': '-1:cpd00006:0:0:\"NADP\";-1:cpd00616:0:0:\"Pretyrosine\";1:cpd00005:0:0:\"NADPH\";1:cpd00011:0:0:\"CO2\";1:cpd00069:0:0:\"L-Tyrosine\"', 'code': '(1) cpd00006[0] + (1) cpd00616[0] <=> (1) cpd00005[0] + (1) cpd00011[0] + (1) cpd00069[0]', 'aliases': ['AraCyc: RXN-5682', 'ChlamyCyc: RXN-5682', 'CornCyc: RXN-5682', 'KEGG: R00733', 'MetaCyc: RXN-5682', 'Name: L-arogenate:NADP+ oxidoreductase; L-arogenate:NADP+ oxidoreductase (decarboxylating); TyrAAT1; TyrAAT2; TyrAa; arogenate dehydrogenase (NADP+); arogenic dehydrogenase (ambiguous); pretyrosine dehydrogenase (ambiguous)'], 'equation': '(1) cpd00006[0] + (1) cpd00616[0] => (1) cpd00005[0] + (1) cpd00011[0] + (1) cpd00069[0]', 'is_transport': 0, 'deltag': -5.36, 'pathways': ['MetaCyc: Amino-Acid-Biosynthesis (Amino Acid Biosynthesis); IND-AMINO-ACID-SYN (Proteinogenic Amino Acid Biosynthesis); PWY-3461 (L-tyrosine biosynthesis II); PWY-3481 (superpathway of L-phenylalanine and L-tyrosine biosynthesis); TYROSINE-SYN (L-tyrosine Biosynthesis)', 'KEGG: rn00400 (Phenylalanine, tyrosine and tryptophan biosynthesis); rn01230 (Biosynthesis of amino acids)'], 'ec_numbers': ['1.3.1.78', '1.3.1.79'], 'source': 'Primary Database', 'products': [' (1) cpd00005[0]', '(1) cpd00011[0]', '(1) cpd00069[0]'], 'reaction_id': 'rxn00526', 'compound_ids': 'cpd00005;cpd00006;cpd00011;cpd00069;cpd00616', 'substrates': ['(1) cpd00006[0]', '(1) cpd00616[0] '], 'reversibility': '>', 'name': 'L-arogenate:NADP+ oxidoreductase', 'definition': '(1) NADP[0] + (1) Pretyrosine[0] => (1) NADPH[0] + (1) CO2[0] + (1) L-Tyrosine[0]', 'deltagerr': 2.64, 'linked_reaction': 'rxn24109', 'direction': '>', 'status': 'OK'}>) type='PRODUCT_OF' properties={'to_property_list_name': 'products', 'from_property_name': 'compound_id', 'calculated': 'FALSE'}> reaction=<Node element_id='4:7de5358e-0bc2-417b-aa77-97dd0da86487:30840905' labels=frozenset({'Reaction'}) properties={'stoichiometry': '-1:cpd00006:0:0:\"NADP\";-1:cpd00616:0:0:\"Pretyrosine\";1:cpd00005:0:0:\"NADPH\";1:cpd00011:0:0:\"CO2\";1:cpd00069:0:0:\"L-Tyrosine\"', 'code': '(1) cpd00006[0] + (1) cpd00616[0] <=> (1) cpd00005[0] + (1) cpd00011[0] + (1) cpd00069[0]', 'aliases': ['AraCyc: RXN-5682', 'ChlamyCyc: RXN-5682', 'CornCyc: RXN-5682', 'KEGG: R00733', 'MetaCyc: RXN-5682', 'Name: L-arogenate:NADP+ oxidoreductase; L-arogenate:NADP+ oxidoreductase (decarboxylating); TyrAAT1; TyrAAT2; TyrAa; arogenate dehydrogenase (NADP+); arogenic dehydrogenase (ambiguous); pretyrosine dehydrogenase (ambiguous)'], 'equation': '(1) cpd00006[0] + (1) cpd00616[0] => (1) cpd00005[0] + (1) cpd00011[0] + (1) cpd00069[0]', 'is_transport': 0, 'deltag': -5.36, 'pathways': ['MetaCyc: Amino-Acid-Biosynthesis (Amino Acid Biosynthesis); IND-AMINO-ACID-SYN (Proteinogenic Amino Acid Biosynthesis); PWY-3461 (L-tyrosine biosynthesis II); PWY-3481 (superpathway of L-phenylalanine and L-tyrosine biosynthesis); TYROSINE-SYN (L-tyrosine Biosynthesis)', 'KEGG: rn00400 (Phenylalanine, tyrosine and tryptophan biosynthesis); rn01230 (Biosynthesis of amino acids)'], 'ec_numbers': ['1.3.1.78', '1.3.1.79'], 'source': 'Primary Database', 'products': [' (1) cpd00005[0]', '(1) cpd00011[0]', '(1) cpd00069[0]'], 'reaction_id': 'rxn00526', 'compound_ids': 'cpd00005;cpd00006;cpd00011;cpd00069;cpd00616', 'substrates': ['(1) cpd00006[0]', '(1) cpd00616[0] '], 'reversibility': '>', 'name': 'L-arogenate:NADP+ oxidoreductase', 'definition': '(1) NADP[0] + (1) Pretyrosine[0] => (1) NADPH[0] + (1) CO2[0] + (1) L-Tyrosine[0]', 'deltagerr': 2.64, 'linked_reaction': 'rxn24109', 'direction': '>', 'status': 'OK'}>>,\n",
       " <Record c=<Node element_id='4:7de5358e-0bc2-417b-aa77-97dd0da86487:30819875' labels=frozenset({'Compound'}) properties={'is_core': 1, 'aliases': ['Name: (S)-2-Amino-3-(p-hydroxyphenyl)propionic acid; (S)-3-(p-Hydroxyphenyl)alanine; L-Tyrosine; L-tyr; L-tyrosine; Tyrosine; tyr; tyrosine', 'AraCyc: TYR', 'BiGG: tyr__L', 'BrachyCyc: TYR', 'KEGG: C00082', 'MetaCyc: TYR'], 'inchikey': 'OUYCCCASQSFEME-QMMMGPOBSA-N', 'charge': 0, 'smiles': '[NH3+][C@@H](Cc1ccc(O)cc1)C(=O)[O-]', 'pkb': '1:8:-5.96;1:13:9.19', 'pka': '1:8:9.79;1:11:2.00', 'mass': 181.0, 'compound_id': 'cpd00069', 'deltag': 18.52, 'source': 'Primary Database', 'name': 'L-Tyrosine', 'formula': 'C9H11NO3', 'deltagerr': 0.71, 'is_cofactor': 0}> r=<Relationship element_id='5:7de5358e-0bc2-417b-aa77-97dd0da86487:1096663' nodes=(<Node element_id='4:7de5358e-0bc2-417b-aa77-97dd0da86487:30819875' labels=frozenset({'Compound'}) properties={'is_core': 1, 'aliases': ['Name: (S)-2-Amino-3-(p-hydroxyphenyl)propionic acid; (S)-3-(p-Hydroxyphenyl)alanine; L-Tyrosine; L-tyr; L-tyrosine; Tyrosine; tyr; tyrosine', 'AraCyc: TYR', 'BiGG: tyr__L', 'BrachyCyc: TYR', 'KEGG: C00082', 'MetaCyc: TYR'], 'inchikey': 'OUYCCCASQSFEME-QMMMGPOBSA-N', 'charge': 0, 'smiles': '[NH3+][C@@H](Cc1ccc(O)cc1)C(=O)[O-]', 'pkb': '1:8:-5.96;1:13:9.19', 'pka': '1:8:9.79;1:11:2.00', 'mass': 181.0, 'compound_id': 'cpd00069', 'deltag': 18.52, 'source': 'Primary Database', 'name': 'L-Tyrosine', 'formula': 'C9H11NO3', 'deltagerr': 0.71, 'is_cofactor': 0}>, <Node element_id='4:7de5358e-0bc2-417b-aa77-97dd0da86487:30849731' labels=frozenset({'Reaction'}) properties={'stoichiometry': '-1:cpd00067:0:0:\"H+\";-1:cpd00069:0:0:\"L-Tyrosine\";1:cpd00067:1:0:\"H+\";1:cpd00069:1:0:\"L-Tyrosine\"', 'code': '(1) cpd00069[0] <=> (1) cpd00069[1]', 'aliases': ['BiGG: AGP1_10; BAP2_7; BAP3_7; GAP1_16; TAT1_4; TAT2_6; TYRt2; TYRt2m; TYRt2p; TYRt2r; TYRt2rpp; TYRt6i; TYRt7; VAP1_6', 'BrachyCyc: TRANS-RXNAVI-26536', 'EcoCyc: TRANS-RXN-77', 'MaizeCyc: TRANS-RXNBWI-115637', 'MetaCyc: TRANS-RXN-77', 'Name: General amino acid permease AGP1; L-tyrosine reversible transport via proton symport; L-tyrosine transport in/out via proton symport; L-tyrosine transport out via proton symport; L-tyrosine:proton symport; L-tyrosinereversibletransportviaprotonsymport; TRANS-RXN-77.cp; TYRt6; Tyrosine permease; tyrosine transport via proton symport'], 'equation': '(1) cpd00067[0] + (1) cpd00069[0] <=> (1) cpd00067[1] + (1) cpd00069[1]', 'is_transport': 1, 'deltag': 0.0, 'ec_numbers': ['2.A.3.1.-'], 'source': 'Secondary Database', 'products': [' (1) cpd00067[1]', '(1) cpd00069[1]'], 'reaction_id': 'rxn09831', 'compound_ids': 'cpd00067;cpd00069', 'substrates': ['(1) cpd00067[0]', '(1) cpd00069[0] '], 'reversibility': '=', 'name': 'tyrosine peroxisomal transport via proton symport', 'definition': '(1) H+[0] + (1) L-Tyrosine[0] <=> (1) H+[1] + (1) L-Tyrosine[1]', 'deltagerr': 1.27, 'status': 'OK', 'linked_reaction': 'rxn05301;rxn09338;rxn09708;rxn13412;rxn34413', 'direction': '='}>) type='PRODUCT_OF' properties={'to_property_list_name': 'products', 'from_property_name': 'compound_id', 'calculated': 'FALSE'}> reaction=<Node element_id='4:7de5358e-0bc2-417b-aa77-97dd0da86487:30849731' labels=frozenset({'Reaction'}) properties={'stoichiometry': '-1:cpd00067:0:0:\"H+\";-1:cpd00069:0:0:\"L-Tyrosine\";1:cpd00067:1:0:\"H+\";1:cpd00069:1:0:\"L-Tyrosine\"', 'code': '(1) cpd00069[0] <=> (1) cpd00069[1]', 'aliases': ['BiGG: AGP1_10; BAP2_7; BAP3_7; GAP1_16; TAT1_4; TAT2_6; TYRt2; TYRt2m; TYRt2p; TYRt2r; TYRt2rpp; TYRt6i; TYRt7; VAP1_6', 'BrachyCyc: TRANS-RXNAVI-26536', 'EcoCyc: TRANS-RXN-77', 'MaizeCyc: TRANS-RXNBWI-115637', 'MetaCyc: TRANS-RXN-77', 'Name: General amino acid permease AGP1; L-tyrosine reversible transport via proton symport; L-tyrosine transport in/out via proton symport; L-tyrosine transport out via proton symport; L-tyrosine:proton symport; L-tyrosinereversibletransportviaprotonsymport; TRANS-RXN-77.cp; TYRt6; Tyrosine permease; tyrosine transport via proton symport'], 'equation': '(1) cpd00067[0] + (1) cpd00069[0] <=> (1) cpd00067[1] + (1) cpd00069[1]', 'is_transport': 1, 'deltag': 0.0, 'ec_numbers': ['2.A.3.1.-'], 'source': 'Secondary Database', 'products': [' (1) cpd00067[1]', '(1) cpd00069[1]'], 'reaction_id': 'rxn09831', 'compound_ids': 'cpd00067;cpd00069', 'substrates': ['(1) cpd00067[0]', '(1) cpd00069[0] '], 'reversibility': '=', 'name': 'tyrosine peroxisomal transport via proton symport', 'definition': '(1) H+[0] + (1) L-Tyrosine[0] <=> (1) H+[1] + (1) L-Tyrosine[1]', 'deltagerr': 1.27, 'status': 'OK', 'linked_reaction': 'rxn05301;rxn09338;rxn09708;rxn13412;rxn34413', 'direction': '='}>>,\n",
       " <Record c=<Node element_id='4:7de5358e-0bc2-417b-aa77-97dd0da86487:30819875' labels=frozenset({'Compound'}) properties={'is_core': 1, 'aliases': ['Name: (S)-2-Amino-3-(p-hydroxyphenyl)propionic acid; (S)-3-(p-Hydroxyphenyl)alanine; L-Tyrosine; L-tyr; L-tyrosine; Tyrosine; tyr; tyrosine', 'AraCyc: TYR', 'BiGG: tyr__L', 'BrachyCyc: TYR', 'KEGG: C00082', 'MetaCyc: TYR'], 'inchikey': 'OUYCCCASQSFEME-QMMMGPOBSA-N', 'charge': 0, 'smiles': '[NH3+][C@@H](Cc1ccc(O)cc1)C(=O)[O-]', 'pkb': '1:8:-5.96;1:13:9.19', 'pka': '1:8:9.79;1:11:2.00', 'mass': 181.0, 'compound_id': 'cpd00069', 'deltag': 18.52, 'source': 'Primary Database', 'name': 'L-Tyrosine', 'formula': 'C9H11NO3', 'deltagerr': 0.71, 'is_cofactor': 0}> r=<Relationship element_id='5:7de5358e-0bc2-417b-aa77-97dd0da86487:1096685' nodes=(<Node element_id='4:7de5358e-0bc2-417b-aa77-97dd0da86487:30819875' labels=frozenset({'Compound'}) properties={'is_core': 1, 'aliases': ['Name: (S)-2-Amino-3-(p-hydroxyphenyl)propionic acid; (S)-3-(p-Hydroxyphenyl)alanine; L-Tyrosine; L-tyr; L-tyrosine; Tyrosine; tyr; tyrosine', 'AraCyc: TYR', 'BiGG: tyr__L', 'BrachyCyc: TYR', 'KEGG: C00082', 'MetaCyc: TYR'], 'inchikey': 'OUYCCCASQSFEME-QMMMGPOBSA-N', 'charge': 0, 'smiles': '[NH3+][C@@H](Cc1ccc(O)cc1)C(=O)[O-]', 'pkb': '1:8:-5.96;1:13:9.19', 'pka': '1:8:9.79;1:11:2.00', 'mass': 181.0, 'compound_id': 'cpd00069', 'deltag': 18.52, 'source': 'Primary Database', 'name': 'L-Tyrosine', 'formula': 'C9H11NO3', 'deltagerr': 0.71, 'is_cofactor': 0}>, <Node element_id='4:7de5358e-0bc2-417b-aa77-97dd0da86487:30875244' labels=frozenset({'Reaction'}) properties={'stoichiometry': '-1:cpd00067:0:0:H+;-1:cpd00534:0:0:I-;-1:cpd01654:0:0:3-Iodo-L-tyrosine;1:cpd00069:0:0:L-Tyrosine;1:cpd00994:0:0:I2', 'aliases': ['KEGG: R03539'], 'code': '(1) cpd00534[0] + (1) cpd01654[0] <=> (1) cpd00069[0] + (1) cpd00994[0]', 'equation': '(1) cpd00067[0] + (1) cpd00534[0] + (1) cpd01654[0] <=> (1) cpd00069[0] + (1) cpd00994[0]', 'deltag': 10000000.0, 'is_transport': 0, 'pathways': ['KEGG: rn00350 (Tyrosine metabolism)'], 'source': 'Primary Database', 'products': [' (1) cpd00069[0]', '(1) cpd00994[0]'], 'reaction_id': 'rxn39404', 'compound_ids': 'cpd00067;cpd00069;cpd00534;cpd00994;cpd01654', 'substrates': ['(1) cpd00067[0]', '(1) cpd00534[0]', '(1) cpd01654[0] '], 'name': '', 'reversibility': '?', 'deltagerr': 10000000.0, 'definition': '(1) H+[0] + (1) I-[0] + (1) 3-Iodo-L-tyrosine[0] <=> (1) L-Tyrosine[0] + (1) I2[0]', 'status': 'OK', 'direction': '='}>) type='PRODUCT_OF' properties={'to_property_list_name': 'products', 'from_property_name': 'compound_id', 'calculated': 'FALSE'}> reaction=<Node element_id='4:7de5358e-0bc2-417b-aa77-97dd0da86487:30875244' labels=frozenset({'Reaction'}) properties={'stoichiometry': '-1:cpd00067:0:0:H+;-1:cpd00534:0:0:I-;-1:cpd01654:0:0:3-Iodo-L-tyrosine;1:cpd00069:0:0:L-Tyrosine;1:cpd00994:0:0:I2', 'aliases': ['KEGG: R03539'], 'code': '(1) cpd00534[0] + (1) cpd01654[0] <=> (1) cpd00069[0] + (1) cpd00994[0]', 'equation': '(1) cpd00067[0] + (1) cpd00534[0] + (1) cpd01654[0] <=> (1) cpd00069[0] + (1) cpd00994[0]', 'deltag': 10000000.0, 'is_transport': 0, 'pathways': ['KEGG: rn00350 (Tyrosine metabolism)'], 'source': 'Primary Database', 'products': [' (1) cpd00069[0]', '(1) cpd00994[0]'], 'reaction_id': 'rxn39404', 'compound_ids': 'cpd00067;cpd00069;cpd00534;cpd00994;cpd01654', 'substrates': ['(1) cpd00067[0]', '(1) cpd00534[0]', '(1) cpd01654[0] '], 'name': '', 'reversibility': '?', 'deltagerr': 10000000.0, 'definition': '(1) H+[0] + (1) I-[0] + (1) 3-Iodo-L-tyrosine[0] <=> (1) L-Tyrosine[0] + (1) I2[0]', 'status': 'OK', 'direction': '='}>>,\n",
       " <Record c=<Node element_id='4:7de5358e-0bc2-417b-aa77-97dd0da86487:30819875' labels=frozenset({'Compound'}) properties={'is_core': 1, 'aliases': ['Name: (S)-2-Amino-3-(p-hydroxyphenyl)propionic acid; (S)-3-(p-Hydroxyphenyl)alanine; L-Tyrosine; L-tyr; L-tyrosine; Tyrosine; tyr; tyrosine', 'AraCyc: TYR', 'BiGG: tyr__L', 'BrachyCyc: TYR', 'KEGG: C00082', 'MetaCyc: TYR'], 'inchikey': 'OUYCCCASQSFEME-QMMMGPOBSA-N', 'charge': 0, 'smiles': '[NH3+][C@@H](Cc1ccc(O)cc1)C(=O)[O-]', 'pkb': '1:8:-5.96;1:13:9.19', 'pka': '1:8:9.79;1:11:2.00', 'mass': 181.0, 'compound_id': 'cpd00069', 'deltag': 18.52, 'source': 'Primary Database', 'name': 'L-Tyrosine', 'formula': 'C9H11NO3', 'deltagerr': 0.71, 'is_cofactor': 0}> r=<Relationship element_id='5:7de5358e-0bc2-417b-aa77-97dd0da86487:1096666' nodes=(<Node element_id='4:7de5358e-0bc2-417b-aa77-97dd0da86487:30819875' labels=frozenset({'Compound'}) properties={'is_core': 1, 'aliases': ['Name: (S)-2-Amino-3-(p-hydroxyphenyl)propionic acid; (S)-3-(p-Hydroxyphenyl)alanine; L-Tyrosine; L-tyr; L-tyrosine; Tyrosine; tyr; tyrosine', 'AraCyc: TYR', 'BiGG: tyr__L', 'BrachyCyc: TYR', 'KEGG: C00082', 'MetaCyc: TYR'], 'inchikey': 'OUYCCCASQSFEME-QMMMGPOBSA-N', 'charge': 0, 'smiles': '[NH3+][C@@H](Cc1ccc(O)cc1)C(=O)[O-]', 'pkb': '1:8:-5.96;1:13:9.19', 'pka': '1:8:9.79;1:11:2.00', 'mass': 181.0, 'compound_id': 'cpd00069', 'deltag': 18.52, 'source': 'Primary Database', 'name': 'L-Tyrosine', 'formula': 'C9H11NO3', 'deltagerr': 0.71, 'is_cofactor': 0}>, <Node element_id='4:7de5358e-0bc2-417b-aa77-97dd0da86487:30850889' labels=frozenset({'Reaction'}) properties={'stoichiometry': '-1:cpd00065:0:0:\"L-Tryptophan\";-1:cpd00868:0:0:\"p-hydroxyphenylpyruvate\";1:cpd00069:0:0:\"L-Tyrosine\";1:cpd00278:0:0:\"Indolepyruvate\"', 'aliases': ['iAO358: rll_29; rll_34', 'Name: Aminotransferase'], 'code': '(1) cpd00065[0] + (1) cpd00868[0] <=> (1) cpd00069[0] + (1) cpd00278[0]', 'equation': '(1) cpd00065[0] + (1) cpd00868[0] <=> (1) cpd00069[0] + (1) cpd00278[0]', 'deltag': -9.7, 'is_transport': 0, 'source': 'Published Model', 'products': [' (1) cpd00069[0]', '(1) cpd00278[0]'], 'reaction_id': 'rxn11205', 'compound_ids': 'cpd00065;cpd00069;cpd00278;cpd00868', 'substrates': ['(1) cpd00065[0]', '(1) cpd00868[0] '], 'name': 'Aminotransferase', 'reversibility': '=', 'deltagerr': 1.31, 'definition': '(1) L-Tryptophan[0] + (1) p-hydroxyphenylpyruvate[0] <=> (1) L-Tyrosine[0] + (1) Indolepyruvate[0]', 'direction': '=', 'status': 'OK'}>) type='PRODUCT_OF' properties={'to_property_list_name': 'products', 'from_property_name': 'compound_id', 'calculated': 'FALSE'}> reaction=<Node element_id='4:7de5358e-0bc2-417b-aa77-97dd0da86487:30850889' labels=frozenset({'Reaction'}) properties={'stoichiometry': '-1:cpd00065:0:0:\"L-Tryptophan\";-1:cpd00868:0:0:\"p-hydroxyphenylpyruvate\";1:cpd00069:0:0:\"L-Tyrosine\";1:cpd00278:0:0:\"Indolepyruvate\"', 'aliases': ['iAO358: rll_29; rll_34', 'Name: Aminotransferase'], 'code': '(1) cpd00065[0] + (1) cpd00868[0] <=> (1) cpd00069[0] + (1) cpd00278[0]', 'equation': '(1) cpd00065[0] + (1) cpd00868[0] <=> (1) cpd00069[0] + (1) cpd00278[0]', 'deltag': -9.7, 'is_transport': 0, 'source': 'Published Model', 'products': [' (1) cpd00069[0]', '(1) cpd00278[0]'], 'reaction_id': 'rxn11205', 'compound_ids': 'cpd00065;cpd00069;cpd00278;cpd00868', 'substrates': ['(1) cpd00065[0]', '(1) cpd00868[0] '], 'name': 'Aminotransferase', 'reversibility': '=', 'deltagerr': 1.31, 'definition': '(1) L-Tryptophan[0] + (1) p-hydroxyphenylpyruvate[0] <=> (1) L-Tyrosine[0] + (1) Indolepyruvate[0]', 'direction': '=', 'status': 'OK'}>>,\n",
       " <Record c=<Node element_id='4:7de5358e-0bc2-417b-aa77-97dd0da86487:30819875' labels=frozenset({'Compound'}) properties={'is_core': 1, 'aliases': ['Name: (S)-2-Amino-3-(p-hydroxyphenyl)propionic acid; (S)-3-(p-Hydroxyphenyl)alanine; L-Tyrosine; L-tyr; L-tyrosine; Tyrosine; tyr; tyrosine', 'AraCyc: TYR', 'BiGG: tyr__L', 'BrachyCyc: TYR', 'KEGG: C00082', 'MetaCyc: TYR'], 'inchikey': 'OUYCCCASQSFEME-QMMMGPOBSA-N', 'charge': 0, 'smiles': '[NH3+][C@@H](Cc1ccc(O)cc1)C(=O)[O-]', 'pkb': '1:8:-5.96;1:13:9.19', 'pka': '1:8:9.79;1:11:2.00', 'mass': 181.0, 'compound_id': 'cpd00069', 'deltag': 18.52, 'source': 'Primary Database', 'name': 'L-Tyrosine', 'formula': 'C9H11NO3', 'deltagerr': 0.71, 'is_cofactor': 0}> r=<Relationship element_id='5:7de5358e-0bc2-417b-aa77-97dd0da86487:1096671' nodes=(<Node element_id='4:7de5358e-0bc2-417b-aa77-97dd0da86487:30819875' labels=frozenset({'Compound'}) properties={'is_core': 1, 'aliases': ['Name: (S)-2-Amino-3-(p-hydroxyphenyl)propionic acid; (S)-3-(p-Hydroxyphenyl)alanine; L-Tyrosine; L-tyr; L-tyrosine; Tyrosine; tyr; tyrosine', 'AraCyc: TYR', 'BiGG: tyr__L', 'BrachyCyc: TYR', 'KEGG: C00082', 'MetaCyc: TYR'], 'inchikey': 'OUYCCCASQSFEME-QMMMGPOBSA-N', 'charge': 0, 'smiles': '[NH3+][C@@H](Cc1ccc(O)cc1)C(=O)[O-]', 'pkb': '1:8:-5.96;1:13:9.19', 'pka': '1:8:9.79;1:11:2.00', 'mass': 181.0, 'compound_id': 'cpd00069', 'deltag': 18.52, 'source': 'Primary Database', 'name': 'L-Tyrosine', 'formula': 'C9H11NO3', 'deltagerr': 0.71, 'is_cofactor': 0}>, <Node element_id='4:7de5358e-0bc2-417b-aa77-97dd0da86487:30856352' labels=frozenset({'Reaction'}) properties={'stoichiometry': '-1:cpd00001:0:0:\"H2O\";-1:cpd28288:0:0:\"Tyrosinated-Tubulins\";1:cpd00069:0:0:\"L-Tyrosine\";1:cpd28284:0:0:\"Tubulins\"', 'aliases': ['MetaCyc: 3.4.17.17-RXN', 'Name: TTCPase; brain I carboxypeptidase; carboxypeptidase-tubulin; soluble carboxypeptidase; tubulin carboxypeptidase; tubulin-tyrosine carboxypeptidase; tubulinyl-Tyr carboxypeptidase; tubulinyltyrosine carboxypeptidase; tyrosinotubulin carboxypeptidase; tyrosyltubulin carboxypeptidase'], 'code': '(1) cpd00001[0] + (1) cpd28288[0] <=> (1) cpd00069[0] + (1) cpd28284[0]', 'equation': '(1) cpd00001[0] + (1) cpd28288[0] => (1) cpd00069[0] + (1) cpd28284[0]', 'deltag': 10000000.0, 'is_transport': 0, 'source': 'Primary Database', 'ec_numbers': ['3.4.17.17'], 'products': [' (1) cpd00069[0]', '(1) cpd28284[0]'], 'reaction_id': 'rxn18070', 'compound_ids': 'cpd00001;cpd00069;cpd28284;cpd28288', 'substrates': ['(1) cpd00001[0]', '(1) cpd28288[0] '], 'name': 'TTCPase', 'reversibility': '?', 'deltagerr': 10000000.0, 'definition': '(1) H2O[0] + (1) Tyrosinated-Tubulins[0] => (1) L-Tyrosine[0] + (1) Tubulins[0]', 'status': 'OK', 'direction': '>'}>) type='PRODUCT_OF' properties={'to_property_list_name': 'products', 'from_property_name': 'compound_id', 'calculated': 'FALSE'}> reaction=<Node element_id='4:7de5358e-0bc2-417b-aa77-97dd0da86487:30856352' labels=frozenset({'Reaction'}) properties={'stoichiometry': '-1:cpd00001:0:0:\"H2O\";-1:cpd28288:0:0:\"Tyrosinated-Tubulins\";1:cpd00069:0:0:\"L-Tyrosine\";1:cpd28284:0:0:\"Tubulins\"', 'aliases': ['MetaCyc: 3.4.17.17-RXN', 'Name: TTCPase; brain I carboxypeptidase; carboxypeptidase-tubulin; soluble carboxypeptidase; tubulin carboxypeptidase; tubulin-tyrosine carboxypeptidase; tubulinyl-Tyr carboxypeptidase; tubulinyltyrosine carboxypeptidase; tyrosinotubulin carboxypeptidase; tyrosyltubulin carboxypeptidase'], 'code': '(1) cpd00001[0] + (1) cpd28288[0] <=> (1) cpd00069[0] + (1) cpd28284[0]', 'equation': '(1) cpd00001[0] + (1) cpd28288[0] => (1) cpd00069[0] + (1) cpd28284[0]', 'deltag': 10000000.0, 'is_transport': 0, 'source': 'Primary Database', 'ec_numbers': ['3.4.17.17'], 'products': [' (1) cpd00069[0]', '(1) cpd28284[0]'], 'reaction_id': 'rxn18070', 'compound_ids': 'cpd00001;cpd00069;cpd28284;cpd28288', 'substrates': ['(1) cpd00001[0]', '(1) cpd28288[0] '], 'name': 'TTCPase', 'reversibility': '?', 'deltagerr': 10000000.0, 'definition': '(1) H2O[0] + (1) Tyrosinated-Tubulins[0] => (1) L-Tyrosine[0] + (1) Tubulins[0]', 'status': 'OK', 'direction': '>'}>>,\n",
       " <Record c=<Node element_id='4:7de5358e-0bc2-417b-aa77-97dd0da86487:30819875' labels=frozenset({'Compound'}) properties={'is_core': 1, 'aliases': ['Name: (S)-2-Amino-3-(p-hydroxyphenyl)propionic acid; (S)-3-(p-Hydroxyphenyl)alanine; L-Tyrosine; L-tyr; L-tyrosine; Tyrosine; tyr; tyrosine', 'AraCyc: TYR', 'BiGG: tyr__L', 'BrachyCyc: TYR', 'KEGG: C00082', 'MetaCyc: TYR'], 'inchikey': 'OUYCCCASQSFEME-QMMMGPOBSA-N', 'charge': 0, 'smiles': '[NH3+][C@@H](Cc1ccc(O)cc1)C(=O)[O-]', 'pkb': '1:8:-5.96;1:13:9.19', 'pka': '1:8:9.79;1:11:2.00', 'mass': 181.0, 'compound_id': 'cpd00069', 'deltag': 18.52, 'source': 'Primary Database', 'name': 'L-Tyrosine', 'formula': 'C9H11NO3', 'deltagerr': 0.71, 'is_cofactor': 0}> r=<Relationship element_id='5:7de5358e-0bc2-417b-aa77-97dd0da86487:1096655' nodes=(<Node element_id='4:7de5358e-0bc2-417b-aa77-97dd0da86487:30819875' labels=frozenset({'Compound'}) properties={'is_core': 1, 'aliases': ['Name: (S)-2-Amino-3-(p-hydroxyphenyl)propionic acid; (S)-3-(p-Hydroxyphenyl)alanine; L-Tyrosine; L-tyr; L-tyrosine; Tyrosine; tyr; tyrosine', 'AraCyc: TYR', 'BiGG: tyr__L', 'BrachyCyc: TYR', 'KEGG: C00082', 'MetaCyc: TYR'], 'inchikey': 'OUYCCCASQSFEME-QMMMGPOBSA-N', 'charge': 0, 'smiles': '[NH3+][C@@H](Cc1ccc(O)cc1)C(=O)[O-]', 'pkb': '1:8:-5.96;1:13:9.19', 'pka': '1:8:9.79;1:11:2.00', 'mass': 181.0, 'compound_id': 'cpd00069', 'deltag': 18.52, 'source': 'Primary Database', 'name': 'L-Tyrosine', 'formula': 'C9H11NO3', 'deltagerr': 0.71, 'is_cofactor': 0}>, <Node element_id='4:7de5358e-0bc2-417b-aa77-97dd0da86487:30841677' labels=frozenset({'Reaction'}) properties={'stoichiometry': '-1:cpd00007:0:0:\"O2\";-1:cpd00066:0:0:\"L-Phenylalanine\";-1:cpd00233:0:0:\"Tetrahydrobiopterin\";1:cpd00001:0:0:\"H2O\";1:cpd00069:0:0:\"L-Tyrosine\";1:cpd00231:0:0:\"Dihydrobiopterin\"', 'code': '(1) cpd00007[0] + (1) cpd00066[0] + (1) cpd00233[0] <=> (1) cpd00001[0] + (1) cpd00069[0] + (1) cpd00231[0]', 'aliases': ['AlgaGEM: R_R01795_c', 'BiGG: PHE4MO; PHETHPTOX', 'KEGG: R01795', 'MetaCyc: RXN-14206', 'iJN746: PHETHPTOX', 'Name: (4-hydroxylating); L-Phenylalanine,tetrahydrobiopterin:oxygen oxidoreductase; L-Phenylalanine,tetrahydrobiopterin:oxygen oxidoreductase (4-hydroxylating); phenylalanine 4-monooxygenase'], 'equation': '(1) cpd00007[0] + (1) cpd00066[0] + (1) cpd00233[0] => (1) cpd00001[0] + (1) cpd00069[0] + (1) cpd00231[0]', 'is_transport': 0, 'deltag': -91.28, 'pathways': ['KEGG: rn00360 (Phenylalanine metabolism); rn00400 (Phenylalanine, tyrosine and tryptophan biosynthesis); rn01230 (Biosynthesis of amino acids)'], 'ec_numbers': ['1.14.16.1'], 'source': 'Primary Database', 'products': [' (1) cpd00001[0]', '(1) cpd00069[0]', '(1) cpd00231[0]'], 'reaction_id': 'rxn01315', 'compound_ids': 'cpd00001;cpd00007;cpd00066;cpd00069;cpd00231;cpd00233', 'substrates': ['(1) cpd00007[0]', '(1) cpd00066[0]', '(1) cpd00233[0] '], 'reversibility': '>', 'name': 'L-Phenylalanine,tetrahydrobiopterin:oxygen oxidoreductase (4-hydroxylating)', 'definition': '(1) O2[0] + (1) L-Phenylalanine[0] + (1) Tetrahydrobiopterin[0] => (1) H2O[0] + (1) L-Tyrosine[0] + (1) Dihydrobiopterin[0]', 'deltagerr': 4.02, 'direction': '>', 'status': 'OK'}>) type='PRODUCT_OF' properties={'to_property_list_name': 'products', 'from_property_name': 'compound_id', 'calculated': 'FALSE'}> reaction=<Node element_id='4:7de5358e-0bc2-417b-aa77-97dd0da86487:30841677' labels=frozenset({'Reaction'}) properties={'stoichiometry': '-1:cpd00007:0:0:\"O2\";-1:cpd00066:0:0:\"L-Phenylalanine\";-1:cpd00233:0:0:\"Tetrahydrobiopterin\";1:cpd00001:0:0:\"H2O\";1:cpd00069:0:0:\"L-Tyrosine\";1:cpd00231:0:0:\"Dihydrobiopterin\"', 'code': '(1) cpd00007[0] + (1) cpd00066[0] + (1) cpd00233[0] <=> (1) cpd00001[0] + (1) cpd00069[0] + (1) cpd00231[0]', 'aliases': ['AlgaGEM: R_R01795_c', 'BiGG: PHE4MO; PHETHPTOX', 'KEGG: R01795', 'MetaCyc: RXN-14206', 'iJN746: PHETHPTOX', 'Name: (4-hydroxylating); L-Phenylalanine,tetrahydrobiopterin:oxygen oxidoreductase; L-Phenylalanine,tetrahydrobiopterin:oxygen oxidoreductase (4-hydroxylating); phenylalanine 4-monooxygenase'], 'equation': '(1) cpd00007[0] + (1) cpd00066[0] + (1) cpd00233[0] => (1) cpd00001[0] + (1) cpd00069[0] + (1) cpd00231[0]', 'is_transport': 0, 'deltag': -91.28, 'pathways': ['KEGG: rn00360 (Phenylalanine metabolism); rn00400 (Phenylalanine, tyrosine and tryptophan biosynthesis); rn01230 (Biosynthesis of amino acids)'], 'ec_numbers': ['1.14.16.1'], 'source': 'Primary Database', 'products': [' (1) cpd00001[0]', '(1) cpd00069[0]', '(1) cpd00231[0]'], 'reaction_id': 'rxn01315', 'compound_ids': 'cpd00001;cpd00007;cpd00066;cpd00069;cpd00231;cpd00233', 'substrates': ['(1) cpd00007[0]', '(1) cpd00066[0]', '(1) cpd00233[0] '], 'reversibility': '>', 'name': 'L-Phenylalanine,tetrahydrobiopterin:oxygen oxidoreductase (4-hydroxylating)', 'definition': '(1) O2[0] + (1) L-Phenylalanine[0] + (1) Tetrahydrobiopterin[0] => (1) H2O[0] + (1) L-Tyrosine[0] + (1) Dihydrobiopterin[0]', 'deltagerr': 4.02, 'direction': '>', 'status': 'OK'}>>,\n",
       " <Record c=<Node element_id='4:7de5358e-0bc2-417b-aa77-97dd0da86487:30819875' labels=frozenset({'Compound'}) properties={'is_core': 1, 'aliases': ['Name: (S)-2-Amino-3-(p-hydroxyphenyl)propionic acid; (S)-3-(p-Hydroxyphenyl)alanine; L-Tyrosine; L-tyr; L-tyrosine; Tyrosine; tyr; tyrosine', 'AraCyc: TYR', 'BiGG: tyr__L', 'BrachyCyc: TYR', 'KEGG: C00082', 'MetaCyc: TYR'], 'inchikey': 'OUYCCCASQSFEME-QMMMGPOBSA-N', 'charge': 0, 'smiles': '[NH3+][C@@H](Cc1ccc(O)cc1)C(=O)[O-]', 'pkb': '1:8:-5.96;1:13:9.19', 'pka': '1:8:9.79;1:11:2.00', 'mass': 181.0, 'compound_id': 'cpd00069', 'deltag': 18.52, 'source': 'Primary Database', 'name': 'L-Tyrosine', 'formula': 'C9H11NO3', 'deltagerr': 0.71, 'is_cofactor': 0}> r=<Relationship element_id='5:7de5358e-0bc2-417b-aa77-97dd0da86487:1096669' nodes=(<Node element_id='4:7de5358e-0bc2-417b-aa77-97dd0da86487:30819875' labels=frozenset({'Compound'}) properties={'is_core': 1, 'aliases': ['Name: (S)-2-Amino-3-(p-hydroxyphenyl)propionic acid; (S)-3-(p-Hydroxyphenyl)alanine; L-Tyrosine; L-tyr; L-tyrosine; Tyrosine; tyr; tyrosine', 'AraCyc: TYR', 'BiGG: tyr__L', 'BrachyCyc: TYR', 'KEGG: C00082', 'MetaCyc: TYR'], 'inchikey': 'OUYCCCASQSFEME-QMMMGPOBSA-N', 'charge': 0, 'smiles': '[NH3+][C@@H](Cc1ccc(O)cc1)C(=O)[O-]', 'pkb': '1:8:-5.96;1:13:9.19', 'pka': '1:8:9.79;1:11:2.00', 'mass': 181.0, 'compound_id': 'cpd00069', 'deltag': 18.52, 'source': 'Primary Database', 'name': 'L-Tyrosine', 'formula': 'C9H11NO3', 'deltagerr': 0.71, 'is_cofactor': 0}>, <Node element_id='4:7de5358e-0bc2-417b-aa77-97dd0da86487:30852722' labels=frozenset({'Reaction'}) properties={'stoichiometry': '-1:cpd00067:1:0:\"H+\";-1:cpd00069:0:0:\"L-Tyrosine\";1:cpd00067:0:0:\"H+\";1:cpd00069:1:0:\"L-Tyrosine\"', 'aliases': ['BiGG: TYRt6', 'iMM904: TYRt6', 'iSO783: TYRt6', 'iYO844: TYRt6', 'Name: L-tyrosine transport in via proton antiport'], 'code': '(1) cpd00069[0] <=> (1) cpd00069[1]', 'equation': '(1) cpd00067[1] + (1) cpd00069[0] <=> (1) cpd00067[0] + (1) cpd00069[1]', 'deltag': 0.0, 'is_transport': 1, 'source': 'Secondary Database', 'products': [' (1) cpd00067[0]', '(1) cpd00069[1]'], 'reaction_id': 'rxn13411', 'compound_ids': 'cpd00067;cpd00069', 'substrates': ['(1) cpd00067[1]', '(1) cpd00069[0] '], 'name': 'L-tyrosine transport in via proton antiport (vacuolar)', 'reversibility': '=', 'deltagerr': 1.27, 'definition': '(1) H+[1] + (1) L-Tyrosine[0] <=> (1) H+[0] + (1) L-Tyrosine[1]', 'direction': '=', 'status': 'OK'}>) type='PRODUCT_OF' properties={'to_property_list_name': 'products', 'from_property_name': 'compound_id', 'calculated': 'FALSE'}> reaction=<Node element_id='4:7de5358e-0bc2-417b-aa77-97dd0da86487:30852722' labels=frozenset({'Reaction'}) properties={'stoichiometry': '-1:cpd00067:1:0:\"H+\";-1:cpd00069:0:0:\"L-Tyrosine\";1:cpd00067:0:0:\"H+\";1:cpd00069:1:0:\"L-Tyrosine\"', 'aliases': ['BiGG: TYRt6', 'iMM904: TYRt6', 'iSO783: TYRt6', 'iYO844: TYRt6', 'Name: L-tyrosine transport in via proton antiport'], 'code': '(1) cpd00069[0] <=> (1) cpd00069[1]', 'equation': '(1) cpd00067[1] + (1) cpd00069[0] <=> (1) cpd00067[0] + (1) cpd00069[1]', 'deltag': 0.0, 'is_transport': 1, 'source': 'Secondary Database', 'products': [' (1) cpd00067[0]', '(1) cpd00069[1]'], 'reaction_id': 'rxn13411', 'compound_ids': 'cpd00067;cpd00069', 'substrates': ['(1) cpd00067[1]', '(1) cpd00069[0] '], 'name': 'L-tyrosine transport in via proton antiport (vacuolar)', 'reversibility': '=', 'deltagerr': 1.27, 'definition': '(1) H+[1] + (1) L-Tyrosine[0] <=> (1) H+[0] + (1) L-Tyrosine[1]', 'direction': '=', 'status': 'OK'}>>,\n",
       " <Record c=<Node element_id='4:7de5358e-0bc2-417b-aa77-97dd0da86487:30819875' labels=frozenset({'Compound'}) properties={'is_core': 1, 'aliases': ['Name: (S)-2-Amino-3-(p-hydroxyphenyl)propionic acid; (S)-3-(p-Hydroxyphenyl)alanine; L-Tyrosine; L-tyr; L-tyrosine; Tyrosine; tyr; tyrosine', 'AraCyc: TYR', 'BiGG: tyr__L', 'BrachyCyc: TYR', 'KEGG: C00082', 'MetaCyc: TYR'], 'inchikey': 'OUYCCCASQSFEME-QMMMGPOBSA-N', 'charge': 0, 'smiles': '[NH3+][C@@H](Cc1ccc(O)cc1)C(=O)[O-]', 'pkb': '1:8:-5.96;1:13:9.19', 'pka': '1:8:9.79;1:11:2.00', 'mass': 181.0, 'compound_id': 'cpd00069', 'deltag': 18.52, 'source': 'Primary Database', 'name': 'L-Tyrosine', 'formula': 'C9H11NO3', 'deltagerr': 0.71, 'is_cofactor': 0}> r=<Relationship element_id='5:7de5358e-0bc2-417b-aa77-97dd0da86487:1096659' nodes=(<Node element_id='4:7de5358e-0bc2-417b-aa77-97dd0da86487:30819875' labels=frozenset({'Compound'}) properties={'is_core': 1, 'aliases': ['Name: (S)-2-Amino-3-(p-hydroxyphenyl)propionic acid; (S)-3-(p-Hydroxyphenyl)alanine; L-Tyrosine; L-tyr; L-tyrosine; Tyrosine; tyr; tyrosine', 'AraCyc: TYR', 'BiGG: tyr__L', 'BrachyCyc: TYR', 'KEGG: C00082', 'MetaCyc: TYR'], 'inchikey': 'OUYCCCASQSFEME-QMMMGPOBSA-N', 'charge': 0, 'smiles': '[NH3+][C@@H](Cc1ccc(O)cc1)C(=O)[O-]', 'pkb': '1:8:-5.96;1:13:9.19', 'pka': '1:8:9.79;1:11:2.00', 'mass': 181.0, 'compound_id': 'cpd00069', 'deltag': 18.52, 'source': 'Primary Database', 'name': 'L-Tyrosine', 'formula': 'C9H11NO3', 'deltagerr': 0.71, 'is_cofactor': 0}>, <Node element_id='4:7de5358e-0bc2-417b-aa77-97dd0da86487:30849301' labels=frozenset({'Reaction'}) properties={'stoichiometry': '-1:cpd00001:0:0:\"H2O\";-1:cpd03912:0:0:\"Phosphotyrosine\";1:cpd00009:0:0:\"Phosphate\";1:cpd00069:0:0:\"L-Tyrosine\"', 'aliases': ['BiGG: TYRPpp', 'MetaCyc: RXN-14534', 'iAF1260: TYRPpp', 'iMA945: TYRPpp', 'Name: phospho-L-tyrosine phosphatase'], 'code': '(1) cpd00001[0] + (1) cpd03912[0] <=> (1) cpd00009[0] + (1) cpd00069[0]', 'equation': '(1) cpd00001[0] + (1) cpd03912[0] <=> (1) cpd00009[0] + (1) cpd00069[0]', 'deltag': 7.22, 'is_transport': 0, 'source': 'Primary Database', 'products': [' (1) cpd00009[0]', '(1) cpd00069[0]'], 'reaction_id': 'rxn09336', 'compound_ids': 'cpd00001;cpd00009;cpd00069;cpd03912', 'substrates': ['(1) cpd00001[0]', '(1) cpd03912[0] '], 'reversibility': '=', 'name': 'phospho-L-tyrosine phosphatase (periplasmic)', 'deltagerr': 1.46, 'definition': '(1) H2O[0] + (1) Phosphotyrosine[0] <=> (1) Phosphate[0] + (1) L-Tyrosine[0]', 'status': 'OK', 'direction': '='}>) type='PRODUCT_OF' properties={'to_property_list_name': 'products', 'from_property_name': 'compound_id', 'calculated': 'FALSE'}> reaction=<Node element_id='4:7de5358e-0bc2-417b-aa77-97dd0da86487:30849301' labels=frozenset({'Reaction'}) properties={'stoichiometry': '-1:cpd00001:0:0:\"H2O\";-1:cpd03912:0:0:\"Phosphotyrosine\";1:cpd00009:0:0:\"Phosphate\";1:cpd00069:0:0:\"L-Tyrosine\"', 'aliases': ['BiGG: TYRPpp', 'MetaCyc: RXN-14534', 'iAF1260: TYRPpp', 'iMA945: TYRPpp', 'Name: phospho-L-tyrosine phosphatase'], 'code': '(1) cpd00001[0] + (1) cpd03912[0] <=> (1) cpd00009[0] + (1) cpd00069[0]', 'equation': '(1) cpd00001[0] + (1) cpd03912[0] <=> (1) cpd00009[0] + (1) cpd00069[0]', 'deltag': 7.22, 'is_transport': 0, 'source': 'Primary Database', 'products': [' (1) cpd00009[0]', '(1) cpd00069[0]'], 'reaction_id': 'rxn09336', 'compound_ids': 'cpd00001;cpd00009;cpd00069;cpd03912', 'substrates': ['(1) cpd00001[0]', '(1) cpd03912[0] '], 'reversibility': '=', 'name': 'phospho-L-tyrosine phosphatase (periplasmic)', 'deltagerr': 1.46, 'definition': '(1) H2O[0] + (1) Phosphotyrosine[0] <=> (1) Phosphate[0] + (1) L-Tyrosine[0]', 'status': 'OK', 'direction': '='}>>,\n",
       " <Record c=<Node element_id='4:7de5358e-0bc2-417b-aa77-97dd0da86487:30819875' labels=frozenset({'Compound'}) properties={'is_core': 1, 'aliases': ['Name: (S)-2-Amino-3-(p-hydroxyphenyl)propionic acid; (S)-3-(p-Hydroxyphenyl)alanine; L-Tyrosine; L-tyr; L-tyrosine; Tyrosine; tyr; tyrosine', 'AraCyc: TYR', 'BiGG: tyr__L', 'BrachyCyc: TYR', 'KEGG: C00082', 'MetaCyc: TYR'], 'inchikey': 'OUYCCCASQSFEME-QMMMGPOBSA-N', 'charge': 0, 'smiles': '[NH3+][C@@H](Cc1ccc(O)cc1)C(=O)[O-]', 'pkb': '1:8:-5.96;1:13:9.19', 'pka': '1:8:9.79;1:11:2.00', 'mass': 181.0, 'compound_id': 'cpd00069', 'deltag': 18.52, 'source': 'Primary Database', 'name': 'L-Tyrosine', 'formula': 'C9H11NO3', 'deltagerr': 0.71, 'is_cofactor': 0}> r=<Relationship element_id='5:7de5358e-0bc2-417b-aa77-97dd0da86487:1096660' nodes=(<Node element_id='4:7de5358e-0bc2-417b-aa77-97dd0da86487:30819875' labels=frozenset({'Compound'}) properties={'is_core': 1, 'aliases': ['Name: (S)-2-Amino-3-(p-hydroxyphenyl)propionic acid; (S)-3-(p-Hydroxyphenyl)alanine; L-Tyrosine; L-tyr; L-tyrosine; Tyrosine; tyr; tyrosine', 'AraCyc: TYR', 'BiGG: tyr__L', 'BrachyCyc: TYR', 'KEGG: C00082', 'MetaCyc: TYR'], 'inchikey': 'OUYCCCASQSFEME-QMMMGPOBSA-N', 'charge': 0, 'smiles': '[NH3+][C@@H](Cc1ccc(O)cc1)C(=O)[O-]', 'pkb': '1:8:-5.96;1:13:9.19', 'pka': '1:8:9.79;1:11:2.00', 'mass': 181.0, 'compound_id': 'cpd00069', 'deltag': 18.52, 'source': 'Primary Database', 'name': 'L-Tyrosine', 'formula': 'C9H11NO3', 'deltagerr': 0.71, 'is_cofactor': 0}>, <Node element_id='4:7de5358e-0bc2-417b-aa77-97dd0da86487:30849303' labels=frozenset({'Reaction'}) properties={'stoichiometry': '-1:cpd00067:1:0:\"H+\";-1:cpd00069:1:0:\"L-Tyrosine\";1:cpd00067:0:0:\"H+\";1:cpd00069:0:0:\"L-Tyrosine\"', 'code': '(1) cpd00069[1] <=> (1) cpd00069[0]', 'aliases': ['BiGG: AGP1_10; BAP2_7; BAP3_7; GAP1_16; TAT1_4; TAT2_6; TYRt2; TYRt2m; TYRt2p; TYRt2r; TYRt2rpp; TYRt6i; TYRt7; VAP1_6', 'BrachyCyc: TRANS-RXNAVI-26536', 'EcoCyc: TRANS-RXN-77', 'MaizeCyc: TRANS-RXNBWI-115637', 'MetaCyc: TRANS-RXN-77', 'Name: General amino acid permease AGP1; L-tyrosine reversible transport via proton symport; L-tyrosine transport in/out via proton symport; L-tyrosine transport out via proton symport; L-tyrosine:proton symport; L-tyrosinereversibletransportviaprotonsymport; TRANS-RXN-77.cp; TYRt6; Tyrosine permease; tyrosine transport via proton symport'], 'equation': '(1) cpd00067[1] + (1) cpd00069[1] <=> (1) cpd00067[0] + (1) cpd00069[0]', 'is_transport': 1, 'deltag': 0.0, 'ec_numbers': ['2.A.3.1.-'], 'source': 'Secondary Database', 'products': [' (1) cpd00067[0]', '(1) cpd00069[0]'], 'reaction_id': 'rxn09338', 'compound_ids': 'cpd00067;cpd00069', 'substrates': ['(1) cpd00067[1]', '(1) cpd00069[1] '], 'reversibility': '=', 'name': 'TRANS-RXN-77.cp', 'definition': '(1) H+[1] + (1) L-Tyrosine[1] <=> (1) H+[0] + (1) L-Tyrosine[0]', 'deltagerr': 1.27, 'direction': '=', 'status': 'OK', 'linked_reaction': 'rxn05301;rxn09708;rxn09831;rxn13412;rxn34413'}>) type='PRODUCT_OF' properties={'to_property_list_name': 'products', 'from_property_name': 'compound_id', 'calculated': 'FALSE'}> reaction=<Node element_id='4:7de5358e-0bc2-417b-aa77-97dd0da86487:30849303' labels=frozenset({'Reaction'}) properties={'stoichiometry': '-1:cpd00067:1:0:\"H+\";-1:cpd00069:1:0:\"L-Tyrosine\";1:cpd00067:0:0:\"H+\";1:cpd00069:0:0:\"L-Tyrosine\"', 'code': '(1) cpd00069[1] <=> (1) cpd00069[0]', 'aliases': ['BiGG: AGP1_10; BAP2_7; BAP3_7; GAP1_16; TAT1_4; TAT2_6; TYRt2; TYRt2m; TYRt2p; TYRt2r; TYRt2rpp; TYRt6i; TYRt7; VAP1_6', 'BrachyCyc: TRANS-RXNAVI-26536', 'EcoCyc: TRANS-RXN-77', 'MaizeCyc: TRANS-RXNBWI-115637', 'MetaCyc: TRANS-RXN-77', 'Name: General amino acid permease AGP1; L-tyrosine reversible transport via proton symport; L-tyrosine transport in/out via proton symport; L-tyrosine transport out via proton symport; L-tyrosine:proton symport; L-tyrosinereversibletransportviaprotonsymport; TRANS-RXN-77.cp; TYRt6; Tyrosine permease; tyrosine transport via proton symport'], 'equation': '(1) cpd00067[1] + (1) cpd00069[1] <=> (1) cpd00067[0] + (1) cpd00069[0]', 'is_transport': 1, 'deltag': 0.0, 'ec_numbers': ['2.A.3.1.-'], 'source': 'Secondary Database', 'products': [' (1) cpd00067[0]', '(1) cpd00069[0]'], 'reaction_id': 'rxn09338', 'compound_ids': 'cpd00067;cpd00069', 'substrates': ['(1) cpd00067[1]', '(1) cpd00069[1] '], 'reversibility': '=', 'name': 'TRANS-RXN-77.cp', 'definition': '(1) H+[1] + (1) L-Tyrosine[1] <=> (1) H+[0] + (1) L-Tyrosine[0]', 'deltagerr': 1.27, 'direction': '=', 'status': 'OK', 'linked_reaction': 'rxn05301;rxn09708;rxn09831;rxn13412;rxn34413'}>>,\n",
       " <Record c=<Node element_id='4:7de5358e-0bc2-417b-aa77-97dd0da86487:30819875' labels=frozenset({'Compound'}) properties={'is_core': 1, 'aliases': ['Name: (S)-2-Amino-3-(p-hydroxyphenyl)propionic acid; (S)-3-(p-Hydroxyphenyl)alanine; L-Tyrosine; L-tyr; L-tyrosine; Tyrosine; tyr; tyrosine', 'AraCyc: TYR', 'BiGG: tyr__L', 'BrachyCyc: TYR', 'KEGG: C00082', 'MetaCyc: TYR'], 'inchikey': 'OUYCCCASQSFEME-QMMMGPOBSA-N', 'charge': 0, 'smiles': '[NH3+][C@@H](Cc1ccc(O)cc1)C(=O)[O-]', 'pkb': '1:8:-5.96;1:13:9.19', 'pka': '1:8:9.79;1:11:2.00', 'mass': 181.0, 'compound_id': 'cpd00069', 'deltag': 18.52, 'source': 'Primary Database', 'name': 'L-Tyrosine', 'formula': 'C9H11NO3', 'deltagerr': 0.71, 'is_cofactor': 0}> r=<Relationship element_id='5:7de5358e-0bc2-417b-aa77-97dd0da86487:1096676' nodes=(<Node element_id='4:7de5358e-0bc2-417b-aa77-97dd0da86487:30819875' labels=frozenset({'Compound'}) properties={'is_core': 1, 'aliases': ['Name: (S)-2-Amino-3-(p-hydroxyphenyl)propionic acid; (S)-3-(p-Hydroxyphenyl)alanine; L-Tyrosine; L-tyr; L-tyrosine; Tyrosine; tyr; tyrosine', 'AraCyc: TYR', 'BiGG: tyr__L', 'BrachyCyc: TYR', 'KEGG: C00082', 'MetaCyc: TYR'], 'inchikey': 'OUYCCCASQSFEME-QMMMGPOBSA-N', 'charge': 0, 'smiles': '[NH3+][C@@H](Cc1ccc(O)cc1)C(=O)[O-]', 'pkb': '1:8:-5.96;1:13:9.19', 'pka': '1:8:9.79;1:11:2.00', 'mass': 181.0, 'compound_id': 'cpd00069', 'deltag': 18.52, 'source': 'Primary Database', 'name': 'L-Tyrosine', 'formula': 'C9H11NO3', 'deltagerr': 0.71, 'is_cofactor': 0}>, <Node element_id='4:7de5358e-0bc2-417b-aa77-97dd0da86487:30866564' labels=frozenset({'Reaction'}) properties={'stoichiometry': '-1:cpd00023:0:0:\"L-Glutamate\";-1:cpd00868:0:0:\"p-hydroxyphenylpyruvate\";1:cpd00024:0:0:\"2-Oxoglutarate\";1:cpd00069:0:0:\"L-Tyrosine\"', 'code': '(1) cpd00023[0] + (1) cpd00868[0] <=> (1) cpd00024[0] + (1) cpd00069[0]', 'aliases': ['AraCyc: 2.6.1.57-RXN; TYRAMINOTRANS-RXN; TYROSINE-AMINOTRANSFERASE-RXN', 'BiGG: AAT1_2; AAT2_2; ARO8; ARO9_2; TYRTA; TYRTAi; TYRTAim; TYRTAip; TYRTAm; TYRTAp', 'BrachyCyc: 2.6.1.57-RXN; TYRAMINOTRANS-RXN; TYROSINE-AMINOTRANSFERASE-RXN', 'KEGG: R00734', 'MetaCyc: 2.6.1.57-RXN; TYRAMINOTRANS-RXN; TYROSINE-AMINOTRANSFERASE-RXN', 'Name: L-Tyrosine:2-oxoglutarate aminotransferase; L-tyrosine:2-oxoglutarate aminotransferase; Tyrosine aminotransferase; Tyrosine transaminase; aminotransferase; tyrosine aminotransferase; tyrosine transaminase; tyrosine transaminase, irreversible; tyrosinetransaminase'], 'equation': '(1) cpd00023[0] + (1) cpd00868[0] <=> (1) cpd00024[0] + (1) cpd00069[0]', 'is_transport': 0, 'deltag': -0.09, 'pathways': ['MetaCyc: 4-Hydroxybenzoate-Biosynthesis (4-Hydroxybenzoate Biosynthesis); ALKALOIDS-SYN (Alkaloid Biosynthesis); ALL-CHORISMATE-PWY (superpathway of chorismate metabolism); AROMATIC-COMPOUNDS-BIOSYN (Aromatic Compound Biosynthesis); Amino-Acid-Biosynthesis (Amino Acid Biosynthesis); Amino-Acid-Degradation (Amino Acid Degradation); CINNAMATE-SYN (Cinnamate Biosynthesis); COMPLETE-ARO-PWY (superpathway of aromatic amino acid biosynthesis); Cofactor-Biosynthesis (Cofactor, Prosthetic Group, Electron Carrier, and Vitamin Biosynthesis); Degradation (Degradation/Utilization/Assimilation); IND-AMINO-ACID-SYN (Proteinogenic Amino Acid Biosynthesis); ISOQUINOLINE-ALKALOIDS (Isoquinoline and Benzylisoquinoline Alkaloid Biosynthesis); N-CONTAINING-SECONDARY-CMPD-SYN (Nitrogen-Containing Secondary Compound Biosynthesis); PHENYLPROPANOID-SYN (Phenylpropanoid Derivative Biosynthesis); PWY-3581 ((<i>S</i>)-reticuline biosynthesis I); PWY-5048 (rosmarinic acid biosynthesis I); PWY-5071 (superpathway of rosmarinic acid biosynthesis); PWY-5151 (L-tyrosine degradation II); PWY-5754 (4-hydroxybenzoate biosynthesis I (eukaryotes)); PWY-5864 (superpathway of plastoquinol biosynthesis); PWY-5886 (4-hydroxyphenylpyruvate biosynthesis); PWY-6630 (superpathway of L-tyrosine biosynthesis); PWY-7514 (L-tyrosine degradation IV (to 4-methylphenol)); PWY-7518 (atromentin biosynthesis); PWY-8016 (L-tyrosine degradation V (Stickland reaction)); PWY3O-4108 (L-tyrosine degradation III); Plastoquinone-Biosynthesis (Plastoquinol Biosynthesis); Proteinogenic-Amino-Acids-Degradation (Proteinogenic Amino Acid Degradation); QUINONE-SYN (Quinone Secondary Metabolite Biosynthesis); Quinone-Biosynthesis (Quinol and Quinone Biosynthesis); Rosmarinate-Biosynthesis (Rosmarinate Biosynthesis); S-Reticuline-Biosynthesis ((<i>S</i>)-reticuline biosynthesis); SECONDARY-METABOLITE-BIOSYNTHESIS (Secondary Metabolite Biosynthesis); TYRFUMCAT-PWY (L-tyrosine degradation I); TYROSINE-DEG (L-tyrosine Degradation); TYROSINE-SYN (L-tyrosine Biosynthesis); TYRSYN (L-tyrosine biosynthesis I)', 'KEGG: rn00130 (Ubiquinone and other terpenoid-quinone biosynthesis); rn00350 (Tyrosine metabolism); rn00400 (Phenylalanine, tyrosine and tryptophan biosynthesis); rn00401 (Novobiocin biosynthesis); rn00950 (Isoquinoline alkaloid biosynthesis); rn01110 (Biosynthesis of secondary metabolites); rn01210 (2-Oxocarboxylic acid metabolism); rn01230 (Biosynthesis of amino acids)'], 'ec_numbers': ['2.6.1.1', '2.6.1.5', '2.6.1.57', '2.6.1.9'], 'source': 'Secondary Database', 'products': [' (1) cpd00024[0]', '(1) cpd00069[0]'], 'reaction_id': 'rxn30444', 'compound_ids': 'cpd00023;cpd00024;cpd00069;cpd00868', 'substrates': ['(1) cpd00023[0]', '(1) cpd00868[0] '], 'reversibility': '=', 'name': 'tyrosine transaminase, irreversible (mitochondrial)', 'definition': '(1) L-Glutamate[0] + (1) p-hydroxyphenylpyruvate[0] <=> (1) 2-Oxoglutarate[0] + (1) L-Tyrosine[0]', 'deltagerr': 0.5, 'linked_reaction': 'rxn00527;rxn27524;rxn30445;rxn37937', 'direction': '=', 'status': 'OK'}>) type='PRODUCT_OF' properties={'to_property_list_name': 'products', 'from_property_name': 'compound_id', 'calculated': 'FALSE'}> reaction=<Node element_id='4:7de5358e-0bc2-417b-aa77-97dd0da86487:30866564' labels=frozenset({'Reaction'}) properties={'stoichiometry': '-1:cpd00023:0:0:\"L-Glutamate\";-1:cpd00868:0:0:\"p-hydroxyphenylpyruvate\";1:cpd00024:0:0:\"2-Oxoglutarate\";1:cpd00069:0:0:\"L-Tyrosine\"', 'code': '(1) cpd00023[0] + (1) cpd00868[0] <=> (1) cpd00024[0] + (1) cpd00069[0]', 'aliases': ['AraCyc: 2.6.1.57-RXN; TYRAMINOTRANS-RXN; TYROSINE-AMINOTRANSFERASE-RXN', 'BiGG: AAT1_2; AAT2_2; ARO8; ARO9_2; TYRTA; TYRTAi; TYRTAim; TYRTAip; TYRTAm; TYRTAp', 'BrachyCyc: 2.6.1.57-RXN; TYRAMINOTRANS-RXN; TYROSINE-AMINOTRANSFERASE-RXN', 'KEGG: R00734', 'MetaCyc: 2.6.1.57-RXN; TYRAMINOTRANS-RXN; TYROSINE-AMINOTRANSFERASE-RXN', 'Name: L-Tyrosine:2-oxoglutarate aminotransferase; L-tyrosine:2-oxoglutarate aminotransferase; Tyrosine aminotransferase; Tyrosine transaminase; aminotransferase; tyrosine aminotransferase; tyrosine transaminase; tyrosine transaminase, irreversible; tyrosinetransaminase'], 'equation': '(1) cpd00023[0] + (1) cpd00868[0] <=> (1) cpd00024[0] + (1) cpd00069[0]', 'is_transport': 0, 'deltag': -0.09, 'pathways': ['MetaCyc: 4-Hydroxybenzoate-Biosynthesis (4-Hydroxybenzoate Biosynthesis); ALKALOIDS-SYN (Alkaloid Biosynthesis); ALL-CHORISMATE-PWY (superpathway of chorismate metabolism); AROMATIC-COMPOUNDS-BIOSYN (Aromatic Compound Biosynthesis); Amino-Acid-Biosynthesis (Amino Acid Biosynthesis); Amino-Acid-Degradation (Amino Acid Degradation); CINNAMATE-SYN (Cinnamate Biosynthesis); COMPLETE-ARO-PWY (superpathway of aromatic amino acid biosynthesis); Cofactor-Biosynthesis (Cofactor, Prosthetic Group, Electron Carrier, and Vitamin Biosynthesis); Degradation (Degradation/Utilization/Assimilation); IND-AMINO-ACID-SYN (Proteinogenic Amino Acid Biosynthesis); ISOQUINOLINE-ALKALOIDS (Isoquinoline and Benzylisoquinoline Alkaloid Biosynthesis); N-CONTAINING-SECONDARY-CMPD-SYN (Nitrogen-Containing Secondary Compound Biosynthesis); PHENYLPROPANOID-SYN (Phenylpropanoid Derivative Biosynthesis); PWY-3581 ((<i>S</i>)-reticuline biosynthesis I); PWY-5048 (rosmarinic acid biosynthesis I); PWY-5071 (superpathway of rosmarinic acid biosynthesis); PWY-5151 (L-tyrosine degradation II); PWY-5754 (4-hydroxybenzoate biosynthesis I (eukaryotes)); PWY-5864 (superpathway of plastoquinol biosynthesis); PWY-5886 (4-hydroxyphenylpyruvate biosynthesis); PWY-6630 (superpathway of L-tyrosine biosynthesis); PWY-7514 (L-tyrosine degradation IV (to 4-methylphenol)); PWY-7518 (atromentin biosynthesis); PWY-8016 (L-tyrosine degradation V (Stickland reaction)); PWY3O-4108 (L-tyrosine degradation III); Plastoquinone-Biosynthesis (Plastoquinol Biosynthesis); Proteinogenic-Amino-Acids-Degradation (Proteinogenic Amino Acid Degradation); QUINONE-SYN (Quinone Secondary Metabolite Biosynthesis); Quinone-Biosynthesis (Quinol and Quinone Biosynthesis); Rosmarinate-Biosynthesis (Rosmarinate Biosynthesis); S-Reticuline-Biosynthesis ((<i>S</i>)-reticuline biosynthesis); SECONDARY-METABOLITE-BIOSYNTHESIS (Secondary Metabolite Biosynthesis); TYRFUMCAT-PWY (L-tyrosine degradation I); TYROSINE-DEG (L-tyrosine Degradation); TYROSINE-SYN (L-tyrosine Biosynthesis); TYRSYN (L-tyrosine biosynthesis I)', 'KEGG: rn00130 (Ubiquinone and other terpenoid-quinone biosynthesis); rn00350 (Tyrosine metabolism); rn00400 (Phenylalanine, tyrosine and tryptophan biosynthesis); rn00401 (Novobiocin biosynthesis); rn00950 (Isoquinoline alkaloid biosynthesis); rn01110 (Biosynthesis of secondary metabolites); rn01210 (2-Oxocarboxylic acid metabolism); rn01230 (Biosynthesis of amino acids)'], 'ec_numbers': ['2.6.1.1', '2.6.1.5', '2.6.1.57', '2.6.1.9'], 'source': 'Secondary Database', 'products': [' (1) cpd00024[0]', '(1) cpd00069[0]'], 'reaction_id': 'rxn30444', 'compound_ids': 'cpd00023;cpd00024;cpd00069;cpd00868', 'substrates': ['(1) cpd00023[0]', '(1) cpd00868[0] '], 'reversibility': '=', 'name': 'tyrosine transaminase, irreversible (mitochondrial)', 'definition': '(1) L-Glutamate[0] + (1) p-hydroxyphenylpyruvate[0] <=> (1) 2-Oxoglutarate[0] + (1) L-Tyrosine[0]', 'deltagerr': 0.5, 'linked_reaction': 'rxn00527;rxn27524;rxn30445;rxn37937', 'direction': '=', 'status': 'OK'}>>,\n",
       " <Record c=<Node element_id='4:7de5358e-0bc2-417b-aa77-97dd0da86487:30819875' labels=frozenset({'Compound'}) properties={'is_core': 1, 'aliases': ['Name: (S)-2-Amino-3-(p-hydroxyphenyl)propionic acid; (S)-3-(p-Hydroxyphenyl)alanine; L-Tyrosine; L-tyr; L-tyrosine; Tyrosine; tyr; tyrosine', 'AraCyc: TYR', 'BiGG: tyr__L', 'BrachyCyc: TYR', 'KEGG: C00082', 'MetaCyc: TYR'], 'inchikey': 'OUYCCCASQSFEME-QMMMGPOBSA-N', 'charge': 0, 'smiles': '[NH3+][C@@H](Cc1ccc(O)cc1)C(=O)[O-]', 'pkb': '1:8:-5.96;1:13:9.19', 'pka': '1:8:9.79;1:11:2.00', 'mass': 181.0, 'compound_id': 'cpd00069', 'deltag': 18.52, 'source': 'Primary Database', 'name': 'L-Tyrosine', 'formula': 'C9H11NO3', 'deltagerr': 0.71, 'is_cofactor': 0}> r=<Relationship element_id='5:7de5358e-0bc2-417b-aa77-97dd0da86487:1096684' nodes=(<Node element_id='4:7de5358e-0bc2-417b-aa77-97dd0da86487:30819875' labels=frozenset({'Compound'}) properties={'is_core': 1, 'aliases': ['Name: (S)-2-Amino-3-(p-hydroxyphenyl)propionic acid; (S)-3-(p-Hydroxyphenyl)alanine; L-Tyrosine; L-tyr; L-tyrosine; Tyrosine; tyr; tyrosine', 'AraCyc: TYR', 'BiGG: tyr__L', 'BrachyCyc: TYR', 'KEGG: C00082', 'MetaCyc: TYR'], 'inchikey': 'OUYCCCASQSFEME-QMMMGPOBSA-N', 'charge': 0, 'smiles': '[NH3+][C@@H](Cc1ccc(O)cc1)C(=O)[O-]', 'pkb': '1:8:-5.96;1:13:9.19', 'pka': '1:8:9.79;1:11:2.00', 'mass': 181.0, 'compound_id': 'cpd00069', 'deltag': 18.52, 'source': 'Primary Database', 'name': 'L-Tyrosine', 'formula': 'C9H11NO3', 'deltagerr': 0.71, 'is_cofactor': 0}>, <Node element_id='4:7de5358e-0bc2-417b-aa77-97dd0da86487:30874752' labels=frozenset({'Reaction'}) properties={'stoichiometry': '-1:cpd00064:0:0:\"Ornithine\";-1:cpd00868:0:0:\"p-hydroxyphenylpyruvate\";1:cpd00069:0:0:\"L-Tyrosine\";1:cpd00858:0:0:\"L-Glutamate5-semialdehyde\"', 'aliases': ['ChlamyCyc: ORNITHINE--OXO-ACID-AMINOTRANSFERASE-RXN', 'Name: Ornithine aminotransferase; Ornithine ketoacid aminotransferase; Ornithine--oxo-acid aminotransferase'], 'code': '(1) cpd00064[0] + (1) cpd00868[0] <=> (1) cpd00069[0] + (1) cpd00858[0]', 'equation': '(1) cpd00064[0] + (1) cpd00868[0] <=> (1) cpd00069[0] + (1) cpd00858[0]', 'deltag': -1.46, 'is_transport': 0, 'source': 'Secondary Database', 'ec_numbers': ['2.6.1.13'], 'products': [' (1) cpd00069[0]', '(1) cpd00858[0]'], 'reaction_id': 'rxn38908', 'compound_ids': 'cpd00064;cpd00069;cpd00858;cpd00868', 'substrates': ['(1) cpd00064[0]', '(1) cpd00868[0] '], 'name': 'Ornithine ketoacid aminotransferase', 'reversibility': '=', 'deltagerr': 1.2, 'definition': '(1) Ornithine[0] + (1) p-hydroxyphenylpyruvate[0] <=> (1) L-Tyrosine[0] + (1) L-Glutamate5-semialdehyde[0]', 'status': 'OK', 'direction': '='}>) type='PRODUCT_OF' properties={'to_property_list_name': 'products', 'from_property_name': 'compound_id', 'calculated': 'FALSE'}> reaction=<Node element_id='4:7de5358e-0bc2-417b-aa77-97dd0da86487:30874752' labels=frozenset({'Reaction'}) properties={'stoichiometry': '-1:cpd00064:0:0:\"Ornithine\";-1:cpd00868:0:0:\"p-hydroxyphenylpyruvate\";1:cpd00069:0:0:\"L-Tyrosine\";1:cpd00858:0:0:\"L-Glutamate5-semialdehyde\"', 'aliases': ['ChlamyCyc: ORNITHINE--OXO-ACID-AMINOTRANSFERASE-RXN', 'Name: Ornithine aminotransferase; Ornithine ketoacid aminotransferase; Ornithine--oxo-acid aminotransferase'], 'code': '(1) cpd00064[0] + (1) cpd00868[0] <=> (1) cpd00069[0] + (1) cpd00858[0]', 'equation': '(1) cpd00064[0] + (1) cpd00868[0] <=> (1) cpd00069[0] + (1) cpd00858[0]', 'deltag': -1.46, 'is_transport': 0, 'source': 'Secondary Database', 'ec_numbers': ['2.6.1.13'], 'products': [' (1) cpd00069[0]', '(1) cpd00858[0]'], 'reaction_id': 'rxn38908', 'compound_ids': 'cpd00064;cpd00069;cpd00858;cpd00868', 'substrates': ['(1) cpd00064[0]', '(1) cpd00868[0] '], 'name': 'Ornithine ketoacid aminotransferase', 'reversibility': '=', 'deltagerr': 1.2, 'definition': '(1) Ornithine[0] + (1) p-hydroxyphenylpyruvate[0] <=> (1) L-Tyrosine[0] + (1) L-Glutamate5-semialdehyde[0]', 'status': 'OK', 'direction': '='}>>,\n",
       " <Record c=<Node element_id='4:7de5358e-0bc2-417b-aa77-97dd0da86487:30819875' labels=frozenset({'Compound'}) properties={'is_core': 1, 'aliases': ['Name: (S)-2-Amino-3-(p-hydroxyphenyl)propionic acid; (S)-3-(p-Hydroxyphenyl)alanine; L-Tyrosine; L-tyr; L-tyrosine; Tyrosine; tyr; tyrosine', 'AraCyc: TYR', 'BiGG: tyr__L', 'BrachyCyc: TYR', 'KEGG: C00082', 'MetaCyc: TYR'], 'inchikey': 'OUYCCCASQSFEME-QMMMGPOBSA-N', 'charge': 0, 'smiles': '[NH3+][C@@H](Cc1ccc(O)cc1)C(=O)[O-]', 'pkb': '1:8:-5.96;1:13:9.19', 'pka': '1:8:9.79;1:11:2.00', 'mass': 181.0, 'compound_id': 'cpd00069', 'deltag': 18.52, 'source': 'Primary Database', 'name': 'L-Tyrosine', 'formula': 'C9H11NO3', 'deltagerr': 0.71, 'is_cofactor': 0}> r=<Relationship element_id='5:7de5358e-0bc2-417b-aa77-97dd0da86487:1096668' nodes=(<Node element_id='4:7de5358e-0bc2-417b-aa77-97dd0da86487:30819875' labels=frozenset({'Compound'}) properties={'is_core': 1, 'aliases': ['Name: (S)-2-Amino-3-(p-hydroxyphenyl)propionic acid; (S)-3-(p-Hydroxyphenyl)alanine; L-Tyrosine; L-tyr; L-tyrosine; Tyrosine; tyr; tyrosine', 'AraCyc: TYR', 'BiGG: tyr__L', 'BrachyCyc: TYR', 'KEGG: C00082', 'MetaCyc: TYR'], 'inchikey': 'OUYCCCASQSFEME-QMMMGPOBSA-N', 'charge': 0, 'smiles': '[NH3+][C@@H](Cc1ccc(O)cc1)C(=O)[O-]', 'pkb': '1:8:-5.96;1:13:9.19', 'pka': '1:8:9.79;1:11:2.00', 'mass': 181.0, 'compound_id': 'cpd00069', 'deltag': 18.52, 'source': 'Primary Database', 'name': 'L-Tyrosine', 'formula': 'C9H11NO3', 'deltagerr': 0.71, 'is_cofactor': 0}>, <Node element_id='4:7de5358e-0bc2-417b-aa77-97dd0da86487:30852247' labels=frozenset({'Reaction'}) properties={'stoichiometry': '-1:cpd00001:0:0:\"H2O\";-1:cpd15606:0:0:\"Gly-Tyr\";1:cpd00033:0:0:\"Glycine\";1:cpd00069:0:0:\"L-Tyrosine\"', 'aliases': ['Name: Gly-Try aminopeptidase'], 'code': '(1) cpd00001[0] + (1) cpd15606[0] <=> (1) cpd00033[0] + (1) cpd00069[0]', 'equation': '(1) cpd00001[0] + (1) cpd15606[0] <=> (1) cpd00033[0] + (1) cpd00069[0]', 'deltag': 10000000.0, 'is_transport': 0, 'source': 'Orphan', 'ec_numbers': ['3.4.11.2'], 'products': [' (1) cpd00033[0]', '(1) cpd00069[0]'], 'reaction_id': 'rxn12847', 'compound_ids': 'cpd00001;cpd00033;cpd00069;cpd15606', 'substrates': ['(1) cpd00001[0]', '(1) cpd15606[0] '], 'name': 'Gly-Try aminopeptidase', 'reversibility': '?', 'deltagerr': 10000000.0, 'definition': '(1) H2O[0] + (1) Gly-Tyr[0] <=> (1) Glycine[0] + (1) L-Tyrosine[0]', 'status': 'OK', 'direction': '='}>) type='PRODUCT_OF' properties={'to_property_list_name': 'products', 'from_property_name': 'compound_id', 'calculated': 'FALSE'}> reaction=<Node element_id='4:7de5358e-0bc2-417b-aa77-97dd0da86487:30852247' labels=frozenset({'Reaction'}) properties={'stoichiometry': '-1:cpd00001:0:0:\"H2O\";-1:cpd15606:0:0:\"Gly-Tyr\";1:cpd00033:0:0:\"Glycine\";1:cpd00069:0:0:\"L-Tyrosine\"', 'aliases': ['Name: Gly-Try aminopeptidase'], 'code': '(1) cpd00001[0] + (1) cpd15606[0] <=> (1) cpd00033[0] + (1) cpd00069[0]', 'equation': '(1) cpd00001[0] + (1) cpd15606[0] <=> (1) cpd00033[0] + (1) cpd00069[0]', 'deltag': 10000000.0, 'is_transport': 0, 'source': 'Orphan', 'ec_numbers': ['3.4.11.2'], 'products': [' (1) cpd00033[0]', '(1) cpd00069[0]'], 'reaction_id': 'rxn12847', 'compound_ids': 'cpd00001;cpd00033;cpd00069;cpd15606', 'substrates': ['(1) cpd00001[0]', '(1) cpd15606[0] '], 'name': 'Gly-Try aminopeptidase', 'reversibility': '?', 'deltagerr': 10000000.0, 'definition': '(1) H2O[0] + (1) Gly-Tyr[0] <=> (1) Glycine[0] + (1) L-Tyrosine[0]', 'status': 'OK', 'direction': '='}>>,\n",
       " <Record c=<Node element_id='4:7de5358e-0bc2-417b-aa77-97dd0da86487:30819875' labels=frozenset({'Compound'}) properties={'is_core': 1, 'aliases': ['Name: (S)-2-Amino-3-(p-hydroxyphenyl)propionic acid; (S)-3-(p-Hydroxyphenyl)alanine; L-Tyrosine; L-tyr; L-tyrosine; Tyrosine; tyr; tyrosine', 'AraCyc: TYR', 'BiGG: tyr__L', 'BrachyCyc: TYR', 'KEGG: C00082', 'MetaCyc: TYR'], 'inchikey': 'OUYCCCASQSFEME-QMMMGPOBSA-N', 'charge': 0, 'smiles': '[NH3+][C@@H](Cc1ccc(O)cc1)C(=O)[O-]', 'pkb': '1:8:-5.96;1:13:9.19', 'pka': '1:8:9.79;1:11:2.00', 'mass': 181.0, 'compound_id': 'cpd00069', 'deltag': 18.52, 'source': 'Primary Database', 'name': 'L-Tyrosine', 'formula': 'C9H11NO3', 'deltagerr': 0.71, 'is_cofactor': 0}> r=<Relationship element_id='5:7de5358e-0bc2-417b-aa77-97dd0da86487:1096689' nodes=(<Node element_id='4:7de5358e-0bc2-417b-aa77-97dd0da86487:30819875' labels=frozenset({'Compound'}) properties={'is_core': 1, 'aliases': ['Name: (S)-2-Amino-3-(p-hydroxyphenyl)propionic acid; (S)-3-(p-Hydroxyphenyl)alanine; L-Tyrosine; L-tyr; L-tyrosine; Tyrosine; tyr; tyrosine', 'AraCyc: TYR', 'BiGG: tyr__L', 'BrachyCyc: TYR', 'KEGG: C00082', 'MetaCyc: TYR'], 'inchikey': 'OUYCCCASQSFEME-QMMMGPOBSA-N', 'charge': 0, 'smiles': '[NH3+][C@@H](Cc1ccc(O)cc1)C(=O)[O-]', 'pkb': '1:8:-5.96;1:13:9.19', 'pka': '1:8:9.79;1:11:2.00', 'mass': 181.0, 'compound_id': 'cpd00069', 'deltag': 18.52, 'source': 'Primary Database', 'name': 'L-Tyrosine', 'formula': 'C9H11NO3', 'deltagerr': 0.71, 'is_cofactor': 0}>, <Node element_id='4:7de5358e-0bc2-417b-aa77-97dd0da86487:30881474' labels=frozenset({'Reaction'}) properties={'stoichiometry': '-1:cpd00006:0:0:NADP;-1:cpd00012:0:0:PPi;-1:cpd00018:0:0:AMP;-1:cpd33830:0:0:(2S)-2-amino-3-(4-hydroxyphenyl)propanal;1:cpd00002:0:0:ATP;1:cpd00005:0:0:NADPH;1:cpd00069:0:0:L-Tyrosine', 'aliases': ['MetaCyc: RXN-19914'], 'code': '(1) cpd00006[0] + (1) cpd00012[0] + (1) cpd00018[0] + (1) cpd33830[0] <=> (1) cpd00002[0] + (1) cpd00005[0] + (1) cpd00069[0]', 'equation': '(1) cpd00006[0] + (1) cpd00012[0] + (1) cpd00018[0] + (1) cpd33830[0] <=> (1) cpd00002[0] + (1) cpd00005[0] + (1) cpd00069[0]', 'deltag': 17.5, 'is_transport': 0, 'source': 'Primary Database', 'ec_numbers': ['1.2.1.ah'], 'products': [' (1) cpd00002[0]', '(1) cpd00005[0]', '(1) cpd00069[0]'], 'reaction_id': 'rxn45806', 'compound_ids': 'cpd00002;cpd00005;cpd00006;cpd00012;cpd00018;cpd00069;cpd33830', 'substrates': ['(1) cpd00006[0]', '(1) cpd00012[0]', '(1) cpd00018[0]', '(1) cpd33830[0] '], 'name': '', 'reversibility': '=', 'deltagerr': 7.58, 'definition': '(1) NADP[0] + (1) PPi[0] + (1) AMP[0] + (1) (2S)-2-amino-3-(4-hydroxyphenyl)propanal[0] <=> (1) ATP[0] + (1) NADPH[0] + (1) L-Tyrosine[0]', 'direction': '=', 'status': 'OK'}>) type='PRODUCT_OF' properties={'to_property_list_name': 'products', 'from_property_name': 'compound_id', 'calculated': 'FALSE'}> reaction=<Node element_id='4:7de5358e-0bc2-417b-aa77-97dd0da86487:30881474' labels=frozenset({'Reaction'}) properties={'stoichiometry': '-1:cpd00006:0:0:NADP;-1:cpd00012:0:0:PPi;-1:cpd00018:0:0:AMP;-1:cpd33830:0:0:(2S)-2-amino-3-(4-hydroxyphenyl)propanal;1:cpd00002:0:0:ATP;1:cpd00005:0:0:NADPH;1:cpd00069:0:0:L-Tyrosine', 'aliases': ['MetaCyc: RXN-19914'], 'code': '(1) cpd00006[0] + (1) cpd00012[0] + (1) cpd00018[0] + (1) cpd33830[0] <=> (1) cpd00002[0] + (1) cpd00005[0] + (1) cpd00069[0]', 'equation': '(1) cpd00006[0] + (1) cpd00012[0] + (1) cpd00018[0] + (1) cpd33830[0] <=> (1) cpd00002[0] + (1) cpd00005[0] + (1) cpd00069[0]', 'deltag': 17.5, 'is_transport': 0, 'source': 'Primary Database', 'ec_numbers': ['1.2.1.ah'], 'products': [' (1) cpd00002[0]', '(1) cpd00005[0]', '(1) cpd00069[0]'], 'reaction_id': 'rxn45806', 'compound_ids': 'cpd00002;cpd00005;cpd00006;cpd00012;cpd00018;cpd00069;cpd33830', 'substrates': ['(1) cpd00006[0]', '(1) cpd00012[0]', '(1) cpd00018[0]', '(1) cpd33830[0] '], 'name': '', 'reversibility': '=', 'deltagerr': 7.58, 'definition': '(1) NADP[0] + (1) PPi[0] + (1) AMP[0] + (1) (2S)-2-amino-3-(4-hydroxyphenyl)propanal[0] <=> (1) ATP[0] + (1) NADPH[0] + (1) L-Tyrosine[0]', 'direction': '=', 'status': 'OK'}>>,\n",
       " <Record c=<Node element_id='4:7de5358e-0bc2-417b-aa77-97dd0da86487:30819875' labels=frozenset({'Compound'}) properties={'is_core': 1, 'aliases': ['Name: (S)-2-Amino-3-(p-hydroxyphenyl)propionic acid; (S)-3-(p-Hydroxyphenyl)alanine; L-Tyrosine; L-tyr; L-tyrosine; Tyrosine; tyr; tyrosine', 'AraCyc: TYR', 'BiGG: tyr__L', 'BrachyCyc: TYR', 'KEGG: C00082', 'MetaCyc: TYR'], 'inchikey': 'OUYCCCASQSFEME-QMMMGPOBSA-N', 'charge': 0, 'smiles': '[NH3+][C@@H](Cc1ccc(O)cc1)C(=O)[O-]', 'pkb': '1:8:-5.96;1:13:9.19', 'pka': '1:8:9.79;1:11:2.00', 'mass': 181.0, 'compound_id': 'cpd00069', 'deltag': 18.52, 'source': 'Primary Database', 'name': 'L-Tyrosine', 'formula': 'C9H11NO3', 'deltagerr': 0.71, 'is_cofactor': 0}> r=<Relationship element_id='5:7de5358e-0bc2-417b-aa77-97dd0da86487:1096683' nodes=(<Node element_id='4:7de5358e-0bc2-417b-aa77-97dd0da86487:30819875' labels=frozenset({'Compound'}) properties={'is_core': 1, 'aliases': ['Name: (S)-2-Amino-3-(p-hydroxyphenyl)propionic acid; (S)-3-(p-Hydroxyphenyl)alanine; L-Tyrosine; L-tyr; L-tyrosine; Tyrosine; tyr; tyrosine', 'AraCyc: TYR', 'BiGG: tyr__L', 'BrachyCyc: TYR', 'KEGG: C00082', 'MetaCyc: TYR'], 'inchikey': 'OUYCCCASQSFEME-QMMMGPOBSA-N', 'charge': 0, 'smiles': '[NH3+][C@@H](Cc1ccc(O)cc1)C(=O)[O-]', 'pkb': '1:8:-5.96;1:13:9.19', 'pka': '1:8:9.79;1:11:2.00', 'mass': 181.0, 'compound_id': 'cpd00069', 'deltag': 18.52, 'source': 'Primary Database', 'name': 'L-Tyrosine', 'formula': 'C9H11NO3', 'deltagerr': 0.71, 'is_cofactor': 0}>, <Node element_id='4:7de5358e-0bc2-417b-aa77-97dd0da86487:30870480' labels=frozenset({'Reaction'}) properties={'stoichiometry': '-1:cpd00067:0:0:\"H+\";-1:cpd00069:0:0:\"L-Tyrosine\";1:cpd00067:1:0:\"H+\";1:cpd00069:1:0:\"L-Tyrosine\"', 'code': '(1) cpd00069[0] <=> (1) cpd00069[1]', 'aliases': ['BiGG: AGP1_10; BAP2_7; BAP3_7; GAP1_16; TAT1_4; TAT2_6; TYRt2; TYRt2m; TYRt2p; TYRt2r; TYRt2rpp; TYRt6i; TYRt7; VAP1_6', 'BrachyCyc: TRANS-RXNAVI-26536', 'EcoCyc: TRANS-RXN-77', 'MaizeCyc: TRANS-RXNBWI-115637', 'MetaCyc: TRANS-RXN-77', 'Name: General amino acid permease AGP1; L-tyrosine reversible transport via proton symport; L-tyrosine transport in/out via proton symport; L-tyrosine transport out via proton symport; L-tyrosine:proton symport; L-tyrosinereversibletransportviaprotonsymport; TRANS-RXN-77.cp; TYRt6; Tyrosine permease; tyrosine transport via proton symport'], 'equation': '(1) cpd00067[0] + (1) cpd00069[0] <=> (1) cpd00067[1] + (1) cpd00069[1]', 'is_transport': 1, 'deltag': 0.0, 'ec_numbers': ['2.A.3.1.-'], 'source': 'Published Model', 'products': [' (1) cpd00067[1]', '(1) cpd00069[1]'], 'reaction_id': 'rxn34413', 'compound_ids': 'cpd00067;cpd00069', 'substrates': ['(1) cpd00067[0]', '(1) cpd00069[0] '], 'reversibility': '=', 'name': 'Tyrosine permease, chloroplast', 'definition': '(1) H+[0] + (1) L-Tyrosine[0] <=> (1) H+[1] + (1) L-Tyrosine[1]', 'deltagerr': 1.27, 'linked_reaction': 'rxn05301;rxn09338;rxn09708;rxn09831;rxn13412', 'direction': '=', 'status': 'OK'}>) type='PRODUCT_OF' properties={'to_property_list_name': 'products', 'from_property_name': 'compound_id', 'calculated': 'FALSE'}> reaction=<Node element_id='4:7de5358e-0bc2-417b-aa77-97dd0da86487:30870480' labels=frozenset({'Reaction'}) properties={'stoichiometry': '-1:cpd00067:0:0:\"H+\";-1:cpd00069:0:0:\"L-Tyrosine\";1:cpd00067:1:0:\"H+\";1:cpd00069:1:0:\"L-Tyrosine\"', 'code': '(1) cpd00069[0] <=> (1) cpd00069[1]', 'aliases': ['BiGG: AGP1_10; BAP2_7; BAP3_7; GAP1_16; TAT1_4; TAT2_6; TYRt2; TYRt2m; TYRt2p; TYRt2r; TYRt2rpp; TYRt6i; TYRt7; VAP1_6', 'BrachyCyc: TRANS-RXNAVI-26536', 'EcoCyc: TRANS-RXN-77', 'MaizeCyc: TRANS-RXNBWI-115637', 'MetaCyc: TRANS-RXN-77', 'Name: General amino acid permease AGP1; L-tyrosine reversible transport via proton symport; L-tyrosine transport in/out via proton symport; L-tyrosine transport out via proton symport; L-tyrosine:proton symport; L-tyrosinereversibletransportviaprotonsymport; TRANS-RXN-77.cp; TYRt6; Tyrosine permease; tyrosine transport via proton symport'], 'equation': '(1) cpd00067[0] + (1) cpd00069[0] <=> (1) cpd00067[1] + (1) cpd00069[1]', 'is_transport': 1, 'deltag': 0.0, 'ec_numbers': ['2.A.3.1.-'], 'source': 'Published Model', 'products': [' (1) cpd00067[1]', '(1) cpd00069[1]'], 'reaction_id': 'rxn34413', 'compound_ids': 'cpd00067;cpd00069', 'substrates': ['(1) cpd00067[0]', '(1) cpd00069[0] '], 'reversibility': '=', 'name': 'Tyrosine permease, chloroplast', 'definition': '(1) H+[0] + (1) L-Tyrosine[0] <=> (1) H+[1] + (1) L-Tyrosine[1]', 'deltagerr': 1.27, 'linked_reaction': 'rxn05301;rxn09338;rxn09708;rxn09831;rxn13412', 'direction': '=', 'status': 'OK'}>>,\n",
       " <Record c=<Node element_id='4:7de5358e-0bc2-417b-aa77-97dd0da86487:30819875' labels=frozenset({'Compound'}) properties={'is_core': 1, 'aliases': ['Name: (S)-2-Amino-3-(p-hydroxyphenyl)propionic acid; (S)-3-(p-Hydroxyphenyl)alanine; L-Tyrosine; L-tyr; L-tyrosine; Tyrosine; tyr; tyrosine', 'AraCyc: TYR', 'BiGG: tyr__L', 'BrachyCyc: TYR', 'KEGG: C00082', 'MetaCyc: TYR'], 'inchikey': 'OUYCCCASQSFEME-QMMMGPOBSA-N', 'charge': 0, 'smiles': '[NH3+][C@@H](Cc1ccc(O)cc1)C(=O)[O-]', 'pkb': '1:8:-5.96;1:13:9.19', 'pka': '1:8:9.79;1:11:2.00', 'mass': 181.0, 'compound_id': 'cpd00069', 'deltag': 18.52, 'source': 'Primary Database', 'name': 'L-Tyrosine', 'formula': 'C9H11NO3', 'deltagerr': 0.71, 'is_cofactor': 0}> r=<Relationship element_id='5:7de5358e-0bc2-417b-aa77-97dd0da86487:1096677' nodes=(<Node element_id='4:7de5358e-0bc2-417b-aa77-97dd0da86487:30819875' labels=frozenset({'Compound'}) properties={'is_core': 1, 'aliases': ['Name: (S)-2-Amino-3-(p-hydroxyphenyl)propionic acid; (S)-3-(p-Hydroxyphenyl)alanine; L-Tyrosine; L-tyr; L-tyrosine; Tyrosine; tyr; tyrosine', 'AraCyc: TYR', 'BiGG: tyr__L', 'BrachyCyc: TYR', 'KEGG: C00082', 'MetaCyc: TYR'], 'inchikey': 'OUYCCCASQSFEME-QMMMGPOBSA-N', 'charge': 0, 'smiles': '[NH3+][C@@H](Cc1ccc(O)cc1)C(=O)[O-]', 'pkb': '1:8:-5.96;1:13:9.19', 'pka': '1:8:9.79;1:11:2.00', 'mass': 181.0, 'compound_id': 'cpd00069', 'deltag': 18.52, 'source': 'Primary Database', 'name': 'L-Tyrosine', 'formula': 'C9H11NO3', 'deltagerr': 0.71, 'is_cofactor': 0}>, <Node element_id='4:7de5358e-0bc2-417b-aa77-97dd0da86487:30866565' labels=frozenset({'Reaction'}) properties={'stoichiometry': '-1:cpd00023:0:0:\"L-Glutamate\";-1:cpd00868:0:0:\"p-hydroxyphenylpyruvate\";1:cpd00024:0:0:\"2-Oxoglutarate\";1:cpd00069:0:0:\"L-Tyrosine\"', 'code': '(1) cpd00023[0] + (1) cpd00868[0] <=> (1) cpd00024[0] + (1) cpd00069[0]', 'aliases': ['AraCyc: 2.6.1.57-RXN; TYRAMINOTRANS-RXN; TYROSINE-AMINOTRANSFERASE-RXN', 'BiGG: AAT1_2; AAT2_2; ARO8; ARO9_2; TYRTA; TYRTAi; TYRTAim; TYRTAip; TYRTAm; TYRTAp', 'BrachyCyc: 2.6.1.57-RXN; TYRAMINOTRANS-RXN; TYROSINE-AMINOTRANSFERASE-RXN', 'KEGG: R00734', 'MetaCyc: 2.6.1.57-RXN; TYRAMINOTRANS-RXN; TYROSINE-AMINOTRANSFERASE-RXN', 'Name: L-Tyrosine:2-oxoglutarate aminotransferase; L-tyrosine:2-oxoglutarate aminotransferase; Tyrosine aminotransferase; Tyrosine transaminase; aminotransferase; tyrosine aminotransferase; tyrosine transaminase; tyrosine transaminase, irreversible; tyrosinetransaminase'], 'equation': '(1) cpd00023[0] + (1) cpd00868[0] <=> (1) cpd00024[0] + (1) cpd00069[0]', 'is_transport': 0, 'deltag': -0.09, 'pathways': ['MetaCyc: 4-Hydroxybenzoate-Biosynthesis (4-Hydroxybenzoate Biosynthesis); ALKALOIDS-SYN (Alkaloid Biosynthesis); ALL-CHORISMATE-PWY (superpathway of chorismate metabolism); AROMATIC-COMPOUNDS-BIOSYN (Aromatic Compound Biosynthesis); Amino-Acid-Biosynthesis (Amino Acid Biosynthesis); Amino-Acid-Degradation (Amino Acid Degradation); CINNAMATE-SYN (Cinnamate Biosynthesis); COMPLETE-ARO-PWY (superpathway of aromatic amino acid biosynthesis); Cofactor-Biosynthesis (Cofactor, Prosthetic Group, Electron Carrier, and Vitamin Biosynthesis); Degradation (Degradation/Utilization/Assimilation); IND-AMINO-ACID-SYN (Proteinogenic Amino Acid Biosynthesis); ISOQUINOLINE-ALKALOIDS (Isoquinoline and Benzylisoquinoline Alkaloid Biosynthesis); N-CONTAINING-SECONDARY-CMPD-SYN (Nitrogen-Containing Secondary Compound Biosynthesis); PHENYLPROPANOID-SYN (Phenylpropanoid Derivative Biosynthesis); PWY-3581 ((<i>S</i>)-reticuline biosynthesis I); PWY-5048 (rosmarinic acid biosynthesis I); PWY-5071 (superpathway of rosmarinic acid biosynthesis); PWY-5151 (L-tyrosine degradation II); PWY-5754 (4-hydroxybenzoate biosynthesis I (eukaryotes)); PWY-5864 (superpathway of plastoquinol biosynthesis); PWY-5886 (4-hydroxyphenylpyruvate biosynthesis); PWY-6630 (superpathway of L-tyrosine biosynthesis); PWY-7514 (L-tyrosine degradation IV (to 4-methylphenol)); PWY-7518 (atromentin biosynthesis); PWY-8016 (L-tyrosine degradation V (Stickland reaction)); PWY3O-4108 (L-tyrosine degradation III); Plastoquinone-Biosynthesis (Plastoquinol Biosynthesis); Proteinogenic-Amino-Acids-Degradation (Proteinogenic Amino Acid Degradation); QUINONE-SYN (Quinone Secondary Metabolite Biosynthesis); Quinone-Biosynthesis (Quinol and Quinone Biosynthesis); Rosmarinate-Biosynthesis (Rosmarinate Biosynthesis); S-Reticuline-Biosynthesis ((<i>S</i>)-reticuline biosynthesis); SECONDARY-METABOLITE-BIOSYNTHESIS (Secondary Metabolite Biosynthesis); TYRFUMCAT-PWY (L-tyrosine degradation I); TYROSINE-DEG (L-tyrosine Degradation); TYROSINE-SYN (L-tyrosine Biosynthesis); TYRSYN (L-tyrosine biosynthesis I)', 'KEGG: rn00130 (Ubiquinone and other terpenoid-quinone biosynthesis); rn00350 (Tyrosine metabolism); rn00400 (Phenylalanine, tyrosine and tryptophan biosynthesis); rn00401 (Novobiocin biosynthesis); rn00950 (Isoquinoline alkaloid biosynthesis); rn01110 (Biosynthesis of secondary metabolites); rn01210 (2-Oxocarboxylic acid metabolism); rn01230 (Biosynthesis of amino acids)'], 'ec_numbers': ['2.6.1.1', '2.6.1.5', '2.6.1.57', '2.6.1.9'], 'source': 'Secondary Database', 'products': [' (1) cpd00024[0]', '(1) cpd00069[0]'], 'reaction_id': 'rxn30445', 'compound_ids': 'cpd00023;cpd00024;cpd00069;cpd00868', 'substrates': ['(1) cpd00023[0]', '(1) cpd00868[0] '], 'reversibility': '=', 'name': 'tyrosine transaminase, irreversible (peroxisomal)', 'definition': '(1) L-Glutamate[0] + (1) p-hydroxyphenylpyruvate[0] <=> (1) 2-Oxoglutarate[0] + (1) L-Tyrosine[0]', 'deltagerr': 0.5, 'linked_reaction': 'rxn00527;rxn27524;rxn30444;rxn37937', 'direction': '=', 'status': 'OK'}>) type='PRODUCT_OF' properties={'to_property_list_name': 'products', 'from_property_name': 'compound_id', 'calculated': 'FALSE'}> reaction=<Node element_id='4:7de5358e-0bc2-417b-aa77-97dd0da86487:30866565' labels=frozenset({'Reaction'}) properties={'stoichiometry': '-1:cpd00023:0:0:\"L-Glutamate\";-1:cpd00868:0:0:\"p-hydroxyphenylpyruvate\";1:cpd00024:0:0:\"2-Oxoglutarate\";1:cpd00069:0:0:\"L-Tyrosine\"', 'code': '(1) cpd00023[0] + (1) cpd00868[0] <=> (1) cpd00024[0] + (1) cpd00069[0]', 'aliases': ['AraCyc: 2.6.1.57-RXN; TYRAMINOTRANS-RXN; TYROSINE-AMINOTRANSFERASE-RXN', 'BiGG: AAT1_2; AAT2_2; ARO8; ARO9_2; TYRTA; TYRTAi; TYRTAim; TYRTAip; TYRTAm; TYRTAp', 'BrachyCyc: 2.6.1.57-RXN; TYRAMINOTRANS-RXN; TYROSINE-AMINOTRANSFERASE-RXN', 'KEGG: R00734', 'MetaCyc: 2.6.1.57-RXN; TYRAMINOTRANS-RXN; TYROSINE-AMINOTRANSFERASE-RXN', 'Name: L-Tyrosine:2-oxoglutarate aminotransferase; L-tyrosine:2-oxoglutarate aminotransferase; Tyrosine aminotransferase; Tyrosine transaminase; aminotransferase; tyrosine aminotransferase; tyrosine transaminase; tyrosine transaminase, irreversible; tyrosinetransaminase'], 'equation': '(1) cpd00023[0] + (1) cpd00868[0] <=> (1) cpd00024[0] + (1) cpd00069[0]', 'is_transport': 0, 'deltag': -0.09, 'pathways': ['MetaCyc: 4-Hydroxybenzoate-Biosynthesis (4-Hydroxybenzoate Biosynthesis); ALKALOIDS-SYN (Alkaloid Biosynthesis); ALL-CHORISMATE-PWY (superpathway of chorismate metabolism); AROMATIC-COMPOUNDS-BIOSYN (Aromatic Compound Biosynthesis); Amino-Acid-Biosynthesis (Amino Acid Biosynthesis); Amino-Acid-Degradation (Amino Acid Degradation); CINNAMATE-SYN (Cinnamate Biosynthesis); COMPLETE-ARO-PWY (superpathway of aromatic amino acid biosynthesis); Cofactor-Biosynthesis (Cofactor, Prosthetic Group, Electron Carrier, and Vitamin Biosynthesis); Degradation (Degradation/Utilization/Assimilation); IND-AMINO-ACID-SYN (Proteinogenic Amino Acid Biosynthesis); ISOQUINOLINE-ALKALOIDS (Isoquinoline and Benzylisoquinoline Alkaloid Biosynthesis); N-CONTAINING-SECONDARY-CMPD-SYN (Nitrogen-Containing Secondary Compound Biosynthesis); PHENYLPROPANOID-SYN (Phenylpropanoid Derivative Biosynthesis); PWY-3581 ((<i>S</i>)-reticuline biosynthesis I); PWY-5048 (rosmarinic acid biosynthesis I); PWY-5071 (superpathway of rosmarinic acid biosynthesis); PWY-5151 (L-tyrosine degradation II); PWY-5754 (4-hydroxybenzoate biosynthesis I (eukaryotes)); PWY-5864 (superpathway of plastoquinol biosynthesis); PWY-5886 (4-hydroxyphenylpyruvate biosynthesis); PWY-6630 (superpathway of L-tyrosine biosynthesis); PWY-7514 (L-tyrosine degradation IV (to 4-methylphenol)); PWY-7518 (atromentin biosynthesis); PWY-8016 (L-tyrosine degradation V (Stickland reaction)); PWY3O-4108 (L-tyrosine degradation III); Plastoquinone-Biosynthesis (Plastoquinol Biosynthesis); Proteinogenic-Amino-Acids-Degradation (Proteinogenic Amino Acid Degradation); QUINONE-SYN (Quinone Secondary Metabolite Biosynthesis); Quinone-Biosynthesis (Quinol and Quinone Biosynthesis); Rosmarinate-Biosynthesis (Rosmarinate Biosynthesis); S-Reticuline-Biosynthesis ((<i>S</i>)-reticuline biosynthesis); SECONDARY-METABOLITE-BIOSYNTHESIS (Secondary Metabolite Biosynthesis); TYRFUMCAT-PWY (L-tyrosine degradation I); TYROSINE-DEG (L-tyrosine Degradation); TYROSINE-SYN (L-tyrosine Biosynthesis); TYRSYN (L-tyrosine biosynthesis I)', 'KEGG: rn00130 (Ubiquinone and other terpenoid-quinone biosynthesis); rn00350 (Tyrosine metabolism); rn00400 (Phenylalanine, tyrosine and tryptophan biosynthesis); rn00401 (Novobiocin biosynthesis); rn00950 (Isoquinoline alkaloid biosynthesis); rn01110 (Biosynthesis of secondary metabolites); rn01210 (2-Oxocarboxylic acid metabolism); rn01230 (Biosynthesis of amino acids)'], 'ec_numbers': ['2.6.1.1', '2.6.1.5', '2.6.1.57', '2.6.1.9'], 'source': 'Secondary Database', 'products': [' (1) cpd00024[0]', '(1) cpd00069[0]'], 'reaction_id': 'rxn30445', 'compound_ids': 'cpd00023;cpd00024;cpd00069;cpd00868', 'substrates': ['(1) cpd00023[0]', '(1) cpd00868[0] '], 'reversibility': '=', 'name': 'tyrosine transaminase, irreversible (peroxisomal)', 'definition': '(1) L-Glutamate[0] + (1) p-hydroxyphenylpyruvate[0] <=> (1) 2-Oxoglutarate[0] + (1) L-Tyrosine[0]', 'deltagerr': 0.5, 'linked_reaction': 'rxn00527;rxn27524;rxn30444;rxn37937', 'direction': '=', 'status': 'OK'}>>,\n",
       " <Record c=<Node element_id='4:7de5358e-0bc2-417b-aa77-97dd0da86487:30819875' labels=frozenset({'Compound'}) properties={'is_core': 1, 'aliases': ['Name: (S)-2-Amino-3-(p-hydroxyphenyl)propionic acid; (S)-3-(p-Hydroxyphenyl)alanine; L-Tyrosine; L-tyr; L-tyrosine; Tyrosine; tyr; tyrosine', 'AraCyc: TYR', 'BiGG: tyr__L', 'BrachyCyc: TYR', 'KEGG: C00082', 'MetaCyc: TYR'], 'inchikey': 'OUYCCCASQSFEME-QMMMGPOBSA-N', 'charge': 0, 'smiles': '[NH3+][C@@H](Cc1ccc(O)cc1)C(=O)[O-]', 'pkb': '1:8:-5.96;1:13:9.19', 'pka': '1:8:9.79;1:11:2.00', 'mass': 181.0, 'compound_id': 'cpd00069', 'deltag': 18.52, 'source': 'Primary Database', 'name': 'L-Tyrosine', 'formula': 'C9H11NO3', 'deltagerr': 0.71, 'is_cofactor': 0}> r=<Relationship element_id='5:7de5358e-0bc2-417b-aa77-97dd0da86487:1096664' nodes=(<Node element_id='4:7de5358e-0bc2-417b-aa77-97dd0da86487:30819875' labels=frozenset({'Compound'}) properties={'is_core': 1, 'aliases': ['Name: (S)-2-Amino-3-(p-hydroxyphenyl)propionic acid; (S)-3-(p-Hydroxyphenyl)alanine; L-Tyrosine; L-tyr; L-tyrosine; Tyrosine; tyr; tyrosine', 'AraCyc: TYR', 'BiGG: tyr__L', 'BrachyCyc: TYR', 'KEGG: C00082', 'MetaCyc: TYR'], 'inchikey': 'OUYCCCASQSFEME-QMMMGPOBSA-N', 'charge': 0, 'smiles': '[NH3+][C@@H](Cc1ccc(O)cc1)C(=O)[O-]', 'pkb': '1:8:-5.96;1:13:9.19', 'pka': '1:8:9.79;1:11:2.00', 'mass': 181.0, 'compound_id': 'cpd00069', 'deltag': 18.52, 'source': 'Primary Database', 'name': 'L-Tyrosine', 'formula': 'C9H11NO3', 'deltagerr': 0.71, 'is_cofactor': 0}>, <Node element_id='4:7de5358e-0bc2-417b-aa77-97dd0da86487:30850698' labels=frozenset({'Reaction'}) properties={'stoichiometry': '-1:cpd00069:1:0:\"L-Tyrosine\";1:cpd00069:0:0:\"L-Tyrosine\"', 'aliases': ['BiGG: TYRtex', 'BrachyCyc: TRANS-RXNAVI-26415', 'MaizeCyc: TRANS-RXNBWI-115362', 'MetaCyc: RXN66-446', 'TS_Athaliana: TR_met1159_c_m; TR_met1159_c_p', 'Name: EX_tyr_L_e; L-tyrosine transport via diffusion; RXN66-446.ce'], 'code': '(1) cpd00069[1] <=> (1) cpd00069[0]', 'equation': '(1) cpd00069[1] <=> (1) cpd00069[0]', 'deltag': 0.0, 'is_transport': 1, 'source': 'Primary Database', 'products': [' (1) cpd00069[0]'], 'reaction_id': 'rxn10974', 'compound_ids': 'cpd00069', 'substrates': ['(1) cpd00069[1] '], 'name': 'RXN66-446.ce', 'reversibility': '=', 'deltagerr': 1.27, 'definition': '(1) L-Tyrosine[1] <=> (1) L-Tyrosine[0]', 'linked_reaction': 'rxn09339;rxn33271;rxn33273', 'direction': '=', 'status': 'OK'}>) type='PRODUCT_OF' properties={'to_property_list_name': 'products', 'from_property_name': 'compound_id', 'calculated': 'FALSE'}> reaction=<Node element_id='4:7de5358e-0bc2-417b-aa77-97dd0da86487:30850698' labels=frozenset({'Reaction'}) properties={'stoichiometry': '-1:cpd00069:1:0:\"L-Tyrosine\";1:cpd00069:0:0:\"L-Tyrosine\"', 'aliases': ['BiGG: TYRtex', 'BrachyCyc: TRANS-RXNAVI-26415', 'MaizeCyc: TRANS-RXNBWI-115362', 'MetaCyc: RXN66-446', 'TS_Athaliana: TR_met1159_c_m; TR_met1159_c_p', 'Name: EX_tyr_L_e; L-tyrosine transport via diffusion; RXN66-446.ce'], 'code': '(1) cpd00069[1] <=> (1) cpd00069[0]', 'equation': '(1) cpd00069[1] <=> (1) cpd00069[0]', 'deltag': 0.0, 'is_transport': 1, 'source': 'Primary Database', 'products': [' (1) cpd00069[0]'], 'reaction_id': 'rxn10974', 'compound_ids': 'cpd00069', 'substrates': ['(1) cpd00069[1] '], 'name': 'RXN66-446.ce', 'reversibility': '=', 'deltagerr': 1.27, 'definition': '(1) L-Tyrosine[1] <=> (1) L-Tyrosine[0]', 'linked_reaction': 'rxn09339;rxn33271;rxn33273', 'direction': '=', 'status': 'OK'}>>,\n",
       " <Record c=<Node element_id='4:7de5358e-0bc2-417b-aa77-97dd0da86487:30819875' labels=frozenset({'Compound'}) properties={'is_core': 1, 'aliases': ['Name: (S)-2-Amino-3-(p-hydroxyphenyl)propionic acid; (S)-3-(p-Hydroxyphenyl)alanine; L-Tyrosine; L-tyr; L-tyrosine; Tyrosine; tyr; tyrosine', 'AraCyc: TYR', 'BiGG: tyr__L', 'BrachyCyc: TYR', 'KEGG: C00082', 'MetaCyc: TYR'], 'inchikey': 'OUYCCCASQSFEME-QMMMGPOBSA-N', 'charge': 0, 'smiles': '[NH3+][C@@H](Cc1ccc(O)cc1)C(=O)[O-]', 'pkb': '1:8:-5.96;1:13:9.19', 'pka': '1:8:9.79;1:11:2.00', 'mass': 181.0, 'compound_id': 'cpd00069', 'deltag': 18.52, 'source': 'Primary Database', 'name': 'L-Tyrosine', 'formula': 'C9H11NO3', 'deltagerr': 0.71, 'is_cofactor': 0}> r=<Relationship element_id='5:7de5358e-0bc2-417b-aa77-97dd0da86487:1096674' nodes=(<Node element_id='4:7de5358e-0bc2-417b-aa77-97dd0da86487:30819875' labels=frozenset({'Compound'}) properties={'is_core': 1, 'aliases': ['Name: (S)-2-Amino-3-(p-hydroxyphenyl)propionic acid; (S)-3-(p-Hydroxyphenyl)alanine; L-Tyrosine; L-tyr; L-tyrosine; Tyrosine; tyr; tyrosine', 'AraCyc: TYR', 'BiGG: tyr__L', 'BrachyCyc: TYR', 'KEGG: C00082', 'MetaCyc: TYR'], 'inchikey': 'OUYCCCASQSFEME-QMMMGPOBSA-N', 'charge': 0, 'smiles': '[NH3+][C@@H](Cc1ccc(O)cc1)C(=O)[O-]', 'pkb': '1:8:-5.96;1:13:9.19', 'pka': '1:8:9.79;1:11:2.00', 'mass': 181.0, 'compound_id': 'cpd00069', 'deltag': 18.52, 'source': 'Primary Database', 'name': 'L-Tyrosine', 'formula': 'C9H11NO3', 'deltagerr': 0.71, 'is_cofactor': 0}>, <Node element_id='4:7de5358e-0bc2-417b-aa77-97dd0da86487:30861325' labels=frozenset({'Reaction'}) properties={'stoichiometry': '-1:cpd00006:0:0:\"NADP\";-1:cpd00616:0:0:\"Pretyrosine\";1:cpd00005:0:0:\"NADPH\";1:cpd00011:0:0:\"CO2\";1:cpd00069:0:0:\"L-Tyrosine\"', 'code': '(1) cpd00006[0] + (1) cpd00616[0] <=> (1) cpd00005[0] + (1) cpd00011[0] + (1) cpd00069[0]', 'aliases': ['AraCyc: RXN-5682', 'ChlamyCyc: RXN-5682', 'CornCyc: RXN-5682', 'KEGG: R00733', 'MetaCyc: RXN-5682', 'Name: L-arogenate:NADP+ oxidoreductase; L-arogenate:NADP+ oxidoreductase (decarboxylating); TyrAAT1; TyrAAT2; TyrAa; arogenate dehydrogenase (NADP+); arogenic dehydrogenase (ambiguous); pretyrosine dehydrogenase (ambiguous)'], 'equation': '(1) cpd00006[0] + (1) cpd00616[0] => (1) cpd00005[0] + (1) cpd00011[0] + (1) cpd00069[0]', 'is_transport': 0, 'deltag': -5.36, 'pathways': ['MetaCyc: Amino-Acid-Biosynthesis (Amino Acid Biosynthesis); IND-AMINO-ACID-SYN (Proteinogenic Amino Acid Biosynthesis); PWY-3461 (L-tyrosine biosynthesis II); PWY-3481 (superpathway of L-phenylalanine and L-tyrosine biosynthesis); TYROSINE-SYN (L-tyrosine Biosynthesis)', 'KEGG: rn00400 (Phenylalanine, tyrosine and tryptophan biosynthesis); rn01230 (Biosynthesis of amino acids)'], 'ec_numbers': ['1.3.1.78', '1.3.1.79'], 'source': 'Primary Database', 'products': [' (1) cpd00005[0]', '(1) cpd00011[0]', '(1) cpd00069[0]'], 'reaction_id': 'rxn24109', 'compound_ids': 'cpd00005;cpd00006;cpd00011;cpd00069;cpd00616', 'substrates': ['(1) cpd00006[0]', '(1) cpd00616[0] '], 'reversibility': '>', 'name': 'arogenic dehydrogenase (ambiguous)', 'definition': '(1) NADP[0] + (1) Pretyrosine[0] => (1) NADPH[0] + (1) CO2[0] + (1) L-Tyrosine[0]', 'deltagerr': 2.64, 'linked_reaction': 'rxn00526', 'direction': '>', 'status': 'OK'}>) type='PRODUCT_OF' properties={'to_property_list_name': 'products', 'from_property_name': 'compound_id', 'calculated': 'FALSE'}> reaction=<Node element_id='4:7de5358e-0bc2-417b-aa77-97dd0da86487:30861325' labels=frozenset({'Reaction'}) properties={'stoichiometry': '-1:cpd00006:0:0:\"NADP\";-1:cpd00616:0:0:\"Pretyrosine\";1:cpd00005:0:0:\"NADPH\";1:cpd00011:0:0:\"CO2\";1:cpd00069:0:0:\"L-Tyrosine\"', 'code': '(1) cpd00006[0] + (1) cpd00616[0] <=> (1) cpd00005[0] + (1) cpd00011[0] + (1) cpd00069[0]', 'aliases': ['AraCyc: RXN-5682', 'ChlamyCyc: RXN-5682', 'CornCyc: RXN-5682', 'KEGG: R00733', 'MetaCyc: RXN-5682', 'Name: L-arogenate:NADP+ oxidoreductase; L-arogenate:NADP+ oxidoreductase (decarboxylating); TyrAAT1; TyrAAT2; TyrAa; arogenate dehydrogenase (NADP+); arogenic dehydrogenase (ambiguous); pretyrosine dehydrogenase (ambiguous)'], 'equation': '(1) cpd00006[0] + (1) cpd00616[0] => (1) cpd00005[0] + (1) cpd00011[0] + (1) cpd00069[0]', 'is_transport': 0, 'deltag': -5.36, 'pathways': ['MetaCyc: Amino-Acid-Biosynthesis (Amino Acid Biosynthesis); IND-AMINO-ACID-SYN (Proteinogenic Amino Acid Biosynthesis); PWY-3461 (L-tyrosine biosynthesis II); PWY-3481 (superpathway of L-phenylalanine and L-tyrosine biosynthesis); TYROSINE-SYN (L-tyrosine Biosynthesis)', 'KEGG: rn00400 (Phenylalanine, tyrosine and tryptophan biosynthesis); rn01230 (Biosynthesis of amino acids)'], 'ec_numbers': ['1.3.1.78', '1.3.1.79'], 'source': 'Primary Database', 'products': [' (1) cpd00005[0]', '(1) cpd00011[0]', '(1) cpd00069[0]'], 'reaction_id': 'rxn24109', 'compound_ids': 'cpd00005;cpd00006;cpd00011;cpd00069;cpd00616', 'substrates': ['(1) cpd00006[0]', '(1) cpd00616[0] '], 'reversibility': '>', 'name': 'arogenic dehydrogenase (ambiguous)', 'definition': '(1) NADP[0] + (1) Pretyrosine[0] => (1) NADPH[0] + (1) CO2[0] + (1) L-Tyrosine[0]', 'deltagerr': 2.64, 'linked_reaction': 'rxn00526', 'direction': '>', 'status': 'OK'}>>,\n",
       " <Record c=<Node element_id='4:7de5358e-0bc2-417b-aa77-97dd0da86487:30819875' labels=frozenset({'Compound'}) properties={'is_core': 1, 'aliases': ['Name: (S)-2-Amino-3-(p-hydroxyphenyl)propionic acid; (S)-3-(p-Hydroxyphenyl)alanine; L-Tyrosine; L-tyr; L-tyrosine; Tyrosine; tyr; tyrosine', 'AraCyc: TYR', 'BiGG: tyr__L', 'BrachyCyc: TYR', 'KEGG: C00082', 'MetaCyc: TYR'], 'inchikey': 'OUYCCCASQSFEME-QMMMGPOBSA-N', 'charge': 0, 'smiles': '[NH3+][C@@H](Cc1ccc(O)cc1)C(=O)[O-]', 'pkb': '1:8:-5.96;1:13:9.19', 'pka': '1:8:9.79;1:11:2.00', 'mass': 181.0, 'compound_id': 'cpd00069', 'deltag': 18.52, 'source': 'Primary Database', 'name': 'L-Tyrosine', 'formula': 'C9H11NO3', 'deltagerr': 0.71, 'is_cofactor': 0}> r=<Relationship element_id='5:7de5358e-0bc2-417b-aa77-97dd0da86487:1096656' nodes=(<Node element_id='4:7de5358e-0bc2-417b-aa77-97dd0da86487:30819875' labels=frozenset({'Compound'}) properties={'is_core': 1, 'aliases': ['Name: (S)-2-Amino-3-(p-hydroxyphenyl)propionic acid; (S)-3-(p-Hydroxyphenyl)alanine; L-Tyrosine; L-tyr; L-tyrosine; Tyrosine; tyr; tyrosine', 'AraCyc: TYR', 'BiGG: tyr__L', 'BrachyCyc: TYR', 'KEGG: C00082', 'MetaCyc: TYR'], 'inchikey': 'OUYCCCASQSFEME-QMMMGPOBSA-N', 'charge': 0, 'smiles': '[NH3+][C@@H](Cc1ccc(O)cc1)C(=O)[O-]', 'pkb': '1:8:-5.96;1:13:9.19', 'pka': '1:8:9.79;1:11:2.00', 'mass': 181.0, 'compound_id': 'cpd00069', 'deltag': 18.52, 'source': 'Primary Database', 'name': 'L-Tyrosine', 'formula': 'C9H11NO3', 'deltagerr': 0.71, 'is_cofactor': 0}>, <Node element_id='4:7de5358e-0bc2-417b-aa77-97dd0da86487:30845308' labels=frozenset({'Reaction'}) properties={'stoichiometry': '-1:cpd00007:0:0:\"O2\";-1:cpd00066:0:0:\"L-Phenylalanine\";-1:cpd00233:0:0:\"Tetrahydrobiopterin\";1:cpd00069:0:0:\"L-Tyrosine\";1:cpd03897:0:0:\"4a-Hydroxytetrahydrobiopterin\"', 'aliases': ['BiGG: PHE4MOi3', 'KEGG: R07211', 'iMO1053-PAO1: PHE4MOi3', 'iMO1056: PHE4MOi3', 'Name: L-phenylalanine,tetrahydrobiopterin:oxygen; L-phenylalanine,tetrahydrobiopterin:oxygen oxidoreductase(4-hydroxylating); oxidoreductase(4-hydroxylating)'], 'code': '(1) cpd00007[0] + (1) cpd00066[0] + (1) cpd00233[0] <=> (1) cpd00069[0] + (1) cpd03897[0]', 'equation': '(1) cpd00007[0] + (1) cpd00066[0] + (1) cpd00233[0] => (1) cpd00069[0] + (1) cpd03897[0]', 'deltag': -91.65, 'is_transport': 0, 'source': 'Primary Database', 'ec_numbers': ['1.14.16.1'], 'products': [' (1) cpd00069[0]', '(1) cpd03897[0]'], 'reaction_id': 'rxn04989', 'compound_ids': 'cpd00007;cpd00066;cpd00069;cpd00233;cpd03897', 'substrates': ['(1) cpd00007[0]', '(1) cpd00066[0]', '(1) cpd00233[0] '], 'name': 'L-phenylalanine,tetrahydrobiopterin:oxygen oxidoreductase(4-hydroxylating)', 'reversibility': '>', 'deltagerr': 4.65, 'definition': '(1) O2[0] + (1) L-Phenylalanine[0] + (1) Tetrahydrobiopterin[0] => (1) L-Tyrosine[0] + (1) 4a-Hydroxytetrahydrobiopterin[0]', 'direction': '>', 'status': 'OK'}>) type='PRODUCT_OF' properties={'to_property_list_name': 'products', 'from_property_name': 'compound_id', 'calculated': 'FALSE'}> reaction=<Node element_id='4:7de5358e-0bc2-417b-aa77-97dd0da86487:30845308' labels=frozenset({'Reaction'}) properties={'stoichiometry': '-1:cpd00007:0:0:\"O2\";-1:cpd00066:0:0:\"L-Phenylalanine\";-1:cpd00233:0:0:\"Tetrahydrobiopterin\";1:cpd00069:0:0:\"L-Tyrosine\";1:cpd03897:0:0:\"4a-Hydroxytetrahydrobiopterin\"', 'aliases': ['BiGG: PHE4MOi3', 'KEGG: R07211', 'iMO1053-PAO1: PHE4MOi3', 'iMO1056: PHE4MOi3', 'Name: L-phenylalanine,tetrahydrobiopterin:oxygen; L-phenylalanine,tetrahydrobiopterin:oxygen oxidoreductase(4-hydroxylating); oxidoreductase(4-hydroxylating)'], 'code': '(1) cpd00007[0] + (1) cpd00066[0] + (1) cpd00233[0] <=> (1) cpd00069[0] + (1) cpd03897[0]', 'equation': '(1) cpd00007[0] + (1) cpd00066[0] + (1) cpd00233[0] => (1) cpd00069[0] + (1) cpd03897[0]', 'deltag': -91.65, 'is_transport': 0, 'source': 'Primary Database', 'ec_numbers': ['1.14.16.1'], 'products': [' (1) cpd00069[0]', '(1) cpd03897[0]'], 'reaction_id': 'rxn04989', 'compound_ids': 'cpd00007;cpd00066;cpd00069;cpd00233;cpd03897', 'substrates': ['(1) cpd00007[0]', '(1) cpd00066[0]', '(1) cpd00233[0] '], 'name': 'L-phenylalanine,tetrahydrobiopterin:oxygen oxidoreductase(4-hydroxylating)', 'reversibility': '>', 'deltagerr': 4.65, 'definition': '(1) O2[0] + (1) L-Phenylalanine[0] + (1) Tetrahydrobiopterin[0] => (1) L-Tyrosine[0] + (1) 4a-Hydroxytetrahydrobiopterin[0]', 'direction': '>', 'status': 'OK'}>>,\n",
       " <Record c=<Node element_id='4:7de5358e-0bc2-417b-aa77-97dd0da86487:30819875' labels=frozenset({'Compound'}) properties={'is_core': 1, 'aliases': ['Name: (S)-2-Amino-3-(p-hydroxyphenyl)propionic acid; (S)-3-(p-Hydroxyphenyl)alanine; L-Tyrosine; L-tyr; L-tyrosine; Tyrosine; tyr; tyrosine', 'AraCyc: TYR', 'BiGG: tyr__L', 'BrachyCyc: TYR', 'KEGG: C00082', 'MetaCyc: TYR'], 'inchikey': 'OUYCCCASQSFEME-QMMMGPOBSA-N', 'charge': 0, 'smiles': '[NH3+][C@@H](Cc1ccc(O)cc1)C(=O)[O-]', 'pkb': '1:8:-5.96;1:13:9.19', 'pka': '1:8:9.79;1:11:2.00', 'mass': 181.0, 'compound_id': 'cpd00069', 'deltag': 18.52, 'source': 'Primary Database', 'name': 'L-Tyrosine', 'formula': 'C9H11NO3', 'deltagerr': 0.71, 'is_cofactor': 0}> r=<Relationship element_id='5:7de5358e-0bc2-417b-aa77-97dd0da86487:1096667' nodes=(<Node element_id='4:7de5358e-0bc2-417b-aa77-97dd0da86487:30819875' labels=frozenset({'Compound'}) properties={'is_core': 1, 'aliases': ['Name: (S)-2-Amino-3-(p-hydroxyphenyl)propionic acid; (S)-3-(p-Hydroxyphenyl)alanine; L-Tyrosine; L-tyr; L-tyrosine; Tyrosine; tyr; tyrosine', 'AraCyc: TYR', 'BiGG: tyr__L', 'BrachyCyc: TYR', 'KEGG: C00082', 'MetaCyc: TYR'], 'inchikey': 'OUYCCCASQSFEME-QMMMGPOBSA-N', 'charge': 0, 'smiles': '[NH3+][C@@H](Cc1ccc(O)cc1)C(=O)[O-]', 'pkb': '1:8:-5.96;1:13:9.19', 'pka': '1:8:9.79;1:11:2.00', 'mass': 181.0, 'compound_id': 'cpd00069', 'deltag': 18.52, 'source': 'Primary Database', 'name': 'L-Tyrosine', 'formula': 'C9H11NO3', 'deltagerr': 0.71, 'is_cofactor': 0}>, <Node element_id='4:7de5358e-0bc2-417b-aa77-97dd0da86487:30851971' labels=frozenset({'Reaction'}) properties={'stoichiometry': '-1:cpd00067:1:0:\"H+\";-1:cpd00069:2:0:\"L-Tyrosine\";1:cpd00067:0:0:\"H+\";1:cpd00069:0:0:\"L-Tyrosine\"', 'aliases': ['iAbaylyiv4: TRANS-RXN-TYR', 'Name: transport of l-tyrosine (secondary symport)'], 'code': '(1) cpd00069[2] <=> (1) cpd00069[0]', 'equation': '(1) cpd00067[1] + (1) cpd00069[2] <=> (1) cpd00067[0] + (1) cpd00069[0]', 'deltag': 0.0, 'is_transport': 1, 'source': 'Published Model', 'products': [' (1) cpd00067[0]', '(1) cpd00069[0]'], 'reaction_id': 'rxn12459', 'compound_ids': 'cpd00067;cpd00069', 'substrates': ['(1) cpd00067[1]', '(1) cpd00069[2] '], 'name': 'transport of l-tyrosine [extraorganism-cytosol](secondary symport)', 'reversibility': '=', 'deltagerr': 1.27, 'definition': '(1) H+[1] + (1) L-Tyrosine[2] <=> (1) H+[0] + (1) L-Tyrosine[0]', 'direction': '=', 'status': 'OK'}>) type='PRODUCT_OF' properties={'to_property_list_name': 'products', 'from_property_name': 'compound_id', 'calculated': 'FALSE'}> reaction=<Node element_id='4:7de5358e-0bc2-417b-aa77-97dd0da86487:30851971' labels=frozenset({'Reaction'}) properties={'stoichiometry': '-1:cpd00067:1:0:\"H+\";-1:cpd00069:2:0:\"L-Tyrosine\";1:cpd00067:0:0:\"H+\";1:cpd00069:0:0:\"L-Tyrosine\"', 'aliases': ['iAbaylyiv4: TRANS-RXN-TYR', 'Name: transport of l-tyrosine (secondary symport)'], 'code': '(1) cpd00069[2] <=> (1) cpd00069[0]', 'equation': '(1) cpd00067[1] + (1) cpd00069[2] <=> (1) cpd00067[0] + (1) cpd00069[0]', 'deltag': 0.0, 'is_transport': 1, 'source': 'Published Model', 'products': [' (1) cpd00067[0]', '(1) cpd00069[0]'], 'reaction_id': 'rxn12459', 'compound_ids': 'cpd00067;cpd00069', 'substrates': ['(1) cpd00067[1]', '(1) cpd00069[2] '], 'name': 'transport of l-tyrosine [extraorganism-cytosol](secondary symport)', 'reversibility': '=', 'deltagerr': 1.27, 'definition': '(1) H+[1] + (1) L-Tyrosine[2] <=> (1) H+[0] + (1) L-Tyrosine[0]', 'direction': '=', 'status': 'OK'}>>,\n",
       " <Record c=<Node element_id='4:7de5358e-0bc2-417b-aa77-97dd0da86487:30819875' labels=frozenset({'Compound'}) properties={'is_core': 1, 'aliases': ['Name: (S)-2-Amino-3-(p-hydroxyphenyl)propionic acid; (S)-3-(p-Hydroxyphenyl)alanine; L-Tyrosine; L-tyr; L-tyrosine; Tyrosine; tyr; tyrosine', 'AraCyc: TYR', 'BiGG: tyr__L', 'BrachyCyc: TYR', 'KEGG: C00082', 'MetaCyc: TYR'], 'inchikey': 'OUYCCCASQSFEME-QMMMGPOBSA-N', 'charge': 0, 'smiles': '[NH3+][C@@H](Cc1ccc(O)cc1)C(=O)[O-]', 'pkb': '1:8:-5.96;1:13:9.19', 'pka': '1:8:9.79;1:11:2.00', 'mass': 181.0, 'compound_id': 'cpd00069', 'deltag': 18.52, 'source': 'Primary Database', 'name': 'L-Tyrosine', 'formula': 'C9H11NO3', 'deltagerr': 0.71, 'is_cofactor': 0}> r=<Relationship element_id='5:7de5358e-0bc2-417b-aa77-97dd0da86487:1096670' nodes=(<Node element_id='4:7de5358e-0bc2-417b-aa77-97dd0da86487:30819875' labels=frozenset({'Compound'}) properties={'is_core': 1, 'aliases': ['Name: (S)-2-Amino-3-(p-hydroxyphenyl)propionic acid; (S)-3-(p-Hydroxyphenyl)alanine; L-Tyrosine; L-tyr; L-tyrosine; Tyrosine; tyr; tyrosine', 'AraCyc: TYR', 'BiGG: tyr__L', 'BrachyCyc: TYR', 'KEGG: C00082', 'MetaCyc: TYR'], 'inchikey': 'OUYCCCASQSFEME-QMMMGPOBSA-N', 'charge': 0, 'smiles': '[NH3+][C@@H](Cc1ccc(O)cc1)C(=O)[O-]', 'pkb': '1:8:-5.96;1:13:9.19', 'pka': '1:8:9.79;1:11:2.00', 'mass': 181.0, 'compound_id': 'cpd00069', 'deltag': 18.52, 'source': 'Primary Database', 'name': 'L-Tyrosine', 'formula': 'C9H11NO3', 'deltagerr': 0.71, 'is_cofactor': 0}>, <Node element_id='4:7de5358e-0bc2-417b-aa77-97dd0da86487:30852723' labels=frozenset({'Reaction'}) properties={'stoichiometry': '-1:cpd00067:1:0:\"H+\";-1:cpd00069:1:0:\"L-Tyrosine\";1:cpd00067:0:0:\"H+\";1:cpd00069:0:0:\"L-Tyrosine\"', 'code': '(1) cpd00069[1] <=> (1) cpd00069[0]', 'aliases': ['BiGG: AGP1_10; BAP2_7; BAP3_7; GAP1_16; TAT1_4; TAT2_6; TYRt2; TYRt2m; TYRt2p; TYRt2r; TYRt2rpp; TYRt6i; TYRt7; VAP1_6', 'BrachyCyc: TRANS-RXNAVI-26536', 'EcoCyc: TRANS-RXN-77', 'MaizeCyc: TRANS-RXNBWI-115637', 'MetaCyc: TRANS-RXN-77', 'Name: General amino acid permease AGP1; L-tyrosine reversible transport via proton symport; L-tyrosine transport in/out via proton symport; L-tyrosine transport out via proton symport; L-tyrosine:proton symport; L-tyrosinereversibletransportviaprotonsymport; TRANS-RXN-77.cp; TYRt6; Tyrosine permease; tyrosine transport via proton symport'], 'equation': '(1) cpd00067[1] + (1) cpd00069[1] <=> (1) cpd00067[0] + (1) cpd00069[0]', 'is_transport': 1, 'deltag': 0.0, 'ec_numbers': ['2.A.3.1.-'], 'source': 'Secondary Database', 'products': [' (1) cpd00067[0]', '(1) cpd00069[0]'], 'reaction_id': 'rxn13412', 'compound_ids': 'cpd00067;cpd00069', 'substrates': ['(1) cpd00067[1]', '(1) cpd00069[1] '], 'reversibility': '=', 'name': 'L-tyrosine transport out via proton symport, vacuolar', 'definition': '(1) H+[1] + (1) L-Tyrosine[1] <=> (1) H+[0] + (1) L-Tyrosine[0]', 'deltagerr': 1.27, 'status': 'OK', 'linked_reaction': 'rxn05301;rxn09338;rxn09708;rxn09831;rxn34413', 'direction': '='}>) type='PRODUCT_OF' properties={'to_property_list_name': 'products', 'from_property_name': 'compound_id', 'calculated': 'FALSE'}> reaction=<Node element_id='4:7de5358e-0bc2-417b-aa77-97dd0da86487:30852723' labels=frozenset({'Reaction'}) properties={'stoichiometry': '-1:cpd00067:1:0:\"H+\";-1:cpd00069:1:0:\"L-Tyrosine\";1:cpd00067:0:0:\"H+\";1:cpd00069:0:0:\"L-Tyrosine\"', 'code': '(1) cpd00069[1] <=> (1) cpd00069[0]', 'aliases': ['BiGG: AGP1_10; BAP2_7; BAP3_7; GAP1_16; TAT1_4; TAT2_6; TYRt2; TYRt2m; TYRt2p; TYRt2r; TYRt2rpp; TYRt6i; TYRt7; VAP1_6', 'BrachyCyc: TRANS-RXNAVI-26536', 'EcoCyc: TRANS-RXN-77', 'MaizeCyc: TRANS-RXNBWI-115637', 'MetaCyc: TRANS-RXN-77', 'Name: General amino acid permease AGP1; L-tyrosine reversible transport via proton symport; L-tyrosine transport in/out via proton symport; L-tyrosine transport out via proton symport; L-tyrosine:proton symport; L-tyrosinereversibletransportviaprotonsymport; TRANS-RXN-77.cp; TYRt6; Tyrosine permease; tyrosine transport via proton symport'], 'equation': '(1) cpd00067[1] + (1) cpd00069[1] <=> (1) cpd00067[0] + (1) cpd00069[0]', 'is_transport': 1, 'deltag': 0.0, 'ec_numbers': ['2.A.3.1.-'], 'source': 'Secondary Database', 'products': [' (1) cpd00067[0]', '(1) cpd00069[0]'], 'reaction_id': 'rxn13412', 'compound_ids': 'cpd00067;cpd00069', 'substrates': ['(1) cpd00067[1]', '(1) cpd00069[1] '], 'reversibility': '=', 'name': 'L-tyrosine transport out via proton symport, vacuolar', 'definition': '(1) H+[1] + (1) L-Tyrosine[1] <=> (1) H+[0] + (1) L-Tyrosine[0]', 'deltagerr': 1.27, 'status': 'OK', 'linked_reaction': 'rxn05301;rxn09338;rxn09708;rxn09831;rxn34413', 'direction': '='}>>,\n",
       " <Record c=<Node element_id='4:7de5358e-0bc2-417b-aa77-97dd0da86487:30819875' labels=frozenset({'Compound'}) properties={'is_core': 1, 'aliases': ['Name: (S)-2-Amino-3-(p-hydroxyphenyl)propionic acid; (S)-3-(p-Hydroxyphenyl)alanine; L-Tyrosine; L-tyr; L-tyrosine; Tyrosine; tyr; tyrosine', 'AraCyc: TYR', 'BiGG: tyr__L', 'BrachyCyc: TYR', 'KEGG: C00082', 'MetaCyc: TYR'], 'inchikey': 'OUYCCCASQSFEME-QMMMGPOBSA-N', 'charge': 0, 'smiles': '[NH3+][C@@H](Cc1ccc(O)cc1)C(=O)[O-]', 'pkb': '1:8:-5.96;1:13:9.19', 'pka': '1:8:9.79;1:11:2.00', 'mass': 181.0, 'compound_id': 'cpd00069', 'deltag': 18.52, 'source': 'Primary Database', 'name': 'L-Tyrosine', 'formula': 'C9H11NO3', 'deltagerr': 0.71, 'is_cofactor': 0}> r=<Relationship element_id='5:7de5358e-0bc2-417b-aa77-97dd0da86487:1096680' nodes=(<Node element_id='4:7de5358e-0bc2-417b-aa77-97dd0da86487:30819875' labels=frozenset({'Compound'}) properties={'is_core': 1, 'aliases': ['Name: (S)-2-Amino-3-(p-hydroxyphenyl)propionic acid; (S)-3-(p-Hydroxyphenyl)alanine; L-Tyrosine; L-tyr; L-tyrosine; Tyrosine; tyr; tyrosine', 'AraCyc: TYR', 'BiGG: tyr__L', 'BrachyCyc: TYR', 'KEGG: C00082', 'MetaCyc: TYR'], 'inchikey': 'OUYCCCASQSFEME-QMMMGPOBSA-N', 'charge': 0, 'smiles': '[NH3+][C@@H](Cc1ccc(O)cc1)C(=O)[O-]', 'pkb': '1:8:-5.96;1:13:9.19', 'pka': '1:8:9.79;1:11:2.00', 'mass': 181.0, 'compound_id': 'cpd00069', 'deltag': 18.52, 'source': 'Primary Database', 'name': 'L-Tyrosine', 'formula': 'C9H11NO3', 'deltagerr': 0.71, 'is_cofactor': 0}>, <Node element_id='4:7de5358e-0bc2-417b-aa77-97dd0da86487:30870056' labels=frozenset({'Reaction'}) properties={'stoichiometry': '-1:cpd00006:0:0:\"NADP\";-1:cpd29970:0:0:\"Arogenate\";1:cpd00005:0:0:\"NADPH\";1:cpd00011:0:0:\"CO2\";1:cpd00067:0:0:\"H+\";1:cpd00069:0:0:\"L-Tyrosine\"', 'aliases': ['JM_Creinhardtii: JM_Cre_319; JM_Cre_320', 'Name: Arogenate Dehydrogenase'], 'code': '(1) cpd00006[0] + (1) cpd29970[0] <=> (1) cpd00005[0] + (1) cpd00011[0] + (1) cpd00069[0]', 'equation': '(1) cpd00006[0] + (1) cpd29970[0] => (1) cpd00005[0] + (1) cpd00011[0] + (1) cpd00067[0] + (1) cpd00069[0]', 'deltag': 10000000.0, 'is_transport': 0, 'source': 'Published Model', 'ec_numbers': ['1.3.1.43'], 'products': [' (1) cpd00005[0]', '(1) cpd00011[0]', '(1) cpd00067[0]', '(1) cpd00069[0]'], 'reaction_id': 'rxn33966', 'compound_ids': 'cpd00005;cpd00006;cpd00011;cpd00067;cpd00069;cpd29970', 'substrates': ['(1) cpd00006[0]', '(1) cpd29970[0] '], 'name': 'Arogenate Dehydrogenase', 'reversibility': '?', 'deltagerr': 10000000.0, 'definition': '(1) NADP[0] + (1) Arogenate[0] => (1) NADPH[0] + (1) CO2[0] + (1) H+[0] + (1) L-Tyrosine[0]', 'status': 'CPDFORMERROR', 'direction': '>'}>) type='PRODUCT_OF' properties={'to_property_list_name': 'products', 'from_property_name': 'compound_id', 'calculated': 'FALSE'}> reaction=<Node element_id='4:7de5358e-0bc2-417b-aa77-97dd0da86487:30870056' labels=frozenset({'Reaction'}) properties={'stoichiometry': '-1:cpd00006:0:0:\"NADP\";-1:cpd29970:0:0:\"Arogenate\";1:cpd00005:0:0:\"NADPH\";1:cpd00011:0:0:\"CO2\";1:cpd00067:0:0:\"H+\";1:cpd00069:0:0:\"L-Tyrosine\"', 'aliases': ['JM_Creinhardtii: JM_Cre_319; JM_Cre_320', 'Name: Arogenate Dehydrogenase'], 'code': '(1) cpd00006[0] + (1) cpd29970[0] <=> (1) cpd00005[0] + (1) cpd00011[0] + (1) cpd00069[0]', 'equation': '(1) cpd00006[0] + (1) cpd29970[0] => (1) cpd00005[0] + (1) cpd00011[0] + (1) cpd00067[0] + (1) cpd00069[0]', 'deltag': 10000000.0, 'is_transport': 0, 'source': 'Published Model', 'ec_numbers': ['1.3.1.43'], 'products': [' (1) cpd00005[0]', '(1) cpd00011[0]', '(1) cpd00067[0]', '(1) cpd00069[0]'], 'reaction_id': 'rxn33966', 'compound_ids': 'cpd00005;cpd00006;cpd00011;cpd00067;cpd00069;cpd29970', 'substrates': ['(1) cpd00006[0]', '(1) cpd29970[0] '], 'name': 'Arogenate Dehydrogenase', 'reversibility': '?', 'deltagerr': 10000000.0, 'definition': '(1) NADP[0] + (1) Arogenate[0] => (1) NADPH[0] + (1) CO2[0] + (1) H+[0] + (1) L-Tyrosine[0]', 'status': 'CPDFORMERROR', 'direction': '>'}>>,\n",
       " <Record c=<Node element_id='4:7de5358e-0bc2-417b-aa77-97dd0da86487:30819875' labels=frozenset({'Compound'}) properties={'is_core': 1, 'aliases': ['Name: (S)-2-Amino-3-(p-hydroxyphenyl)propionic acid; (S)-3-(p-Hydroxyphenyl)alanine; L-Tyrosine; L-tyr; L-tyrosine; Tyrosine; tyr; tyrosine', 'AraCyc: TYR', 'BiGG: tyr__L', 'BrachyCyc: TYR', 'KEGG: C00082', 'MetaCyc: TYR'], 'inchikey': 'OUYCCCASQSFEME-QMMMGPOBSA-N', 'charge': 0, 'smiles': '[NH3+][C@@H](Cc1ccc(O)cc1)C(=O)[O-]', 'pkb': '1:8:-5.96;1:13:9.19', 'pka': '1:8:9.79;1:11:2.00', 'mass': 181.0, 'compound_id': 'cpd00069', 'deltag': 18.52, 'source': 'Primary Database', 'name': 'L-Tyrosine', 'formula': 'C9H11NO3', 'deltagerr': 0.71, 'is_cofactor': 0}> r=<Relationship element_id='5:7de5358e-0bc2-417b-aa77-97dd0da86487:1096687' nodes=(<Node element_id='4:7de5358e-0bc2-417b-aa77-97dd0da86487:30819875' labels=frozenset({'Compound'}) properties={'is_core': 1, 'aliases': ['Name: (S)-2-Amino-3-(p-hydroxyphenyl)propionic acid; (S)-3-(p-Hydroxyphenyl)alanine; L-Tyrosine; L-tyr; L-tyrosine; Tyrosine; tyr; tyrosine', 'AraCyc: TYR', 'BiGG: tyr__L', 'BrachyCyc: TYR', 'KEGG: C00082', 'MetaCyc: TYR'], 'inchikey': 'OUYCCCASQSFEME-QMMMGPOBSA-N', 'charge': 0, 'smiles': '[NH3+][C@@H](Cc1ccc(O)cc1)C(=O)[O-]', 'pkb': '1:8:-5.96;1:13:9.19', 'pka': '1:8:9.79;1:11:2.00', 'mass': 181.0, 'compound_id': 'cpd00069', 'deltag': 18.52, 'source': 'Primary Database', 'name': 'L-Tyrosine', 'formula': 'C9H11NO3', 'deltagerr': 0.71, 'is_cofactor': 0}>, <Node element_id='4:7de5358e-0bc2-417b-aa77-97dd0da86487:30879344' labels=frozenset({'Reaction'}) properties={'stoichiometry': '-1:cpd00007:0:0:O2;-1:cpd00066:0:0:L-Phenylalanine;-1:cpd27039:0:0:FORMYL-THF-GLU-N;1:cpd00069:0:0:L-Tyrosine;1:cpd36501:0:0:CPD-14931', 'aliases': ['MetaCyc: RXN-13907'], 'code': '(1) cpd00007[0] + (1) cpd00066[0] + (1) cpd27039[0] <=> (1) cpd00069[0] + (1) cpd36501[0]', 'equation': '(1) cpd00007[0] + (1) cpd00066[0] + (1) cpd27039[0] <=> (1) cpd00069[0] + (1) cpd36501[0]', 'deltag': 10000000.0, 'is_transport': 0, 'pathways': ['MetaCyc: Amino-Acid-Degradation (Amino Acid Degradation); Degradation (Degradation/Utilization/Assimilation); PHENYLALANINE-DEG (L-phenylalanine Degradation); PWY-7158 (L-phenylalanine degradation V); Proteinogenic-Amino-Acids-Degradation (Proteinogenic Amino Acid Degradation)'], 'source': 'Primary Database', 'products': [' (1) cpd00069[0]', '(1) cpd36501[0]'], 'reaction_id': 'rxn43606', 'compound_ids': 'cpd00007;cpd00066;cpd00069;cpd27039;cpd36501', 'substrates': ['(1) cpd00007[0]', '(1) cpd00066[0]', '(1) cpd27039[0] '], 'name': '', 'reversibility': '?', 'deltagerr': 10000000.0, 'definition': '(1) O2[0] + (1) L-Phenylalanine[0] + (1) FORMYL-THF-GLU-N[0] <=> (1) L-Tyrosine[0] + (1) CPD-14931[0]', 'status': 'OK', 'direction': '='}>) type='PRODUCT_OF' properties={'to_property_list_name': 'products', 'from_property_name': 'compound_id', 'calculated': 'FALSE'}> reaction=<Node element_id='4:7de5358e-0bc2-417b-aa77-97dd0da86487:30879344' labels=frozenset({'Reaction'}) properties={'stoichiometry': '-1:cpd00007:0:0:O2;-1:cpd00066:0:0:L-Phenylalanine;-1:cpd27039:0:0:FORMYL-THF-GLU-N;1:cpd00069:0:0:L-Tyrosine;1:cpd36501:0:0:CPD-14931', 'aliases': ['MetaCyc: RXN-13907'], 'code': '(1) cpd00007[0] + (1) cpd00066[0] + (1) cpd27039[0] <=> (1) cpd00069[0] + (1) cpd36501[0]', 'equation': '(1) cpd00007[0] + (1) cpd00066[0] + (1) cpd27039[0] <=> (1) cpd00069[0] + (1) cpd36501[0]', 'deltag': 10000000.0, 'is_transport': 0, 'pathways': ['MetaCyc: Amino-Acid-Degradation (Amino Acid Degradation); Degradation (Degradation/Utilization/Assimilation); PHENYLALANINE-DEG (L-phenylalanine Degradation); PWY-7158 (L-phenylalanine degradation V); Proteinogenic-Amino-Acids-Degradation (Proteinogenic Amino Acid Degradation)'], 'source': 'Primary Database', 'products': [' (1) cpd00069[0]', '(1) cpd36501[0]'], 'reaction_id': 'rxn43606', 'compound_ids': 'cpd00007;cpd00066;cpd00069;cpd27039;cpd36501', 'substrates': ['(1) cpd00007[0]', '(1) cpd00066[0]', '(1) cpd27039[0] '], 'name': '', 'reversibility': '?', 'deltagerr': 10000000.0, 'definition': '(1) O2[0] + (1) L-Phenylalanine[0] + (1) FORMYL-THF-GLU-N[0] <=> (1) L-Tyrosine[0] + (1) CPD-14931[0]', 'status': 'OK', 'direction': '='}>>,\n",
       " <Record c=<Node element_id='4:7de5358e-0bc2-417b-aa77-97dd0da86487:30819875' labels=frozenset({'Compound'}) properties={'is_core': 1, 'aliases': ['Name: (S)-2-Amino-3-(p-hydroxyphenyl)propionic acid; (S)-3-(p-Hydroxyphenyl)alanine; L-Tyrosine; L-tyr; L-tyrosine; Tyrosine; tyr; tyrosine', 'AraCyc: TYR', 'BiGG: tyr__L', 'BrachyCyc: TYR', 'KEGG: C00082', 'MetaCyc: TYR'], 'inchikey': 'OUYCCCASQSFEME-QMMMGPOBSA-N', 'charge': 0, 'smiles': '[NH3+][C@@H](Cc1ccc(O)cc1)C(=O)[O-]', 'pkb': '1:8:-5.96;1:13:9.19', 'pka': '1:8:9.79;1:11:2.00', 'mass': 181.0, 'compound_id': 'cpd00069', 'deltag': 18.52, 'source': 'Primary Database', 'name': 'L-Tyrosine', 'formula': 'C9H11NO3', 'deltagerr': 0.71, 'is_cofactor': 0}> r=<Relationship element_id='5:7de5358e-0bc2-417b-aa77-97dd0da86487:1096678' nodes=(<Node element_id='4:7de5358e-0bc2-417b-aa77-97dd0da86487:30819875' labels=frozenset({'Compound'}) properties={'is_core': 1, 'aliases': ['Name: (S)-2-Amino-3-(p-hydroxyphenyl)propionic acid; (S)-3-(p-Hydroxyphenyl)alanine; L-Tyrosine; L-tyr; L-tyrosine; Tyrosine; tyr; tyrosine', 'AraCyc: TYR', 'BiGG: tyr__L', 'BrachyCyc: TYR', 'KEGG: C00082', 'MetaCyc: TYR'], 'inchikey': 'OUYCCCASQSFEME-QMMMGPOBSA-N', 'charge': 0, 'smiles': '[NH3+][C@@H](Cc1ccc(O)cc1)C(=O)[O-]', 'pkb': '1:8:-5.96;1:13:9.19', 'pka': '1:8:9.79;1:11:2.00', 'mass': 181.0, 'compound_id': 'cpd00069', 'deltag': 18.52, 'source': 'Primary Database', 'name': 'L-Tyrosine', 'formula': 'C9H11NO3', 'deltagerr': 0.71, 'is_cofactor': 0}>, <Node element_id='4:7de5358e-0bc2-417b-aa77-97dd0da86487:30869362' labels=frozenset({'Reaction'}) properties={'stoichiometry': '-1:cpd00069:0:0:\"L-Tyrosine\";1:cpd00069:1:0:\"L-Tyrosine\"', 'aliases': ['BiGG: TYRtex', 'BrachyCyc: TRANS-RXNAVI-26415', 'MaizeCyc: TRANS-RXNBWI-115362', 'MetaCyc: RXN66-446', 'TS_Athaliana: TR_met1159_c_m; TR_met1159_c_p', 'Name: EX_tyr_L_e; L-tyrosine transport via diffusion; RXN66-446.ce'], 'code': '(1) cpd00069[0] <=> (1) cpd00069[1]', 'equation': '(1) cpd00069[0] <=> (1) cpd00069[1]', 'deltag': 0.0, 'is_transport': 1, 'source': 'Published Model', 'products': [' (1) cpd00069[1]'], 'reaction_id': 'rxn33271', 'compound_ids': 'cpd00069', 'substrates': ['(1) cpd00069[0] '], 'name': '-', 'reversibility': '=', 'deltagerr': 1.27, 'definition': '(1) L-Tyrosine[0] <=> (1) L-Tyrosine[1]', 'linked_reaction': 'rxn09339;rxn10974;rxn33273', 'direction': '=', 'status': 'OK'}>) type='PRODUCT_OF' properties={'to_property_list_name': 'products', 'from_property_name': 'compound_id', 'calculated': 'FALSE'}> reaction=<Node element_id='4:7de5358e-0bc2-417b-aa77-97dd0da86487:30869362' labels=frozenset({'Reaction'}) properties={'stoichiometry': '-1:cpd00069:0:0:\"L-Tyrosine\";1:cpd00069:1:0:\"L-Tyrosine\"', 'aliases': ['BiGG: TYRtex', 'BrachyCyc: TRANS-RXNAVI-26415', 'MaizeCyc: TRANS-RXNBWI-115362', 'MetaCyc: RXN66-446', 'TS_Athaliana: TR_met1159_c_m; TR_met1159_c_p', 'Name: EX_tyr_L_e; L-tyrosine transport via diffusion; RXN66-446.ce'], 'code': '(1) cpd00069[0] <=> (1) cpd00069[1]', 'equation': '(1) cpd00069[0] <=> (1) cpd00069[1]', 'deltag': 0.0, 'is_transport': 1, 'source': 'Published Model', 'products': [' (1) cpd00069[1]'], 'reaction_id': 'rxn33271', 'compound_ids': 'cpd00069', 'substrates': ['(1) cpd00069[0] '], 'name': '-', 'reversibility': '=', 'deltagerr': 1.27, 'definition': '(1) L-Tyrosine[0] <=> (1) L-Tyrosine[1]', 'linked_reaction': 'rxn09339;rxn10974;rxn33273', 'direction': '=', 'status': 'OK'}>>,\n",
       " <Record c=<Node element_id='4:7de5358e-0bc2-417b-aa77-97dd0da86487:30819875' labels=frozenset({'Compound'}) properties={'is_core': 1, 'aliases': ['Name: (S)-2-Amino-3-(p-hydroxyphenyl)propionic acid; (S)-3-(p-Hydroxyphenyl)alanine; L-Tyrosine; L-tyr; L-tyrosine; Tyrosine; tyr; tyrosine', 'AraCyc: TYR', 'BiGG: tyr__L', 'BrachyCyc: TYR', 'KEGG: C00082', 'MetaCyc: TYR'], 'inchikey': 'OUYCCCASQSFEME-QMMMGPOBSA-N', 'charge': 0, 'smiles': '[NH3+][C@@H](Cc1ccc(O)cc1)C(=O)[O-]', 'pkb': '1:8:-5.96;1:13:9.19', 'pka': '1:8:9.79;1:11:2.00', 'mass': 181.0, 'compound_id': 'cpd00069', 'deltag': 18.52, 'source': 'Primary Database', 'name': 'L-Tyrosine', 'formula': 'C9H11NO3', 'deltagerr': 0.71, 'is_cofactor': 0}> r=<Relationship element_id='5:7de5358e-0bc2-417b-aa77-97dd0da86487:1096681' nodes=(<Node element_id='4:7de5358e-0bc2-417b-aa77-97dd0da86487:30819875' labels=frozenset({'Compound'}) properties={'is_core': 1, 'aliases': ['Name: (S)-2-Amino-3-(p-hydroxyphenyl)propionic acid; (S)-3-(p-Hydroxyphenyl)alanine; L-Tyrosine; L-tyr; L-tyrosine; Tyrosine; tyr; tyrosine', 'AraCyc: TYR', 'BiGG: tyr__L', 'BrachyCyc: TYR', 'KEGG: C00082', 'MetaCyc: TYR'], 'inchikey': 'OUYCCCASQSFEME-QMMMGPOBSA-N', 'charge': 0, 'smiles': '[NH3+][C@@H](Cc1ccc(O)cc1)C(=O)[O-]', 'pkb': '1:8:-5.96;1:13:9.19', 'pka': '1:8:9.79;1:11:2.00', 'mass': 181.0, 'compound_id': 'cpd00069', 'deltag': 18.52, 'source': 'Primary Database', 'name': 'L-Tyrosine', 'formula': 'C9H11NO3', 'deltagerr': 0.71, 'is_cofactor': 0}>, <Node element_id='4:7de5358e-0bc2-417b-aa77-97dd0da86487:30870216' labels=frozenset({'Reaction'}) properties={'stoichiometry': '-1:cpd00002:0:0:\"ATP\";-1:cpd00069:0:0:\"L-Tyrosine\";1:cpd00008:0:0:\"ADP\";1:cpd00069:1:0:\"L-Tyrosine\"', 'aliases': ['JM_Creinhardtii: JM_Cre_651', 'Name: '], 'code': '(1) cpd00002[0] + (1) cpd00069[0] <=> (1) cpd00008[0] + (1) cpd00069[1]', 'equation': '(1) cpd00002[0] + (1) cpd00069[0] <= (1) cpd00008[0] + (1) cpd00069[1]', 'deltag': 208.81, 'is_transport': 1, 'source': 'Published Model', 'products': [' (1) cpd00008[0]', '(1) cpd00069[1]'], 'reaction_id': 'rxn34130', 'compound_ids': 'cpd00002;cpd00008;cpd00069', 'substrates': ['(1) cpd00002[0]', '(1) cpd00069[0] '], 'name': 'JM_Cre_651', 'reversibility': '<', 'deltagerr': 0.14, 'definition': '(1) ATP[0] + (1) L-Tyrosine[0] <= (1) ADP[0] + (1) L-Tyrosine[1]', 'status': 'MI:O:-3/P:-1|CI:1', 'direction': '<'}>) type='PRODUCT_OF' properties={'to_property_list_name': 'products', 'from_property_name': 'compound_id', 'calculated': 'FALSE'}> reaction=<Node element_id='4:7de5358e-0bc2-417b-aa77-97dd0da86487:30870216' labels=frozenset({'Reaction'}) properties={'stoichiometry': '-1:cpd00002:0:0:\"ATP\";-1:cpd00069:0:0:\"L-Tyrosine\";1:cpd00008:0:0:\"ADP\";1:cpd00069:1:0:\"L-Tyrosine\"', 'aliases': ['JM_Creinhardtii: JM_Cre_651', 'Name: '], 'code': '(1) cpd00002[0] + (1) cpd00069[0] <=> (1) cpd00008[0] + (1) cpd00069[1]', 'equation': '(1) cpd00002[0] + (1) cpd00069[0] <= (1) cpd00008[0] + (1) cpd00069[1]', 'deltag': 208.81, 'is_transport': 1, 'source': 'Published Model', 'products': [' (1) cpd00008[0]', '(1) cpd00069[1]'], 'reaction_id': 'rxn34130', 'compound_ids': 'cpd00002;cpd00008;cpd00069', 'substrates': ['(1) cpd00002[0]', '(1) cpd00069[0] '], 'name': 'JM_Cre_651', 'reversibility': '<', 'deltagerr': 0.14, 'definition': '(1) ATP[0] + (1) L-Tyrosine[0] <= (1) ADP[0] + (1) L-Tyrosine[1]', 'status': 'MI:O:-3/P:-1|CI:1', 'direction': '<'}>>]"
      ]
     },
     "execution_count": 23,
     "metadata": {},
     "output_type": "execute_result"
    }
   ],
   "source": [
    "query = \"\"\"\n",
    "MATCH (c:Compound {compound_id: $compound_id})\n",
    "OPTIONAL MATCH (c)-[r:PRODUCT_OF]-(reaction:Reaction)\n",
    "RETURN c, r, reaction\n",
    "LIMIT 1000\"\"\"\n",
    "\n",
    "params = {\"compound_id\": \"cpd00069\"}\n",
    "conn.query(query, params)"
   ]
  },
  {
   "cell_type": "code",
   "execution_count": 8,
   "metadata": {},
   "outputs": [
    {
     "data": {
      "text/plain": [
       "[<Record reaction_id='rxn40068' reaction_name='2-hydroxyethylphosphonate:O2 1,2-oxidoreductase (methylphosphonate forming)' similar_compound_id='cpd25960' similar_compound_name='MePn' similar_compound_smiles='CP(=O)([O-])O' similarity_distance=0.36363636363636365>]"
      ]
     },
     "execution_count": 8,
     "metadata": {},
     "output_type": "execute_result"
    }
   ],
   "source": [
    "query = \"\"\"\n",
    "MATCH (c:Compound {compound_id: $compound_id})-[sim:CHEMICAL_SIMILARITY]-(similar:Compound)\n",
    "MATCH (similar)-[:PRODUCT_OF]->(r:Reaction)\n",
    "WHERE toFloat(sim.distance) <= $distance_threshold\n",
    "RETURN r.reaction_id AS reaction_id,\n",
    "       r.name AS reaction_name,\n",
    "       similar.compound_id AS similar_compound_id,\n",
    "       similar.name AS similar_compound_name,\n",
    "       similar.smiles AS similar_compound_smiles,\n",
    "       toFloat(sim.distance) AS similarity_distance\n",
    "ORDER BY similarity_distance ASC\n",
    "LIMIT $limit\"\"\"\n",
    "\n",
    "conn = Neo4jConnection(uri, username, password)\n",
    "\n",
    "params = {\"compound_id\": \"cpd00009\", \"distance_threshold\": 0.4, \"limit\": 100}\n",
    "conn.query(query, params)"
   ]
  },
  {
   "cell_type": "code",
   "execution_count": 10,
   "metadata": {},
   "outputs": [
    {
     "data": {
      "text/plain": [
       "[<Record reaction_id='rxn00293' reaction_name='UTP:N-acetyl-alpha-D-glucosamine-1-phosphate uridylyltransferase' similar_compound_id='cpd00012' similar_compound_name='PPi' similar_compound_smiles='O=P([O-])([O-])OP(=O)([O-])O' similarity_distance=0.5333333333333333 catalyzing_protein_id='OceanDNA-b44519_00103_2' catalyzing_protein_name='bifunctional UDP-N-acetylglucosamine pyrophosphorylase / glucosamine-1-phosphate N-acetyltransferase [EC:2.7.7.23 2.3.1.157]' catalyzing_protein_ec_numbers=['2.3.1.157', '2.7.7.23']>,\n",
       " <Record reaction_id='rxn00293' reaction_name='UTP:N-acetyl-alpha-D-glucosamine-1-phosphate uridylyltransferase' similar_compound_id='cpd00012' similar_compound_name='PPi' similar_compound_smiles='O=P([O-])([O-])OP(=O)([O-])O' similarity_distance=0.5333333333333333 catalyzing_protein_id='OceanDNA-b36760_00082_1' catalyzing_protein_name='bifunctional UDP-N-acetylglucosamine pyrophosphorylase / glucosamine-1-phosphate N-acetyltransferase [EC:2.7.7.23 2.3.1.157]' catalyzing_protein_ec_numbers=['2.3.1.157', '2.7.7.23']>,\n",
       " <Record reaction_id='rxn00293' reaction_name='UTP:N-acetyl-alpha-D-glucosamine-1-phosphate uridylyltransferase' similar_compound_id='cpd00012' similar_compound_name='PPi' similar_compound_smiles='O=P([O-])([O-])OP(=O)([O-])O' similarity_distance=0.5333333333333333 catalyzing_protein_id='OceanDNA-b43452_00333_1' catalyzing_protein_name='bifunctional UDP-N-acetylglucosamine pyrophosphorylase / glucosamine-1-phosphate N-acetyltransferase [EC:2.7.7.23 2.3.1.157]' catalyzing_protein_ec_numbers=['2.3.1.157', '2.7.7.23']>,\n",
       " <Record reaction_id='rxn00293' reaction_name='UTP:N-acetyl-alpha-D-glucosamine-1-phosphate uridylyltransferase' similar_compound_id='cpd00012' similar_compound_name='PPi' similar_compound_smiles='O=P([O-])([O-])OP(=O)([O-])O' similarity_distance=0.5333333333333333 catalyzing_protein_id='OceanDNA-b28680_00109_2' catalyzing_protein_name='bifunctional UDP-N-acetylglucosamine pyrophosphorylase / glucosamine-1-phosphate N-acetyltransferase [EC:2.7.7.23 2.3.1.157]' catalyzing_protein_ec_numbers=['2.3.1.157', '2.7.7.23']>,\n",
       " <Record reaction_id='rxn00293' reaction_name='UTP:N-acetyl-alpha-D-glucosamine-1-phosphate uridylyltransferase' similar_compound_id='cpd00012' similar_compound_name='PPi' similar_compound_smiles='O=P([O-])([O-])OP(=O)([O-])O' similarity_distance=0.5333333333333333 catalyzing_protein_id='OceanDNA-b26151_00016_1' catalyzing_protein_name='bifunctional UDP-N-acetylglucosamine pyrophosphorylase / glucosamine-1-phosphate N-acetyltransferase [EC:2.7.7.23 2.3.1.157]' catalyzing_protein_ec_numbers=['2.3.1.157', '2.7.7.23']>,\n",
       " <Record reaction_id='rxn00293' reaction_name='UTP:N-acetyl-alpha-D-glucosamine-1-phosphate uridylyltransferase' similar_compound_id='cpd00012' similar_compound_name='PPi' similar_compound_smiles='O=P([O-])([O-])OP(=O)([O-])O' similarity_distance=0.5333333333333333 catalyzing_protein_id='OceanDNA-b26145_00226_2' catalyzing_protein_name='bifunctional UDP-N-acetylglucosamine pyrophosphorylase / glucosamine-1-phosphate N-acetyltransferase [EC:2.7.7.23 2.3.1.157]' catalyzing_protein_ec_numbers=['2.3.1.157', '2.7.7.23']>,\n",
       " <Record reaction_id='rxn00293' reaction_name='UTP:N-acetyl-alpha-D-glucosamine-1-phosphate uridylyltransferase' similar_compound_id='cpd00012' similar_compound_name='PPi' similar_compound_smiles='O=P([O-])([O-])OP(=O)([O-])O' similarity_distance=0.5333333333333333 catalyzing_protein_id='OceanDNA-b23492_00069_9' catalyzing_protein_name='bifunctional UDP-N-acetylglucosamine pyrophosphorylase / glucosamine-1-phosphate N-acetyltransferase [EC:2.7.7.23 2.3.1.157]' catalyzing_protein_ec_numbers=['2.3.1.157', '2.7.7.23']>,\n",
       " <Record reaction_id='rxn00293' reaction_name='UTP:N-acetyl-alpha-D-glucosamine-1-phosphate uridylyltransferase' similar_compound_id='cpd00012' similar_compound_name='PPi' similar_compound_smiles='O=P([O-])([O-])OP(=O)([O-])O' similarity_distance=0.5333333333333333 catalyzing_protein_id='OceanDNA-b31534_00058_2' catalyzing_protein_name='bifunctional UDP-N-acetylglucosamine pyrophosphorylase / glucosamine-1-phosphate N-acetyltransferase [EC:2.7.7.23 2.3.1.157]' catalyzing_protein_ec_numbers=['2.3.1.157', '2.7.7.23']>,\n",
       " <Record reaction_id='rxn00293' reaction_name='UTP:N-acetyl-alpha-D-glucosamine-1-phosphate uridylyltransferase' similar_compound_id='cpd00012' similar_compound_name='PPi' similar_compound_smiles='O=P([O-])([O-])OP(=O)([O-])O' similarity_distance=0.5333333333333333 catalyzing_protein_id='OceanDNA-b15547_00566_2' catalyzing_protein_name='bifunctional UDP-N-acetylglucosamine pyrophosphorylase / glucosamine-1-phosphate N-acetyltransferase [EC:2.7.7.23 2.3.1.157]' catalyzing_protein_ec_numbers=['2.3.1.157', '2.7.7.23']>,\n",
       " <Record reaction_id='rxn00293' reaction_name='UTP:N-acetyl-alpha-D-glucosamine-1-phosphate uridylyltransferase' similar_compound_id='cpd00012' similar_compound_name='PPi' similar_compound_smiles='O=P([O-])([O-])OP(=O)([O-])O' similarity_distance=0.5333333333333333 catalyzing_protein_id='OceanDNA-b25476_00211_2' catalyzing_protein_name='bifunctional UDP-N-acetylglucosamine pyrophosphorylase / glucosamine-1-phosphate N-acetyltransferase [EC:2.7.7.23 2.3.1.157]' catalyzing_protein_ec_numbers=['2.3.1.157', '2.7.7.23']>,\n",
       " <Record reaction_id='rxn00293' reaction_name='UTP:N-acetyl-alpha-D-glucosamine-1-phosphate uridylyltransferase' similar_compound_id='cpd00012' similar_compound_name='PPi' similar_compound_smiles='O=P([O-])([O-])OP(=O)([O-])O' similarity_distance=0.5333333333333333 catalyzing_protein_id='OceanDNA-b30730_00016_16' catalyzing_protein_name='bifunctional UDP-N-acetylglucosamine pyrophosphorylase / glucosamine-1-phosphate N-acetyltransferase [EC:2.7.7.23 2.3.1.157]' catalyzing_protein_ec_numbers=['2.3.1.157', '2.7.7.23']>,\n",
       " <Record reaction_id='rxn00293' reaction_name='UTP:N-acetyl-alpha-D-glucosamine-1-phosphate uridylyltransferase' similar_compound_id='cpd00012' similar_compound_name='PPi' similar_compound_smiles='O=P([O-])([O-])OP(=O)([O-])O' similarity_distance=0.5333333333333333 catalyzing_protein_id='OceanDNA-b32667_00044_1' catalyzing_protein_name='bifunctional UDP-N-acetylglucosamine pyrophosphorylase / glucosamine-1-phosphate N-acetyltransferase [EC:2.7.7.23 2.3.1.157]' catalyzing_protein_ec_numbers=['2.3.1.157', '2.7.7.23']>,\n",
       " <Record reaction_id='rxn00293' reaction_name='UTP:N-acetyl-alpha-D-glucosamine-1-phosphate uridylyltransferase' similar_compound_id='cpd00012' similar_compound_name='PPi' similar_compound_smiles='O=P([O-])([O-])OP(=O)([O-])O' similarity_distance=0.5333333333333333 catalyzing_protein_id='OceanDNA-b40259_00281_1' catalyzing_protein_name='bifunctional UDP-N-acetylglucosamine pyrophosphorylase / glucosamine-1-phosphate N-acetyltransferase [EC:2.7.7.23 2.3.1.157]' catalyzing_protein_ec_numbers=['2.3.1.157', '2.7.7.23']>,\n",
       " <Record reaction_id='rxn00293' reaction_name='UTP:N-acetyl-alpha-D-glucosamine-1-phosphate uridylyltransferase' similar_compound_id='cpd00012' similar_compound_name='PPi' similar_compound_smiles='O=P([O-])([O-])OP(=O)([O-])O' similarity_distance=0.5333333333333333 catalyzing_protein_id='OceanDNA-b16154_00663_2' catalyzing_protein_name='bifunctional UDP-N-acetylglucosamine pyrophosphorylase / glucosamine-1-phosphate N-acetyltransferase [EC:2.7.7.23 2.3.1.157]' catalyzing_protein_ec_numbers=['2.3.1.157', '2.7.7.23']>,\n",
       " <Record reaction_id='rxn00293' reaction_name='UTP:N-acetyl-alpha-D-glucosamine-1-phosphate uridylyltransferase' similar_compound_id='cpd00012' similar_compound_name='PPi' similar_compound_smiles='O=P([O-])([O-])OP(=O)([O-])O' similarity_distance=0.5333333333333333 catalyzing_protein_id='OceanDNA-b30227_00213_3' catalyzing_protein_name='bifunctional UDP-N-acetylglucosamine pyrophosphorylase / glucosamine-1-phosphate N-acetyltransferase [EC:2.7.7.23 2.3.1.157]' catalyzing_protein_ec_numbers=['2.3.1.157', '2.7.7.23']>,\n",
       " <Record reaction_id='rxn00293' reaction_name='UTP:N-acetyl-alpha-D-glucosamine-1-phosphate uridylyltransferase' similar_compound_id='cpd00012' similar_compound_name='PPi' similar_compound_smiles='O=P([O-])([O-])OP(=O)([O-])O' similarity_distance=0.5333333333333333 catalyzing_protein_id='OceanDNA-b29805_00105_2' catalyzing_protein_name='bifunctional UDP-N-acetylglucosamine pyrophosphorylase / glucosamine-1-phosphate N-acetyltransferase [EC:2.7.7.23 2.3.1.157]' catalyzing_protein_ec_numbers=['2.3.1.157', '2.7.7.23']>,\n",
       " <Record reaction_id='rxn00293' reaction_name='UTP:N-acetyl-alpha-D-glucosamine-1-phosphate uridylyltransferase' similar_compound_id='cpd00012' similar_compound_name='PPi' similar_compound_smiles='O=P([O-])([O-])OP(=O)([O-])O' similarity_distance=0.5333333333333333 catalyzing_protein_id='OceanDNA-b40068_00349_2' catalyzing_protein_name='bifunctional UDP-N-acetylglucosamine pyrophosphorylase / glucosamine-1-phosphate N-acetyltransferase [EC:2.7.7.23 2.3.1.157]' catalyzing_protein_ec_numbers=['2.3.1.157', '2.7.7.23']>,\n",
       " <Record reaction_id='rxn00293' reaction_name='UTP:N-acetyl-alpha-D-glucosamine-1-phosphate uridylyltransferase' similar_compound_id='cpd00012' similar_compound_name='PPi' similar_compound_smiles='O=P([O-])([O-])OP(=O)([O-])O' similarity_distance=0.5333333333333333 catalyzing_protein_id='OceanDNA-b33448_00119_4' catalyzing_protein_name='bifunctional UDP-N-acetylglucosamine pyrophosphorylase / glucosamine-1-phosphate N-acetyltransferase [EC:2.7.7.23 2.3.1.157]' catalyzing_protein_ec_numbers=['2.3.1.157', '2.7.7.23']>,\n",
       " <Record reaction_id='rxn00293' reaction_name='UTP:N-acetyl-alpha-D-glucosamine-1-phosphate uridylyltransferase' similar_compound_id='cpd00012' similar_compound_name='PPi' similar_compound_smiles='O=P([O-])([O-])OP(=O)([O-])O' similarity_distance=0.5333333333333333 catalyzing_protein_id='OceanDNA-b36102_00220_2' catalyzing_protein_name='bifunctional UDP-N-acetylglucosamine pyrophosphorylase / glucosamine-1-phosphate N-acetyltransferase [EC:2.7.7.23 2.3.1.157]' catalyzing_protein_ec_numbers=['2.3.1.157', '2.7.7.23']>,\n",
       " <Record reaction_id='rxn00293' reaction_name='UTP:N-acetyl-alpha-D-glucosamine-1-phosphate uridylyltransferase' similar_compound_id='cpd00012' similar_compound_name='PPi' similar_compound_smiles='O=P([O-])([O-])OP(=O)([O-])O' similarity_distance=0.5333333333333333 catalyzing_protein_id='OceanDNA-b252_00024_5' catalyzing_protein_name='bifunctional UDP-N-acetylglucosamine pyrophosphorylase / glucosamine-1-phosphate N-acetyltransferase [EC:2.7.7.23 2.3.1.157]' catalyzing_protein_ec_numbers=['2.3.1.157', '2.7.7.23']>,\n",
       " <Record reaction_id='rxn00293' reaction_name='UTP:N-acetyl-alpha-D-glucosamine-1-phosphate uridylyltransferase' similar_compound_id='cpd00012' similar_compound_name='PPi' similar_compound_smiles='O=P([O-])([O-])OP(=O)([O-])O' similarity_distance=0.5333333333333333 catalyzing_protein_id='OceanDNA-b2626_00509_1' catalyzing_protein_name='bifunctional UDP-N-acetylglucosamine pyrophosphorylase / glucosamine-1-phosphate N-acetyltransferase [EC:2.7.7.23 2.3.1.157]' catalyzing_protein_ec_numbers=['2.3.1.157', '2.7.7.23']>,\n",
       " <Record reaction_id='rxn00293' reaction_name='UTP:N-acetyl-alpha-D-glucosamine-1-phosphate uridylyltransferase' similar_compound_id='cpd00012' similar_compound_name='PPi' similar_compound_smiles='O=P([O-])([O-])OP(=O)([O-])O' similarity_distance=0.5333333333333333 catalyzing_protein_id='OceanDNA-b36634_00090_3' catalyzing_protein_name='bifunctional UDP-N-acetylglucosamine pyrophosphorylase / glucosamine-1-phosphate N-acetyltransferase [EC:2.7.7.23 2.3.1.157]' catalyzing_protein_ec_numbers=['2.3.1.157', '2.7.7.23']>,\n",
       " <Record reaction_id='rxn00293' reaction_name='UTP:N-acetyl-alpha-D-glucosamine-1-phosphate uridylyltransferase' similar_compound_id='cpd00012' similar_compound_name='PPi' similar_compound_smiles='O=P([O-])([O-])OP(=O)([O-])O' similarity_distance=0.5333333333333333 catalyzing_protein_id='OceanDNA-b16335_00005_2' catalyzing_protein_name='bifunctional UDP-N-acetylglucosamine pyrophosphorylase / glucosamine-1-phosphate N-acetyltransferase [EC:2.7.7.23 2.3.1.157]' catalyzing_protein_ec_numbers=['2.3.1.157', '2.7.7.23']>,\n",
       " <Record reaction_id='rxn00293' reaction_name='UTP:N-acetyl-alpha-D-glucosamine-1-phosphate uridylyltransferase' similar_compound_id='cpd00012' similar_compound_name='PPi' similar_compound_smiles='O=P([O-])([O-])OP(=O)([O-])O' similarity_distance=0.5333333333333333 catalyzing_protein_id='OceanDNA-b35088_00404_3' catalyzing_protein_name='bifunctional UDP-N-acetylglucosamine pyrophosphorylase / glucosamine-1-phosphate N-acetyltransferase [EC:2.7.7.23 2.3.1.157]' catalyzing_protein_ec_numbers=['2.3.1.157', '2.7.7.23']>,\n",
       " <Record reaction_id='rxn00293' reaction_name='UTP:N-acetyl-alpha-D-glucosamine-1-phosphate uridylyltransferase' similar_compound_id='cpd00012' similar_compound_name='PPi' similar_compound_smiles='O=P([O-])([O-])OP(=O)([O-])O' similarity_distance=0.5333333333333333 catalyzing_protein_id='OceanDNA-b27926_00177_1' catalyzing_protein_name='bifunctional UDP-N-acetylglucosamine pyrophosphorylase / glucosamine-1-phosphate N-acetyltransferase [EC:2.7.7.23 2.3.1.157]' catalyzing_protein_ec_numbers=['2.3.1.157', '2.7.7.23']>,\n",
       " <Record reaction_id='rxn00293' reaction_name='UTP:N-acetyl-alpha-D-glucosamine-1-phosphate uridylyltransferase' similar_compound_id='cpd00012' similar_compound_name='PPi' similar_compound_smiles='O=P([O-])([O-])OP(=O)([O-])O' similarity_distance=0.5333333333333333 catalyzing_protein_id='OceanDNA-b39712_00225_2' catalyzing_protein_name='bifunctional UDP-N-acetylglucosamine pyrophosphorylase / glucosamine-1-phosphate N-acetyltransferase [EC:2.7.7.23 2.3.1.157]' catalyzing_protein_ec_numbers=['2.3.1.157', '2.7.7.23']>,\n",
       " <Record reaction_id='rxn00293' reaction_name='UTP:N-acetyl-alpha-D-glucosamine-1-phosphate uridylyltransferase' similar_compound_id='cpd00012' similar_compound_name='PPi' similar_compound_smiles='O=P([O-])([O-])OP(=O)([O-])O' similarity_distance=0.5333333333333333 catalyzing_protein_id='OceanDNA-b43131_00027_7' catalyzing_protein_name='bifunctional UDP-N-acetylglucosamine pyrophosphorylase / glucosamine-1-phosphate N-acetyltransferase [EC:2.7.7.23 2.3.1.157]' catalyzing_protein_ec_numbers=['2.3.1.157', '2.7.7.23']>,\n",
       " <Record reaction_id='rxn00293' reaction_name='UTP:N-acetyl-alpha-D-glucosamine-1-phosphate uridylyltransferase' similar_compound_id='cpd00012' similar_compound_name='PPi' similar_compound_smiles='O=P([O-])([O-])OP(=O)([O-])O' similarity_distance=0.5333333333333333 catalyzing_protein_id='OceanDNA-b17190_00200_1' catalyzing_protein_name='bifunctional UDP-N-acetylglucosamine pyrophosphorylase / glucosamine-1-phosphate N-acetyltransferase [EC:2.7.7.23 2.3.1.157]' catalyzing_protein_ec_numbers=['2.3.1.157', '2.7.7.23']>,\n",
       " <Record reaction_id='rxn00293' reaction_name='UTP:N-acetyl-alpha-D-glucosamine-1-phosphate uridylyltransferase' similar_compound_id='cpd00012' similar_compound_name='PPi' similar_compound_smiles='O=P([O-])([O-])OP(=O)([O-])O' similarity_distance=0.5333333333333333 catalyzing_protein_id='OceanDNA-b26718_00003_61' catalyzing_protein_name='bifunctional UDP-N-acetylglucosamine pyrophosphorylase / glucosamine-1-phosphate N-acetyltransferase [EC:2.7.7.23 2.3.1.157]' catalyzing_protein_ec_numbers=['2.3.1.157', '2.7.7.23']>,\n",
       " <Record reaction_id='rxn00293' reaction_name='UTP:N-acetyl-alpha-D-glucosamine-1-phosphate uridylyltransferase' similar_compound_id='cpd00012' similar_compound_name='PPi' similar_compound_smiles='O=P([O-])([O-])OP(=O)([O-])O' similarity_distance=0.5333333333333333 catalyzing_protein_id='OceanDNA-b46039_00086_6' catalyzing_protein_name='UDP-N-acetylglucosamine/UDP-N-acetylgalactosamine diphosphorylase [EC:2.7.7.23 2.7.7.83]' catalyzing_protein_ec_numbers=['2.7.7.83', '2.7.7.23']>,\n",
       " <Record reaction_id='rxn00293' reaction_name='UTP:N-acetyl-alpha-D-glucosamine-1-phosphate uridylyltransferase' similar_compound_id='cpd00012' similar_compound_name='PPi' similar_compound_smiles='O=P([O-])([O-])OP(=O)([O-])O' similarity_distance=0.5333333333333333 catalyzing_protein_id='OceanDNA-b28894_00145_2' catalyzing_protein_name='bifunctional UDP-N-acetylglucosamine pyrophosphorylase / glucosamine-1-phosphate N-acetyltransferase [EC:2.7.7.23 2.3.1.157]' catalyzing_protein_ec_numbers=['2.3.1.157', '2.7.7.23']>,\n",
       " <Record reaction_id='rxn00293' reaction_name='UTP:N-acetyl-alpha-D-glucosamine-1-phosphate uridylyltransferase' similar_compound_id='cpd00012' similar_compound_name='PPi' similar_compound_smiles='O=P([O-])([O-])OP(=O)([O-])O' similarity_distance=0.5333333333333333 catalyzing_protein_id='OceanDNA-b40286_00419_1' catalyzing_protein_name='bifunctional UDP-N-acetylglucosamine pyrophosphorylase / glucosamine-1-phosphate N-acetyltransferase [EC:2.7.7.23 2.3.1.157]' catalyzing_protein_ec_numbers=['2.3.1.157', '2.7.7.23']>,\n",
       " <Record reaction_id='rxn00293' reaction_name='UTP:N-acetyl-alpha-D-glucosamine-1-phosphate uridylyltransferase' similar_compound_id='cpd00012' similar_compound_name='PPi' similar_compound_smiles='O=P([O-])([O-])OP(=O)([O-])O' similarity_distance=0.5333333333333333 catalyzing_protein_id='OceanDNA-b40119_00002_41' catalyzing_protein_name='bifunctional UDP-N-acetylglucosamine pyrophosphorylase / glucosamine-1-phosphate N-acetyltransferase [EC:2.7.7.23 2.3.1.157]' catalyzing_protein_ec_numbers=['2.3.1.157', '2.7.7.23']>,\n",
       " <Record reaction_id='rxn00293' reaction_name='UTP:N-acetyl-alpha-D-glucosamine-1-phosphate uridylyltransferase' similar_compound_id='cpd00012' similar_compound_name='PPi' similar_compound_smiles='O=P([O-])([O-])OP(=O)([O-])O' similarity_distance=0.5333333333333333 catalyzing_protein_id='OceanDNA-b122_00041_3' catalyzing_protein_name='bifunctional UDP-N-acetylglucosamine pyrophosphorylase / glucosamine-1-phosphate N-acetyltransferase [EC:2.7.7.23 2.3.1.157]' catalyzing_protein_ec_numbers=['2.3.1.157', '2.7.7.23']>,\n",
       " <Record reaction_id='rxn00293' reaction_name='UTP:N-acetyl-alpha-D-glucosamine-1-phosphate uridylyltransferase' similar_compound_id='cpd00012' similar_compound_name='PPi' similar_compound_smiles='O=P([O-])([O-])OP(=O)([O-])O' similarity_distance=0.5333333333333333 catalyzing_protein_id='OceanDNA-b22747_00038_5' catalyzing_protein_name='UDP-N-acetylglucosamine/UDP-N-acetylgalactosamine diphosphorylase [EC:2.7.7.23 2.7.7.83]' catalyzing_protein_ec_numbers=['2.7.7.83', '2.7.7.23']>,\n",
       " <Record reaction_id='rxn00293' reaction_name='UTP:N-acetyl-alpha-D-glucosamine-1-phosphate uridylyltransferase' similar_compound_id='cpd00012' similar_compound_name='PPi' similar_compound_smiles='O=P([O-])([O-])OP(=O)([O-])O' similarity_distance=0.5333333333333333 catalyzing_protein_id='OceanDNA-b14581_00227_1' catalyzing_protein_name='bifunctional UDP-N-acetylglucosamine pyrophosphorylase / glucosamine-1-phosphate N-acetyltransferase [EC:2.7.7.23 2.3.1.157]' catalyzing_protein_ec_numbers=['2.3.1.157', '2.7.7.23']>,\n",
       " <Record reaction_id='rxn00293' reaction_name='UTP:N-acetyl-alpha-D-glucosamine-1-phosphate uridylyltransferase' similar_compound_id='cpd00012' similar_compound_name='PPi' similar_compound_smiles='O=P([O-])([O-])OP(=O)([O-])O' similarity_distance=0.5333333333333333 catalyzing_protein_id='OceanDNA-b35390_00746_1' catalyzing_protein_name='bifunctional UDP-N-acetylglucosamine pyrophosphorylase / glucosamine-1-phosphate N-acetyltransferase [EC:2.7.7.23 2.3.1.157]' catalyzing_protein_ec_numbers=['2.3.1.157', '2.7.7.23']>,\n",
       " <Record reaction_id='rxn00293' reaction_name='UTP:N-acetyl-alpha-D-glucosamine-1-phosphate uridylyltransferase' similar_compound_id='cpd00012' similar_compound_name='PPi' similar_compound_smiles='O=P([O-])([O-])OP(=O)([O-])O' similarity_distance=0.5333333333333333 catalyzing_protein_id='OceanDNA-b36244_00028_5' catalyzing_protein_name='bifunctional UDP-N-acetylglucosamine pyrophosphorylase / glucosamine-1-phosphate N-acetyltransferase [EC:2.7.7.23 2.3.1.157]' catalyzing_protein_ec_numbers=['2.3.1.157', '2.7.7.23']>,\n",
       " <Record reaction_id='rxn00293' reaction_name='UTP:N-acetyl-alpha-D-glucosamine-1-phosphate uridylyltransferase' similar_compound_id='cpd00012' similar_compound_name='PPi' similar_compound_smiles='O=P([O-])([O-])OP(=O)([O-])O' similarity_distance=0.5333333333333333 catalyzing_protein_id='OceanDNA-b15526_00035_14' catalyzing_protein_name='bifunctional UDP-N-acetylglucosamine pyrophosphorylase / glucosamine-1-phosphate N-acetyltransferase [EC:2.7.7.23 2.3.1.157]' catalyzing_protein_ec_numbers=['2.3.1.157', '2.7.7.23']>,\n",
       " <Record reaction_id='rxn00293' reaction_name='UTP:N-acetyl-alpha-D-glucosamine-1-phosphate uridylyltransferase' similar_compound_id='cpd00012' similar_compound_name='PPi' similar_compound_smiles='O=P([O-])([O-])OP(=O)([O-])O' similarity_distance=0.5333333333333333 catalyzing_protein_id='OceanDNA-a1720_00010_5' catalyzing_protein_name='UDP-N-acetylglucosamine diphosphorylase / glucose-1-phosphate thymidylyltransferase / UDP-N-acetylgalactosamine diphosphorylase / glucosamine-1-phosphate N-acetyltransferase / galactosamine-1-phosphate N-acetyltransferase [EC:2.7.7.23 2.7.7.24 2.7.7.83 2.3.1.157 2.3.1.276]' catalyzing_protein_ec_numbers=['2.7.7.83', '2.7.7.24', '2.3.1.276', '2.3.1.157', '2.7.7.23']>,\n",
       " <Record reaction_id='rxn00293' reaction_name='UTP:N-acetyl-alpha-D-glucosamine-1-phosphate uridylyltransferase' similar_compound_id='cpd00012' similar_compound_name='PPi' similar_compound_smiles='O=P([O-])([O-])OP(=O)([O-])O' similarity_distance=0.5333333333333333 catalyzing_protein_id='OceanDNA-b42077_00104_3' catalyzing_protein_name='bifunctional UDP-N-acetylglucosamine pyrophosphorylase / glucosamine-1-phosphate N-acetyltransferase [EC:2.7.7.23 2.3.1.157]' catalyzing_protein_ec_numbers=['2.3.1.157', '2.7.7.23']>,\n",
       " <Record reaction_id='rxn00293' reaction_name='UTP:N-acetyl-alpha-D-glucosamine-1-phosphate uridylyltransferase' similar_compound_id='cpd00012' similar_compound_name='PPi' similar_compound_smiles='O=P([O-])([O-])OP(=O)([O-])O' similarity_distance=0.5333333333333333 catalyzing_protein_id='OceanDNA-b44370_00001_67' catalyzing_protein_name='bifunctional UDP-N-acetylglucosamine pyrophosphorylase / glucosamine-1-phosphate N-acetyltransferase [EC:2.7.7.23 2.3.1.157]' catalyzing_protein_ec_numbers=['2.3.1.157', '2.7.7.23']>,\n",
       " <Record reaction_id='rxn00293' reaction_name='UTP:N-acetyl-alpha-D-glucosamine-1-phosphate uridylyltransferase' similar_compound_id='cpd00012' similar_compound_name='PPi' similar_compound_smiles='O=P([O-])([O-])OP(=O)([O-])O' similarity_distance=0.5333333333333333 catalyzing_protein_id='OceanDNA-b35387_00397_3' catalyzing_protein_name='bifunctional UDP-N-acetylglucosamine pyrophosphorylase / glucosamine-1-phosphate N-acetyltransferase [EC:2.7.7.23 2.3.1.157]' catalyzing_protein_ec_numbers=['2.3.1.157', '2.7.7.23']>,\n",
       " <Record reaction_id='rxn00293' reaction_name='UTP:N-acetyl-alpha-D-glucosamine-1-phosphate uridylyltransferase' similar_compound_id='cpd00012' similar_compound_name='PPi' similar_compound_smiles='O=P([O-])([O-])OP(=O)([O-])O' similarity_distance=0.5333333333333333 catalyzing_protein_id='OceanDNA-b36406_00479_2' catalyzing_protein_name='bifunctional UDP-N-acetylglucosamine pyrophosphorylase / glucosamine-1-phosphate N-acetyltransferase [EC:2.7.7.23 2.3.1.157]' catalyzing_protein_ec_numbers=['2.3.1.157', '2.7.7.23']>,\n",
       " <Record reaction_id='rxn00293' reaction_name='UTP:N-acetyl-alpha-D-glucosamine-1-phosphate uridylyltransferase' similar_compound_id='cpd00012' similar_compound_name='PPi' similar_compound_smiles='O=P([O-])([O-])OP(=O)([O-])O' similarity_distance=0.5333333333333333 catalyzing_protein_id='OceanDNA-b23283_00004_32' catalyzing_protein_name='bifunctional UDP-N-acetylglucosamine pyrophosphorylase / glucosamine-1-phosphate N-acetyltransferase [EC:2.7.7.23 2.3.1.157]' catalyzing_protein_ec_numbers=['2.3.1.157', '2.7.7.23']>,\n",
       " <Record reaction_id='rxn00293' reaction_name='UTP:N-acetyl-alpha-D-glucosamine-1-phosphate uridylyltransferase' similar_compound_id='cpd00012' similar_compound_name='PPi' similar_compound_smiles='O=P([O-])([O-])OP(=O)([O-])O' similarity_distance=0.5333333333333333 catalyzing_protein_id='OceanDNA-b29780_00190_2' catalyzing_protein_name='bifunctional UDP-N-acetylglucosamine pyrophosphorylase / glucosamine-1-phosphate N-acetyltransferase [EC:2.7.7.23 2.3.1.157]' catalyzing_protein_ec_numbers=['2.3.1.157', '2.7.7.23']>,\n",
       " <Record reaction_id='rxn00293' reaction_name='UTP:N-acetyl-alpha-D-glucosamine-1-phosphate uridylyltransferase' similar_compound_id='cpd00012' similar_compound_name='PPi' similar_compound_smiles='O=P([O-])([O-])OP(=O)([O-])O' similarity_distance=0.5333333333333333 catalyzing_protein_id='OceanDNA-b44218_00001_181' catalyzing_protein_name='bifunctional UDP-N-acetylglucosamine pyrophosphorylase / glucosamine-1-phosphate N-acetyltransferase [EC:2.7.7.23 2.3.1.157]' catalyzing_protein_ec_numbers=['2.3.1.157', '2.7.7.23']>,\n",
       " <Record reaction_id='rxn00293' reaction_name='UTP:N-acetyl-alpha-D-glucosamine-1-phosphate uridylyltransferase' similar_compound_id='cpd00012' similar_compound_name='PPi' similar_compound_smiles='O=P([O-])([O-])OP(=O)([O-])O' similarity_distance=0.5333333333333333 catalyzing_protein_id='OceanDNA-b31470_00032_1' catalyzing_protein_name='bifunctional UDP-N-acetylglucosamine pyrophosphorylase / glucosamine-1-phosphate N-acetyltransferase [EC:2.7.7.23 2.3.1.157]' catalyzing_protein_ec_numbers=['2.3.1.157', '2.7.7.23']>,\n",
       " <Record reaction_id='rxn00293' reaction_name='UTP:N-acetyl-alpha-D-glucosamine-1-phosphate uridylyltransferase' similar_compound_id='cpd00012' similar_compound_name='PPi' similar_compound_smiles='O=P([O-])([O-])OP(=O)([O-])O' similarity_distance=0.5333333333333333 catalyzing_protein_id='OceanDNA-b37167_00112_10' catalyzing_protein_name='bifunctional UDP-N-acetylglucosamine pyrophosphorylase / glucosamine-1-phosphate N-acetyltransferase [EC:2.7.7.23 2.3.1.157]' catalyzing_protein_ec_numbers=['2.3.1.157', '2.7.7.23']>,\n",
       " <Record reaction_id='rxn00293' reaction_name='UTP:N-acetyl-alpha-D-glucosamine-1-phosphate uridylyltransferase' similar_compound_id='cpd00012' similar_compound_name='PPi' similar_compound_smiles='O=P([O-])([O-])OP(=O)([O-])O' similarity_distance=0.5333333333333333 catalyzing_protein_id='OceanDNA-b21362_00029_2' catalyzing_protein_name='bifunctional UDP-N-acetylglucosamine pyrophosphorylase / glucosamine-1-phosphate N-acetyltransferase [EC:2.7.7.23 2.3.1.157]' catalyzing_protein_ec_numbers=['2.3.1.157', '2.7.7.23']>,\n",
       " <Record reaction_id='rxn00293' reaction_name='UTP:N-acetyl-alpha-D-glucosamine-1-phosphate uridylyltransferase' similar_compound_id='cpd00012' similar_compound_name='PPi' similar_compound_smiles='O=P([O-])([O-])OP(=O)([O-])O' similarity_distance=0.5333333333333333 catalyzing_protein_id='OceanDNA-b23017_00008_16' catalyzing_protein_name='bifunctional UDP-N-acetylglucosamine pyrophosphorylase / glucosamine-1-phosphate N-acetyltransferase [EC:2.7.7.23 2.3.1.157]' catalyzing_protein_ec_numbers=['2.3.1.157', '2.7.7.23']>,\n",
       " <Record reaction_id='rxn00293' reaction_name='UTP:N-acetyl-alpha-D-glucosamine-1-phosphate uridylyltransferase' similar_compound_id='cpd00012' similar_compound_name='PPi' similar_compound_smiles='O=P([O-])([O-])OP(=O)([O-])O' similarity_distance=0.5333333333333333 catalyzing_protein_id='OceanDNA-b31969_00504_2' catalyzing_protein_name='bifunctional UDP-N-acetylglucosamine pyrophosphorylase / glucosamine-1-phosphate N-acetyltransferase [EC:2.7.7.23 2.3.1.157]' catalyzing_protein_ec_numbers=['2.3.1.157', '2.7.7.23']>,\n",
       " <Record reaction_id='rxn00293' reaction_name='UTP:N-acetyl-alpha-D-glucosamine-1-phosphate uridylyltransferase' similar_compound_id='cpd00012' similar_compound_name='PPi' similar_compound_smiles='O=P([O-])([O-])OP(=O)([O-])O' similarity_distance=0.5333333333333333 catalyzing_protein_id='OceanDNA-b23171_00129_2' catalyzing_protein_name='bifunctional UDP-N-acetylglucosamine pyrophosphorylase / glucosamine-1-phosphate N-acetyltransferase [EC:2.7.7.23 2.3.1.157]' catalyzing_protein_ec_numbers=['2.3.1.157', '2.7.7.23']>,\n",
       " <Record reaction_id='rxn00293' reaction_name='UTP:N-acetyl-alpha-D-glucosamine-1-phosphate uridylyltransferase' similar_compound_id='cpd00012' similar_compound_name='PPi' similar_compound_smiles='O=P([O-])([O-])OP(=O)([O-])O' similarity_distance=0.5333333333333333 catalyzing_protein_id='OceanDNA-b39740_00380_1' catalyzing_protein_name='bifunctional UDP-N-acetylglucosamine pyrophosphorylase / glucosamine-1-phosphate N-acetyltransferase [EC:2.7.7.23 2.3.1.157]' catalyzing_protein_ec_numbers=['2.3.1.157', '2.7.7.23']>,\n",
       " <Record reaction_id='rxn00293' reaction_name='UTP:N-acetyl-alpha-D-glucosamine-1-phosphate uridylyltransferase' similar_compound_id='cpd00012' similar_compound_name='PPi' similar_compound_smiles='O=P([O-])([O-])OP(=O)([O-])O' similarity_distance=0.5333333333333333 catalyzing_protein_id='OceanDNA-b29530_00326_2' catalyzing_protein_name='bifunctional UDP-N-acetylglucosamine pyrophosphorylase / glucosamine-1-phosphate N-acetyltransferase [EC:2.7.7.23 2.3.1.157]' catalyzing_protein_ec_numbers=['2.3.1.157', '2.7.7.23']>,\n",
       " <Record reaction_id='rxn00293' reaction_name='UTP:N-acetyl-alpha-D-glucosamine-1-phosphate uridylyltransferase' similar_compound_id='cpd00012' similar_compound_name='PPi' similar_compound_smiles='O=P([O-])([O-])OP(=O)([O-])O' similarity_distance=0.5333333333333333 catalyzing_protein_id='OceanDNA-b2876_00086_1' catalyzing_protein_name='bifunctional UDP-N-acetylglucosamine pyrophosphorylase / glucosamine-1-phosphate N-acetyltransferase [EC:2.7.7.23 2.3.1.157]' catalyzing_protein_ec_numbers=['2.3.1.157', '2.7.7.23']>,\n",
       " <Record reaction_id='rxn00293' reaction_name='UTP:N-acetyl-alpha-D-glucosamine-1-phosphate uridylyltransferase' similar_compound_id='cpd00012' similar_compound_name='PPi' similar_compound_smiles='O=P([O-])([O-])OP(=O)([O-])O' similarity_distance=0.5333333333333333 catalyzing_protein_id='OceanDNA-b17187_00082_4' catalyzing_protein_name='bifunctional UDP-N-acetylglucosamine pyrophosphorylase / glucosamine-1-phosphate N-acetyltransferase [EC:2.7.7.23 2.3.1.157]' catalyzing_protein_ec_numbers=['2.3.1.157', '2.7.7.23']>,\n",
       " <Record reaction_id='rxn00293' reaction_name='UTP:N-acetyl-alpha-D-glucosamine-1-phosphate uridylyltransferase' similar_compound_id='cpd00012' similar_compound_name='PPi' similar_compound_smiles='O=P([O-])([O-])OP(=O)([O-])O' similarity_distance=0.5333333333333333 catalyzing_protein_id='OceanDNA-b2583_00014_24' catalyzing_protein_name='bifunctional UDP-N-acetylglucosamine pyrophosphorylase / glucosamine-1-phosphate N-acetyltransferase [EC:2.7.7.23 2.3.1.157]' catalyzing_protein_ec_numbers=['2.3.1.157', '2.7.7.23']>,\n",
       " <Record reaction_id='rxn00293' reaction_name='UTP:N-acetyl-alpha-D-glucosamine-1-phosphate uridylyltransferase' similar_compound_id='cpd00012' similar_compound_name='PPi' similar_compound_smiles='O=P([O-])([O-])OP(=O)([O-])O' similarity_distance=0.5333333333333333 catalyzing_protein_id='OceanDNA-b25152_00072_3' catalyzing_protein_name='bifunctional UDP-N-acetylglucosamine pyrophosphorylase / glucosamine-1-phosphate N-acetyltransferase [EC:2.7.7.23 2.3.1.157]' catalyzing_protein_ec_numbers=['2.3.1.157', '2.7.7.23']>,\n",
       " <Record reaction_id='rxn00293' reaction_name='UTP:N-acetyl-alpha-D-glucosamine-1-phosphate uridylyltransferase' similar_compound_id='cpd00012' similar_compound_name='PPi' similar_compound_smiles='O=P([O-])([O-])OP(=O)([O-])O' similarity_distance=0.5333333333333333 catalyzing_protein_id='OceanDNA-b41971_00012_27' catalyzing_protein_name='bifunctional UDP-N-acetylglucosamine pyrophosphorylase / glucosamine-1-phosphate N-acetyltransferase [EC:2.7.7.23 2.3.1.157]' catalyzing_protein_ec_numbers=['2.3.1.157', '2.7.7.23']>,\n",
       " <Record reaction_id='rxn00293' reaction_name='UTP:N-acetyl-alpha-D-glucosamine-1-phosphate uridylyltransferase' similar_compound_id='cpd00012' similar_compound_name='PPi' similar_compound_smiles='O=P([O-])([O-])OP(=O)([O-])O' similarity_distance=0.5333333333333333 catalyzing_protein_id='OceanDNA-b22040_00433_1' catalyzing_protein_name='UDP-N-acetylglucosamine/UDP-N-acetylgalactosamine diphosphorylase [EC:2.7.7.23 2.7.7.83]' catalyzing_protein_ec_numbers=['2.7.7.83', '2.7.7.23']>,\n",
       " <Record reaction_id='rxn00293' reaction_name='UTP:N-acetyl-alpha-D-glucosamine-1-phosphate uridylyltransferase' similar_compound_id='cpd00012' similar_compound_name='PPi' similar_compound_smiles='O=P([O-])([O-])OP(=O)([O-])O' similarity_distance=0.5333333333333333 catalyzing_protein_id='OceanDNA-b43021_00001_23' catalyzing_protein_name='bifunctional UDP-N-acetylglucosamine pyrophosphorylase / glucosamine-1-phosphate N-acetyltransferase [EC:2.7.7.23 2.3.1.157]' catalyzing_protein_ec_numbers=['2.3.1.157', '2.7.7.23']>,\n",
       " <Record reaction_id='rxn00293' reaction_name='UTP:N-acetyl-alpha-D-glucosamine-1-phosphate uridylyltransferase' similar_compound_id='cpd00012' similar_compound_name='PPi' similar_compound_smiles='O=P([O-])([O-])OP(=O)([O-])O' similarity_distance=0.5333333333333333 catalyzing_protein_id='OceanDNA-b3246_00026_12' catalyzing_protein_name='bifunctional UDP-N-acetylglucosamine pyrophosphorylase / glucosamine-1-phosphate N-acetyltransferase [EC:2.7.7.23 2.3.1.157]' catalyzing_protein_ec_numbers=['2.3.1.157', '2.7.7.23']>,\n",
       " <Record reaction_id='rxn00293' reaction_name='UTP:N-acetyl-alpha-D-glucosamine-1-phosphate uridylyltransferase' similar_compound_id='cpd00012' similar_compound_name='PPi' similar_compound_smiles='O=P([O-])([O-])OP(=O)([O-])O' similarity_distance=0.5333333333333333 catalyzing_protein_id='OceanDNA-b32908_00181_1' catalyzing_protein_name='bifunctional UDP-N-acetylglucosamine pyrophosphorylase / glucosamine-1-phosphate N-acetyltransferase [EC:2.7.7.23 2.3.1.157]' catalyzing_protein_ec_numbers=['2.3.1.157', '2.7.7.23']>,\n",
       " <Record reaction_id='rxn00293' reaction_name='UTP:N-acetyl-alpha-D-glucosamine-1-phosphate uridylyltransferase' similar_compound_id='cpd00012' similar_compound_name='PPi' similar_compound_smiles='O=P([O-])([O-])OP(=O)([O-])O' similarity_distance=0.5333333333333333 catalyzing_protein_id='OceanDNA-b27755_00221_2' catalyzing_protein_name='bifunctional UDP-N-acetylglucosamine pyrophosphorylase / glucosamine-1-phosphate N-acetyltransferase [EC:2.7.7.23 2.3.1.157]' catalyzing_protein_ec_numbers=['2.3.1.157', '2.7.7.23']>,\n",
       " <Record reaction_id='rxn00293' reaction_name='UTP:N-acetyl-alpha-D-glucosamine-1-phosphate uridylyltransferase' similar_compound_id='cpd00012' similar_compound_name='PPi' similar_compound_smiles='O=P([O-])([O-])OP(=O)([O-])O' similarity_distance=0.5333333333333333 catalyzing_protein_id='OceanDNA-b31587_00033_11' catalyzing_protein_name='bifunctional UDP-N-acetylglucosamine pyrophosphorylase / glucosamine-1-phosphate N-acetyltransferase [EC:2.7.7.23 2.3.1.157]' catalyzing_protein_ec_numbers=['2.3.1.157', '2.7.7.23']>,\n",
       " <Record reaction_id='rxn00293' reaction_name='UTP:N-acetyl-alpha-D-glucosamine-1-phosphate uridylyltransferase' similar_compound_id='cpd00012' similar_compound_name='PPi' similar_compound_smiles='O=P([O-])([O-])OP(=O)([O-])O' similarity_distance=0.5333333333333333 catalyzing_protein_id='OceanDNA-b1708_00363_3' catalyzing_protein_name='bifunctional UDP-N-acetylglucosamine pyrophosphorylase / glucosamine-1-phosphate N-acetyltransferase [EC:2.7.7.23 2.3.1.157]' catalyzing_protein_ec_numbers=['2.3.1.157', '2.7.7.23']>,\n",
       " <Record reaction_id='rxn00293' reaction_name='UTP:N-acetyl-alpha-D-glucosamine-1-phosphate uridylyltransferase' similar_compound_id='cpd00012' similar_compound_name='PPi' similar_compound_smiles='O=P([O-])([O-])OP(=O)([O-])O' similarity_distance=0.5333333333333333 catalyzing_protein_id='OceanDNA-b43011_00005_13' catalyzing_protein_name='bifunctional UDP-N-acetylglucosamine pyrophosphorylase / glucosamine-1-phosphate N-acetyltransferase [EC:2.7.7.23 2.3.1.157]' catalyzing_protein_ec_numbers=['2.3.1.157', '2.7.7.23']>,\n",
       " <Record reaction_id='rxn00293' reaction_name='UTP:N-acetyl-alpha-D-glucosamine-1-phosphate uridylyltransferase' similar_compound_id='cpd00012' similar_compound_name='PPi' similar_compound_smiles='O=P([O-])([O-])OP(=O)([O-])O' similarity_distance=0.5333333333333333 catalyzing_protein_id='OceanDNA-b34666_00004_48' catalyzing_protein_name='bifunctional UDP-N-acetylglucosamine pyrophosphorylase / glucosamine-1-phosphate N-acetyltransferase [EC:2.7.7.23 2.3.1.157]' catalyzing_protein_ec_numbers=['2.3.1.157', '2.7.7.23']>,\n",
       " <Record reaction_id='rxn00293' reaction_name='UTP:N-acetyl-alpha-D-glucosamine-1-phosphate uridylyltransferase' similar_compound_id='cpd00012' similar_compound_name='PPi' similar_compound_smiles='O=P([O-])([O-])OP(=O)([O-])O' similarity_distance=0.5333333333333333 catalyzing_protein_id='OceanDNA-b41335_00697_1' catalyzing_protein_name='bifunctional UDP-N-acetylglucosamine pyrophosphorylase / glucosamine-1-phosphate N-acetyltransferase [EC:2.7.7.23 2.3.1.157]' catalyzing_protein_ec_numbers=['2.3.1.157', '2.7.7.23']>,\n",
       " <Record reaction_id='rxn00293' reaction_name='UTP:N-acetyl-alpha-D-glucosamine-1-phosphate uridylyltransferase' similar_compound_id='cpd00012' similar_compound_name='PPi' similar_compound_smiles='O=P([O-])([O-])OP(=O)([O-])O' similarity_distance=0.5333333333333333 catalyzing_protein_id='OceanDNA-b43313_00157_3' catalyzing_protein_name='bifunctional UDP-N-acetylglucosamine pyrophosphorylase / glucosamine-1-phosphate N-acetyltransferase [EC:2.7.7.23 2.3.1.157]' catalyzing_protein_ec_numbers=['2.3.1.157', '2.7.7.23']>,\n",
       " <Record reaction_id='rxn00293' reaction_name='UTP:N-acetyl-alpha-D-glucosamine-1-phosphate uridylyltransferase' similar_compound_id='cpd00012' similar_compound_name='PPi' similar_compound_smiles='O=P([O-])([O-])OP(=O)([O-])O' similarity_distance=0.5333333333333333 catalyzing_protein_id='OceanDNA-b41306_00007_41' catalyzing_protein_name='bifunctional UDP-N-acetylglucosamine pyrophosphorylase / glucosamine-1-phosphate N-acetyltransferase [EC:2.7.7.23 2.3.1.157]' catalyzing_protein_ec_numbers=['2.3.1.157', '2.7.7.23']>,\n",
       " <Record reaction_id='rxn00293' reaction_name='UTP:N-acetyl-alpha-D-glucosamine-1-phosphate uridylyltransferase' similar_compound_id='cpd00012' similar_compound_name='PPi' similar_compound_smiles='O=P([O-])([O-])OP(=O)([O-])O' similarity_distance=0.5333333333333333 catalyzing_protein_id='OceanDNA-b25057_00006_30' catalyzing_protein_name='bifunctional UDP-N-acetylglucosamine pyrophosphorylase / glucosamine-1-phosphate N-acetyltransferase [EC:2.7.7.23 2.3.1.157]' catalyzing_protein_ec_numbers=['2.3.1.157', '2.7.7.23']>,\n",
       " <Record reaction_id='rxn00293' reaction_name='UTP:N-acetyl-alpha-D-glucosamine-1-phosphate uridylyltransferase' similar_compound_id='cpd00012' similar_compound_name='PPi' similar_compound_smiles='O=P([O-])([O-])OP(=O)([O-])O' similarity_distance=0.5333333333333333 catalyzing_protein_id='OceanDNA-b42657_00010_34' catalyzing_protein_name='bifunctional UDP-N-acetylglucosamine pyrophosphorylase / glucosamine-1-phosphate N-acetyltransferase [EC:2.7.7.23 2.3.1.157]' catalyzing_protein_ec_numbers=['2.3.1.157', '2.7.7.23']>,\n",
       " <Record reaction_id='rxn00293' reaction_name='UTP:N-acetyl-alpha-D-glucosamine-1-phosphate uridylyltransferase' similar_compound_id='cpd00012' similar_compound_name='PPi' similar_compound_smiles='O=P([O-])([O-])OP(=O)([O-])O' similarity_distance=0.5333333333333333 catalyzing_protein_id='OceanDNA-b41622_00163_1' catalyzing_protein_name='bifunctional UDP-N-acetylglucosamine pyrophosphorylase / glucosamine-1-phosphate N-acetyltransferase [EC:2.7.7.23 2.3.1.157]' catalyzing_protein_ec_numbers=['2.3.1.157', '2.7.7.23']>,\n",
       " <Record reaction_id='rxn00293' reaction_name='UTP:N-acetyl-alpha-D-glucosamine-1-phosphate uridylyltransferase' similar_compound_id='cpd00012' similar_compound_name='PPi' similar_compound_smiles='O=P([O-])([O-])OP(=O)([O-])O' similarity_distance=0.5333333333333333 catalyzing_protein_id='OceanDNA-b37621_00014_33' catalyzing_protein_name='bifunctional UDP-N-acetylglucosamine pyrophosphorylase / glucosamine-1-phosphate N-acetyltransferase [EC:2.7.7.23 2.3.1.157]' catalyzing_protein_ec_numbers=['2.3.1.157', '2.7.7.23']>,\n",
       " <Record reaction_id='rxn00293' reaction_name='UTP:N-acetyl-alpha-D-glucosamine-1-phosphate uridylyltransferase' similar_compound_id='cpd00012' similar_compound_name='PPi' similar_compound_smiles='O=P([O-])([O-])OP(=O)([O-])O' similarity_distance=0.5333333333333333 catalyzing_protein_id='OceanDNA-b14316_00004_4' catalyzing_protein_name='bifunctional UDP-N-acetylglucosamine pyrophosphorylase / glucosamine-1-phosphate N-acetyltransferase [EC:2.7.7.23 2.3.1.157]' catalyzing_protein_ec_numbers=['2.3.1.157', '2.7.7.23']>,\n",
       " <Record reaction_id='rxn00293' reaction_name='UTP:N-acetyl-alpha-D-glucosamine-1-phosphate uridylyltransferase' similar_compound_id='cpd00012' similar_compound_name='PPi' similar_compound_smiles='O=P([O-])([O-])OP(=O)([O-])O' similarity_distance=0.5333333333333333 catalyzing_protein_id='OceanDNA-b36906_00470_2' catalyzing_protein_name='bifunctional UDP-N-acetylglucosamine pyrophosphorylase / glucosamine-1-phosphate N-acetyltransferase [EC:2.7.7.23 2.3.1.157]' catalyzing_protein_ec_numbers=['2.3.1.157', '2.7.7.23']>,\n",
       " <Record reaction_id='rxn00293' reaction_name='UTP:N-acetyl-alpha-D-glucosamine-1-phosphate uridylyltransferase' similar_compound_id='cpd00012' similar_compound_name='PPi' similar_compound_smiles='O=P([O-])([O-])OP(=O)([O-])O' similarity_distance=0.5333333333333333 catalyzing_protein_id='OceanDNA-b23872_00027_13' catalyzing_protein_name='bifunctional UDP-N-acetylglucosamine pyrophosphorylase / glucosamine-1-phosphate N-acetyltransferase [EC:2.7.7.23 2.3.1.157]' catalyzing_protein_ec_numbers=['2.3.1.157', '2.7.7.23']>,\n",
       " <Record reaction_id='rxn00293' reaction_name='UTP:N-acetyl-alpha-D-glucosamine-1-phosphate uridylyltransferase' similar_compound_id='cpd00012' similar_compound_name='PPi' similar_compound_smiles='O=P([O-])([O-])OP(=O)([O-])O' similarity_distance=0.5333333333333333 catalyzing_protein_id='OceanDNA-b16373_00011_5' catalyzing_protein_name='bifunctional UDP-N-acetylglucosamine pyrophosphorylase / glucosamine-1-phosphate N-acetyltransferase [EC:2.7.7.23 2.3.1.157]' catalyzing_protein_ec_numbers=['2.3.1.157', '2.7.7.23']>,\n",
       " <Record reaction_id='rxn00293' reaction_name='UTP:N-acetyl-alpha-D-glucosamine-1-phosphate uridylyltransferase' similar_compound_id='cpd00012' similar_compound_name='PPi' similar_compound_smiles='O=P([O-])([O-])OP(=O)([O-])O' similarity_distance=0.5333333333333333 catalyzing_protein_id='OceanDNA-b38525_00103_3' catalyzing_protein_name='bifunctional UDP-N-acetylglucosamine pyrophosphorylase / glucosamine-1-phosphate N-acetyltransferase [EC:2.7.7.23 2.3.1.157]' catalyzing_protein_ec_numbers=['2.3.1.157', '2.7.7.23']>,\n",
       " <Record reaction_id='rxn00293' reaction_name='UTP:N-acetyl-alpha-D-glucosamine-1-phosphate uridylyltransferase' similar_compound_id='cpd00012' similar_compound_name='PPi' similar_compound_smiles='O=P([O-])([O-])OP(=O)([O-])O' similarity_distance=0.5333333333333333 catalyzing_protein_id='OceanDNA-b15702_00992_1' catalyzing_protein_name='bifunctional UDP-N-acetylglucosamine pyrophosphorylase / glucosamine-1-phosphate N-acetyltransferase [EC:2.7.7.23 2.3.1.157]' catalyzing_protein_ec_numbers=['2.3.1.157', '2.7.7.23']>,\n",
       " <Record reaction_id='rxn00293' reaction_name='UTP:N-acetyl-alpha-D-glucosamine-1-phosphate uridylyltransferase' similar_compound_id='cpd00012' similar_compound_name='PPi' similar_compound_smiles='O=P([O-])([O-])OP(=O)([O-])O' similarity_distance=0.5333333333333333 catalyzing_protein_id='OceanDNA-b30672_00346_2' catalyzing_protein_name='bifunctional UDP-N-acetylglucosamine pyrophosphorylase / glucosamine-1-phosphate N-acetyltransferase [EC:2.7.7.23 2.3.1.157]' catalyzing_protein_ec_numbers=['2.3.1.157', '2.7.7.23']>,\n",
       " <Record reaction_id='rxn00293' reaction_name='UTP:N-acetyl-alpha-D-glucosamine-1-phosphate uridylyltransferase' similar_compound_id='cpd00012' similar_compound_name='PPi' similar_compound_smiles='O=P([O-])([O-])OP(=O)([O-])O' similarity_distance=0.5333333333333333 catalyzing_protein_id='OceanDNA-b36708_00279_3' catalyzing_protein_name='bifunctional UDP-N-acetylglucosamine pyrophosphorylase / glucosamine-1-phosphate N-acetyltransferase [EC:2.7.7.23 2.3.1.157]' catalyzing_protein_ec_numbers=['2.3.1.157', '2.7.7.23']>,\n",
       " <Record reaction_id='rxn00293' reaction_name='UTP:N-acetyl-alpha-D-glucosamine-1-phosphate uridylyltransferase' similar_compound_id='cpd00012' similar_compound_name='PPi' similar_compound_smiles='O=P([O-])([O-])OP(=O)([O-])O' similarity_distance=0.5333333333333333 catalyzing_protein_id='OceanDNA-b41353_00013_10' catalyzing_protein_name='bifunctional UDP-N-acetylglucosamine pyrophosphorylase / glucosamine-1-phosphate N-acetyltransferase [EC:2.7.7.23 2.3.1.157]' catalyzing_protein_ec_numbers=['2.3.1.157', '2.7.7.23']>,\n",
       " <Record reaction_id='rxn00293' reaction_name='UTP:N-acetyl-alpha-D-glucosamine-1-phosphate uridylyltransferase' similar_compound_id='cpd00012' similar_compound_name='PPi' similar_compound_smiles='O=P([O-])([O-])OP(=O)([O-])O' similarity_distance=0.5333333333333333 catalyzing_protein_id='OceanDNA-b34323_00028_13' catalyzing_protein_name='bifunctional UDP-N-acetylglucosamine pyrophosphorylase / glucosamine-1-phosphate N-acetyltransferase [EC:2.7.7.23 2.3.1.157]' catalyzing_protein_ec_numbers=['2.3.1.157', '2.7.7.23']>,\n",
       " <Record reaction_id='rxn00293' reaction_name='UTP:N-acetyl-alpha-D-glucosamine-1-phosphate uridylyltransferase' similar_compound_id='cpd00012' similar_compound_name='PPi' similar_compound_smiles='O=P([O-])([O-])OP(=O)([O-])O' similarity_distance=0.5333333333333333 catalyzing_protein_id='OceanDNA-b2313_00071_6' catalyzing_protein_name='bifunctional UDP-N-acetylglucosamine pyrophosphorylase / glucosamine-1-phosphate N-acetyltransferase [EC:2.7.7.23 2.3.1.157]' catalyzing_protein_ec_numbers=['2.3.1.157', '2.7.7.23']>,\n",
       " <Record reaction_id='rxn00293' reaction_name='UTP:N-acetyl-alpha-D-glucosamine-1-phosphate uridylyltransferase' similar_compound_id='cpd00012' similar_compound_name='PPi' similar_compound_smiles='O=P([O-])([O-])OP(=O)([O-])O' similarity_distance=0.5333333333333333 catalyzing_protein_id='OceanDNA-b38795_00424_1' catalyzing_protein_name='bifunctional UDP-N-acetylglucosamine pyrophosphorylase / glucosamine-1-phosphate N-acetyltransferase [EC:2.7.7.23 2.3.1.157]' catalyzing_protein_ec_numbers=['2.3.1.157', '2.7.7.23']>,\n",
       " <Record reaction_id='rxn00293' reaction_name='UTP:N-acetyl-alpha-D-glucosamine-1-phosphate uridylyltransferase' similar_compound_id='cpd00012' similar_compound_name='PPi' similar_compound_smiles='O=P([O-])([O-])OP(=O)([O-])O' similarity_distance=0.5333333333333333 catalyzing_protein_id='OceanDNA-b43180_00003_11' catalyzing_protein_name='bifunctional UDP-N-acetylglucosamine pyrophosphorylase / glucosamine-1-phosphate N-acetyltransferase [EC:2.7.7.23 2.3.1.157]' catalyzing_protein_ec_numbers=['2.3.1.157', '2.7.7.23']>,\n",
       " <Record reaction_id='rxn00293' reaction_name='UTP:N-acetyl-alpha-D-glucosamine-1-phosphate uridylyltransferase' similar_compound_id='cpd00012' similar_compound_name='PPi' similar_compound_smiles='O=P([O-])([O-])OP(=O)([O-])O' similarity_distance=0.5333333333333333 catalyzing_protein_id='OceanDNA-b3076_00002_14' catalyzing_protein_name='bifunctional UDP-N-acetylglucosamine pyrophosphorylase / glucosamine-1-phosphate N-acetyltransferase [EC:2.7.7.23 2.3.1.157]' catalyzing_protein_ec_numbers=['2.3.1.157', '2.7.7.23']>,\n",
       " <Record reaction_id='rxn00293' reaction_name='UTP:N-acetyl-alpha-D-glucosamine-1-phosphate uridylyltransferase' similar_compound_id='cpd00012' similar_compound_name='PPi' similar_compound_smiles='O=P([O-])([O-])OP(=O)([O-])O' similarity_distance=0.5333333333333333 catalyzing_protein_id='OceanDNA-b40841_00137_3' catalyzing_protein_name='bifunctional UDP-N-acetylglucosamine pyrophosphorylase / glucosamine-1-phosphate N-acetyltransferase [EC:2.7.7.23 2.3.1.157]' catalyzing_protein_ec_numbers=['2.3.1.157', '2.7.7.23']>,\n",
       " <Record reaction_id='rxn00293' reaction_name='UTP:N-acetyl-alpha-D-glucosamine-1-phosphate uridylyltransferase' similar_compound_id='cpd00012' similar_compound_name='PPi' similar_compound_smiles='O=P([O-])([O-])OP(=O)([O-])O' similarity_distance=0.5333333333333333 catalyzing_protein_id='OceanDNA-b36338_00031_30' catalyzing_protein_name='bifunctional UDP-N-acetylglucosamine pyrophosphorylase / glucosamine-1-phosphate N-acetyltransferase [EC:2.7.7.23 2.3.1.157]' catalyzing_protein_ec_numbers=['2.3.1.157', '2.7.7.23']>,\n",
       " <Record reaction_id='rxn00293' reaction_name='UTP:N-acetyl-alpha-D-glucosamine-1-phosphate uridylyltransferase' similar_compound_id='cpd00012' similar_compound_name='PPi' similar_compound_smiles='O=P([O-])([O-])OP(=O)([O-])O' similarity_distance=0.5333333333333333 catalyzing_protein_id='OceanDNA-b26535_00086_1' catalyzing_protein_name='bifunctional UDP-N-acetylglucosamine pyrophosphorylase / glucosamine-1-phosphate N-acetyltransferase [EC:2.7.7.23 2.3.1.157]' catalyzing_protein_ec_numbers=['2.3.1.157', '2.7.7.23']>,\n",
       " <Record reaction_id='rxn00293' reaction_name='UTP:N-acetyl-alpha-D-glucosamine-1-phosphate uridylyltransferase' similar_compound_id='cpd00012' similar_compound_name='PPi' similar_compound_smiles='O=P([O-])([O-])OP(=O)([O-])O' similarity_distance=0.5333333333333333 catalyzing_protein_id='OceanDNA-b40509_00063_3' catalyzing_protein_name='bifunctional UDP-N-acetylglucosamine pyrophosphorylase / glucosamine-1-phosphate N-acetyltransferase [EC:2.7.7.23 2.3.1.157]' catalyzing_protein_ec_numbers=['2.3.1.157', '2.7.7.23']>,\n",
       " <Record reaction_id='rxn00293' reaction_name='UTP:N-acetyl-alpha-D-glucosamine-1-phosphate uridylyltransferase' similar_compound_id='cpd00012' similar_compound_name='PPi' similar_compound_smiles='O=P([O-])([O-])OP(=O)([O-])O' similarity_distance=0.5333333333333333 catalyzing_protein_id='OceanDNA-b17056_00071_5' catalyzing_protein_name='bifunctional UDP-N-acetylglucosamine pyrophosphorylase / glucosamine-1-phosphate N-acetyltransferase [EC:2.7.7.23 2.3.1.157]' catalyzing_protein_ec_numbers=['2.3.1.157', '2.7.7.23']>,\n",
       " <Record reaction_id='rxn00293' reaction_name='UTP:N-acetyl-alpha-D-glucosamine-1-phosphate uridylyltransferase' similar_compound_id='cpd00012' similar_compound_name='PPi' similar_compound_smiles='O=P([O-])([O-])OP(=O)([O-])O' similarity_distance=0.5333333333333333 catalyzing_protein_id='OceanDNA-b27927_00351_1' catalyzing_protein_name='bifunctional UDP-N-acetylglucosamine pyrophosphorylase / glucosamine-1-phosphate N-acetyltransferase [EC:2.7.7.23 2.3.1.157]' catalyzing_protein_ec_numbers=['2.3.1.157', '2.7.7.23']>,\n",
       " <Record reaction_id='rxn00293' reaction_name='UTP:N-acetyl-alpha-D-glucosamine-1-phosphate uridylyltransferase' similar_compound_id='cpd00012' similar_compound_name='PPi' similar_compound_smiles='O=P([O-])([O-])OP(=O)([O-])O' similarity_distance=0.5333333333333333 catalyzing_protein_id='OceanDNA-b34157_00575_1' catalyzing_protein_name='bifunctional UDP-N-acetylglucosamine pyrophosphorylase / glucosamine-1-phosphate N-acetyltransferase [EC:2.7.7.23 2.3.1.157]' catalyzing_protein_ec_numbers=['2.3.1.157', '2.7.7.23']>,\n",
       " <Record reaction_id='rxn00293' reaction_name='UTP:N-acetyl-alpha-D-glucosamine-1-phosphate uridylyltransferase' similar_compound_id='cpd00012' similar_compound_name='PPi' similar_compound_smiles='O=P([O-])([O-])OP(=O)([O-])O' similarity_distance=0.5333333333333333 catalyzing_protein_id='OceanDNA-b31139_00001_29' catalyzing_protein_name='bifunctional UDP-N-acetylglucosamine pyrophosphorylase / glucosamine-1-phosphate N-acetyltransferase [EC:2.7.7.23 2.3.1.157]' catalyzing_protein_ec_numbers=['2.3.1.157', '2.7.7.23']>,\n",
       " <Record reaction_id='rxn00293' reaction_name='UTP:N-acetyl-alpha-D-glucosamine-1-phosphate uridylyltransferase' similar_compound_id='cpd00012' similar_compound_name='PPi' similar_compound_smiles='O=P([O-])([O-])OP(=O)([O-])O' similarity_distance=0.5333333333333333 catalyzing_protein_id='OceanDNA-b14233_00017_7' catalyzing_protein_name='bifunctional UDP-N-acetylglucosamine pyrophosphorylase / glucosamine-1-phosphate N-acetyltransferase [EC:2.7.7.23 2.3.1.157]' catalyzing_protein_ec_numbers=['2.3.1.157', '2.7.7.23']>,\n",
       " <Record reaction_id='rxn00293' reaction_name='UTP:N-acetyl-alpha-D-glucosamine-1-phosphate uridylyltransferase' similar_compound_id='cpd00012' similar_compound_name='PPi' similar_compound_smiles='O=P([O-])([O-])OP(=O)([O-])O' similarity_distance=0.5333333333333333 catalyzing_protein_id='OceanDNA-b23286_01032_1' catalyzing_protein_name='bifunctional UDP-N-acetylglucosamine pyrophosphorylase / glucosamine-1-phosphate N-acetyltransferase [EC:2.7.7.23 2.3.1.157]' catalyzing_protein_ec_numbers=['2.3.1.157', '2.7.7.23']>]"
      ]
     },
     "execution_count": 10,
     "metadata": {},
     "output_type": "execute_result"
    }
   ],
   "source": [
    "query = \"\"\"\n",
    "MATCH (c:Compound {compound_id: $compound_id})-[sim:CHEMICAL_SIMILARITY]-(similar:Compound)\n",
    "MATCH (similar)-[:PRODUCT_OF]->(r:Reaction)\n",
    "MATCH (p:Protein)-[:CATALYZES]->(r)\n",
    "WHERE toFloat(sim.distance) <= $distance_threshold\n",
    "RETURN \n",
    "    r.reaction_id AS reaction_id,\n",
    "    r.name AS reaction_name,\n",
    "    similar.compound_id AS similar_compound_id,\n",
    "    similar.name AS similar_compound_name,\n",
    "    similar.smiles AS similar_compound_smiles,\n",
    "    toFloat(sim.distance) AS similarity_distance,\n",
    "    p.protein_id AS catalyzing_protein_id,\n",
    "    p.name AS catalyzing_protein_name,\n",
    "    p.ec_numbers AS catalyzing_protein_ec_numbers\n",
    "ORDER BY similarity_distance ASC\n",
    "LIMIT $limit\"\"\"\n",
    "\n",
    "\n",
    "conn = Neo4jConnection(uri, username, password)\n",
    "\n",
    "params = {\"compound_id\": \"cpd00009\", \"distance_threshold\": 0.9, \"limit\": 100}\n",
    "conn.query(query, params)"
   ]
  },
  {
   "cell_type": "code",
   "execution_count": 3,
   "metadata": {},
   "outputs": [
    {
     "data": {
      "text/plain": [
       "{'abbreviation': 'R00004',\n",
       " 'abstract_reaction': None,\n",
       " 'aliases': ['AraCyc: INORGPYROPHOSPHAT-RXN',\n",
       "  'BiGG: IPP1; PPA; PPA_1; PPAm',\n",
       "  'BrachyCyc: INORGPYROPHOSPHAT-RXN',\n",
       "  'KEGG: R00004',\n",
       "  'MetaCyc: INORGPYROPHOSPHAT-RXN',\n",
       "  'Name: Diphosphate phosphohydrolase; Inorganic diphosphatase; Inorganic pyrophosphatase; Pyrophosphate phosphohydrolase; diphosphate phosphohydrolase; inorganic diphosphatase; inorganic diphosphatase (one proton translocation); inorganicdiphosphatase; pyrophosphate phosphohydrolase'],\n",
       " 'code': '(1) cpd00001[0] + (1) cpd00012[0] <=> (2) cpd00009[0]',\n",
       " 'compound_ids': 'cpd00001;cpd00009;cpd00012;cpd00067',\n",
       " 'definition': '(1) H2O[0] + (1) PPi[0] <=> (2) Phosphate[0] + (1) H+[0]',\n",
       " 'deltag': -3.46,\n",
       " 'deltagerr': 0.05,\n",
       " 'direction': '=',\n",
       " 'ec_numbers': ['3.6.1.1'],\n",
       " 'equation': '(1) cpd00001[0] + (1) cpd00012[0] <=> (2) cpd00009[0] + (1) cpd00067[0]',\n",
       " 'id': 'rxn00001',\n",
       " 'is_obsolete': 0,\n",
       " 'is_transport': 0,\n",
       " 'linked_reaction': 'rxn27946;rxn27947;rxn27948;rxn32487;rxn38157;rxn38158',\n",
       " 'name': 'diphosphate phosphohydrolase',\n",
       " 'notes': ['GCC', 'HB', 'EQC', 'EQU'],\n",
       " 'pathways': ['MetaCyc: Degradation (Degradation/Utilization/Assimilation); Glyphosate-Degradation (glyphosate degradation); Noncarbon-Nutrients (Inorganic Nutrient Metabolism); PWY-7805 ((aminomethyl)phosphonate degradation); PWY-7807 (glyphosate degradation III); Phosphorus-Compounds (Phosphorus Compound Metabolism)'],\n",
       " 'reversibility': '>',\n",
       " 'source': 'Primary Database',\n",
       " 'status': 'OK',\n",
       " 'stoichiometry': '-1:cpd00001:0:0:\"H2O\";-1:cpd00012:0:0:\"PPi\";2:cpd00009:0:0:\"Phosphate\";1:cpd00067:0:0:\"H+\"'}"
      ]
     },
     "execution_count": 3,
     "metadata": {},
     "output_type": "execute_result"
    }
   ],
   "source": [
    "[r for r in reactions if r[\"id\"] == \"rxn00001\"][0]"
   ]
  },
  {
   "cell_type": "code",
   "execution_count": 17,
   "metadata": {},
   "outputs": [],
   "source": [
    "from graph_db.db_connection import Neo4jConnection\n",
    "\n",
    "conn = Neo4jConnection(uri, username, password)\n",
    "\n",
    "query = \"\"\"\n",
    "MATCH (p:Protein)-[:CATALYZES]->(r:Reaction)\n",
    "WHERE $ec_number IN p.ec_numbers\n",
    "RETURN\n",
    "   p.protein_id AS protein_id,\n",
    "   p.name AS protein_name,\n",
    "   p.ec_numbers AS protein_ec_numbers,\n",
    "   r.reaction_id AS reaction_id,\n",
    "   r.name AS reaction_name,\n",
    "   r.ec_numbers AS reaction_ec_numbers\n",
    "LIMIT 100\"\"\"\n",
    "\n",
    "params = {\n",
    "    \"ec_number\": \"3.2.1.4\"\n",
    "}\n",
    "\n",
    "results = conn.query(query, params)"
   ]
  },
  {
   "cell_type": "code",
   "execution_count": 19,
   "metadata": {},
   "outputs": [
    {
     "data": {
      "text/plain": [
       "[]"
      ]
     },
     "execution_count": 19,
     "metadata": {},
     "output_type": "execute_result"
    }
   ],
   "source": [
    "results"
   ]
  },
  {
   "cell_type": "code",
   "execution_count": 41,
   "metadata": {},
   "outputs": [
    {
     "data": {
      "text/plain": [
       "{'3.2.1.10,3.2.1.20,3.2.1.48', '3.2.1.183,5.1.3.14'}"
      ]
     },
     "execution_count": 41,
     "metadata": {},
     "output_type": "execute_result"
    }
   ],
   "source": [
    "set([\",\".join(r[\"reaction_ec_numbers\"]) for r in results])"
   ]
  },
  {
   "cell_type": "code",
   "execution_count": 46,
   "metadata": {},
   "outputs": [
    {
     "data": {
      "text/plain": [
       "[{'abbreviation': 'R02108',\n",
       "  'abstract_reaction': None,\n",
       "  'aliases': ['KEGG: R02108', 'Name: 1,4-alpha-D-Glucan glucanohydrolase'],\n",
       "  'code': '(1) cpd00001[0] <=> (1) cpd11594[0]',\n",
       "  'compound_ids': 'cpd00001;cpd11594',\n",
       "  'definition': '(1) H2O[0] <=> (1) Dextrin[0]',\n",
       "  'deltag': 10000000.0,\n",
       "  'deltagerr': 10000000.0,\n",
       "  'direction': '=',\n",
       "  'ec_numbers': ['3.2.1.1'],\n",
       "  'equation': '(1) cpd00001[0] <=> (1) cpd11594[0]',\n",
       "  'id': 'rxn06093',\n",
       "  'is_obsolete': 0,\n",
       "  'is_transport': 0,\n",
       "  'linked_reaction': None,\n",
       "  'name': '1,4-alpha-D-Glucan glucanohydrolase',\n",
       "  'notes': ['GCP', 'EQP'],\n",
       "  'pathways': ['KEGG: rn00500 (Starch and sucrose metabolism)'],\n",
       "  'reversibility': '?',\n",
       "  'source': 'Primary Database',\n",
       "  'status': 'MI:C:12/H:18/O:9/R:2',\n",
       "  'stoichiometry': '-1:cpd00001:0:0:\"H2O\";1:cpd11594:0:0:\"Dextrin\"'},\n",
       " {'abbreviation': 'AAMYL',\n",
       "  'abstract_reaction': None,\n",
       "  'aliases': ['AlgaGEM: R_R02108_p',\n",
       "   'AraGEM: R_R02108_p',\n",
       "   'BiGG: AAMYL',\n",
       "   'Maize_C4GEM: R_R02108_p',\n",
       "   'iAF1260: AAMYL',\n",
       "   'Name: alpha-amylase; alpha-amylase, AMY3, putative / 1,4-alpha-D-glucan glucanohydrolase, putative'],\n",
       "  'code': '(1) cpd11657[0] <=> (1) cpd11594[0]',\n",
       "  'compound_ids': 'cpd11594;cpd11657',\n",
       "  'definition': '(1) Starch[0] <=> (1) Dextrin[0]',\n",
       "  'deltag': 10000000.0,\n",
       "  'deltagerr': 10000000.0,\n",
       "  'direction': '=',\n",
       "  'ec_numbers': ['3.2.1.1'],\n",
       "  'equation': '(1) cpd11657[0] <=> (1) cpd11594[0]',\n",
       "  'id': 'rxn09952',\n",
       "  'is_obsolete': 0,\n",
       "  'is_transport': 0,\n",
       "  'linked_reaction': 'rxn31228',\n",
       "  'name': 'alpha-amylase',\n",
       "  'notes': ['GCP', 'EQP'],\n",
       "  'pathways': None,\n",
       "  'reversibility': '?',\n",
       "  'source': 'Secondary Database',\n",
       "  'status': 'OK',\n",
       "  'stoichiometry': '-1:cpd11657:0:0:\"Starch\";1:cpd11594:0:0:\"Dextrin\"'},\n",
       " {'abbreviation': 'R05624',\n",
       "  'abstract_reaction': None,\n",
       "  'aliases': ['KEGG: R05624; R06175; R06206; R06209',\n",
       "   'MetaCyc: ALPHA-AMYL-RXN; RXN-14376',\n",
       "   'Name: 2,6-beta-D-Fructan fructanohydrolase'],\n",
       "  'code': '(1) cpd00001[0] <=> ',\n",
       "  'compound_ids': 'cpd00001',\n",
       "  'definition': '(1) H2O[0] <= ',\n",
       "  'deltag': 56.69,\n",
       "  'deltagerr': 0.5,\n",
       "  'direction': '<',\n",
       "  'ec_numbers': ['3.2.1.1', '3.2.1.65'],\n",
       "  'equation': '(1) cpd00001[0] <= ',\n",
       "  'id': 'rxn15543',\n",
       "  'is_obsolete': 0,\n",
       "  'is_transport': 0,\n",
       "  'linked_reaction': None,\n",
       "  'name': '2,6-beta-D-Fructan fructanohydrolase',\n",
       "  'notes': ['GCC', 'EQC'],\n",
       "  'pathways': ['MetaCyc: Degradation (Degradation/Utilization/Assimilation); Other-Degradation (Degradation/Utilization/Assimilation-Other); P621-PWY (nylon-6 oligomer degradation)',\n",
       "   'KEGG: rn00500 (Starch and sucrose metabolism)'],\n",
       "  'reversibility': '<',\n",
       "  'source': 'Primary Database',\n",
       "  'status': 'MI:H:-2/O:-1',\n",
       "  'stoichiometry': '-1:cpd00001:0:0:\"H2O\"'},\n",
       " {'abbreviation': '3.2.1.1-RXN.c',\n",
       "  'abstract_reaction': None,\n",
       "  'aliases': ['AraCyc: 3.2.1.1-RXN',\n",
       "   'CornCyc: 3.2.1.1-RXN',\n",
       "   'MetaCyc: 3.2.1.1-RXN',\n",
       "   'SoyCyc: 3.2.1.1-RXN',\n",
       "   'Name: 1,4-alpha-D-glucan glucanohydrolase; 4-alpha-D-glucan glucanohydrolase; Taka-amylase A; alpha; alpha-amylase; amylase, alpha-amylase; endoamylase; glycogenase'],\n",
       "  'code': '(1) cpd00001[0] + (1) cpd28193[0] <=> (1) cpd00179[0] + (1) cpd27165[0]',\n",
       "  'compound_ids': 'cpd00001;cpd00179;cpd27165;cpd28193',\n",
       "  'definition': '(1) H2O[0] + (1) Starch[0] => (1) Maltose[0] + (1) Glucose[0]',\n",
       "  'deltag': 10000000.0,\n",
       "  'deltagerr': 10000000.0,\n",
       "  'direction': '>',\n",
       "  'ec_numbers': ['3.2.1.1'],\n",
       "  'equation': '(1) cpd00001[0] + (1) cpd28193[0] => (1) cpd00179[0] + (1) cpd27165[0]',\n",
       "  'id': 'rxn17890',\n",
       "  'is_obsolete': 0,\n",
       "  'is_transport': 0,\n",
       "  'linked_reaction': None,\n",
       "  'name': 'Taka-amylase A',\n",
       "  'notes': ['GCP', 'EQP'],\n",
       "  'pathways': None,\n",
       "  'reversibility': '?',\n",
       "  'source': 'Primary Database',\n",
       "  'status': 'CPDFORMERROR',\n",
       "  'stoichiometry': '-1:cpd00001:0:0:\"H2O\";-1:cpd28193:0:0:\"Starch\";1:cpd00179:0:0:Maltose;1:cpd27165:0:0:\"Glucose\"'},\n",
       " {'abbreviation': '3.2.1.98-RXN.c',\n",
       "  'abstract_reaction': None,\n",
       "  'aliases': ['AraCyc: RXN0-5181',\n",
       "   'BrachyCyc: RXN0-5181',\n",
       "   'CornCyc: RXN0-5181',\n",
       "   'EcoCyc: RXN0-5181',\n",
       "   'MetaCyc: 3.2.1.98-RXN; RXN0-5181',\n",
       "   'Name: 1,4-alpha-D-glucan maltohexaohydrolase; 4-alpha-D-glucan maltohexaohydrolase; exo-maltohexaohydrolase; glucan 1,4-alpha-maltohexaosidase'],\n",
       "  'code': '(1) cpd00001[0] <=> (1) cpd01329[0]',\n",
       "  'compound_ids': 'cpd00001;cpd01329',\n",
       "  'definition': '(1) H2O[0] => (1) Maltohexaose[0]',\n",
       "  'deltag': -371.91,\n",
       "  'deltagerr': 2.02,\n",
       "  'direction': '>',\n",
       "  'ec_numbers': ['3.2.1.1', '3.2.1.98'],\n",
       "  'equation': '(1) cpd00001[0] => (1) cpd01329[0]',\n",
       "  'id': 'rxn18011',\n",
       "  'is_obsolete': 0,\n",
       "  'is_transport': 0,\n",
       "  'linked_reaction': 'rxn26126',\n",
       "  'name': 'glucan 1,4-alpha-maltohexaosidase',\n",
       "  'notes': ['GCC', 'EQC', 'EQU'],\n",
       "  'pathways': None,\n",
       "  'reversibility': '>',\n",
       "  'source': 'Primary Database',\n",
       "  'status': 'MI:C:36/H:60/O:30',\n",
       "  'stoichiometry': '-1:cpd00001:0:0:\"H2O\";1:cpd01329:0:0:\"Maltohexaose\"'},\n",
       " {'abbreviation': 'ALPHA-AMYL-RXN.c',\n",
       "  'abstract_reaction': None,\n",
       "  'aliases': ['AraCyc: ALPHA-AMYL-RXN',\n",
       "   'BrachyCyc: ALPHA-AMYL-RXN',\n",
       "   'CornCyc: ALPHA-AMYL-RXN',\n",
       "   'EcoCyc: ALPHA-AMYL-RXN',\n",
       "   'MetaCyc: ALPHA-AMYL-RXN',\n",
       "   'Name: 1,4-alpha-D-glucan glucanohydrolase; 4-alpha-D-glucan glucanohydrolase; Taka-amylase A; alpha; alpha-amylase; amylase, alpha-amylase; endoamylase; glycogenase'],\n",
       "  'code': '(1) cpd00001[0] <=> (1) cpd15495[0]',\n",
       "  'compound_ids': 'cpd00001;cpd15495',\n",
       "  'definition': '(1) H2O[0] => (1) Maltopentaose[0]',\n",
       "  'deltag': -310.37,\n",
       "  'deltagerr': 1.64,\n",
       "  'direction': '>',\n",
       "  'ec_numbers': ['3.2.1.1'],\n",
       "  'equation': '(1) cpd00001[0] => (1) cpd15495[0]',\n",
       "  'id': 'rxn19146',\n",
       "  'is_obsolete': 0,\n",
       "  'is_transport': 0,\n",
       "  'linked_reaction': None,\n",
       "  'name': 'Taka-amylase A',\n",
       "  'notes': ['GCC', 'EQC', 'EQU'],\n",
       "  'pathways': None,\n",
       "  'reversibility': '>',\n",
       "  'source': 'Primary Database',\n",
       "  'status': 'MI:C:30/H:50/O:25',\n",
       "  'stoichiometry': '-1:cpd00001:0:0:\"H2O\";1:cpd15495:0:0:\"Maltopentaose\"'},\n",
       " {'abbreviation': 'RXN-1823.c',\n",
       "  'abstract_reaction': None,\n",
       "  'aliases': ['AraCyc: RXN-1823',\n",
       "   'BrachyCyc: RXN-1823',\n",
       "   'ChlamyCyc: RXN-1823',\n",
       "   'CornCyc: RXN-1823',\n",
       "   'MetaCyc: RXN-1823',\n",
       "   'Name: 1,4-alpha-D-glucan glucanohydrolase; 4-alpha-D-glucan glucanohydrolase; Taka-amylase A; alpha; alpha-amylase; amylase, alpha-amylase; endoamylase; glycogenase'],\n",
       "  'code': '(1) cpd00001[0] + (1) cpd28193[0] <=> (1) cpd27398[0]',\n",
       "  'compound_ids': 'cpd00001;cpd27398;cpd28193',\n",
       "  'definition': '(1) H2O[0] + (1) Starch[0] <= (1) Large-branched-glucans[0]',\n",
       "  'deltag': 10000000.0,\n",
       "  'deltagerr': 10000000.0,\n",
       "  'direction': '<',\n",
       "  'ec_numbers': ['3.2.1.1'],\n",
       "  'equation': '(1) cpd00001[0] + (1) cpd28193[0] <= (1) cpd27398[0]',\n",
       "  'id': 'rxn23742',\n",
       "  'is_obsolete': 0,\n",
       "  'is_transport': 0,\n",
       "  'linked_reaction': 'rxn28259',\n",
       "  'name': 'Taka-amylase A',\n",
       "  'notes': ['GCP', 'EQP'],\n",
       "  'pathways': None,\n",
       "  'reversibility': '?',\n",
       "  'source': 'Primary Database',\n",
       "  'status': 'CPDFORMERROR',\n",
       "  'stoichiometry': '-1:cpd00001:0:0:\"H2O\";-1:cpd28193:0:0:\"Starch\";1:cpd27398:0:0:\"Large-branched-glucans\"'},\n",
       " {'abbreviation': 'RXN-1825.c',\n",
       "  'abstract_reaction': None,\n",
       "  'aliases': ['AraCyc: RXN-1825',\n",
       "   'BrachyCyc: RXN-1825',\n",
       "   'ChlamyCyc: RXN-1825',\n",
       "   'CornCyc: RXN-1825',\n",
       "   'MetaCyc: RXN-1825',\n",
       "   'Name: 1,4-alpha-D-glucan glucanohydrolase; 4-alpha-D-glucan glucanohydrolase; Taka-amylase A; alpha; alpha-amylase; amylase, alpha-amylase; endoamylase; glycogenase'],\n",
       "  'code': '(1) cpd00001[0] + (1) cpd27427[0] <=> (1) cpd28176[0]',\n",
       "  'compound_ids': 'cpd00001;cpd27427;cpd28176',\n",
       "  'definition': '(1) H2O[0] + (1) Long-linear-glucans[0] <= (1) Short-glucans[0]',\n",
       "  'deltag': 10000000.0,\n",
       "  'deltagerr': 10000000.0,\n",
       "  'direction': '<',\n",
       "  'ec_numbers': ['3.2.1.1'],\n",
       "  'equation': '(1) cpd00001[0] + (1) cpd27427[0] <= (1) cpd28176[0]',\n",
       "  'id': 'rxn23744',\n",
       "  'is_obsolete': 0,\n",
       "  'is_transport': 0,\n",
       "  'linked_reaction': 'rxn28261',\n",
       "  'name': 'Taka-amylase A',\n",
       "  'notes': ['GCP', 'EQP'],\n",
       "  'pathways': None,\n",
       "  'reversibility': '?',\n",
       "  'source': 'Primary Database',\n",
       "  'status': 'CPDFORMERROR',\n",
       "  'stoichiometry': '-1:cpd00001:0:0:\"H2O\";-1:cpd27427:0:0:\"Long-linear-glucans\";1:cpd28176:0:0:\"Short-glucans\"'},\n",
       " {'abbreviation': 'RXN0-5181.p',\n",
       "  'abstract_reaction': None,\n",
       "  'aliases': ['AraCyc: RXN0-5181',\n",
       "   'BrachyCyc: RXN0-5181',\n",
       "   'CornCyc: RXN0-5181',\n",
       "   'EcoCyc: RXN0-5181',\n",
       "   'MetaCyc: 3.2.1.98-RXN; RXN0-5181',\n",
       "   'Name: 1,4-alpha-D-glucan maltohexaohydrolase; 4-alpha-D-glucan maltohexaohydrolase; exo-maltohexaohydrolase; glucan 1,4-alpha-maltohexaosidase'],\n",
       "  'code': '(1) cpd00001[0] <=> (1) cpd01329[0]',\n",
       "  'compound_ids': 'cpd00001;cpd01329',\n",
       "  'definition': '(1) H2O[0] => (1) Maltohexaose[0]',\n",
       "  'deltag': -371.91,\n",
       "  'deltagerr': 2.02,\n",
       "  'direction': '>',\n",
       "  'ec_numbers': ['3.2.1.1', '3.2.1.98'],\n",
       "  'equation': '(1) cpd00001[0] => (1) cpd01329[0]',\n",
       "  'id': 'rxn26126',\n",
       "  'is_obsolete': 1,\n",
       "  'is_transport': 0,\n",
       "  'linked_reaction': 'rxn18011',\n",
       "  'name': 'RXN0-5181.p',\n",
       "  'notes': ['GCC', 'EQC', 'EQU'],\n",
       "  'pathways': None,\n",
       "  'reversibility': '>',\n",
       "  'source': 'Primary Database',\n",
       "  'status': 'MI:C:36/H:60/O:30',\n",
       "  'stoichiometry': '-1:cpd00001:0:0:\"H2O\";1:cpd01329:0:0:\"Maltohexaose\"'},\n",
       " {'abbreviation': 'ALPHA-AMYL-RXN.d',\n",
       "  'abstract_reaction': None,\n",
       "  'aliases': ['ChlamyCyc: ALPHA-AMYL-RXN',\n",
       "   'MaizeCyc: ALPHA-AMYL-RXN',\n",
       "   'Name: '],\n",
       "  'code': '(1) cpd00001[0] + (1) cpd21754[0] <=> (1) cpd15495[0]',\n",
       "  'compound_ids': 'cpd00001;cpd15495;cpd21754',\n",
       "  'definition': '(1) H2O[0] + (1) 1-4-alpha-D-Glucan[0] <=> (1) Maltopentaose[0]',\n",
       "  'deltag': 10000000.0,\n",
       "  'deltagerr': 10000000.0,\n",
       "  'direction': '=',\n",
       "  'ec_numbers': ['3.2.1.1'],\n",
       "  'equation': '(1) cpd00001[0] + (1) cpd21754[0] <=> (1) cpd15495[0]',\n",
       "  'id': 'rxn27704',\n",
       "  'is_obsolete': 0,\n",
       "  'is_transport': 0,\n",
       "  'linked_reaction': None,\n",
       "  'name': 'ALPHA-AMYL-RXN.d',\n",
       "  'notes': ['GCP', 'EQP'],\n",
       "  'pathways': None,\n",
       "  'reversibility': '?',\n",
       "  'source': 'Secondary Database',\n",
       "  'status': 'MI:C:6/H:10/O:4/R:-2',\n",
       "  'stoichiometry': '-1:cpd00001:0:0:\"H2O\";-1:cpd21754:0:0:\"1-4-alpha-D-Glucan\";1:cpd15495:0:0:\"Maltopentaose\"'},\n",
       " {'abbreviation': 'RXN-1823.d',\n",
       "  'abstract_reaction': None,\n",
       "  'aliases': ['AraCyc: RXN-1823',\n",
       "   'BrachyCyc: RXN-1823',\n",
       "   'ChlamyCyc: RXN-1823',\n",
       "   'CornCyc: RXN-1823',\n",
       "   'MetaCyc: RXN-1823',\n",
       "   'Name: 1,4-alpha-D-glucan glucanohydrolase; 4-alpha-D-glucan glucanohydrolase; Taka-amylase A; alpha; alpha-amylase; amylase, alpha-amylase; endoamylase; glycogenase'],\n",
       "  'code': '(1) cpd00001[0] + (1) cpd28193[0] <=> (1) cpd27398[0]',\n",
       "  'compound_ids': 'cpd00001;cpd27398;cpd28193',\n",
       "  'definition': '(1) H2O[0] + (1) Starch[0] <=> (1) Large-branched-glucans[0]',\n",
       "  'deltag': 10000000.0,\n",
       "  'deltagerr': 10000000.0,\n",
       "  'direction': '=',\n",
       "  'ec_numbers': ['3.2.1.1'],\n",
       "  'equation': '(1) cpd00001[0] + (1) cpd28193[0] <=> (1) cpd27398[0]',\n",
       "  'id': 'rxn28259',\n",
       "  'is_obsolete': 1,\n",
       "  'is_transport': 0,\n",
       "  'linked_reaction': 'rxn23742',\n",
       "  'name': 'RXN-1823.d',\n",
       "  'notes': ['GCP', 'EQP'],\n",
       "  'pathways': None,\n",
       "  'reversibility': '?',\n",
       "  'source': 'Secondary Database',\n",
       "  'status': 'CPDFORMERROR',\n",
       "  'stoichiometry': '-1:cpd00001:0:0:\"H2O\";-1:cpd28193:0:0:\"Starch\";1:cpd27398:0:0:\"Large-branched-glucans\"'},\n",
       " {'abbreviation': 'RXN-1825.d',\n",
       "  'abstract_reaction': None,\n",
       "  'aliases': ['AraCyc: RXN-1825',\n",
       "   'BrachyCyc: RXN-1825',\n",
       "   'ChlamyCyc: RXN-1825',\n",
       "   'CornCyc: RXN-1825',\n",
       "   'MetaCyc: RXN-1825',\n",
       "   'Name: 1,4-alpha-D-glucan glucanohydrolase; 4-alpha-D-glucan glucanohydrolase; Taka-amylase A; alpha; alpha-amylase; amylase, alpha-amylase; endoamylase; glycogenase'],\n",
       "  'code': '(1) cpd00001[0] + (1) cpd27427[0] <=> (1) cpd28176[0]',\n",
       "  'compound_ids': 'cpd00001;cpd27427;cpd28176',\n",
       "  'definition': '(1) H2O[0] + (1) Long-linear-glucans[0] <=> (1) Short-glucans[0]',\n",
       "  'deltag': 10000000.0,\n",
       "  'deltagerr': 10000000.0,\n",
       "  'direction': '=',\n",
       "  'ec_numbers': ['3.2.1.1'],\n",
       "  'equation': '(1) cpd00001[0] + (1) cpd27427[0] <=> (1) cpd28176[0]',\n",
       "  'id': 'rxn28261',\n",
       "  'is_obsolete': 1,\n",
       "  'is_transport': 0,\n",
       "  'linked_reaction': 'rxn23744',\n",
       "  'name': 'RXN-1825.d',\n",
       "  'notes': ['GCP', 'EQP'],\n",
       "  'pathways': None,\n",
       "  'reversibility': '?',\n",
       "  'source': 'Secondary Database',\n",
       "  'status': 'CPDFORMERROR',\n",
       "  'stoichiometry': '-1:cpd00001:0:0:\"H2O\";-1:cpd27427:0:0:\"Long-linear-glucans\";1:cpd28176:0:0:\"Short-glucans\"'},\n",
       " {'abbreviation': 'RXN0-5181.d',\n",
       "  'abstract_reaction': None,\n",
       "  'aliases': ['ChlamyCyc: RXN0-5181', 'MaizeCyc: RXN0-5181', 'Name: '],\n",
       "  'code': '(1) cpd00001[0] + (1) cpd21754[0] <=> (1) cpd01329[0]',\n",
       "  'compound_ids': 'cpd00001;cpd01329;cpd21754',\n",
       "  'definition': '(1) H2O[0] + (1) 1-4-alpha-D-Glucan[0] <=> (1) Maltohexaose[0]',\n",
       "  'deltag': 10000000.0,\n",
       "  'deltagerr': 10000000.0,\n",
       "  'direction': '=',\n",
       "  'ec_numbers': ['3.2.1.1'],\n",
       "  'equation': '(1) cpd00001[0] + (1) cpd21754[0] <=> (1) cpd01329[0]',\n",
       "  'id': 'rxn28669',\n",
       "  'is_obsolete': 0,\n",
       "  'is_transport': 0,\n",
       "  'linked_reaction': None,\n",
       "  'name': 'RXN0-5181.d',\n",
       "  'notes': ['GCP', 'EQP'],\n",
       "  'pathways': None,\n",
       "  'reversibility': '?',\n",
       "  'source': 'Secondary Database',\n",
       "  'status': 'MI:C:12/H:20/O:9/R:-2',\n",
       "  'stoichiometry': '-1:cpd00001:0:0:\"H2O\";-1:cpd21754:0:0:\"1-4-alpha-D-Glucan\";1:cpd01329:0:0:\"Maltohexaose\"'},\n",
       " {'abbreviation': 'R_R02108_p',\n",
       "  'abstract_reaction': None,\n",
       "  'aliases': ['AlgaGEM: R_R02108_p',\n",
       "   'AraGEM: R_R02108_p',\n",
       "   'BiGG: AAMYL',\n",
       "   'Maize_C4GEM: R_R02108_p',\n",
       "   'iAF1260: AAMYL',\n",
       "   'Name: alpha-amylase; alpha-amylase, AMY3, putative / 1,4-alpha-D-glucan glucanohydrolase, putative'],\n",
       "  'code': '(1) cpd11657[0] <=> (1) cpd11594[0]',\n",
       "  'compound_ids': 'cpd11594;cpd11657',\n",
       "  'definition': '(1) Starch[0] <=> (1) Dextrin[0]',\n",
       "  'deltag': 10000000.0,\n",
       "  'deltagerr': 10000000.0,\n",
       "  'direction': '=',\n",
       "  'ec_numbers': ['3.2.1.1'],\n",
       "  'equation': '(1) cpd11657[0] <=> (1) cpd11594[0]',\n",
       "  'id': 'rxn31228',\n",
       "  'is_obsolete': 1,\n",
       "  'is_transport': 0,\n",
       "  'linked_reaction': 'rxn09952',\n",
       "  'name': 'alpha-amylase, AMY3, putative / 1,4-alpha-D-glucan glucanohydrolase, putative',\n",
       "  'notes': ['GCP', 'EQP'],\n",
       "  'pathways': None,\n",
       "  'reversibility': '?',\n",
       "  'source': 'Published Model',\n",
       "  'status': 'OK',\n",
       "  'stoichiometry': '-1:cpd11657:0:0:\"Starch\";1:cpd11594:0:0:\"Dextrin\"'}]"
      ]
     },
     "execution_count": 46,
     "metadata": {},
     "output_type": "execute_result"
    }
   ],
   "source": [
    "[r for r in reactions if ((r[\"ec_numbers\"] is not None) and (\"3.2.1.1\" in r[\"ec_numbers\"]))]"
   ]
  },
  {
   "cell_type": "code",
   "execution_count": 26,
   "metadata": {},
   "outputs": [
    {
     "data": {
      "text/plain": [
       "[]"
      ]
     },
     "execution_count": 26,
     "metadata": {},
     "output_type": "execute_result"
    }
   ],
   "source": [
    "filtered_results = [r for r in results if r[\"sample_temperature\"] is not None and (r[\"protein_ec_numbers\"] in r[\"reaction_ec_numbers\"])]\n",
    "filtered_results"
   ]
  },
  {
   "cell_type": "markdown",
   "metadata": {},
   "source": [
    "Looks like we are getting partial matches for ec number, the reaction incldued in results: rxn00235 has assigned ec number: 3.1.1.33 instead of the queried 3.1.1.3."
   ]
  },
  {
   "cell_type": "markdown",
   "metadata": {},
   "source": [
    "## Search for proteins with more than one EC Number"
   ]
  },
  {
   "cell_type": "code",
   "execution_count": 1,
   "metadata": {},
   "outputs": [],
   "source": [
    "from dotenv import load_dotenv\n",
    "import os\n",
    "\n",
    "load_dotenv()\n",
    "uri = os.getenv(\"NEO4J_URI\")\n",
    "username = os.getenv(\"NEO4J_USERNAME\")\n",
    "password = os.getenv(\"NEO4J_PASSWORD\")"
   ]
  },
  {
   "cell_type": "code",
   "execution_count": 15,
   "metadata": {},
   "outputs": [
    {
     "data": {
      "text/plain": [
       "[<Record p.protein_id='OceanDNA-b40955_00050_5' p.name='(R,R)-butanediol dehydrogenase / meso-butanediol dehydrogenase / diacetyl reductase [EC:1.1.1.4 1.1.1.- 1.1.1.303]' p.sequence=None p.ec_numbers='1.1.1.4, 1.1.1.-, 1.1.1.303'>]"
      ]
     },
     "execution_count": 15,
     "metadata": {},
     "output_type": "execute_result"
    }
   ],
   "source": [
    "from graph_db.db_connection import Neo4jConnection\n",
    "\n",
    "conn = Neo4jConnection(uri, username, password)\n",
    "\n",
    "query = \"\"\"\n",
    "MATCH (p:Protein {protein_id: \"OceanDNA-b40955_00050_5\"})\n",
    "RETURN p.protein_id, p.name, p.sequence, p.ec_numbers\n",
    "\"\"\" \n",
    "\n",
    "res = conn.query(query)\n",
    "res"
   ]
  },
  {
   "cell_type": "code",
   "execution_count": 17,
   "metadata": {},
   "outputs": [
    {
     "data": {
      "text/plain": [
       "'1.1.1.4, 1.1.1.-, 1.1.1.303'"
      ]
     },
     "execution_count": 17,
     "metadata": {},
     "output_type": "execute_result"
    }
   ],
   "source": [
    "res[0].data()[\"p.ec_numbers\"]"
   ]
  },
  {
   "cell_type": "code",
   "execution_count": 8,
   "metadata": {},
   "outputs": [
    {
     "data": {
      "text/plain": [
       "[<Record r.reaction_id='rxn02112' r.name='(R,R)-Butane-2,3-diol:NAD+ oxidoreductase' r.ec_numbers=['1.1.1.4']>]"
      ]
     },
     "execution_count": 8,
     "metadata": {},
     "output_type": "execute_result"
    }
   ],
   "source": [
    "from graph_db.db_connection import Neo4jConnection\n",
    "\n",
    "conn = Neo4jConnection(uri, username, password)\n",
    "\n",
    "query = \"\"\"\n",
    "MATCH (r:Reaction {reaction_id: \"rxn02112\"})\n",
    "RETURN r.reaction_id, r.name, r.ec_numbers\n",
    "\"\"\" \n",
    "\n",
    "res = conn.query(query)\n",
    "res"
   ]
  },
  {
   "cell_type": "code",
   "execution_count": 11,
   "metadata": {},
   "outputs": [
    {
     "data": {
      "text/plain": [
       "['1.1.1.4']"
      ]
     },
     "execution_count": 11,
     "metadata": {},
     "output_type": "execute_result"
    }
   ],
   "source": [
    "res[0].data()[\"r.ec_numbers\"]"
   ]
  },
  {
   "cell_type": "code",
   "execution_count": 6,
   "metadata": {},
   "outputs": [
    {
     "data": {
      "text/plain": [
       "[{'abbreviation': 'R02946',\n",
       "  'abstract_reaction': None,\n",
       "  'aliases': ['BiGG: BTDD-RR',\n",
       "   'KEGG: R02946',\n",
       "   'MaizeCyc: RR-BUTANEDIOL-DEHYDROGENASE-RXN',\n",
       "   'MetaCyc: RR-BUTANEDIOL-DEHYDROGENASE-RXN',\n",
       "   'PoplarCyc: RR-BUTANEDIOL-DEHYDROGENASE-RXN',\n",
       "   'Name: (R)-2,3-butanediol dehydrogenase; (R)-diacetyl reductase; (R,R)-Butane-2,3-diol:NAD+ oxidoreductase; (R,R)-butane-2,3-diol:NAD+ oxidoreductase; (R,R)-butanediol dehydrogenase; 1-amino-2-propanol dehydrogenase; 1-amino-2-propanol oxidoreductase; 2,3-butanediol dehydrogenase; D-(-)-butanediol dehydrogenase; D-1-amino-2-propanol dehydrogenase; D-1-amino-2-propanol:NAD+ oxidoreductase; D-aminopropanol dehydrogenase; D-butanediol dehydrogenase; aminopropanol oxidoreductase; butylene glycol dehydrogenase; butyleneglycol dehydrogenase; diacetyl (acetoin) reductase'],\n",
       "  'code': '(1) cpd00003[0] + (1) cpd01947[0] <=> (1) cpd00004[0] + (1) cpd00361[0]',\n",
       "  'compound_ids': 'cpd00003;cpd00004;cpd00067;cpd00361;cpd01947',\n",
       "  'definition': '(1) NAD[0] + (1) BDOH[0] <=> (1) NADH[0] + (1) H+[0] + (1) ACTN[0]',\n",
       "  'deltag': 4.04,\n",
       "  'deltagerr': 0.28,\n",
       "  'direction': '=',\n",
       "  'ec_numbers': ['1.1.1.4'],\n",
       "  'equation': '(1) cpd00003[0] + (1) cpd01947[0] <=> (1) cpd00004[0] + (1) cpd00067[0] + (1) cpd00361[0]',\n",
       "  'id': 'rxn02112',\n",
       "  'is_obsolete': 0,\n",
       "  'is_transport': 0,\n",
       "  'linked_reaction': None,\n",
       "  'name': '(R,R)-Butane-2,3-diol:NAD+ oxidoreductase',\n",
       "  'notes': ['GCC', 'EQC', 'EQU'],\n",
       "  'pathways': ['MetaCyc: 2-3-Butanediol-Degradation (2,3-Butanediol Degradation); Alcohol-Biosynthesis (Fermentation to Alcohols); Alcohol-Degradation (Alcohol Degradation); Butanediol-Biosynthesis (Butanediol Biosynthesis); Degradation (Degradation/Utilization/Assimilation); Energy-Metabolism (Generation of Precursor Metabolite and Energy); Fermentation (); P125-PWY (superpathway of (<i>R,R</i>)-butanediol biosynthesis); PWY-5951 ((<i>R,R</i>)-butanediol biosynthesis); PWY-6396 (superpathway of 2,3-butanediol biosynthesis); PWY3O-246 ((R,R)-butanediol degradation)',\n",
       "   'KEGG: rn00650 (Butanoate metabolism)'],\n",
       "  'reversibility': '=',\n",
       "  'source': 'Primary Database',\n",
       "  'status': 'OK',\n",
       "  'stoichiometry': '-1:cpd00003:0:0:\"NAD\";-1:cpd01947:0:0:\"BDOH\";1:cpd00004:0:0:\"NADH\";1:cpd00067:0:0:\"H+\";1:cpd00361:0:0:\"ACTN\"'},\n",
       " {'abbreviation': 'RXN-11034.c',\n",
       "  'abstract_reaction': None,\n",
       "  'aliases': ['KEGG: R10504',\n",
       "   'MaizeCyc: RXN-11034',\n",
       "   'MetaCyc: RXN-11034',\n",
       "   'PoplarCyc: RXN-11034',\n",
       "   'SoyCyc: RXN-11034',\n",
       "   'Name: (R,S)-butanediol dehydrogenase [(S)-acetoin-forming]; meso-2,3-butanediol:NAD+ oxidoreductase [(S)-acetoin forming]'],\n",
       "  'code': '(1) cpd00003[0] + (1) cpd23187[0] <=> (1) cpd00004[0] + (1) cpd00361[0]',\n",
       "  'compound_ids': 'cpd00003;cpd00004;cpd00067;cpd00361;cpd23187',\n",
       "  'definition': '(1) NAD[0] + (1) (R,S)-2,3-butanediol[0] <=> (1) NADH[0] + (1) H+[0] + (1) ACTN[0]',\n",
       "  'deltag': 4.44,\n",
       "  'deltagerr': 0.24,\n",
       "  'direction': '=',\n",
       "  'ec_numbers': ['1.1.1.4'],\n",
       "  'equation': '(1) cpd00003[0] + (1) cpd23187[0] <=> (1) cpd00004[0] + (1) cpd00067[0] + (1) cpd00361[0]',\n",
       "  'id': 'rxn21328',\n",
       "  'is_obsolete': 0,\n",
       "  'is_transport': 0,\n",
       "  'linked_reaction': None,\n",
       "  'name': 'RXN-11034.c',\n",
       "  'notes': ['GCC', 'EQC', 'EQU'],\n",
       "  'pathways': ['MetaCyc: Alcohol-Biosynthesis (Fermentation to Alcohols); Butanediol-Biosynthesis (Butanediol Biosynthesis); Energy-Metabolism (Generation of Precursor Metabolite and Energy); Fermentation (); PWY-6392 (<i>meso</i>-butanediol biosynthesis II); PWY-6396 (superpathway of 2,3-butanediol biosynthesis)',\n",
       "   'KEGG: rn00650 (Butanoate metabolism)'],\n",
       "  'reversibility': '=',\n",
       "  'source': 'Primary Database',\n",
       "  'status': 'OK',\n",
       "  'stoichiometry': '-1:cpd00003:0:0:\"NAD\";-1:cpd23187:0:0:\"(R,S)-2,3-butanediol\";1:cpd00004:0:0:\"NADH\";1:cpd00067:0:0:\"H+\";1:cpd00361:0:0:\"ACTN\"'},\n",
       " {'abbreviation': 'RXN-11035.c',\n",
       "  'abstract_reaction': None,\n",
       "  'aliases': ['KEGG: R10505',\n",
       "   'MaizeCyc: RXN-11035',\n",
       "   'MetaCyc: RXN-11035',\n",
       "   'PoplarCyc: RXN-11035',\n",
       "   'SoyCyc: RXN-11035',\n",
       "   'Name: meso-2,3-butanediol:NAD+ oxidoreductase [(R)-acetoin forming]'],\n",
       "  'code': '(1) cpd00003[0] + (1) cpd23187[0] <=> (1) cpd00004[0] + (1) cpd19008[0]',\n",
       "  'compound_ids': 'cpd00003;cpd00004;cpd00067;cpd19008;cpd23187',\n",
       "  'definition': '(1) NAD[0] + (1) (R,S)-2,3-butanediol[0] <=> (1) NADH[0] + (1) H+[0] + (1) (R)-Acetoin[0]',\n",
       "  'deltag': 4.04,\n",
       "  'deltagerr': 0.28,\n",
       "  'direction': '=',\n",
       "  'ec_numbers': ['1.1.1.4'],\n",
       "  'equation': '(1) cpd00003[0] + (1) cpd23187[0] <=> (1) cpd00004[0] + (1) cpd00067[0] + (1) cpd19008[0]',\n",
       "  'id': 'rxn21329',\n",
       "  'is_obsolete': 0,\n",
       "  'is_transport': 0,\n",
       "  'linked_reaction': None,\n",
       "  'name': 'RXN-11035.c',\n",
       "  'notes': ['GCC', 'EQC', 'EQU'],\n",
       "  'pathways': ['MetaCyc: Alcohol-Biosynthesis (Fermentation to Alcohols); Butanediol-Biosynthesis (Butanediol Biosynthesis); Energy-Metabolism (Generation of Precursor Metabolite and Energy); Fermentation (); PWY-6391 (<i>meso</i>-butanediol biosynthesis I); PWY-6396 (superpathway of 2,3-butanediol biosynthesis)',\n",
       "   'KEGG: rn00650 (Butanoate metabolism)'],\n",
       "  'reversibility': '=',\n",
       "  'source': 'Primary Database',\n",
       "  'status': 'OK',\n",
       "  'stoichiometry': '-1:cpd00003:0:0:\"NAD\";-1:cpd23187:0:0:\"(R,S)-2,3-butanediol\";1:cpd00004:0:0:\"NADH\";1:cpd00067:0:0:\"H+\";1:cpd19008:0:0:\"(R)-Acetoin\"'},\n",
       " {'abbreviation': '(R,R)-Butane-2,3-diol:NAD+ oxidoreductase',\n",
       "  'abstract_reaction': None,\n",
       "  'aliases': ['KEGG: R02946', 'MetaCyc: RR-BUTANEDIOL-DEHYDROGENASE-RXN'],\n",
       "  'code': '(1) cpd00003[0] + (1) cpd01947[0] <=> (1) cpd00004[0] + (1) cpd19008[0]',\n",
       "  'compound_ids': 'cpd00003;cpd00004;cpd00067;cpd01947;cpd19008',\n",
       "  'definition': '(1) NAD[0] + (1) BDOH[0] <=> (1) NADH[0] + (1) H+[0] + (1) (R)-Acetoin[0]',\n",
       "  'deltag': 3.64,\n",
       "  'deltagerr': 0.5,\n",
       "  'direction': '=',\n",
       "  'ec_numbers': ['1.1.1.4'],\n",
       "  'equation': '(1) cpd00003[0] + (1) cpd01947[0] <=> (1) cpd00004[0] + (1) cpd00067[0] + (1) cpd19008[0]',\n",
       "  'id': 'rxn39373',\n",
       "  'is_obsolete': 0,\n",
       "  'is_transport': 0,\n",
       "  'linked_reaction': None,\n",
       "  'name': '(R,R)-Butane-2,3-diol:NAD+ oxidoreductase',\n",
       "  'notes': ['GCC', 'EQC', 'EQU'],\n",
       "  'pathways': ['MetaCyc: 2-3-Butanediol-Degradation (2,3-Butanediol Degradation); Alcohol-Biosynthesis (Fermentation to Alcohols); Alcohol-Degradation (Alcohol Degradation); Butanediol-Biosynthesis (Butanediol Biosynthesis); Degradation (Degradation/Utilization/Assimilation); Energy-Metabolism (Generation of Precursor Metabolite and Energy); Fermentation (); P125-PWY (superpathway of (<i>R,R</i>)-butanediol biosynthesis); PWY-5951 ((<i>R,R</i>)-butanediol biosynthesis); PWY-6396 (superpathway of 2,3-butanediol biosynthesis); PWY3O-246 ((R,R)-butanediol degradation)',\n",
       "   'KEGG: rn00650 (Butanoate metabolism)'],\n",
       "  'reversibility': '=',\n",
       "  'source': 'Primary Database',\n",
       "  'status': 'OK',\n",
       "  'stoichiometry': '-1:cpd00003:0:0:NAD;-1:cpd01947:0:0:BDOH;1:cpd00004:0:0:NADH;1:cpd00067:0:0:H+;1:cpd19008:0:0:(R)-Acetoin'}]"
      ]
     },
     "execution_count": 6,
     "metadata": {},
     "output_type": "execute_result"
    }
   ],
   "source": [
    "[r for r in reactions if ((r[\"ec_numbers\"] is not None) and (\"1.1.1.4\" in r[\"ec_numbers\"]))]"
   ]
  },
  {
   "cell_type": "code",
   "execution_count": 2,
   "metadata": {},
   "outputs": [
    {
     "data": {
      "text/plain": [
       "[<Record p.protein_id='OceanDNA-b44106_00008_5' p.name='triacylglycerol lipase [EC:3.1.1.3]' p.sequence=None>]"
      ]
     },
     "execution_count": 2,
     "metadata": {},
     "output_type": "execute_result"
    }
   ],
   "source": [
    "from graph_db.db_connection import Neo4jConnection\n",
    "\n",
    "conn = Neo4jConnection(uri, username, password)\n",
    "\n",
    "query = \"\"\"\n",
    "MATCH (p:Protein {protein_id: \"OceanDNA-b44106_00008_5\"})\n",
    "RETURN p.protein_id, p.name, p.sequence\n",
    "\"\"\" \n",
    "\n",
    "res = conn.query(query)\n",
    "res"
   ]
  },
  {
   "cell_type": "code",
   "execution_count": 20,
   "metadata": {},
   "outputs": [
    {
     "data": {
      "text/plain": [
       "[<Record p=<Node element_id='4:7de5358e-0bc2-417b-aa77-97dd0da86487:23679428' labels=frozenset({'Protein'}) properties={'protein_id': 'OceanDNA-b44106_00008_5', 'genome_id': 'OceanDNA-b44106', 'kegg_ortholog_id': 'K01046', 'name': 'triacylglycerol lipase [EC:3.1.1.3]', 'contig_id': 'OceanDNA-b44106_00008', 'ec_numbers': '3.1.1.3'}> catalyzed_reactions=[<Node element_id='4:7de5358e-0bc2-417b-aa77-97dd0da86487:30840618' labels=frozenset({'Reaction'}) properties={'stoichiometry': '-1:cpd00001:0:0:\"H2O\";-1:cpd01726:0:0:\"6-Acetyl-D-glucose\";1:cpd00027:0:0:\"D-Glucose\";1:cpd00029:0:0:\"Acetate\";1:cpd00067:0:0:\"H+\"', 'aliases': ['KEGG: R00327', 'MetaCyc: 6-ACETYLGLUCOSE-DEACETYLASE-RXN', 'Name: 6-Acetyl-D-glucose acetylhydrolase'], 'code': '(1) cpd00001[0] + (1) cpd01726[0] <=> (1) cpd00027[0] + (1) cpd00029[0]', 'equation': '(1) cpd00001[0] + (1) cpd01726[0] => (1) cpd00027[0] + (1) cpd00029[0] + (1) cpd00067[0]', 'deltag': -6.8, 'is_transport': 0, 'source': 'Primary Database', 'ec_numbers': ['3.1.1.33'], 'products': [' (1) cpd00027[0]', '(1) cpd00029[0]', '(1) cpd00067[0]'], 'reaction_id': 'rxn00235', 'compound_ids': 'cpd00001;cpd00027;cpd00029;cpd00067;cpd01726', 'substrates': ['(1) cpd00001[0]', '(1) cpd01726[0] '], 'name': '6-Acetyl-D-glucose acetylhydrolase', 'reversibility': '=', 'deltagerr': 0.57, 'definition': '(1) H2O[0] + (1) 6-Acetyl-D-glucose[0] => (1) D-Glucose[0] + (1) Acetate[0] + (1) H+[0]', 'direction': '>', 'status': 'OK'}>]>]"
      ]
     },
     "execution_count": 20,
     "metadata": {},
     "output_type": "execute_result"
    }
   ],
   "source": [
    "from graph_db.db_connection import Neo4jConnection\n",
    "\n",
    "conn = Neo4jConnection(uri, username, password)\n",
    "\n",
    "query = \"\"\"\n",
    "MATCH (p:Protein {protein_id: \"OceanDNA-b44106_00008_5\"})\n",
    "OPTIONAL MATCH (p)-[:CATALYZES]->(r:Reaction)\n",
    "RETURN p, collect(r) as catalyzed_reactions\n",
    "\"\"\"\n",
    "\n",
    "res = conn.query(query)\n",
    "res"
   ]
  },
  {
   "cell_type": "markdown",
   "metadata": {},
   "source": [
    "## Candidate enzymes with high industrial relevance\n",
    "\n",
    "\n",
    "### Lipase (EC 3.1.1.3)\n",
    "Main usage: Food industry (dairy, baking), detergents, biofuel production\n",
    "\n",
    "### Amylase (EC 3.2.1.1)\n",
    "Main usage: Starch processing, baking, brewing, textile industry\n",
    "\n",
    "### Cellulase (EC 3.2.1.4)\n",
    "Main usage: Biofuel production, textile industry (stone-washing denim), paper and pulp industry\n",
    "\n",
    "### Serine Protease (EC 3.4.21.62)\n",
    "Main usage: Detergents, food processing, leather industry, pharmaceuticals\n",
    "\n",
    "### Phytase (EC 3.1.3.26)\n",
    "Main usage: Animal feed industry, particularly for poultry and swine\n",
    "\n",
    "### Lactase (EC 3.2.1.23)\n",
    "Main usage: Dairy industry (lactose-free products), food and beverage\n",
    "\n",
    "### Glucose oxidase (EC 1.1.3.4)\n",
    "Main usage: Food preservation, glucose biosensors, baking industry\n",
    "\n",
    "### Xylanase (EC 3.2.1.8)\n",
    "Main usage: Baking industry, animal feed, paper and pulp industry\n",
    "\n",
    "### Catalase (EC 1.11.1.6)\n",
    "Main usage: Food preservation, textile industry (bleaching), cosmetics\n",
    "\n",
    "### Pectinase (EC 3.2.1.15)\n",
    "Main usage: Fruit juice production, wine making, textile processing"
   ]
  }
 ],
 "metadata": {
  "kernelspec": {
   "display_name": "neo4j",
   "language": "python",
   "name": "python3"
  },
  "language_info": {
   "codemirror_mode": {
    "name": "ipython",
    "version": 3
   },
   "file_extension": ".py",
   "mimetype": "text/x-python",
   "name": "python",
   "nbconvert_exporter": "python",
   "pygments_lexer": "ipython3",
   "version": "3.12.1"
  }
 },
 "nbformat": 4,
 "nbformat_minor": 2
}

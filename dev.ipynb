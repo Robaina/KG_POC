{
 "cells": [
  {
   "cell_type": "code",
   "execution_count": 1,
   "id": "a85c259b-0ea6-49ee-9f92-8b7f515ad91c",
   "metadata": {
    "tags": []
   },
   "outputs": [],
   "source": [
    "from dotenv import load_dotenv\n",
    "import os\n",
    "\n",
    "from graph_db.db_connection import Neo4jConnection\n",
    "\n",
    "load_dotenv()\n",
    "uri = os.getenv(\"NEO4J_URI\")\n",
    "username = os.getenv(\"NEO4J_USERNAME\")\n",
    "password = os.getenv(\"NEO4J_PASSWORD\")"
   ]
  },
  {
   "cell_type": "code",
   "execution_count": 2,
   "id": "916ffb1d-71a0-4027-aea0-c9ba6c915cb9",
   "metadata": {
    "tags": []
   },
   "outputs": [],
   "source": [
    "conn = Neo4jConnection(uri, username, password)"
   ]
  },
  {
   "cell_type": "code",
   "execution_count": null,
   "id": "72c990db-4e2c-4bdb-8ee4-b6618d167dea",
   "metadata": {
    "tags": []
   },
   "outputs": [],
   "source": [
    "conn.query(\"MATCH (n) RETURN n LIMIT 10\")"
   ]
  },
  {
   "cell_type": "markdown",
   "id": "da2fe6d7-084a-41b4-8559-86d4f3989d34",
   "metadata": {},
   "source": [
    "## Compounds and reactions with available CATALYZES relation"
   ]
  },
  {
   "cell_type": "code",
   "execution_count": 4,
   "id": "6ba26a44-e979-4022-8165-33fbca58282d",
   "metadata": {
    "tags": []
   },
   "outputs": [
    {
     "data": {
      "text/html": [
       "<div>\n",
       "<style scoped>\n",
       "    .dataframe tbody tr th:only-of-type {\n",
       "        vertical-align: middle;\n",
       "    }\n",
       "\n",
       "    .dataframe tbody tr th {\n",
       "        vertical-align: top;\n",
       "    }\n",
       "\n",
       "    .dataframe thead th {\n",
       "        text-align: right;\n",
       "    }\n",
       "</style>\n",
       "<table border=\"1\" class=\"dataframe\">\n",
       "  <thead>\n",
       "    <tr style=\"text-align: right;\">\n",
       "      <th></th>\n",
       "      <th>reaction_id</th>\n",
       "      <th>ec_numbers</th>\n",
       "      <th>name</th>\n",
       "      <th>products</th>\n",
       "    </tr>\n",
       "  </thead>\n",
       "  <tbody>\n",
       "    <tr>\n",
       "      <th>0</th>\n",
       "      <td>rxn00001</td>\n",
       "      <td>[3.6.1.1]</td>\n",
       "      <td>diphosphate phosphohydrolase</td>\n",
       "      <td>[ (2) cpd00009[0], (1) cpd00067[0]]</td>\n",
       "    </tr>\n",
       "    <tr>\n",
       "      <th>1</th>\n",
       "      <td>rxn00002</td>\n",
       "      <td>[3.5.1.54]</td>\n",
       "      <td>urea-1-carboxylate amidohydrolase</td>\n",
       "      <td>[ (2) cpd00011[0], (2) cpd00013[0]]</td>\n",
       "    </tr>\n",
       "    <tr>\n",
       "      <th>2</th>\n",
       "      <td>rxn00003</td>\n",
       "      <td>[2.2.1.6]</td>\n",
       "      <td>pyruvate:pyruvate acetaldehydetransferase (dec...</td>\n",
       "      <td>[ (2) cpd00020[0], (1) cpd00067[0]]</td>\n",
       "    </tr>\n",
       "    <tr>\n",
       "      <th>3</th>\n",
       "      <td>rxn00004</td>\n",
       "      <td>[4.1.3.17]</td>\n",
       "      <td>4-hydroxy-4-methyl-2-oxoglutarate pyruvate-lya...</td>\n",
       "      <td>[ (2) cpd00020[0]]</td>\n",
       "    </tr>\n",
       "    <tr>\n",
       "      <th>4</th>\n",
       "      <td>rxn00006</td>\n",
       "      <td>[1.11.1.21, 1.11.1.6]</td>\n",
       "      <td>hydrogen-peroxide:hydrogen-peroxide oxidoreduc...</td>\n",
       "      <td>[ (2) cpd00001[0], (1) cpd00007[0]]</td>\n",
       "    </tr>\n",
       "    <tr>\n",
       "      <th>...</th>\n",
       "      <td>...</td>\n",
       "      <td>...</td>\n",
       "      <td>...</td>\n",
       "      <td>...</td>\n",
       "    </tr>\n",
       "    <tr>\n",
       "      <th>120</th>\n",
       "      <td>rxn00238</td>\n",
       "      <td>[2.7.4.6]</td>\n",
       "      <td>ATP:nucleoside-diphosphate phosphotransferase</td>\n",
       "      <td>[ (1) cpd00008[0], (1) cpd00173[0]]</td>\n",
       "    </tr>\n",
       "    <tr>\n",
       "      <th>121</th>\n",
       "      <td>rxn00241</td>\n",
       "      <td>[3.6.1.15, 3.6.1.5, 3.6.5.1, 3.6.5.2, 3.6.5.3,...</td>\n",
       "      <td>GTP phosphohydrolase</td>\n",
       "      <td>[ (1) cpd00009[0], (1) cpd00031[0], (1) cpd000...</td>\n",
       "    </tr>\n",
       "    <tr>\n",
       "      <th>122</th>\n",
       "      <td>rxn00279</td>\n",
       "      <td>[4.1.1.12]</td>\n",
       "      <td>L-aspartate 4-carboxy-lyase (L-alanine-forming)</td>\n",
       "      <td>[ (1) cpd00011[0], (1) cpd00035[0]]</td>\n",
       "    </tr>\n",
       "    <tr>\n",
       "      <th>123</th>\n",
       "      <td>rxn00281</td>\n",
       "      <td>[2.3.1.-]</td>\n",
       "      <td>rxn00281</td>\n",
       "      <td>[ (1) cpd00010[0], (1) cpd02121[0]]</td>\n",
       "    </tr>\n",
       "    <tr>\n",
       "      <th>124</th>\n",
       "      <td>rxn00316</td>\n",
       "      <td>[2.3.1.-]</td>\n",
       "      <td>acetyl-CoA:L-lysine N6-acetyltransferase</td>\n",
       "      <td>[ (1) cpd00010[0], (1) cpd00067[0], (1) cpd017...</td>\n",
       "    </tr>\n",
       "  </tbody>\n",
       "</table>\n",
       "<p>125 rows × 4 columns</p>\n",
       "</div>"
      ],
      "text/plain": [
       "    reaction_id                                         ec_numbers  \\\n",
       "0      rxn00001                                          [3.6.1.1]   \n",
       "1      rxn00002                                         [3.5.1.54]   \n",
       "2      rxn00003                                          [2.2.1.6]   \n",
       "3      rxn00004                                         [4.1.3.17]   \n",
       "4      rxn00006                              [1.11.1.21, 1.11.1.6]   \n",
       "..          ...                                                ...   \n",
       "120    rxn00238                                          [2.7.4.6]   \n",
       "121    rxn00241  [3.6.1.15, 3.6.1.5, 3.6.5.1, 3.6.5.2, 3.6.5.3,...   \n",
       "122    rxn00279                                         [4.1.1.12]   \n",
       "123    rxn00281                                          [2.3.1.-]   \n",
       "124    rxn00316                                          [2.3.1.-]   \n",
       "\n",
       "                                                  name  \\\n",
       "0                         diphosphate phosphohydrolase   \n",
       "1                    urea-1-carboxylate amidohydrolase   \n",
       "2    pyruvate:pyruvate acetaldehydetransferase (dec...   \n",
       "3    4-hydroxy-4-methyl-2-oxoglutarate pyruvate-lya...   \n",
       "4    hydrogen-peroxide:hydrogen-peroxide oxidoreduc...   \n",
       "..                                                 ...   \n",
       "120      ATP:nucleoside-diphosphate phosphotransferase   \n",
       "121                               GTP phosphohydrolase   \n",
       "122    L-aspartate 4-carboxy-lyase (L-alanine-forming)   \n",
       "123                                           rxn00281   \n",
       "124           acetyl-CoA:L-lysine N6-acetyltransferase   \n",
       "\n",
       "                                              products  \n",
       "0                  [ (2) cpd00009[0], (1) cpd00067[0]]  \n",
       "1                  [ (2) cpd00011[0], (2) cpd00013[0]]  \n",
       "2                  [ (2) cpd00020[0], (1) cpd00067[0]]  \n",
       "3                                   [ (2) cpd00020[0]]  \n",
       "4                  [ (2) cpd00001[0], (1) cpd00007[0]]  \n",
       "..                                                 ...  \n",
       "120                [ (1) cpd00008[0], (1) cpd00173[0]]  \n",
       "121  [ (1) cpd00009[0], (1) cpd00031[0], (1) cpd000...  \n",
       "122                [ (1) cpd00011[0], (1) cpd00035[0]]  \n",
       "123                [ (1) cpd00010[0], (1) cpd02121[0]]  \n",
       "124  [ (1) cpd00010[0], (1) cpd00067[0], (1) cpd017...  \n",
       "\n",
       "[125 rows x 4 columns]"
      ]
     },
     "execution_count": 4,
     "metadata": {},
     "output_type": "execute_result"
    }
   ],
   "source": [
    "import pandas as pd\n",
    "\n",
    "df = pd.read_csv(\"available_enzymes.csv\")\n",
    "df"
   ]
  },
  {
   "cell_type": "code",
   "execution_count": 5,
   "id": "422569ac-a47f-4e92-93e3-ad13a6239366",
   "metadata": {
    "tags": []
   },
   "outputs": [
    {
     "name": "stdout",
     "output_type": "stream",
     "text": [
      "Unique compound IDs:\n",
      "['cpd01414', 'cpd01569', 'cpd00056', 'cpd00071', 'cpd00279', 'cpd07924', 'cpd00027', 'cpd00186', 'cpd00477', 'cpd00110', 'cpd00009', 'cpd00755', 'cpd00173', 'cpd00023', 'cpd02508', 'cpd00355', 'cpd01770', 'cpd05167', 'cpd00169', 'cpd00196', 'cpd02227', 'cpd00122', 'cpd00012', 'cpd00002', 'cpd02097', 'cpd00038', 'cpd00128', 'cpd00061', 'cpd00109', 'cpd00013', 'cpd00190', 'cpd00304', 'cpd00008', 'cpd00025', 'cpd00005', 'cpd02311', 'cpd00146', 'cpd00031', 'cpd00020', 'cpd00022', 'cpd00689', 'cpd01588', 'cpd00018', 'cpd00924', 'cpd03802', 'cpd00281', 'cpd00015', 'cpd00007', 'cpd00035', 'cpd00014', 'cpd02121', 'cpd00686', 'cpd00003', 'cpd00024', 'cpd00004', 'cpd00001', 'cpd00053', 'cpd00843', 'cpd00016', 'cpd00017', 'cpd00447', 'cpd10516', 'cpd00010', 'cpd00006', 'cpd00199', 'cpd00165', 'cpd00091', 'cpd00103', 'cpd00797', 'cpd00062', 'cpd03460', 'cpd00101', 'cpd00182', 'cpd00050', 'cpd00111', 'cpd00067', 'cpd00011', 'cpd00837', 'cpd02882', 'cpd00421', 'cpd02469', 'cpd02171', 'cpd00220', 'cpd00446']\n",
      "Unique EC numbers:\n",
      "['1.8.1.4', '3.5.1.87', '2.7.4.22', '1.15.1.1', '3.6.3.53', '2.7.4.4', '2.3.1.1', '3.1.1.22', '3.6.3.12', '1.4.1.2', '2.3.1.9', '3.6.3.54', '4.1.1.15', '3.6.3.26', '3.6.3.30', '3.6.3.42', '3.2.1.20', '2.7.7.53', '2.7.4.1', '4.3.1.17', '3.6.3.8', '3.6.4.5', '2.7.9.2', '3.6.3.2', '4.1.3.24', '3.5.1.111', '3.6.4.7', '1.1.2.3', '2.3.3.14', '3.6.3.48', '3.6.4.2', '3.6.4.4', '3.1.3.7', '4.1.1.112', '3.1.3.-', '4.2.1.1', '1.17.1.10', '1.13.12.-', '1.6.1.3', '1.1.3.17', '3.6.1.3', '1.14.99.36', '3.6.1.22', '1.4.1.13', '2.7.1.24', '3.6.3.23', '2.7.7.18', '3.6.3.21', '1.8.1.7', '3.2.2.9', '3.6.3.17', '1.4.1.3', '1.2.1.26', '4.1.1.12', '3.1.4.17', '3.6.3.31', '3.6.3.39', '3.6.3.4', '3.6.4.9', '1.1.1.39', '4.2.1.13', '4.3.1.15', '1.11.1.21', '1.11.1.5', '3.6.1.39', '3.6.3.49', '3.6.1.6', '1.5.1.12', '1.2.1.-', '1.1.1.42', '1.16.3.1', '2.5.1.9', '3.6.3.32', '1.2.1.43', '1.4.1.4', '1.9.3.1', '2.5.1.61', '3.6.3.43', '4.3.1.18', '1.7.1.10', '2.7.9.1', '3.6.1.15', '3.6.3.51', '3.6.3.46', '4.1.1.39', '3.6.3.50', '3.6.4.12', '3.6.1.8', '5.1.1.3', '3.6.3.3', '3.6.4.3', '3.6.3.10', '2.7.7.1', '1.2.3.3', '3.6.1.41', '3.6.3.40', '3.5.1.3', '3.2.1.52', '1.13.11.63', '3.6.3.11', '2.7.7.2', '2.3.1.12', '3.5.1.2', '4.2.1.24', '3.5.1.46', '1.2.1.10', '3.1.4.53', '1.1.2.4', '3.6.3.14', '3.6.3.55', '3.6.1.18', '3.6.3.19', '2.7.4.3', '2.5.1.44', '3.6.3.47', '4.1.1.9', '2.7.4.6', '4.2.2.6', '1.11.1.9', '3.6.3.1', '3.6.3.35', '1.7.99.1', '3.6.3.28', '2.4.2.8', '4.1.1.-', '1.1.1.83', '3.6.3.41', '2.3.1.8', '4.1.3.25', '3.5.1.5', '4.1.3.21', '3.6.4.6', '3.6.5.6', '3.6.5.3', '3.6.3.5', '3.6.4.1', '3.6.3.34', '3.6.3.7', '1.1.1.40', '3.6.1.25', '3.6.5.1', '1.2.1.3', '3.6.3.18', '3.5.4.28', '2.7.4.14', '3.6.1.5', '2.2.1.6', '3.6.3.15', '1.6.4.2', '3.6.1.61', '6.3.5.5', '2.3.1.54', '3.2.2.4', '3.6.4.11', '6.2.1.13', '2.7.2.11', '1.6.1.2', '3.6.3.24', '3.5.1.-', '4.1.1.71', '5.4.99.1', '3.2.1.28', '3.6.3.16', '3.6.5.4', '3.6.5.5', '3.6.5.2', '4.6.1.1', '3.6.3.22', '3.6.3.37', '1.2.1.22', '1.8.2.2', '4.3.1.8', '3.6.4.13', '6.3.1.5', '3.2.1.21', '4.3.1.19', '2.3.1.-', '3.6.3.33', '3.6.3.38', '2.5.1.6', '4.1.1.47', '3.6.3.52', '1.10.3.1', '4.1.1.50', '3.6.3.27', '6.2.1.1', '1.14.18.1', '4.1.1.1', '2.7.1.23', '1.7.2.1', '4.1.3.17', '3.6.4.8', '3.6.3.9', '3.6.1.17', '1.11.1.6', '3.6.3.25', '3.5.2.9', '1.2.4.1', '1.2.1.23', '3.1.3.2', '3.6.3.44', '2.4.2.7', '3.6.3.6', '1.6.2.4', '3.5.1.54', '2.7.1.74', '4.1.1.3', '1.6.1.1', '3.6.1.1', '3.6.3.36', '2.7.1.35', '2.7.1.20', '1.1.1.38', '3.6.3.20', '3.6.4.10', '1.2.1.88', '6.3.1.2', '3.5.1.38', '6.3.5.4', '2.6.1.2', '1.14.13.-', '6.3.5.1', '3.6.1.9', '2.7.2.2', '3.6.3.29', '3.1.3.5', '4.1.99.3', '2.7.1.40']\n"
     ]
    }
   ],
   "source": [
    "import pandas as pd\n",
    "import re\n",
    "from typing import List\n",
    "\n",
    "def extract_unique_compound_ids(df: pd.DataFrame, column_name: str) -> List[str]:\n",
    "    # Join all strings in the column\n",
    "    all_products = ' '.join(df[column_name].astype(str))\n",
    "    \n",
    "    # Use regex to find all compound IDs\n",
    "    compound_ids = re.findall(r'cpd\\d+', all_products)\n",
    "    \n",
    "    # Return unique compound IDs\n",
    "    return list(set(compound_ids))\n",
    "\n",
    "def extract_unique_ec_numbers(df: pd.DataFrame, column_name: str) -> List[str]:\n",
    "    # Join all strings in the column\n",
    "    all_ec_numbers = ' '.join(df[column_name].astype(str))\n",
    "    \n",
    "    # Use regex to find all EC numbers\n",
    "    ec_numbers = re.findall(r'\\d+\\.\\d+\\.\\d+\\.[-\\d]+', all_ec_numbers)\n",
    "    \n",
    "    # Return unique EC numbers\n",
    "    return list(set(ec_numbers))\n",
    "\n",
    "unique_compounds = extract_unique_compound_ids(df, 'products')\n",
    "unique_ec = extract_unique_ec_numbers(df, 'ec_numbers')\n",
    "\n",
    "print(\"Unique compound IDs:\")\n",
    "print(unique_compounds)\n",
    "\n",
    "print(\"Unique EC numbers:\")\n",
    "print(unique_ec)"
   ]
  },
  {
   "cell_type": "code",
   "execution_count": 1,
   "id": "a42ac5a8-6dda-4263-a13d-105ab7c38a8b",
   "metadata": {
    "tags": []
   },
   "outputs": [],
   "source": [
    "from src.databases import extract_reaction_data\n",
    "\n",
    "reactions_path = \"data/modelSEED/reactions.json\"\n",
    "compounds_path = \"data/modelSEED/compounds.json\"\n",
    "\n",
    "reactions, compounds = extract_reaction_data(reactions_path, compounds_path)"
   ]
  },
  {
   "cell_type": "code",
   "execution_count": 2,
   "id": "216e09bb-99bb-42d4-b92c-5b14f587827d",
   "metadata": {
    "tags": []
   },
   "outputs": [
    {
     "data": {
      "text/plain": [
       "{'abbreviation': '3.4.11.4-RXN.c',\n",
       " 'abstract_reaction': None,\n",
       " 'aliases': ['EcoCyc: 3.4.11.4-RXN',\n",
       "  'MetaCyc: 3.4.11.4-RXN',\n",
       "  'Name: alanine-phenylalanine-proline arylamidase; aminoexotripeptidase; aminotripeptidase; imidoendopeptidase; lymphopeptidase; peptidase B; peptidase T; tripeptidase; tripeptide aminopeptidase'],\n",
       " 'code': '(1) cpd00001[0] + (1) cpd28237[0] <=> (1) cpd22369[0] + (1) cpd26871[0]',\n",
       " 'compound_ids': 'cpd00001;cpd22369;cpd26871;cpd28237',\n",
       " 'definition': '(1) H2O[0] + (1) TRIPEPTIDES[0] <=> (1) Amino-Acids-20[0] + (1) DIPEPTIDES[0]',\n",
       " 'deltag': 10000000.0,\n",
       " 'deltagerr': 10000000.0,\n",
       " 'direction': '=',\n",
       " 'ec_numbers': ['3.4.11.4'],\n",
       " 'equation': '(1) cpd00001[0] + (1) cpd28237[0] <=> (1) cpd22369[0] + (1) cpd26871[0]',\n",
       " 'id': 'rxn18035',\n",
       " 'is_obsolete': 0,\n",
       " 'is_transport': 0,\n",
       " 'linked_reaction': None,\n",
       " 'name': 'aminotripeptidase',\n",
       " 'notes': ['GCP', 'EQP'],\n",
       " 'pathways': None,\n",
       " 'reversibility': '?',\n",
       " 'source': 'Primary Database',\n",
       " 'status': 'OK',\n",
       " 'stoichiometry': '-1:cpd00001:0:0:\"H2O\";-1:cpd28237:0:0:\"TRIPEPTIDES\";1:cpd22369:0:0:\"Amino-Acids-20\";1:cpd26871:0:0:\"DIPEPTIDES\"'}"
      ]
     },
     "execution_count": 2,
     "metadata": {},
     "output_type": "execute_result"
    }
   ],
   "source": [
    "[r for r in reactions if r[\"id\"] == \"rxn18035\"][0]"
   ]
  },
  {
   "cell_type": "code",
   "execution_count": 8,
   "id": "3b1eb898-4fbf-4320-80c9-df341ffe173b",
   "metadata": {
    "tags": []
   },
   "outputs": [
    {
     "data": {
      "text/html": [
       "<div>\n",
       "<style scoped>\n",
       "    .dataframe tbody tr th:only-of-type {\n",
       "        vertical-align: middle;\n",
       "    }\n",
       "\n",
       "    .dataframe tbody tr th {\n",
       "        vertical-align: top;\n",
       "    }\n",
       "\n",
       "    .dataframe thead th {\n",
       "        text-align: right;\n",
       "    }\n",
       "</style>\n",
       "<table border=\"1\" class=\"dataframe\">\n",
       "  <thead>\n",
       "    <tr style=\"text-align: right;\">\n",
       "      <th></th>\n",
       "      <th>compound_id</th>\n",
       "      <th>name</th>\n",
       "      <th>smiles</th>\n",
       "    </tr>\n",
       "  </thead>\n",
       "  <tbody>\n",
       "    <tr>\n",
       "      <th>0</th>\n",
       "      <td>cpd01414</td>\n",
       "      <td>Tetrathionate</td>\n",
       "      <td>O=S(=O)([O-])SSS(=O)(=O)[O-]</td>\n",
       "    </tr>\n",
       "    <tr>\n",
       "      <th>1</th>\n",
       "      <td>cpd01569</td>\n",
       "      <td>1,2-Benzoquinone</td>\n",
       "      <td>O=C1C=CC=CC1=O</td>\n",
       "    </tr>\n",
       "    <tr>\n",
       "      <th>2</th>\n",
       "      <td>cpd00056</td>\n",
       "      <td>TPP</td>\n",
       "      <td>Cc1ncc(C[n+]2csc(CCOP(=O)([O-])OP(=O)([O-])O)c...</td>\n",
       "    </tr>\n",
       "    <tr>\n",
       "      <th>3</th>\n",
       "      <td>cpd00071</td>\n",
       "      <td>Acetaldehyde</td>\n",
       "      <td>CC=O</td>\n",
       "    </tr>\n",
       "    <tr>\n",
       "      <th>4</th>\n",
       "      <td>cpd00279</td>\n",
       "      <td>Acetoacetyl-CoA</td>\n",
       "      <td>CC(=O)CC(=O)SCCNC(=O)CCNC(=O)[C@H](O)C(C)(C)CO...</td>\n",
       "    </tr>\n",
       "  </tbody>\n",
       "</table>\n",
       "</div>"
      ],
      "text/plain": [
       "  compound_id              name  \\\n",
       "0    cpd01414     Tetrathionate   \n",
       "1    cpd01569  1,2-Benzoquinone   \n",
       "2    cpd00056               TPP   \n",
       "3    cpd00071      Acetaldehyde   \n",
       "4    cpd00279   Acetoacetyl-CoA   \n",
       "\n",
       "                                              smiles  \n",
       "0                       O=S(=O)([O-])SSS(=O)(=O)[O-]  \n",
       "1                                     O=C1C=CC=CC1=O  \n",
       "2  Cc1ncc(C[n+]2csc(CCOP(=O)([O-])OP(=O)([O-])O)c...  \n",
       "3                                               CC=O  \n",
       "4  CC(=O)CC(=O)SCCNC(=O)CCNC(=O)[C@H](O)C(C)(C)CO...  "
      ]
     },
     "execution_count": 8,
     "metadata": {},
     "output_type": "execute_result"
    }
   ],
   "source": [
    "import pandas as pd\n",
    "from typing import List, Dict\n",
    "\n",
    "def create_compound_dataframe(unique_ids: List[str], compound_dicts: List[Dict]) -> pd.DataFrame:\n",
    "    # Create a dictionary to store the compound information\n",
    "    compound_info = {}\n",
    "    \n",
    "    # Create a lookup dictionary for faster access\n",
    "    compound_lookup = {d['id']: d for d in compound_dicts}\n",
    "    \n",
    "    # Iterate through the unique IDs\n",
    "    for compound_id in unique_ids:\n",
    "        if compound_id in compound_lookup:\n",
    "            compound = compound_lookup[compound_id]\n",
    "            compound_info[compound_id] = {\n",
    "                'name': compound['name'],\n",
    "                'smiles': compound['smiles']\n",
    "            }\n",
    "        else:\n",
    "            # If the compound is not found in the lookup, add it with empty values\n",
    "            compound_info[compound_id] = {\n",
    "                'name': '',\n",
    "                'smiles': ''\n",
    "            }\n",
    "    \n",
    "    # Create a DataFrame from the compound_info dictionary\n",
    "    df = pd.DataFrame.from_dict(compound_info, orient='index', columns=['name', 'smiles'])\n",
    "    \n",
    "    # Reset the index to make the compound ID a column\n",
    "    df.reset_index(inplace=True)\n",
    "    df.columns = ['compound_id', 'name', 'smiles']\n",
    "    \n",
    "    return df\n",
    "\n",
    "\n",
    "\n",
    "available_compounds = create_compound_dataframe(unique_compounds, compounds)\n",
    "available_compounds.to_csv(\"available_compounds.tsv\", sep=\"\\t\", index=False)\n",
    "available_compounds.head()"
   ]
  },
  {
   "cell_type": "markdown",
   "id": "73a640b2-7043-4762-8995-5a41923a74b3",
   "metadata": {},
   "source": [
    "## Assigning protein IDs to BGCs"
   ]
  },
  {
   "cell_type": "code",
   "execution_count": null,
   "id": "fc5ebd17-386b-4e82-99a4-cccd2fae2426",
   "metadata": {
    "tags": []
   },
   "outputs": [],
   "source": [
    "!zcat /home/ec2-user/SageMaker/efs/sandbox/sandbox/development/epereira/case_studies/oceandna/results/oceandna_bgc_gene_ids/oceandna_bgc_contig_id2coords2gene_ids.tsv.gz | head -n 5"
   ]
  },
  {
   "cell_type": "code",
   "execution_count": null,
   "id": "500cb876-e2a8-44ac-9e43-d5cb24458d9d",
   "metadata": {},
   "outputs": [],
   "source": [
    "file_path = (\n",
    "    \"/home/ec2-user/SageMaker/efs/sandbox/sandbox/development/epereira/case_studies/\n",
    "    \"oceandna/results/oceandna_bgc_gene_ids/oceandna_bgc_contig_id2coords2gene_ids.tsv.gz\"\n",
    ")\n",
    "\n"
   ]
  }
 ],
 "metadata": {
  "kernelspec": {
   "display_name": "conda_python3",
   "language": "python",
   "name": "conda_python3"
  },
  "language_info": {
   "codemirror_mode": {
    "name": "ipython",
    "version": 3
   },
   "file_extension": ".py",
   "mimetype": "text/x-python",
   "name": "python",
   "nbconvert_exporter": "python",
   "pygments_lexer": "ipython3",
   "version": "3.10.14"
  }
 },
 "nbformat": 4,
 "nbformat_minor": 5
}
